{
  "cells": [
    {
      "cell_type": "markdown",
      "metadata": {
        "id": "IfD_aHXT9CLL"
      },
      "source": [
        "## 1. Importing libraries and data review <a id='data_review'></a>"
      ]
    },
    {
      "cell_type": "code",
      "execution_count": 3,
      "metadata": {
        "id": "KfrhpB4j9CLL"
      },
      "outputs": [],
      "source": [
        "import pandas as pd\n",
        "import matplotlib.pyplot as plt\n",
        "import seaborn as sns"
      ]
    },
    {
      "cell_type": "code",
      "execution_count": 4,
      "metadata": {
        "colab": {
          "base_uri": "https://localhost:8080/",
          "height": 0
        },
        "id": "4cs_jdne9CLM",
        "outputId": "5936a4eb-06f4-48c8-89ab-5550e4a5f81b"
      },
      "outputs": [
        {
          "output_type": "execute_result",
          "data": {
            "text/plain": [
              "   brewery_id             brewery_name  review_time  review_overall  \\\n",
              "0       10325          Vecchio Birraio   1234817823             1.5   \n",
              "1       10325          Vecchio Birraio   1235915097             3.0   \n",
              "2       10325          Vecchio Birraio   1235916604             3.0   \n",
              "3       10325          Vecchio Birraio   1234725145             3.0   \n",
              "4        1075  Caldera Brewing Company   1293735206             4.0   \n",
              "5        1075  Caldera Brewing Company   1325524659             3.0   \n",
              "6        1075  Caldera Brewing Company   1318991115             3.5   \n",
              "7        1075  Caldera Brewing Company   1306276018             3.0   \n",
              "8        1075  Caldera Brewing Company   1290454503             4.0   \n",
              "9        1075  Caldera Brewing Company   1285632924             4.5   \n",
              "\n",
              "   review_aroma  review_appearance review_profilename  \\\n",
              "0           2.0                2.5            stcules   \n",
              "1           2.5                3.0            stcules   \n",
              "2           2.5                3.0            stcules   \n",
              "3           3.0                3.5            stcules   \n",
              "4           4.5                4.0     johnmichaelsen   \n",
              "5           3.5                3.5            oline73   \n",
              "6           3.5                3.5          Reidrover   \n",
              "7           2.5                3.5       alpinebryant   \n",
              "8           3.0                3.5      LordAdmNelson   \n",
              "9           3.5                5.0       augustgarage   \n",
              "\n",
              "                       beer_style  review_palate  review_taste  \\\n",
              "0                      Hefeweizen            1.5           1.5   \n",
              "1              English Strong Ale            3.0           3.0   \n",
              "2          Foreign / Export Stout            3.0           3.0   \n",
              "3                 German Pilsener            2.5           3.0   \n",
              "4  American Double / Imperial IPA            4.0           4.5   \n",
              "5            Herbed / Spiced Beer            3.0           3.5   \n",
              "6            Herbed / Spiced Beer            4.0           4.0   \n",
              "7            Herbed / Spiced Beer            2.0           3.5   \n",
              "8            Herbed / Spiced Beer            3.5           4.0   \n",
              "9            Herbed / Spiced Beer            4.0           4.0   \n",
              "\n",
              "                beer_name  beer_abv  beer_beerid  \n",
              "0            Sausa Weizen       5.0      47986.0  \n",
              "1                Red Moon       6.2      48213.0  \n",
              "2  Black Horse Black Beer       6.5      48215.0  \n",
              "3              Sausa Pils       5.0      47969.0  \n",
              "4           Cauldron DIPA       7.7      64883.0  \n",
              "5     Caldera Ginger Beer       4.7      52159.0  \n",
              "6     Caldera Ginger Beer       4.7      52159.0  \n",
              "7     Caldera Ginger Beer       4.7      52159.0  \n",
              "8     Caldera Ginger Beer       4.7      52159.0  \n",
              "9     Caldera Ginger Beer       4.7      52159.0  "
            ],
            "text/html": [
              "\n",
              "  <div id=\"df-01b811ac-0b7c-4ea3-bb2a-e40f5265fa5a\" class=\"colab-df-container\">\n",
              "    <div>\n",
              "<style scoped>\n",
              "    .dataframe tbody tr th:only-of-type {\n",
              "        vertical-align: middle;\n",
              "    }\n",
              "\n",
              "    .dataframe tbody tr th {\n",
              "        vertical-align: top;\n",
              "    }\n",
              "\n",
              "    .dataframe thead th {\n",
              "        text-align: right;\n",
              "    }\n",
              "</style>\n",
              "<table border=\"1\" class=\"dataframe\">\n",
              "  <thead>\n",
              "    <tr style=\"text-align: right;\">\n",
              "      <th></th>\n",
              "      <th>brewery_id</th>\n",
              "      <th>brewery_name</th>\n",
              "      <th>review_time</th>\n",
              "      <th>review_overall</th>\n",
              "      <th>review_aroma</th>\n",
              "      <th>review_appearance</th>\n",
              "      <th>review_profilename</th>\n",
              "      <th>beer_style</th>\n",
              "      <th>review_palate</th>\n",
              "      <th>review_taste</th>\n",
              "      <th>beer_name</th>\n",
              "      <th>beer_abv</th>\n",
              "      <th>beer_beerid</th>\n",
              "    </tr>\n",
              "  </thead>\n",
              "  <tbody>\n",
              "    <tr>\n",
              "      <th>0</th>\n",
              "      <td>10325</td>\n",
              "      <td>Vecchio Birraio</td>\n",
              "      <td>1234817823</td>\n",
              "      <td>1.5</td>\n",
              "      <td>2.0</td>\n",
              "      <td>2.5</td>\n",
              "      <td>stcules</td>\n",
              "      <td>Hefeweizen</td>\n",
              "      <td>1.5</td>\n",
              "      <td>1.5</td>\n",
              "      <td>Sausa Weizen</td>\n",
              "      <td>5.0</td>\n",
              "      <td>47986.0</td>\n",
              "    </tr>\n",
              "    <tr>\n",
              "      <th>1</th>\n",
              "      <td>10325</td>\n",
              "      <td>Vecchio Birraio</td>\n",
              "      <td>1235915097</td>\n",
              "      <td>3.0</td>\n",
              "      <td>2.5</td>\n",
              "      <td>3.0</td>\n",
              "      <td>stcules</td>\n",
              "      <td>English Strong Ale</td>\n",
              "      <td>3.0</td>\n",
              "      <td>3.0</td>\n",
              "      <td>Red Moon</td>\n",
              "      <td>6.2</td>\n",
              "      <td>48213.0</td>\n",
              "    </tr>\n",
              "    <tr>\n",
              "      <th>2</th>\n",
              "      <td>10325</td>\n",
              "      <td>Vecchio Birraio</td>\n",
              "      <td>1235916604</td>\n",
              "      <td>3.0</td>\n",
              "      <td>2.5</td>\n",
              "      <td>3.0</td>\n",
              "      <td>stcules</td>\n",
              "      <td>Foreign / Export Stout</td>\n",
              "      <td>3.0</td>\n",
              "      <td>3.0</td>\n",
              "      <td>Black Horse Black Beer</td>\n",
              "      <td>6.5</td>\n",
              "      <td>48215.0</td>\n",
              "    </tr>\n",
              "    <tr>\n",
              "      <th>3</th>\n",
              "      <td>10325</td>\n",
              "      <td>Vecchio Birraio</td>\n",
              "      <td>1234725145</td>\n",
              "      <td>3.0</td>\n",
              "      <td>3.0</td>\n",
              "      <td>3.5</td>\n",
              "      <td>stcules</td>\n",
              "      <td>German Pilsener</td>\n",
              "      <td>2.5</td>\n",
              "      <td>3.0</td>\n",
              "      <td>Sausa Pils</td>\n",
              "      <td>5.0</td>\n",
              "      <td>47969.0</td>\n",
              "    </tr>\n",
              "    <tr>\n",
              "      <th>4</th>\n",
              "      <td>1075</td>\n",
              "      <td>Caldera Brewing Company</td>\n",
              "      <td>1293735206</td>\n",
              "      <td>4.0</td>\n",
              "      <td>4.5</td>\n",
              "      <td>4.0</td>\n",
              "      <td>johnmichaelsen</td>\n",
              "      <td>American Double / Imperial IPA</td>\n",
              "      <td>4.0</td>\n",
              "      <td>4.5</td>\n",
              "      <td>Cauldron DIPA</td>\n",
              "      <td>7.7</td>\n",
              "      <td>64883.0</td>\n",
              "    </tr>\n",
              "    <tr>\n",
              "      <th>5</th>\n",
              "      <td>1075</td>\n",
              "      <td>Caldera Brewing Company</td>\n",
              "      <td>1325524659</td>\n",
              "      <td>3.0</td>\n",
              "      <td>3.5</td>\n",
              "      <td>3.5</td>\n",
              "      <td>oline73</td>\n",
              "      <td>Herbed / Spiced Beer</td>\n",
              "      <td>3.0</td>\n",
              "      <td>3.5</td>\n",
              "      <td>Caldera Ginger Beer</td>\n",
              "      <td>4.7</td>\n",
              "      <td>52159.0</td>\n",
              "    </tr>\n",
              "    <tr>\n",
              "      <th>6</th>\n",
              "      <td>1075</td>\n",
              "      <td>Caldera Brewing Company</td>\n",
              "      <td>1318991115</td>\n",
              "      <td>3.5</td>\n",
              "      <td>3.5</td>\n",
              "      <td>3.5</td>\n",
              "      <td>Reidrover</td>\n",
              "      <td>Herbed / Spiced Beer</td>\n",
              "      <td>4.0</td>\n",
              "      <td>4.0</td>\n",
              "      <td>Caldera Ginger Beer</td>\n",
              "      <td>4.7</td>\n",
              "      <td>52159.0</td>\n",
              "    </tr>\n",
              "    <tr>\n",
              "      <th>7</th>\n",
              "      <td>1075</td>\n",
              "      <td>Caldera Brewing Company</td>\n",
              "      <td>1306276018</td>\n",
              "      <td>3.0</td>\n",
              "      <td>2.5</td>\n",
              "      <td>3.5</td>\n",
              "      <td>alpinebryant</td>\n",
              "      <td>Herbed / Spiced Beer</td>\n",
              "      <td>2.0</td>\n",
              "      <td>3.5</td>\n",
              "      <td>Caldera Ginger Beer</td>\n",
              "      <td>4.7</td>\n",
              "      <td>52159.0</td>\n",
              "    </tr>\n",
              "    <tr>\n",
              "      <th>8</th>\n",
              "      <td>1075</td>\n",
              "      <td>Caldera Brewing Company</td>\n",
              "      <td>1290454503</td>\n",
              "      <td>4.0</td>\n",
              "      <td>3.0</td>\n",
              "      <td>3.5</td>\n",
              "      <td>LordAdmNelson</td>\n",
              "      <td>Herbed / Spiced Beer</td>\n",
              "      <td>3.5</td>\n",
              "      <td>4.0</td>\n",
              "      <td>Caldera Ginger Beer</td>\n",
              "      <td>4.7</td>\n",
              "      <td>52159.0</td>\n",
              "    </tr>\n",
              "    <tr>\n",
              "      <th>9</th>\n",
              "      <td>1075</td>\n",
              "      <td>Caldera Brewing Company</td>\n",
              "      <td>1285632924</td>\n",
              "      <td>4.5</td>\n",
              "      <td>3.5</td>\n",
              "      <td>5.0</td>\n",
              "      <td>augustgarage</td>\n",
              "      <td>Herbed / Spiced Beer</td>\n",
              "      <td>4.0</td>\n",
              "      <td>4.0</td>\n",
              "      <td>Caldera Ginger Beer</td>\n",
              "      <td>4.7</td>\n",
              "      <td>52159.0</td>\n",
              "    </tr>\n",
              "  </tbody>\n",
              "</table>\n",
              "</div>\n",
              "    <div class=\"colab-df-buttons\">\n",
              "\n",
              "  <div class=\"colab-df-container\">\n",
              "    <button class=\"colab-df-convert\" onclick=\"convertToInteractive('df-01b811ac-0b7c-4ea3-bb2a-e40f5265fa5a')\"\n",
              "            title=\"Convert this dataframe to an interactive table.\"\n",
              "            style=\"display:none;\">\n",
              "\n",
              "  <svg xmlns=\"http://www.w3.org/2000/svg\" height=\"24px\" viewBox=\"0 -960 960 960\">\n",
              "    <path d=\"M120-120v-720h720v720H120Zm60-500h600v-160H180v160Zm220 220h160v-160H400v160Zm0 220h160v-160H400v160ZM180-400h160v-160H180v160Zm440 0h160v-160H620v160ZM180-180h160v-160H180v160Zm440 0h160v-160H620v160Z\"/>\n",
              "  </svg>\n",
              "    </button>\n",
              "\n",
              "  <style>\n",
              "    .colab-df-container {\n",
              "      display:flex;\n",
              "      gap: 12px;\n",
              "    }\n",
              "\n",
              "    .colab-df-convert {\n",
              "      background-color: #E8F0FE;\n",
              "      border: none;\n",
              "      border-radius: 50%;\n",
              "      cursor: pointer;\n",
              "      display: none;\n",
              "      fill: #1967D2;\n",
              "      height: 32px;\n",
              "      padding: 0 0 0 0;\n",
              "      width: 32px;\n",
              "    }\n",
              "\n",
              "    .colab-df-convert:hover {\n",
              "      background-color: #E2EBFA;\n",
              "      box-shadow: 0px 1px 2px rgba(60, 64, 67, 0.3), 0px 1px 3px 1px rgba(60, 64, 67, 0.15);\n",
              "      fill: #174EA6;\n",
              "    }\n",
              "\n",
              "    .colab-df-buttons div {\n",
              "      margin-bottom: 4px;\n",
              "    }\n",
              "\n",
              "    [theme=dark] .colab-df-convert {\n",
              "      background-color: #3B4455;\n",
              "      fill: #D2E3FC;\n",
              "    }\n",
              "\n",
              "    [theme=dark] .colab-df-convert:hover {\n",
              "      background-color: #434B5C;\n",
              "      box-shadow: 0px 1px 3px 1px rgba(0, 0, 0, 0.15);\n",
              "      filter: drop-shadow(0px 1px 2px rgba(0, 0, 0, 0.3));\n",
              "      fill: #FFFFFF;\n",
              "    }\n",
              "  </style>\n",
              "\n",
              "    <script>\n",
              "      const buttonEl =\n",
              "        document.querySelector('#df-01b811ac-0b7c-4ea3-bb2a-e40f5265fa5a button.colab-df-convert');\n",
              "      buttonEl.style.display =\n",
              "        google.colab.kernel.accessAllowed ? 'block' : 'none';\n",
              "\n",
              "      async function convertToInteractive(key) {\n",
              "        const element = document.querySelector('#df-01b811ac-0b7c-4ea3-bb2a-e40f5265fa5a');\n",
              "        const dataTable =\n",
              "          await google.colab.kernel.invokeFunction('convertToInteractive',\n",
              "                                                    [key], {});\n",
              "        if (!dataTable) return;\n",
              "\n",
              "        const docLinkHtml = 'Like what you see? Visit the ' +\n",
              "          '<a target=\"_blank\" href=https://colab.research.google.com/notebooks/data_table.ipynb>data table notebook</a>'\n",
              "          + ' to learn more about interactive tables.';\n",
              "        element.innerHTML = '';\n",
              "        dataTable['output_type'] = 'display_data';\n",
              "        await google.colab.output.renderOutput(dataTable, element);\n",
              "        const docLink = document.createElement('div');\n",
              "        docLink.innerHTML = docLinkHtml;\n",
              "        element.appendChild(docLink);\n",
              "      }\n",
              "    </script>\n",
              "  </div>\n",
              "\n",
              "\n",
              "<div id=\"df-078cf27b-60f2-4cd8-8fdd-39d9a056a82e\">\n",
              "  <button class=\"colab-df-quickchart\" onclick=\"quickchart('df-078cf27b-60f2-4cd8-8fdd-39d9a056a82e')\"\n",
              "            title=\"Suggest charts\"\n",
              "            style=\"display:none;\">\n",
              "\n",
              "<svg xmlns=\"http://www.w3.org/2000/svg\" height=\"24px\"viewBox=\"0 0 24 24\"\n",
              "     width=\"24px\">\n",
              "    <g>\n",
              "        <path d=\"M19 3H5c-1.1 0-2 .9-2 2v14c0 1.1.9 2 2 2h14c1.1 0 2-.9 2-2V5c0-1.1-.9-2-2-2zM9 17H7v-7h2v7zm4 0h-2V7h2v10zm4 0h-2v-4h2v4z\"/>\n",
              "    </g>\n",
              "</svg>\n",
              "  </button>\n",
              "\n",
              "<style>\n",
              "  .colab-df-quickchart {\n",
              "      --bg-color: #E8F0FE;\n",
              "      --fill-color: #1967D2;\n",
              "      --hover-bg-color: #E2EBFA;\n",
              "      --hover-fill-color: #174EA6;\n",
              "      --disabled-fill-color: #AAA;\n",
              "      --disabled-bg-color: #DDD;\n",
              "  }\n",
              "\n",
              "  [theme=dark] .colab-df-quickchart {\n",
              "      --bg-color: #3B4455;\n",
              "      --fill-color: #D2E3FC;\n",
              "      --hover-bg-color: #434B5C;\n",
              "      --hover-fill-color: #FFFFFF;\n",
              "      --disabled-bg-color: #3B4455;\n",
              "      --disabled-fill-color: #666;\n",
              "  }\n",
              "\n",
              "  .colab-df-quickchart {\n",
              "    background-color: var(--bg-color);\n",
              "    border: none;\n",
              "    border-radius: 50%;\n",
              "    cursor: pointer;\n",
              "    display: none;\n",
              "    fill: var(--fill-color);\n",
              "    height: 32px;\n",
              "    padding: 0;\n",
              "    width: 32px;\n",
              "  }\n",
              "\n",
              "  .colab-df-quickchart:hover {\n",
              "    background-color: var(--hover-bg-color);\n",
              "    box-shadow: 0 1px 2px rgba(60, 64, 67, 0.3), 0 1px 3px 1px rgba(60, 64, 67, 0.15);\n",
              "    fill: var(--button-hover-fill-color);\n",
              "  }\n",
              "\n",
              "  .colab-df-quickchart-complete:disabled,\n",
              "  .colab-df-quickchart-complete:disabled:hover {\n",
              "    background-color: var(--disabled-bg-color);\n",
              "    fill: var(--disabled-fill-color);\n",
              "    box-shadow: none;\n",
              "  }\n",
              "\n",
              "  .colab-df-spinner {\n",
              "    border: 2px solid var(--fill-color);\n",
              "    border-color: transparent;\n",
              "    border-bottom-color: var(--fill-color);\n",
              "    animation:\n",
              "      spin 1s steps(1) infinite;\n",
              "  }\n",
              "\n",
              "  @keyframes spin {\n",
              "    0% {\n",
              "      border-color: transparent;\n",
              "      border-bottom-color: var(--fill-color);\n",
              "      border-left-color: var(--fill-color);\n",
              "    }\n",
              "    20% {\n",
              "      border-color: transparent;\n",
              "      border-left-color: var(--fill-color);\n",
              "      border-top-color: var(--fill-color);\n",
              "    }\n",
              "    30% {\n",
              "      border-color: transparent;\n",
              "      border-left-color: var(--fill-color);\n",
              "      border-top-color: var(--fill-color);\n",
              "      border-right-color: var(--fill-color);\n",
              "    }\n",
              "    40% {\n",
              "      border-color: transparent;\n",
              "      border-right-color: var(--fill-color);\n",
              "      border-top-color: var(--fill-color);\n",
              "    }\n",
              "    60% {\n",
              "      border-color: transparent;\n",
              "      border-right-color: var(--fill-color);\n",
              "    }\n",
              "    80% {\n",
              "      border-color: transparent;\n",
              "      border-right-color: var(--fill-color);\n",
              "      border-bottom-color: var(--fill-color);\n",
              "    }\n",
              "    90% {\n",
              "      border-color: transparent;\n",
              "      border-bottom-color: var(--fill-color);\n",
              "    }\n",
              "  }\n",
              "</style>\n",
              "\n",
              "  <script>\n",
              "    async function quickchart(key) {\n",
              "      const quickchartButtonEl =\n",
              "        document.querySelector('#' + key + ' button');\n",
              "      quickchartButtonEl.disabled = true;  // To prevent multiple clicks.\n",
              "      quickchartButtonEl.classList.add('colab-df-spinner');\n",
              "      try {\n",
              "        const charts = await google.colab.kernel.invokeFunction(\n",
              "            'suggestCharts', [key], {});\n",
              "      } catch (error) {\n",
              "        console.error('Error during call to suggestCharts:', error);\n",
              "      }\n",
              "      quickchartButtonEl.classList.remove('colab-df-spinner');\n",
              "      quickchartButtonEl.classList.add('colab-df-quickchart-complete');\n",
              "    }\n",
              "    (() => {\n",
              "      let quickchartButtonEl =\n",
              "        document.querySelector('#df-078cf27b-60f2-4cd8-8fdd-39d9a056a82e button');\n",
              "      quickchartButtonEl.style.display =\n",
              "        google.colab.kernel.accessAllowed ? 'block' : 'none';\n",
              "    })();\n",
              "  </script>\n",
              "</div>\n",
              "\n",
              "    </div>\n",
              "  </div>\n"
            ],
            "application/vnd.google.colaboratory.intrinsic+json": {
              "type": "dataframe",
              "variable_name": "df"
            }
          },
          "metadata": {},
          "execution_count": 4
        }
      ],
      "source": [
        "# load and check the data\n",
        "df = pd.read_csv('beer_reviews.csv')\n",
        "df.head(10)\n"
      ]
    },
    {
      "cell_type": "code",
      "execution_count": 5,
      "metadata": {
        "colab": {
          "base_uri": "https://localhost:8080/"
        },
        "id": "h2wDNg759CLN",
        "outputId": "c64fb89c-3ade-423e-8a98-e6e9719c22dd"
      },
      "outputs": [
        {
          "output_type": "execute_result",
          "data": {
            "text/plain": [
              "(1202571, 13)"
            ]
          },
          "metadata": {},
          "execution_count": 5
        }
      ],
      "source": [
        "df.shape  # data contain 1586614 rows ans 13 columns"
      ]
    },
    {
      "cell_type": "code",
      "execution_count": 6,
      "metadata": {
        "scrolled": true,
        "colab": {
          "base_uri": "https://localhost:8080/",
          "height": 0
        },
        "id": "-NPiPw7Q9CLN",
        "outputId": "038d4bd4-6293-4cf0-a597-2f335fce0366"
      },
      "outputs": [
        {
          "output_type": "execute_result",
          "data": {
            "text/plain": [
              "         brewery_id   review_time  review_overall  review_aroma  \\\n",
              "count  1.202571e+06  1.202571e+06    1.202571e+06  1.202571e+06   \n",
              "mean   3.275168e+03  1.225644e+09    3.824653e+00  3.752997e+00   \n",
              "std    5.547676e+03  7.593056e+07    7.127894e-01  6.867916e-01   \n",
              "min    1.000000e+00  8.406720e+08    0.000000e+00  1.000000e+00   \n",
              "25%    1.470000e+02  1.175961e+09    3.500000e+00  3.500000e+00   \n",
              "50%    5.830000e+02  1.241039e+09    4.000000e+00  4.000000e+00   \n",
              "75%    2.915000e+03  1.289343e+09    4.500000e+00  4.000000e+00   \n",
              "max    2.800300e+04  1.326285e+09    5.000000e+00  5.000000e+00   \n",
              "\n",
              "       review_appearance  review_palate  review_taste      beer_abv  \\\n",
              "count       1.202571e+06   1.202571e+06  1.202571e+06  1.152429e+06   \n",
              "mean        3.852585e+00   3.758175e+00  3.808497e+00  7.085521e+00   \n",
              "std         6.050137e-01   6.710920e-01  7.211911e-01  2.375335e+00   \n",
              "min         0.000000e+00   1.000000e+00  1.000000e+00  1.000000e-02   \n",
              "25%         3.500000e+00   3.500000e+00  3.500000e+00  5.300000e+00   \n",
              "50%         4.000000e+00   4.000000e+00  4.000000e+00  6.500000e+00   \n",
              "75%         4.000000e+00   4.000000e+00  4.500000e+00  8.500000e+00   \n",
              "max         5.000000e+00   5.000000e+00  5.000000e+00  5.770000e+01   \n",
              "\n",
              "        beer_beerid  \n",
              "count  1.202570e+06  \n",
              "mean   2.225670e+04  \n",
              "std    2.186022e+04  \n",
              "min    3.000000e+00  \n",
              "25%    1.925000e+03  \n",
              "50%    1.561900e+04  \n",
              "75%    4.005800e+04  \n",
              "max    7.731600e+04  "
            ],
            "text/html": [
              "\n",
              "  <div id=\"df-a8abd821-cbf7-4dc9-813f-3ff742ef872e\" class=\"colab-df-container\">\n",
              "    <div>\n",
              "<style scoped>\n",
              "    .dataframe tbody tr th:only-of-type {\n",
              "        vertical-align: middle;\n",
              "    }\n",
              "\n",
              "    .dataframe tbody tr th {\n",
              "        vertical-align: top;\n",
              "    }\n",
              "\n",
              "    .dataframe thead th {\n",
              "        text-align: right;\n",
              "    }\n",
              "</style>\n",
              "<table border=\"1\" class=\"dataframe\">\n",
              "  <thead>\n",
              "    <tr style=\"text-align: right;\">\n",
              "      <th></th>\n",
              "      <th>brewery_id</th>\n",
              "      <th>review_time</th>\n",
              "      <th>review_overall</th>\n",
              "      <th>review_aroma</th>\n",
              "      <th>review_appearance</th>\n",
              "      <th>review_palate</th>\n",
              "      <th>review_taste</th>\n",
              "      <th>beer_abv</th>\n",
              "      <th>beer_beerid</th>\n",
              "    </tr>\n",
              "  </thead>\n",
              "  <tbody>\n",
              "    <tr>\n",
              "      <th>count</th>\n",
              "      <td>1.202571e+06</td>\n",
              "      <td>1.202571e+06</td>\n",
              "      <td>1.202571e+06</td>\n",
              "      <td>1.202571e+06</td>\n",
              "      <td>1.202571e+06</td>\n",
              "      <td>1.202571e+06</td>\n",
              "      <td>1.202571e+06</td>\n",
              "      <td>1.152429e+06</td>\n",
              "      <td>1.202570e+06</td>\n",
              "    </tr>\n",
              "    <tr>\n",
              "      <th>mean</th>\n",
              "      <td>3.275168e+03</td>\n",
              "      <td>1.225644e+09</td>\n",
              "      <td>3.824653e+00</td>\n",
              "      <td>3.752997e+00</td>\n",
              "      <td>3.852585e+00</td>\n",
              "      <td>3.758175e+00</td>\n",
              "      <td>3.808497e+00</td>\n",
              "      <td>7.085521e+00</td>\n",
              "      <td>2.225670e+04</td>\n",
              "    </tr>\n",
              "    <tr>\n",
              "      <th>std</th>\n",
              "      <td>5.547676e+03</td>\n",
              "      <td>7.593056e+07</td>\n",
              "      <td>7.127894e-01</td>\n",
              "      <td>6.867916e-01</td>\n",
              "      <td>6.050137e-01</td>\n",
              "      <td>6.710920e-01</td>\n",
              "      <td>7.211911e-01</td>\n",
              "      <td>2.375335e+00</td>\n",
              "      <td>2.186022e+04</td>\n",
              "    </tr>\n",
              "    <tr>\n",
              "      <th>min</th>\n",
              "      <td>1.000000e+00</td>\n",
              "      <td>8.406720e+08</td>\n",
              "      <td>0.000000e+00</td>\n",
              "      <td>1.000000e+00</td>\n",
              "      <td>0.000000e+00</td>\n",
              "      <td>1.000000e+00</td>\n",
              "      <td>1.000000e+00</td>\n",
              "      <td>1.000000e-02</td>\n",
              "      <td>3.000000e+00</td>\n",
              "    </tr>\n",
              "    <tr>\n",
              "      <th>25%</th>\n",
              "      <td>1.470000e+02</td>\n",
              "      <td>1.175961e+09</td>\n",
              "      <td>3.500000e+00</td>\n",
              "      <td>3.500000e+00</td>\n",
              "      <td>3.500000e+00</td>\n",
              "      <td>3.500000e+00</td>\n",
              "      <td>3.500000e+00</td>\n",
              "      <td>5.300000e+00</td>\n",
              "      <td>1.925000e+03</td>\n",
              "    </tr>\n",
              "    <tr>\n",
              "      <th>50%</th>\n",
              "      <td>5.830000e+02</td>\n",
              "      <td>1.241039e+09</td>\n",
              "      <td>4.000000e+00</td>\n",
              "      <td>4.000000e+00</td>\n",
              "      <td>4.000000e+00</td>\n",
              "      <td>4.000000e+00</td>\n",
              "      <td>4.000000e+00</td>\n",
              "      <td>6.500000e+00</td>\n",
              "      <td>1.561900e+04</td>\n",
              "    </tr>\n",
              "    <tr>\n",
              "      <th>75%</th>\n",
              "      <td>2.915000e+03</td>\n",
              "      <td>1.289343e+09</td>\n",
              "      <td>4.500000e+00</td>\n",
              "      <td>4.000000e+00</td>\n",
              "      <td>4.000000e+00</td>\n",
              "      <td>4.000000e+00</td>\n",
              "      <td>4.500000e+00</td>\n",
              "      <td>8.500000e+00</td>\n",
              "      <td>4.005800e+04</td>\n",
              "    </tr>\n",
              "    <tr>\n",
              "      <th>max</th>\n",
              "      <td>2.800300e+04</td>\n",
              "      <td>1.326285e+09</td>\n",
              "      <td>5.000000e+00</td>\n",
              "      <td>5.000000e+00</td>\n",
              "      <td>5.000000e+00</td>\n",
              "      <td>5.000000e+00</td>\n",
              "      <td>5.000000e+00</td>\n",
              "      <td>5.770000e+01</td>\n",
              "      <td>7.731600e+04</td>\n",
              "    </tr>\n",
              "  </tbody>\n",
              "</table>\n",
              "</div>\n",
              "    <div class=\"colab-df-buttons\">\n",
              "\n",
              "  <div class=\"colab-df-container\">\n",
              "    <button class=\"colab-df-convert\" onclick=\"convertToInteractive('df-a8abd821-cbf7-4dc9-813f-3ff742ef872e')\"\n",
              "            title=\"Convert this dataframe to an interactive table.\"\n",
              "            style=\"display:none;\">\n",
              "\n",
              "  <svg xmlns=\"http://www.w3.org/2000/svg\" height=\"24px\" viewBox=\"0 -960 960 960\">\n",
              "    <path d=\"M120-120v-720h720v720H120Zm60-500h600v-160H180v160Zm220 220h160v-160H400v160Zm0 220h160v-160H400v160ZM180-400h160v-160H180v160Zm440 0h160v-160H620v160ZM180-180h160v-160H180v160Zm440 0h160v-160H620v160Z\"/>\n",
              "  </svg>\n",
              "    </button>\n",
              "\n",
              "  <style>\n",
              "    .colab-df-container {\n",
              "      display:flex;\n",
              "      gap: 12px;\n",
              "    }\n",
              "\n",
              "    .colab-df-convert {\n",
              "      background-color: #E8F0FE;\n",
              "      border: none;\n",
              "      border-radius: 50%;\n",
              "      cursor: pointer;\n",
              "      display: none;\n",
              "      fill: #1967D2;\n",
              "      height: 32px;\n",
              "      padding: 0 0 0 0;\n",
              "      width: 32px;\n",
              "    }\n",
              "\n",
              "    .colab-df-convert:hover {\n",
              "      background-color: #E2EBFA;\n",
              "      box-shadow: 0px 1px 2px rgba(60, 64, 67, 0.3), 0px 1px 3px 1px rgba(60, 64, 67, 0.15);\n",
              "      fill: #174EA6;\n",
              "    }\n",
              "\n",
              "    .colab-df-buttons div {\n",
              "      margin-bottom: 4px;\n",
              "    }\n",
              "\n",
              "    [theme=dark] .colab-df-convert {\n",
              "      background-color: #3B4455;\n",
              "      fill: #D2E3FC;\n",
              "    }\n",
              "\n",
              "    [theme=dark] .colab-df-convert:hover {\n",
              "      background-color: #434B5C;\n",
              "      box-shadow: 0px 1px 3px 1px rgba(0, 0, 0, 0.15);\n",
              "      filter: drop-shadow(0px 1px 2px rgba(0, 0, 0, 0.3));\n",
              "      fill: #FFFFFF;\n",
              "    }\n",
              "  </style>\n",
              "\n",
              "    <script>\n",
              "      const buttonEl =\n",
              "        document.querySelector('#df-a8abd821-cbf7-4dc9-813f-3ff742ef872e button.colab-df-convert');\n",
              "      buttonEl.style.display =\n",
              "        google.colab.kernel.accessAllowed ? 'block' : 'none';\n",
              "\n",
              "      async function convertToInteractive(key) {\n",
              "        const element = document.querySelector('#df-a8abd821-cbf7-4dc9-813f-3ff742ef872e');\n",
              "        const dataTable =\n",
              "          await google.colab.kernel.invokeFunction('convertToInteractive',\n",
              "                                                    [key], {});\n",
              "        if (!dataTable) return;\n",
              "\n",
              "        const docLinkHtml = 'Like what you see? Visit the ' +\n",
              "          '<a target=\"_blank\" href=https://colab.research.google.com/notebooks/data_table.ipynb>data table notebook</a>'\n",
              "          + ' to learn more about interactive tables.';\n",
              "        element.innerHTML = '';\n",
              "        dataTable['output_type'] = 'display_data';\n",
              "        await google.colab.output.renderOutput(dataTable, element);\n",
              "        const docLink = document.createElement('div');\n",
              "        docLink.innerHTML = docLinkHtml;\n",
              "        element.appendChild(docLink);\n",
              "      }\n",
              "    </script>\n",
              "  </div>\n",
              "\n",
              "\n",
              "<div id=\"df-abe07c2d-1f54-49e7-98f2-b4bdde3601a4\">\n",
              "  <button class=\"colab-df-quickchart\" onclick=\"quickchart('df-abe07c2d-1f54-49e7-98f2-b4bdde3601a4')\"\n",
              "            title=\"Suggest charts\"\n",
              "            style=\"display:none;\">\n",
              "\n",
              "<svg xmlns=\"http://www.w3.org/2000/svg\" height=\"24px\"viewBox=\"0 0 24 24\"\n",
              "     width=\"24px\">\n",
              "    <g>\n",
              "        <path d=\"M19 3H5c-1.1 0-2 .9-2 2v14c0 1.1.9 2 2 2h14c1.1 0 2-.9 2-2V5c0-1.1-.9-2-2-2zM9 17H7v-7h2v7zm4 0h-2V7h2v10zm4 0h-2v-4h2v4z\"/>\n",
              "    </g>\n",
              "</svg>\n",
              "  </button>\n",
              "\n",
              "<style>\n",
              "  .colab-df-quickchart {\n",
              "      --bg-color: #E8F0FE;\n",
              "      --fill-color: #1967D2;\n",
              "      --hover-bg-color: #E2EBFA;\n",
              "      --hover-fill-color: #174EA6;\n",
              "      --disabled-fill-color: #AAA;\n",
              "      --disabled-bg-color: #DDD;\n",
              "  }\n",
              "\n",
              "  [theme=dark] .colab-df-quickchart {\n",
              "      --bg-color: #3B4455;\n",
              "      --fill-color: #D2E3FC;\n",
              "      --hover-bg-color: #434B5C;\n",
              "      --hover-fill-color: #FFFFFF;\n",
              "      --disabled-bg-color: #3B4455;\n",
              "      --disabled-fill-color: #666;\n",
              "  }\n",
              "\n",
              "  .colab-df-quickchart {\n",
              "    background-color: var(--bg-color);\n",
              "    border: none;\n",
              "    border-radius: 50%;\n",
              "    cursor: pointer;\n",
              "    display: none;\n",
              "    fill: var(--fill-color);\n",
              "    height: 32px;\n",
              "    padding: 0;\n",
              "    width: 32px;\n",
              "  }\n",
              "\n",
              "  .colab-df-quickchart:hover {\n",
              "    background-color: var(--hover-bg-color);\n",
              "    box-shadow: 0 1px 2px rgba(60, 64, 67, 0.3), 0 1px 3px 1px rgba(60, 64, 67, 0.15);\n",
              "    fill: var(--button-hover-fill-color);\n",
              "  }\n",
              "\n",
              "  .colab-df-quickchart-complete:disabled,\n",
              "  .colab-df-quickchart-complete:disabled:hover {\n",
              "    background-color: var(--disabled-bg-color);\n",
              "    fill: var(--disabled-fill-color);\n",
              "    box-shadow: none;\n",
              "  }\n",
              "\n",
              "  .colab-df-spinner {\n",
              "    border: 2px solid var(--fill-color);\n",
              "    border-color: transparent;\n",
              "    border-bottom-color: var(--fill-color);\n",
              "    animation:\n",
              "      spin 1s steps(1) infinite;\n",
              "  }\n",
              "\n",
              "  @keyframes spin {\n",
              "    0% {\n",
              "      border-color: transparent;\n",
              "      border-bottom-color: var(--fill-color);\n",
              "      border-left-color: var(--fill-color);\n",
              "    }\n",
              "    20% {\n",
              "      border-color: transparent;\n",
              "      border-left-color: var(--fill-color);\n",
              "      border-top-color: var(--fill-color);\n",
              "    }\n",
              "    30% {\n",
              "      border-color: transparent;\n",
              "      border-left-color: var(--fill-color);\n",
              "      border-top-color: var(--fill-color);\n",
              "      border-right-color: var(--fill-color);\n",
              "    }\n",
              "    40% {\n",
              "      border-color: transparent;\n",
              "      border-right-color: var(--fill-color);\n",
              "      border-top-color: var(--fill-color);\n",
              "    }\n",
              "    60% {\n",
              "      border-color: transparent;\n",
              "      border-right-color: var(--fill-color);\n",
              "    }\n",
              "    80% {\n",
              "      border-color: transparent;\n",
              "      border-right-color: var(--fill-color);\n",
              "      border-bottom-color: var(--fill-color);\n",
              "    }\n",
              "    90% {\n",
              "      border-color: transparent;\n",
              "      border-bottom-color: var(--fill-color);\n",
              "    }\n",
              "  }\n",
              "</style>\n",
              "\n",
              "  <script>\n",
              "    async function quickchart(key) {\n",
              "      const quickchartButtonEl =\n",
              "        document.querySelector('#' + key + ' button');\n",
              "      quickchartButtonEl.disabled = true;  // To prevent multiple clicks.\n",
              "      quickchartButtonEl.classList.add('colab-df-spinner');\n",
              "      try {\n",
              "        const charts = await google.colab.kernel.invokeFunction(\n",
              "            'suggestCharts', [key], {});\n",
              "      } catch (error) {\n",
              "        console.error('Error during call to suggestCharts:', error);\n",
              "      }\n",
              "      quickchartButtonEl.classList.remove('colab-df-spinner');\n",
              "      quickchartButtonEl.classList.add('colab-df-quickchart-complete');\n",
              "    }\n",
              "    (() => {\n",
              "      let quickchartButtonEl =\n",
              "        document.querySelector('#df-abe07c2d-1f54-49e7-98f2-b4bdde3601a4 button');\n",
              "      quickchartButtonEl.style.display =\n",
              "        google.colab.kernel.accessAllowed ? 'block' : 'none';\n",
              "    })();\n",
              "  </script>\n",
              "</div>\n",
              "\n",
              "    </div>\n",
              "  </div>\n"
            ],
            "application/vnd.google.colaboratory.intrinsic+json": {
              "type": "dataframe",
              "summary": "{\n  \"name\": \"df\",\n  \"rows\": 8,\n  \"fields\": [\n    {\n      \"column\": \"brewery_id\",\n      \"properties\": {\n        \"dtype\": \"number\",\n        \"std\": 423230.2820117482,\n        \"min\": 1.0,\n        \"max\": 1202571.0,\n        \"num_unique_values\": 8,\n        \"samples\": [\n          3275.1679052629743,\n          583.0,\n          1202571.0\n        ],\n        \"semantic_type\": \"\",\n        \"description\": \"\"\n      }\n    },\n    {\n      \"column\": \"review_time\",\n      \"properties\": {\n        \"dtype\": \"number\",\n        \"std\": 550608611.0758357,\n        \"min\": 1202571.0,\n        \"max\": 1326285348.0,\n        \"num_unique_values\": 8,\n        \"samples\": [\n          1225644158.5255365,\n          1241038945.0,\n          1202571.0\n        ],\n        \"semantic_type\": \"\",\n        \"description\": \"\"\n      }\n    },\n    {\n      \"column\": \"review_overall\",\n      \"properties\": {\n        \"dtype\": \"number\",\n        \"std\": 425171.96667778265,\n        \"min\": 0.0,\n        \"max\": 1202571.0,\n        \"num_unique_values\": 8,\n        \"samples\": [\n          3.8246531805606487,\n          4.0,\n          1202571.0\n        ],\n        \"semantic_type\": \"\",\n        \"description\": \"\"\n      }\n    },\n    {\n      \"column\": \"review_aroma\",\n      \"properties\": {\n        \"dtype\": \"number\",\n        \"std\": 425171.9463551921,\n        \"min\": 0.6867915524053287,\n        \"max\": 1202571.0,\n        \"num_unique_values\": 7,\n        \"samples\": [\n          1202571.0,\n          3.7529967045604793,\n          4.0\n        ],\n        \"semantic_type\": \"\",\n        \"description\": \"\"\n      }\n    },\n    {\n      \"column\": \"review_appearance\",\n      \"properties\": {\n        \"dtype\": \"number\",\n        \"std\": 425171.99596418807,\n        \"min\": 0.0,\n        \"max\": 1202571.0,\n        \"num_unique_values\": 7,\n        \"samples\": [\n          1202571.0,\n          3.8525854190729696,\n          4.0\n        ],\n        \"semantic_type\": \"\",\n        \"description\": \"\"\n      }\n    },\n    {\n      \"column\": \"review_palate\",\n      \"properties\": {\n        \"dtype\": \"number\",\n        \"std\": 425171.9468865997,\n        \"min\": 0.6710920071198135,\n        \"max\": 1202571.0,\n        \"num_unique_values\": 7,\n        \"samples\": [\n          1202571.0,\n          3.758175192982369,\n          4.0\n        ],\n        \"semantic_type\": \"\",\n        \"description\": \"\"\n      }\n    },\n    {\n      \"column\": \"review_taste\",\n      \"properties\": {\n        \"dtype\": \"number\",\n        \"std\": 425171.91656093515,\n        \"min\": 0.7211911299255964,\n        \"max\": 1202571.0,\n        \"num_unique_values\": 8,\n        \"samples\": [\n          3.808496546149874,\n          4.0,\n          1202571.0\n        ],\n        \"semantic_type\": \"\",\n        \"description\": \"\"\n      }\n    },\n    {\n      \"column\": \"beer_abv\",\n      \"properties\": {\n        \"dtype\": \"number\",\n        \"std\": 407440.7628494299,\n        \"min\": 0.01,\n        \"max\": 1152429.0,\n        \"num_unique_values\": 8,\n        \"samples\": [\n          7.0855214594565075,\n          6.5,\n          1152429.0\n        ],\n        \"semantic_type\": \"\",\n        \"description\": \"\"\n      }\n    },\n    {\n      \"column\": \"beer_beerid\",\n      \"properties\": {\n        \"dtype\": \"number\",\n        \"std\": 416854.3503725581,\n        \"min\": 3.0,\n        \"max\": 1202570.0,\n        \"num_unique_values\": 8,\n        \"samples\": [\n          22256.697005579717,\n          15619.0,\n          1202570.0\n        ],\n        \"semantic_type\": \"\",\n        \"description\": \"\"\n      }\n    }\n  ]\n}"
            }
          },
          "metadata": {},
          "execution_count": 6
        }
      ],
      "source": [
        "df.describe() #all statistical information for numerical values"
      ]
    },
    {
      "cell_type": "code",
      "execution_count": 7,
      "metadata": {
        "scrolled": false,
        "colab": {
          "base_uri": "https://localhost:8080/"
        },
        "id": "UR3i1Sz_9CLO",
        "outputId": "2962122a-4c96-42c0-aff3-fcad91a12fda"
      },
      "outputs": [
        {
          "output_type": "stream",
          "name": "stdout",
          "text": [
            "<class 'pandas.core.frame.DataFrame'>\n",
            "RangeIndex: 1202571 entries, 0 to 1202570\n",
            "Data columns (total 13 columns):\n",
            " #   Column              Non-Null Count    Dtype  \n",
            "---  ------              --------------    -----  \n",
            " 0   brewery_id          1202571 non-null  int64  \n",
            " 1   brewery_name        1202562 non-null  object \n",
            " 2   review_time         1202571 non-null  int64  \n",
            " 3   review_overall      1202571 non-null  float64\n",
            " 4   review_aroma        1202571 non-null  float64\n",
            " 5   review_appearance   1202571 non-null  float64\n",
            " 6   review_profilename  1202309 non-null  object \n",
            " 7   beer_style          1202571 non-null  object \n",
            " 8   review_palate       1202571 non-null  float64\n",
            " 9   review_taste        1202571 non-null  float64\n",
            " 10  beer_name           1202571 non-null  object \n",
            " 11  beer_abv            1152429 non-null  float64\n",
            " 12  beer_beerid         1202570 non-null  float64\n",
            "dtypes: float64(7), int64(2), object(4)\n",
            "memory usage: 119.3+ MB\n"
          ]
        }
      ],
      "source": [
        "df.info() #data types and their number\n",
        "          #there are some null values in 3 colums: brewery_name, review_profilename and beer_abv"
      ]
    },
    {
      "cell_type": "code",
      "source": [
        "df.isnull().sum() #checking the number of null values"
      ],
      "metadata": {
        "colab": {
          "base_uri": "https://localhost:8080/",
          "height": 0
        },
        "id": "XdGqYgp_jfKy",
        "outputId": "64104cfd-266a-4698-ac69-4d771d2a167f"
      },
      "execution_count": 8,
      "outputs": [
        {
          "output_type": "execute_result",
          "data": {
            "text/plain": [
              "brewery_id                0\n",
              "brewery_name              9\n",
              "review_time               0\n",
              "review_overall            0\n",
              "review_aroma              0\n",
              "review_appearance         0\n",
              "review_profilename      262\n",
              "beer_style                0\n",
              "review_palate             0\n",
              "review_taste              0\n",
              "beer_name                 0\n",
              "beer_abv              50142\n",
              "beer_beerid               1\n",
              "dtype: int64"
            ],
            "text/html": [
              "<div>\n",
              "<style scoped>\n",
              "    .dataframe tbody tr th:only-of-type {\n",
              "        vertical-align: middle;\n",
              "    }\n",
              "\n",
              "    .dataframe tbody tr th {\n",
              "        vertical-align: top;\n",
              "    }\n",
              "\n",
              "    .dataframe thead th {\n",
              "        text-align: right;\n",
              "    }\n",
              "</style>\n",
              "<table border=\"1\" class=\"dataframe\">\n",
              "  <thead>\n",
              "    <tr style=\"text-align: right;\">\n",
              "      <th></th>\n",
              "      <th>0</th>\n",
              "    </tr>\n",
              "  </thead>\n",
              "  <tbody>\n",
              "    <tr>\n",
              "      <th>brewery_id</th>\n",
              "      <td>0</td>\n",
              "    </tr>\n",
              "    <tr>\n",
              "      <th>brewery_name</th>\n",
              "      <td>9</td>\n",
              "    </tr>\n",
              "    <tr>\n",
              "      <th>review_time</th>\n",
              "      <td>0</td>\n",
              "    </tr>\n",
              "    <tr>\n",
              "      <th>review_overall</th>\n",
              "      <td>0</td>\n",
              "    </tr>\n",
              "    <tr>\n",
              "      <th>review_aroma</th>\n",
              "      <td>0</td>\n",
              "    </tr>\n",
              "    <tr>\n",
              "      <th>review_appearance</th>\n",
              "      <td>0</td>\n",
              "    </tr>\n",
              "    <tr>\n",
              "      <th>review_profilename</th>\n",
              "      <td>262</td>\n",
              "    </tr>\n",
              "    <tr>\n",
              "      <th>beer_style</th>\n",
              "      <td>0</td>\n",
              "    </tr>\n",
              "    <tr>\n",
              "      <th>review_palate</th>\n",
              "      <td>0</td>\n",
              "    </tr>\n",
              "    <tr>\n",
              "      <th>review_taste</th>\n",
              "      <td>0</td>\n",
              "    </tr>\n",
              "    <tr>\n",
              "      <th>beer_name</th>\n",
              "      <td>0</td>\n",
              "    </tr>\n",
              "    <tr>\n",
              "      <th>beer_abv</th>\n",
              "      <td>50142</td>\n",
              "    </tr>\n",
              "    <tr>\n",
              "      <th>beer_beerid</th>\n",
              "      <td>1</td>\n",
              "    </tr>\n",
              "  </tbody>\n",
              "</table>\n",
              "</div><br><label><b>dtype:</b> int64</label>"
            ]
          },
          "metadata": {},
          "execution_count": 8
        }
      ]
    },
    {
      "cell_type": "code",
      "source": [
        "df.isna().sum() / len(df) * 100 #checking the percentage of null values"
      ],
      "metadata": {
        "colab": {
          "base_uri": "https://localhost:8080/",
          "height": 0
        },
        "id": "2OuH8crcj_HW",
        "outputId": "66e8125d-a18a-478e-fbdf-4088eb8f952b"
      },
      "execution_count": 9,
      "outputs": [
        {
          "output_type": "execute_result",
          "data": {
            "text/plain": [
              "brewery_id            0.000000\n",
              "brewery_name          0.000748\n",
              "review_time           0.000000\n",
              "review_overall        0.000000\n",
              "review_aroma          0.000000\n",
              "review_appearance     0.000000\n",
              "review_profilename    0.021787\n",
              "beer_style            0.000000\n",
              "review_palate         0.000000\n",
              "review_taste          0.000000\n",
              "beer_name             0.000000\n",
              "beer_abv              4.169567\n",
              "beer_beerid           0.000083\n",
              "dtype: float64"
            ],
            "text/html": [
              "<div>\n",
              "<style scoped>\n",
              "    .dataframe tbody tr th:only-of-type {\n",
              "        vertical-align: middle;\n",
              "    }\n",
              "\n",
              "    .dataframe tbody tr th {\n",
              "        vertical-align: top;\n",
              "    }\n",
              "\n",
              "    .dataframe thead th {\n",
              "        text-align: right;\n",
              "    }\n",
              "</style>\n",
              "<table border=\"1\" class=\"dataframe\">\n",
              "  <thead>\n",
              "    <tr style=\"text-align: right;\">\n",
              "      <th></th>\n",
              "      <th>0</th>\n",
              "    </tr>\n",
              "  </thead>\n",
              "  <tbody>\n",
              "    <tr>\n",
              "      <th>brewery_id</th>\n",
              "      <td>0.000000</td>\n",
              "    </tr>\n",
              "    <tr>\n",
              "      <th>brewery_name</th>\n",
              "      <td>0.000748</td>\n",
              "    </tr>\n",
              "    <tr>\n",
              "      <th>review_time</th>\n",
              "      <td>0.000000</td>\n",
              "    </tr>\n",
              "    <tr>\n",
              "      <th>review_overall</th>\n",
              "      <td>0.000000</td>\n",
              "    </tr>\n",
              "    <tr>\n",
              "      <th>review_aroma</th>\n",
              "      <td>0.000000</td>\n",
              "    </tr>\n",
              "    <tr>\n",
              "      <th>review_appearance</th>\n",
              "      <td>0.000000</td>\n",
              "    </tr>\n",
              "    <tr>\n",
              "      <th>review_profilename</th>\n",
              "      <td>0.021787</td>\n",
              "    </tr>\n",
              "    <tr>\n",
              "      <th>beer_style</th>\n",
              "      <td>0.000000</td>\n",
              "    </tr>\n",
              "    <tr>\n",
              "      <th>review_palate</th>\n",
              "      <td>0.000000</td>\n",
              "    </tr>\n",
              "    <tr>\n",
              "      <th>review_taste</th>\n",
              "      <td>0.000000</td>\n",
              "    </tr>\n",
              "    <tr>\n",
              "      <th>beer_name</th>\n",
              "      <td>0.000000</td>\n",
              "    </tr>\n",
              "    <tr>\n",
              "      <th>beer_abv</th>\n",
              "      <td>4.169567</td>\n",
              "    </tr>\n",
              "    <tr>\n",
              "      <th>beer_beerid</th>\n",
              "      <td>0.000083</td>\n",
              "    </tr>\n",
              "  </tbody>\n",
              "</table>\n",
              "</div><br><label><b>dtype:</b> float64</label>"
            ]
          },
          "metadata": {},
          "execution_count": 9
        }
      ]
    },
    {
      "cell_type": "code",
      "source": [
        "#percentage of null values is so small so we can drop them\n",
        "df = df.dropna(subset=['brewery_name', 'beer_abv'])  #I only dropped the null data for these 2 column because\n",
        "                                                      #null values for review_profilename  will no have influace for analysis\n",
        "df.shape\n"
      ],
      "metadata": {
        "colab": {
          "base_uri": "https://localhost:8080/"
        },
        "id": "hfuctmE0kPNl",
        "outputId": "f12a68a3-b86f-438d-f7d7-b53aaac18fb2"
      },
      "execution_count": 10,
      "outputs": [
        {
          "output_type": "execute_result",
          "data": {
            "text/plain": [
              "(1152420, 13)"
            ]
          },
          "metadata": {},
          "execution_count": 10
        }
      ]
    },
    {
      "cell_type": "code",
      "execution_count": 11,
      "metadata": {
        "colab": {
          "base_uri": "https://localhost:8080/",
          "height": 0
        },
        "id": "lYDsxmDD9CLO",
        "outputId": "d614b473-cbdb-4dfc-c1e9-27a8d5fc5490"
      },
      "outputs": [
        {
          "output_type": "execute_result",
          "data": {
            "text/plain": [
              "brewery_id            0.000000\n",
              "brewery_name          0.000000\n",
              "review_time           0.000000\n",
              "review_overall        0.000000\n",
              "review_aroma          0.000000\n",
              "review_appearance     0.000000\n",
              "review_profilename    0.000222\n",
              "beer_style            0.000000\n",
              "review_palate         0.000000\n",
              "review_taste          0.000000\n",
              "beer_name             0.000000\n",
              "beer_abv              0.000000\n",
              "beer_beerid           0.000000\n",
              "dtype: float64"
            ],
            "text/html": [
              "<div>\n",
              "<style scoped>\n",
              "    .dataframe tbody tr th:only-of-type {\n",
              "        vertical-align: middle;\n",
              "    }\n",
              "\n",
              "    .dataframe tbody tr th {\n",
              "        vertical-align: top;\n",
              "    }\n",
              "\n",
              "    .dataframe thead th {\n",
              "        text-align: right;\n",
              "    }\n",
              "</style>\n",
              "<table border=\"1\" class=\"dataframe\">\n",
              "  <thead>\n",
              "    <tr style=\"text-align: right;\">\n",
              "      <th></th>\n",
              "      <th>0</th>\n",
              "    </tr>\n",
              "  </thead>\n",
              "  <tbody>\n",
              "    <tr>\n",
              "      <th>brewery_id</th>\n",
              "      <td>0.000000</td>\n",
              "    </tr>\n",
              "    <tr>\n",
              "      <th>brewery_name</th>\n",
              "      <td>0.000000</td>\n",
              "    </tr>\n",
              "    <tr>\n",
              "      <th>review_time</th>\n",
              "      <td>0.000000</td>\n",
              "    </tr>\n",
              "    <tr>\n",
              "      <th>review_overall</th>\n",
              "      <td>0.000000</td>\n",
              "    </tr>\n",
              "    <tr>\n",
              "      <th>review_aroma</th>\n",
              "      <td>0.000000</td>\n",
              "    </tr>\n",
              "    <tr>\n",
              "      <th>review_appearance</th>\n",
              "      <td>0.000000</td>\n",
              "    </tr>\n",
              "    <tr>\n",
              "      <th>review_profilename</th>\n",
              "      <td>0.000222</td>\n",
              "    </tr>\n",
              "    <tr>\n",
              "      <th>beer_style</th>\n",
              "      <td>0.000000</td>\n",
              "    </tr>\n",
              "    <tr>\n",
              "      <th>review_palate</th>\n",
              "      <td>0.000000</td>\n",
              "    </tr>\n",
              "    <tr>\n",
              "      <th>review_taste</th>\n",
              "      <td>0.000000</td>\n",
              "    </tr>\n",
              "    <tr>\n",
              "      <th>beer_name</th>\n",
              "      <td>0.000000</td>\n",
              "    </tr>\n",
              "    <tr>\n",
              "      <th>beer_abv</th>\n",
              "      <td>0.000000</td>\n",
              "    </tr>\n",
              "    <tr>\n",
              "      <th>beer_beerid</th>\n",
              "      <td>0.000000</td>\n",
              "    </tr>\n",
              "  </tbody>\n",
              "</table>\n",
              "</div><br><label><b>dtype:</b> float64</label>"
            ]
          },
          "metadata": {},
          "execution_count": 11
        }
      ],
      "source": [
        "df.isna().sum() / len(df) #check data"
      ]
    },
    {
      "cell_type": "code",
      "source": [
        "#check dupicated data\n",
        "df.duplicated().sum()  #all data are uniqual\n"
      ],
      "metadata": {
        "colab": {
          "base_uri": "https://localhost:8080/"
        },
        "id": "RmMqeyUmptd4",
        "outputId": "1f08998f-6cdb-4f00-d48f-c91199d62755"
      },
      "execution_count": 12,
      "outputs": [
        {
          "output_type": "execute_result",
          "data": {
            "text/plain": [
              "0"
            ]
          },
          "metadata": {},
          "execution_count": 12
        }
      ]
    },
    {
      "cell_type": "code",
      "execution_count": 13,
      "metadata": {
        "colab": {
          "base_uri": "https://localhost:8080/"
        },
        "id": "2Xs8ijyv9CLP",
        "outputId": "e82cc3bd-f82e-47c9-86a4-80ae5b93e317"
      },
      "outputs": [
        {
          "output_type": "stream",
          "name": "stdout",
          "text": [
            "beer_abv\n",
            "[0.01, 0.05, 0.1, 0.25, 0.3, 0.4, 0.45, 0.5, 0.7, 0.9, 1.0, 1.2, 1.4, 1.5, 1.8, 2.0, 2.1, 2.16, 2.2, 2.25, 2.3, 2.4, 2.5, 2.6, 2.7, 2.75, 2.8, 2.9, 2.92, 3.0, 3.1, 3.13, 3.2, 3.25, 3.3, 3.4, 3.44, 3.5, 3.54, 3.6, 3.61, 3.65, 3.67, 3.7, 3.71, 3.75, 3.79, 3.8, 3.88, 3.9, 3.93, 3.95, 3.99, 4.0, 4.01, 4.08, 4.1, 4.13, 4.14, 4.15, 4.16, 4.17, 4.19, 4.2, 4.25, 4.26, 4.28, 4.29, 4.3, 4.31, 4.32, 4.33, 4.34, 4.35, 4.37, 4.38, 4.39, 4.4, 4.41, 4.45, 4.46, 4.48, 4.5, 4.51, 4.53, 4.55, 4.56, 4.58, 4.59, 4.6, 4.62, 4.63, 4.64, 4.65, 4.66, 4.67, 4.7, 4.72, 4.73, 4.74, 4.75, 4.77, 4.78, 4.79, 4.8, 4.81, 4.83, 4.85, 4.86, 4.87, 4.88, 4.89, 4.9, 4.91, 4.94, 4.95, 4.96, 4.97, 4.98, 4.99, 5.0, 5.01, 5.04, 5.05, 5.06, 5.09, 5.1, 5.11, 5.12, 5.13, 5.14, 5.15, 5.16, 5.17, 5.18, 5.19, 5.2, 5.24, 5.25, 5.27, 5.28, 5.29, 5.3, 5.31, 5.32, 5.33, 5.34, 5.35, 5.36, 5.38, 5.4, 5.41, 5.42, 5.43, 5.45, 5.46, 5.47, 5.5, 5.51, 5.52, 5.53, 5.54, 5.55, 5.56, 5.57, 5.59, 5.6, 5.61, 5.62, 5.63, 5.64, 5.65, 5.67, 5.68, 5.69, 5.7, 5.72, 5.73, 5.74, 5.75, 5.78, 5.79, 5.8, 5.81, 5.82, 5.85, 5.86, 5.87, 5.88, 5.89, 5.9, 5.91, 5.93, 5.94, 5.95, 5.97, 5.98, 5.99, 6.0, 6.04, 6.07, 6.08, 6.09, 6.1, 6.13, 6.14, 6.15, 6.18, 6.19, 6.2, 6.23, 6.24, 6.25, 6.27, 6.29, 6.3, 6.31, 6.32, 6.33, 6.35, 6.38, 6.4, 6.45, 6.5, 6.55, 6.56, 6.6, 6.65, 6.66, 6.67, 6.7, 6.71, 6.75, 6.77, 6.78, 6.8, 6.82, 6.83, 6.85, 6.87, 6.88, 6.9, 6.95, 6.98, 7.0, 7.08, 7.09, 7.1, 7.13, 7.15, 7.17, 7.2, 7.23, 7.24, 7.25, 7.26, 7.3, 7.33, 7.37, 7.39, 7.4, 7.43, 7.45, 7.48, 7.5, 7.51, 7.52, 7.57, 7.58, 7.6, 7.67, 7.68, 7.69, 7.7, 7.71, 7.75, 7.77, 7.79, 7.8, 7.82, 7.85, 7.88, 7.9, 7.92, 8.0, 8.03, 8.06, 8.08, 8.1, 8.12, 8.19, 8.2, 8.24, 8.25, 8.27, 8.3, 8.33, 8.4, 8.41, 8.5, 8.55, 8.59, 8.6, 8.65, 8.66, 8.69, 8.7, 8.72, 8.75, 8.8, 8.85, 8.88, 8.9, 8.97, 9.0, 9.04, 9.05, 9.1, 9.15, 9.18, 9.2, 9.23, 9.25, 9.3, 9.35, 9.39, 9.4, 9.44, 9.46, 9.5, 9.54, 9.6, 9.61, 9.62, 9.7, 9.71, 9.73, 9.74, 9.75, 9.78, 9.8, 9.85, 9.9, 9.91, 9.96, 9.99, 10.0, 10.01, 10.03, 10.06, 10.08, 10.1, 10.13, 10.14, 10.17, 10.2, 10.25, 10.27, 10.28, 10.3, 10.31, 10.4, 10.43, 10.5, 10.58, 10.6, 10.7, 10.75, 10.76, 10.8, 10.9, 10.98, 11.0, 11.03, 11.04, 11.1, 11.15, 11.2, 11.25, 11.26, 11.3, 11.4, 11.41, 11.5, 11.59, 11.6, 11.65, 11.67, 11.7, 11.75, 11.8, 11.9, 11.99, 12.0, 12.1, 12.12, 12.2, 12.25, 12.3, 12.4, 12.5, 12.6, 12.7, 12.8, 12.9, 13.0, 13.1, 13.2, 13.3, 13.4, 13.5, 13.6, 13.7, 13.8, 13.9, 14.0, 14.1, 14.3, 14.5, 14.7, 14.9, 15.0, 15.02, 15.04, 15.1, 15.2, 15.43, 15.5, 15.9, 16.0, 16.03, 16.1, 16.2, 16.3, 16.4, 16.45, 16.5, 16.8, 16.83, 17.0, 17.2, 17.35, 17.4, 17.5, 18.0, 18.1, 18.2, 18.3, 18.4, 18.5, 19.2, 19.37, 19.5, 20.0, 21.0, 22.0, 24.0, 25.0, 26.0, 27.0, 28.0, 29.0, 30.86, 32.0, 39.0, 39.44, 41.0, 43.0, 57.7]\n",
            "\n",
            "review_overall\n",
            "[0.0, 1.0, 1.5, 2.0, 2.5, 3.0, 3.5, 4.0, 4.5, 5.0]\n",
            "\n",
            "review_aroma\n",
            "[1.0, 1.5, 2.0, 2.5, 3.0, 3.5, 4.0, 4.5, 5.0]\n",
            "\n",
            "review_appearance\n",
            "[0.0, 1.0, 1.5, 2.0, 2.5, 3.0, 3.5, 4.0, 4.5, 5.0]\n",
            "\n",
            "review_palate\n",
            "[1.0, 1.5, 2.0, 2.5, 3.0, 3.5, 4.0, 4.5, 5.0]\n",
            "\n",
            "review_taste\n",
            "[1.0, 1.5, 2.0, 2.5, 3.0, 3.5, 4.0, 4.5, 5.0]\n",
            "\n"
          ]
        }
      ],
      "source": [
        "#check for uniqal values in columns\n",
        "columns_distribution = [ 'beer_abv' ,'review_overall', 'review_aroma', 'review_appearance',  'review_palate', 'review_taste']\n",
        "for column in columns_distribution:\n",
        "    print(column)\n",
        "    print(sorted(df[column].unique()))\n",
        "    print()\n",
        "\n",
        "#the ratings are on a scale of 0-5 and every 0.5 points"
      ]
    },
    {
      "cell_type": "code",
      "source": [
        "#histograms\n",
        "df.hist(column=['beer_abv', 'review_overall', 'review_aroma', 'review_taste', 'review_appearance', 'review_palate'], figsize=(15, 10))\n",
        "plt.show()\n",
        "\n",
        "#"
      ],
      "metadata": {
        "colab": {
          "base_uri": "https://localhost:8080/",
          "height": 0
        },
        "id": "n-jDXpRjrD1l",
        "outputId": "c4cba857-f99d-47d2-e0fc-776205558475"
      },
      "execution_count": 14,
      "outputs": [
        {
          "output_type": "display_data",
          "data": {
            "text/plain": [
              "<Figure size 1500x1000 with 6 Axes>"
            ],
            "image/png": "[encoded data removed]"
          },
          "metadata": {}
        }
      ]
    },
    {
      "cell_type": "code",
      "source": [
        "#check for uniqal values in text columns\n",
        "columns_distribution = [ 'brewery_name', 'beer_name', 'beer_style']\n",
        "for column in columns_distribution:\n",
        "    print(column)\n",
        "    print(len(df[column].unique()))\n",
        "    print(df[column].unique())\n",
        "    print()"
      ],
      "metadata": {
        "colab": {
          "base_uri": "https://localhost:8080/"
        },
        "id": "Fum4RiVCNQHf",
        "outputId": "e3b94492-dd71-49ab-a01f-0b64c65200fa"
      },
      "execution_count": 15,
      "outputs": [
        {
          "output_type": "stream",
          "name": "stdout",
          "text": [
            "brewery_name\n",
            "3812\n",
            "['Vecchio Birraio' 'Caldera Brewing Company' 'Amstel Brouwerij B. V.' ...\n",
            " 'Schladminger Brau GmbH' 'Tunnel Brewery Limited'\n",
            " 'Privatbrauerei Friedrich Düll']\n",
            "\n",
            "beer_name\n",
            "33125\n",
            "['Sausa Weizen' 'Red Moon' 'Black Horse Black Beer' ...\n",
            " 'Golden Gorgon Ale' 'Green Man Organic IPA' 'Prometheus IPA']\n",
            "\n",
            "beer_style\n",
            "104\n",
            "['Hefeweizen' 'English Strong Ale' 'Foreign / Export Stout'\n",
            " 'German Pilsener' 'American Double / Imperial IPA' 'Herbed / Spiced Beer'\n",
            " 'Light Lager' 'Oatmeal Stout' 'American Pale Lager' 'Rauchbier'\n",
            " 'American Pale Ale (APA)' 'American Porter' 'Belgian Strong Dark Ale'\n",
            " 'American IPA' 'Russian Imperial Stout' 'American Amber / Red Ale'\n",
            " 'American Strong Ale' 'Märzen / Oktoberfest' 'American Adjunct Lager'\n",
            " 'American Blonde Ale' 'Euro Pale Lager' 'English Brown Ale'\n",
            " 'Fruit / Vegetable Beer' 'Belgian Pale Ale' 'English Bitter'\n",
            " 'English Porter' 'Irish Dry Stout' 'American Barleywine'\n",
            " 'American Double / Imperial Stout' 'Doppelbock' 'American Stout'\n",
            " 'Maibock / Helles Bock' 'Dortmunder / Export Lager' 'Euro Strong Lager'\n",
            " 'Low Alcohol Beer' 'Extra Special / Strong Bitter (ESB)' 'Bock'\n",
            " 'English India Pale Ale (IPA)' 'Altbier' 'Kölsch' 'Pumpkin Ale'\n",
            " 'Rye Beer' 'American Pale Wheat Ale' 'Milk / Sweet Stout' 'Schwarzbier'\n",
            " 'Munich Dunkel Lager' 'Vienna Lager' 'American Amber / Red Lager'\n",
            " 'Scottish Ale' 'Witbier' 'American Black Ale' 'Saison / Farmhouse Ale'\n",
            " 'English Barleywine' 'California Common / Steam Beer' 'Euro Dark Lager'\n",
            " 'Scotch Ale / Wee Heavy' 'English Pale Ale' 'Belgian Strong Pale Ale'\n",
            " 'Tripel' 'Flanders Oud Bruin' 'American Brown Ale' 'Smoked Beer' 'Dubbel'\n",
            " 'Dunkelweizen' 'Keller Bier / Zwickel Bier' 'Winter Warmer'\n",
            " 'Bière de Garde' 'Belgian Dark Ale' 'Irish Red Ale' 'Chile Beer'\n",
            " 'English Stout' 'Czech Pilsener' 'Belgian IPA' 'Cream Ale' 'Black & Tan'\n",
            " 'English Dark Mild Ale' 'American Wild Ale' 'Weizenbock'\n",
            " 'American Double / Imperial Pilsner'\n",
            " 'Scottish Gruit / Ancient Herbed Ale' 'Wheatwine'\n",
            " 'American Dark Wheat Ale' 'American Malt Liquor' 'Munich Helles Lager'\n",
            " 'Kristalweizen' 'English Pale Mild Ale' 'Baltic Porter' 'Old Ale'\n",
            " 'Quadrupel (Quad)' 'Braggot' 'Lambic - Fruit' 'Lambic - Unblended'\n",
            " 'Eisbock' 'Flanders Red Ale' 'Berliner Weissbier' 'Kvass' 'Roggenbier'\n",
            " 'Faro' 'Gueuze' 'Gose' 'Japanese Rice Lager' 'Happoshu' 'Sahti'\n",
            " 'Bière de Champagne / Bière Brut']\n",
            "\n"
          ]
        }
      ]
    },
    {
      "cell_type": "markdown",
      "source": [
        "# Question Analysis"
      ],
      "metadata": {
        "id": "HR9EWWNXO8GL"
      }
    },
    {
      "cell_type": "markdown",
      "source": [
        "## **Question 1**\n",
        "\n",
        "*Which brewery produces the strongest beers by abv?*\n",
        "\n",
        "---\n",
        "\n",
        "\n",
        "\n",
        "There are two ways to solve this problem. First, find the brewery that produced the highest alcohol content beer. Second, find the brewery that produced the highest alcohol content beers on average."
      ],
      "metadata": {
        "id": "wglqpYSmZRk5"
      }
    },
    {
      "cell_type": "code",
      "source": [
        "#First solution - find brewery that produced beer with max abv\n",
        "abv_max = df.groupby(['brewery_name','beer_name']).beer_abv.max().sort_values(ascending=False)\n",
        "abv_max.head(10)\n",
        "\n",
        "#Brewery which produced single beer with max abv is Schorschbräu, and beer: Schorschbräu Schorschbock 57% (57.70 abv)"
      ],
      "metadata": {
        "colab": {
          "base_uri": "https://localhost:8080/",
          "height": 0
        },
        "id": "Sb0MEKzEZ9ER",
        "outputId": "10e71843-4171-41ad-da25-764b64cea739"
      },
      "execution_count": 16,
      "outputs": [
        {
          "output_type": "execute_result",
          "data": {
            "text/plain": [
              "brewery_name                                                beer_name                    \n",
              "Schorschbräu                                                Schorschbräu Schorschbock 57%    57.70\n",
              "                                                            Schorschbräu Schorschbock 43%    43.00\n",
              "BrewDog                                                     Sink The Bismarck!               41.00\n",
              "Schorschbräu                                                Schorschbräu Schorschbock 40%    39.44\n",
              "De Struise Brouwers                                         Black Damnation VI - Messy       39.00\n",
              "BrewDog                                                     Tactical Nuclear Penguin         32.00\n",
              "Schorschbräu                                                Schorschbräu Schorschbock 31%    30.86\n",
              "Hair of the Dog Brewing Company / Brewery and Tasting Room  Dave                             29.00\n",
              "BrewDog                                                     Ghost Deer                       28.00\n",
              "Boston Beer Company (Samuel Adams)                          Samuel Adams Utopias             27.00\n",
              "Name: beer_abv, dtype: float64"
            ],
            "text/html": [
              "<div>\n",
              "<style scoped>\n",
              "    .dataframe tbody tr th:only-of-type {\n",
              "        vertical-align: middle;\n",
              "    }\n",
              "\n",
              "    .dataframe tbody tr th {\n",
              "        vertical-align: top;\n",
              "    }\n",
              "\n",
              "    .dataframe thead th {\n",
              "        text-align: right;\n",
              "    }\n",
              "</style>\n",
              "<table border=\"1\" class=\"dataframe\">\n",
              "  <thead>\n",
              "    <tr style=\"text-align: right;\">\n",
              "      <th></th>\n",
              "      <th></th>\n",
              "      <th>beer_abv</th>\n",
              "    </tr>\n",
              "    <tr>\n",
              "      <th>brewery_name</th>\n",
              "      <th>beer_name</th>\n",
              "      <th></th>\n",
              "    </tr>\n",
              "  </thead>\n",
              "  <tbody>\n",
              "    <tr>\n",
              "      <th rowspan=\"2\" valign=\"top\">Schorschbräu</th>\n",
              "      <th>Schorschbräu Schorschbock 57%</th>\n",
              "      <td>57.70</td>\n",
              "    </tr>\n",
              "    <tr>\n",
              "      <th>Schorschbräu Schorschbock 43%</th>\n",
              "      <td>43.00</td>\n",
              "    </tr>\n",
              "    <tr>\n",
              "      <th>BrewDog</th>\n",
              "      <th>Sink The Bismarck!</th>\n",
              "      <td>41.00</td>\n",
              "    </tr>\n",
              "    <tr>\n",
              "      <th>Schorschbräu</th>\n",
              "      <th>Schorschbräu Schorschbock 40%</th>\n",
              "      <td>39.44</td>\n",
              "    </tr>\n",
              "    <tr>\n",
              "      <th>De Struise Brouwers</th>\n",
              "      <th>Black Damnation VI - Messy</th>\n",
              "      <td>39.00</td>\n",
              "    </tr>\n",
              "    <tr>\n",
              "      <th>BrewDog</th>\n",
              "      <th>Tactical Nuclear Penguin</th>\n",
              "      <td>32.00</td>\n",
              "    </tr>\n",
              "    <tr>\n",
              "      <th>Schorschbräu</th>\n",
              "      <th>Schorschbräu Schorschbock 31%</th>\n",
              "      <td>30.86</td>\n",
              "    </tr>\n",
              "    <tr>\n",
              "      <th>Hair of the Dog Brewing Company / Brewery and Tasting Room</th>\n",
              "      <th>Dave</th>\n",
              "      <td>29.00</td>\n",
              "    </tr>\n",
              "    <tr>\n",
              "      <th>BrewDog</th>\n",
              "      <th>Ghost Deer</th>\n",
              "      <td>28.00</td>\n",
              "    </tr>\n",
              "    <tr>\n",
              "      <th>Boston Beer Company (Samuel Adams)</th>\n",
              "      <th>Samuel Adams Utopias</th>\n",
              "      <td>27.00</td>\n",
              "    </tr>\n",
              "  </tbody>\n",
              "</table>\n",
              "</div><br><label><b>dtype:</b> float64</label>"
            ]
          },
          "metadata": {},
          "execution_count": 16
        }
      ]
    },
    {
      "cell_type": "code",
      "source": [
        "# Second solution - find a store that produces beer with the highest alcohol content on average\n",
        "\n",
        "abv_avg_max = df.groupby(['brewery_id','brewery_name']).beer_abv.mean().sort_values(ascending=False)\n",
        "abv_avg_max.head(10)\n",
        "\n",
        "#Also in this solution, 'win' Schorschbräu brewery"
      ],
      "metadata": {
        "colab": {
          "base_uri": "https://localhost:8080/",
          "height": 0
        },
        "id": "DknRY4gKeDIW",
        "outputId": "ebc62730-0db7-492a-aaa5-e7e3bb5f9685"
      },
      "execution_count": 17,
      "outputs": [
        {
          "output_type": "execute_result",
          "data": {
            "text/plain": [
              "brewery_id  brewery_name                                       \n",
              "6513        Schorschbräu                                           19.228824\n",
              "736         Hurlimann Brewery                                      13.750000\n",
              "10038       Alt-Oberurseler Brauhaus                               13.200000\n",
              "24215       Monks Porter House                                     12.466667\n",
              "36          Brasserie Grain d' Orge (Brasserie Jeanne d'Arc SA)    12.445860\n",
              "3452        Tugboat Brewing Company                                12.187500\n",
              "19602       Snowy Mountain Brewery                                 12.000000\n",
              "593         Morgan Street Brewery                                  12.000000\n",
              "23345       Rinkuki&#371; Aluas Darykla                           12.000000\n",
              "21678       United Brands Company                                  12.000000\n",
              "Name: beer_abv, dtype: float64"
            ],
            "text/html": [
              "<div>\n",
              "<style scoped>\n",
              "    .dataframe tbody tr th:only-of-type {\n",
              "        vertical-align: middle;\n",
              "    }\n",
              "\n",
              "    .dataframe tbody tr th {\n",
              "        vertical-align: top;\n",
              "    }\n",
              "\n",
              "    .dataframe thead th {\n",
              "        text-align: right;\n",
              "    }\n",
              "</style>\n",
              "<table border=\"1\" class=\"dataframe\">\n",
              "  <thead>\n",
              "    <tr style=\"text-align: right;\">\n",
              "      <th></th>\n",
              "      <th></th>\n",
              "      <th>beer_abv</th>\n",
              "    </tr>\n",
              "    <tr>\n",
              "      <th>brewery_id</th>\n",
              "      <th>brewery_name</th>\n",
              "      <th></th>\n",
              "    </tr>\n",
              "  </thead>\n",
              "  <tbody>\n",
              "    <tr>\n",
              "      <th>6513</th>\n",
              "      <th>Schorschbräu</th>\n",
              "      <td>19.228824</td>\n",
              "    </tr>\n",
              "    <tr>\n",
              "      <th>736</th>\n",
              "      <th>Hurlimann Brewery</th>\n",
              "      <td>13.750000</td>\n",
              "    </tr>\n",
              "    <tr>\n",
              "      <th>10038</th>\n",
              "      <th>Alt-Oberurseler Brauhaus</th>\n",
              "      <td>13.200000</td>\n",
              "    </tr>\n",
              "    <tr>\n",
              "      <th>24215</th>\n",
              "      <th>Monks Porter House</th>\n",
              "      <td>12.466667</td>\n",
              "    </tr>\n",
              "    <tr>\n",
              "      <th>36</th>\n",
              "      <th>Brasserie Grain d' Orge (Brasserie Jeanne d'Arc SA)</th>\n",
              "      <td>12.445860</td>\n",
              "    </tr>\n",
              "    <tr>\n",
              "      <th>3452</th>\n",
              "      <th>Tugboat Brewing Company</th>\n",
              "      <td>12.187500</td>\n",
              "    </tr>\n",
              "    <tr>\n",
              "      <th>19602</th>\n",
              "      <th>Snowy Mountain Brewery</th>\n",
              "      <td>12.000000</td>\n",
              "    </tr>\n",
              "    <tr>\n",
              "      <th>593</th>\n",
              "      <th>Morgan Street Brewery</th>\n",
              "      <td>12.000000</td>\n",
              "    </tr>\n",
              "    <tr>\n",
              "      <th>23345</th>\n",
              "      <th>Rinkuki&amp;#371; Aluas Darykla</th>\n",
              "      <td>12.000000</td>\n",
              "    </tr>\n",
              "    <tr>\n",
              "      <th>21678</th>\n",
              "      <th>United Brands Company</th>\n",
              "      <td>12.000000</td>\n",
              "    </tr>\n",
              "  </tbody>\n",
              "</table>\n",
              "</div><br><label><b>dtype:</b> float64</label>"
            ]
          },
          "metadata": {},
          "execution_count": 17
        }
      ]
    },
    {
      "cell_type": "code",
      "source": [
        "#Additionally, if we take into account the number of beers in each brewery (e.g. more than 3),\n",
        "#the answer for the top 3 breweries will be different (2nd and 3rd place will change, 1st place will be the same).\n",
        "\n",
        "unique_brewery = df[['brewery_name', 'beer_name', 'beer_abv']].drop_duplicates()\n",
        "unique_brewery_count = unique_brewery.groupby(['brewery_name']).agg({'beer_name': ['count'], 'beer_abv': ['mean']}).sort_values(by =('beer_abv', 'mean'), ascending=False )\n",
        "unique_brewery_count[unique_brewery_count[('beer_name', 'count')]>3].head(5)\n",
        "\n",
        "\n"
      ],
      "metadata": {
        "colab": {
          "base_uri": "https://localhost:8080/",
          "height": 0
        },
        "id": "Y9Z2O_B90EXM",
        "outputId": "596494d5-c0cd-421c-b2a5-a59f1766eaa9"
      },
      "execution_count": 18,
      "outputs": [
        {
          "output_type": "execute_result",
          "data": {
            "text/plain": [
              "                         beer_name   beer_abv\n",
              "                             count       mean\n",
              "brewery_name                                 \n",
              "Schorschbräu                    10  24.690000\n",
              "AleSmith Brewing Company        52  10.165769\n",
              "De Struise Brouwers             46  10.130435\n",
              "Sherbrooke Liquor Store          7  10.000000\n",
              "Pacific Rim Brewing Co.          4   9.825000"
            ],
            "text/html": [
              "\n",
              "  <div id=\"df-1b7d17f2-a377-4ad6-b8c1-d70a9c72e01b\" class=\"colab-df-container\">\n",
              "    <div>\n",
              "<style scoped>\n",
              "    .dataframe tbody tr th:only-of-type {\n",
              "        vertical-align: middle;\n",
              "    }\n",
              "\n",
              "    .dataframe tbody tr th {\n",
              "        vertical-align: top;\n",
              "    }\n",
              "\n",
              "    .dataframe thead tr th {\n",
              "        text-align: left;\n",
              "    }\n",
              "\n",
              "    .dataframe thead tr:last-of-type th {\n",
              "        text-align: right;\n",
              "    }\n",
              "</style>\n",
              "<table border=\"1\" class=\"dataframe\">\n",
              "  <thead>\n",
              "    <tr>\n",
              "      <th></th>\n",
              "      <th>beer_name</th>\n",
              "      <th>beer_abv</th>\n",
              "    </tr>\n",
              "    <tr>\n",
              "      <th></th>\n",
              "      <th>count</th>\n",
              "      <th>mean</th>\n",
              "    </tr>\n",
              "    <tr>\n",
              "      <th>brewery_name</th>\n",
              "      <th></th>\n",
              "      <th></th>\n",
              "    </tr>\n",
              "  </thead>\n",
              "  <tbody>\n",
              "    <tr>\n",
              "      <th>Schorschbräu</th>\n",
              "      <td>10</td>\n",
              "      <td>24.690000</td>\n",
              "    </tr>\n",
              "    <tr>\n",
              "      <th>AleSmith Brewing Company</th>\n",
              "      <td>52</td>\n",
              "      <td>10.165769</td>\n",
              "    </tr>\n",
              "    <tr>\n",
              "      <th>De Struise Brouwers</th>\n",
              "      <td>46</td>\n",
              "      <td>10.130435</td>\n",
              "    </tr>\n",
              "    <tr>\n",
              "      <th>Sherbrooke Liquor Store</th>\n",
              "      <td>7</td>\n",
              "      <td>10.000000</td>\n",
              "    </tr>\n",
              "    <tr>\n",
              "      <th>Pacific Rim Brewing Co.</th>\n",
              "      <td>4</td>\n",
              "      <td>9.825000</td>\n",
              "    </tr>\n",
              "  </tbody>\n",
              "</table>\n",
              "</div>\n",
              "    <div class=\"colab-df-buttons\">\n",
              "\n",
              "  <div class=\"colab-df-container\">\n",
              "    <button class=\"colab-df-convert\" onclick=\"convertToInteractive('df-1b7d17f2-a377-4ad6-b8c1-d70a9c72e01b')\"\n",
              "            title=\"Convert this dataframe to an interactive table.\"\n",
              "            style=\"display:none;\">\n",
              "\n",
              "  <svg xmlns=\"http://www.w3.org/2000/svg\" height=\"24px\" viewBox=\"0 -960 960 960\">\n",
              "    <path d=\"M120-120v-720h720v720H120Zm60-500h600v-160H180v160Zm220 220h160v-160H400v160Zm0 220h160v-160H400v160ZM180-400h160v-160H180v160Zm440 0h160v-160H620v160ZM180-180h160v-160H180v160Zm440 0h160v-160H620v160Z\"/>\n",
              "  </svg>\n",
              "    </button>\n",
              "\n",
              "  <style>\n",
              "    .colab-df-container {\n",
              "      display:flex;\n",
              "      gap: 12px;\n",
              "    }\n",
              "\n",
              "    .colab-df-convert {\n",
              "      background-color: #E8F0FE;\n",
              "      border: none;\n",
              "      border-radius: 50%;\n",
              "      cursor: pointer;\n",
              "      display: none;\n",
              "      fill: #1967D2;\n",
              "      height: 32px;\n",
              "      padding: 0 0 0 0;\n",
              "      width: 32px;\n",
              "    }\n",
              "\n",
              "    .colab-df-convert:hover {\n",
              "      background-color: #E2EBFA;\n",
              "      box-shadow: 0px 1px 2px rgba(60, 64, 67, 0.3), 0px 1px 3px 1px rgba(60, 64, 67, 0.15);\n",
              "      fill: #174EA6;\n",
              "    }\n",
              "\n",
              "    .colab-df-buttons div {\n",
              "      margin-bottom: 4px;\n",
              "    }\n",
              "\n",
              "    [theme=dark] .colab-df-convert {\n",
              "      background-color: #3B4455;\n",
              "      fill: #D2E3FC;\n",
              "    }\n",
              "\n",
              "    [theme=dark] .colab-df-convert:hover {\n",
              "      background-color: #434B5C;\n",
              "      box-shadow: 0px 1px 3px 1px rgba(0, 0, 0, 0.15);\n",
              "      filter: drop-shadow(0px 1px 2px rgba(0, 0, 0, 0.3));\n",
              "      fill: #FFFFFF;\n",
              "    }\n",
              "  </style>\n",
              "\n",
              "    <script>\n",
              "      const buttonEl =\n",
              "        document.querySelector('#df-1b7d17f2-a377-4ad6-b8c1-d70a9c72e01b button.colab-df-convert');\n",
              "      buttonEl.style.display =\n",
              "        google.colab.kernel.accessAllowed ? 'block' : 'none';\n",
              "\n",
              "      async function convertToInteractive(key) {\n",
              "        const element = document.querySelector('#df-1b7d17f2-a377-4ad6-b8c1-d70a9c72e01b');\n",
              "        const dataTable =\n",
              "          await google.colab.kernel.invokeFunction('convertToInteractive',\n",
              "                                                    [key], {});\n",
              "        if (!dataTable) return;\n",
              "\n",
              "        const docLinkHtml = 'Like what you see? Visit the ' +\n",
              "          '<a target=\"_blank\" href=https://colab.research.google.com/notebooks/data_table.ipynb>data table notebook</a>'\n",
              "          + ' to learn more about interactive tables.';\n",
              "        element.innerHTML = '';\n",
              "        dataTable['output_type'] = 'display_data';\n",
              "        await google.colab.output.renderOutput(dataTable, element);\n",
              "        const docLink = document.createElement('div');\n",
              "        docLink.innerHTML = docLinkHtml;\n",
              "        element.appendChild(docLink);\n",
              "      }\n",
              "    </script>\n",
              "  </div>\n",
              "\n",
              "\n",
              "<div id=\"df-cf7304f4-c15b-476c-90a9-8e2671e49306\">\n",
              "  <button class=\"colab-df-quickchart\" onclick=\"quickchart('df-cf7304f4-c15b-476c-90a9-8e2671e49306')\"\n",
              "            title=\"Suggest charts\"\n",
              "            style=\"display:none;\">\n",
              "\n",
              "<svg xmlns=\"http://www.w3.org/2000/svg\" height=\"24px\"viewBox=\"0 0 24 24\"\n",
              "     width=\"24px\">\n",
              "    <g>\n",
              "        <path d=\"M19 3H5c-1.1 0-2 .9-2 2v14c0 1.1.9 2 2 2h14c1.1 0 2-.9 2-2V5c0-1.1-.9-2-2-2zM9 17H7v-7h2v7zm4 0h-2V7h2v10zm4 0h-2v-4h2v4z\"/>\n",
              "    </g>\n",
              "</svg>\n",
              "  </button>\n",
              "\n",
              "<style>\n",
              "  .colab-df-quickchart {\n",
              "      --bg-color: #E8F0FE;\n",
              "      --fill-color: #1967D2;\n",
              "      --hover-bg-color: #E2EBFA;\n",
              "      --hover-fill-color: #174EA6;\n",
              "      --disabled-fill-color: #AAA;\n",
              "      --disabled-bg-color: #DDD;\n",
              "  }\n",
              "\n",
              "  [theme=dark] .colab-df-quickchart {\n",
              "      --bg-color: #3B4455;\n",
              "      --fill-color: #D2E3FC;\n",
              "      --hover-bg-color: #434B5C;\n",
              "      --hover-fill-color: #FFFFFF;\n",
              "      --disabled-bg-color: #3B4455;\n",
              "      --disabled-fill-color: #666;\n",
              "  }\n",
              "\n",
              "  .colab-df-quickchart {\n",
              "    background-color: var(--bg-color);\n",
              "    border: none;\n",
              "    border-radius: 50%;\n",
              "    cursor: pointer;\n",
              "    display: none;\n",
              "    fill: var(--fill-color);\n",
              "    height: 32px;\n",
              "    padding: 0;\n",
              "    width: 32px;\n",
              "  }\n",
              "\n",
              "  .colab-df-quickchart:hover {\n",
              "    background-color: var(--hover-bg-color);\n",
              "    box-shadow: 0 1px 2px rgba(60, 64, 67, 0.3), 0 1px 3px 1px rgba(60, 64, 67, 0.15);\n",
              "    fill: var(--button-hover-fill-color);\n",
              "  }\n",
              "\n",
              "  .colab-df-quickchart-complete:disabled,\n",
              "  .colab-df-quickchart-complete:disabled:hover {\n",
              "    background-color: var(--disabled-bg-color);\n",
              "    fill: var(--disabled-fill-color);\n",
              "    box-shadow: none;\n",
              "  }\n",
              "\n",
              "  .colab-df-spinner {\n",
              "    border: 2px solid var(--fill-color);\n",
              "    border-color: transparent;\n",
              "    border-bottom-color: var(--fill-color);\n",
              "    animation:\n",
              "      spin 1s steps(1) infinite;\n",
              "  }\n",
              "\n",
              "  @keyframes spin {\n",
              "    0% {\n",
              "      border-color: transparent;\n",
              "      border-bottom-color: var(--fill-color);\n",
              "      border-left-color: var(--fill-color);\n",
              "    }\n",
              "    20% {\n",
              "      border-color: transparent;\n",
              "      border-left-color: var(--fill-color);\n",
              "      border-top-color: var(--fill-color);\n",
              "    }\n",
              "    30% {\n",
              "      border-color: transparent;\n",
              "      border-left-color: var(--fill-color);\n",
              "      border-top-color: var(--fill-color);\n",
              "      border-right-color: var(--fill-color);\n",
              "    }\n",
              "    40% {\n",
              "      border-color: transparent;\n",
              "      border-right-color: var(--fill-color);\n",
              "      border-top-color: var(--fill-color);\n",
              "    }\n",
              "    60% {\n",
              "      border-color: transparent;\n",
              "      border-right-color: var(--fill-color);\n",
              "    }\n",
              "    80% {\n",
              "      border-color: transparent;\n",
              "      border-right-color: var(--fill-color);\n",
              "      border-bottom-color: var(--fill-color);\n",
              "    }\n",
              "    90% {\n",
              "      border-color: transparent;\n",
              "      border-bottom-color: var(--fill-color);\n",
              "    }\n",
              "  }\n",
              "</style>\n",
              "\n",
              "  <script>\n",
              "    async function quickchart(key) {\n",
              "      const quickchartButtonEl =\n",
              "        document.querySelector('#' + key + ' button');\n",
              "      quickchartButtonEl.disabled = true;  // To prevent multiple clicks.\n",
              "      quickchartButtonEl.classList.add('colab-df-spinner');\n",
              "      try {\n",
              "        const charts = await google.colab.kernel.invokeFunction(\n",
              "            'suggestCharts', [key], {});\n",
              "      } catch (error) {\n",
              "        console.error('Error during call to suggestCharts:', error);\n",
              "      }\n",
              "      quickchartButtonEl.classList.remove('colab-df-spinner');\n",
              "      quickchartButtonEl.classList.add('colab-df-quickchart-complete');\n",
              "    }\n",
              "    (() => {\n",
              "      let quickchartButtonEl =\n",
              "        document.querySelector('#df-cf7304f4-c15b-476c-90a9-8e2671e49306 button');\n",
              "      quickchartButtonEl.style.display =\n",
              "        google.colab.kernel.accessAllowed ? 'block' : 'none';\n",
              "    })();\n",
              "  </script>\n",
              "</div>\n",
              "\n",
              "    </div>\n",
              "  </div>\n"
            ],
            "application/vnd.google.colaboratory.intrinsic+json": {
              "type": "dataframe",
              "summary": "{\n  \"name\": \"unique_brewery_count[unique_brewery_count[('beer_name', 'count')]>3]\",\n  \"rows\": 5,\n  \"fields\": [\n    {\n      \"column\": [\n        \"brewery_name\",\n        \"\"\n      ],\n      \"properties\": {\n        \"dtype\": \"string\",\n        \"num_unique_values\": 5,\n        \"samples\": [\n          \"AleSmith Brewing Company\",\n          \"Pacific Rim Brewing Co.\",\n          \"De Struise Brouwers\"\n        ],\n        \"semantic_type\": \"\",\n        \"description\": \"\"\n      }\n    },\n    {\n      \"column\": [\n        \"beer_name\",\n        \"count\"\n      ],\n      \"properties\": {\n        \"dtype\": \"number\",\n        \"std\": 23,\n        \"min\": 4,\n        \"max\": 52,\n        \"num_unique_values\": 5,\n        \"samples\": [\n          52,\n          4,\n          46\n        ],\n        \"semantic_type\": \"\",\n        \"description\": \"\"\n      }\n    },\n    {\n      \"column\": [\n        \"beer_abv\",\n        \"mean\"\n      ],\n      \"properties\": {\n        \"dtype\": \"number\",\n        \"std\": 6.557378759939134,\n        \"min\": 9.825,\n        \"max\": 24.69,\n        \"num_unique_values\": 5,\n        \"samples\": [\n          10.16576923076923,\n          9.825,\n          10.130434782608695\n        ],\n        \"semantic_type\": \"\",\n        \"description\": \"\"\n      }\n    }\n  ]\n}"
            }
          },
          "metadata": {},
          "execution_count": 18
        }
      ]
    },
    {
      "cell_type": "markdown",
      "source": [
        "## **Question 2**\n",
        "\n",
        "*If you had to choose 3 beers to recommend to someone, how would you approach this problem?*\n",
        "\n",
        "---\n",
        "\n",
        "\n",
        "To choose the best beer to recommend, the overall rating of a given beer review_overall may be useful. It can be assumed that it will be the resultant of other ratings: review_palate, review_taste, review_aroma, review_appearance."
      ],
      "metadata": {
        "id": "I5PoLlUn7k-I"
      }
    },
    {
      "cell_type": "code",
      "source": [
        "#First, I check review_overall mean for every single beer\n",
        "df.groupby(['beer_name']).review_overall.mean().sort_values(ascending=False).head(10)  #there is a lot of beer (436) with mean 5\n",
        "                                                                                       #In this case, number of reviews will be good way to choose the best beer to recomend\n",
        "\n"
      ],
      "metadata": {
        "colab": {
          "base_uri": "https://localhost:8080/",
          "height": 0
        },
        "id": "MsZlfpD6m53r",
        "outputId": "b82011b4-5ab9-4564-d1f5-fe8193922fca"
      },
      "execution_count": 19,
      "outputs": [
        {
          "output_type": "execute_result",
          "data": {
            "text/plain": [
              "beer_name\n",
              "Trukker Ur-Pils                                      5.0\n",
              "Wild Bill's Session IPA                              5.0\n",
              "Javaspresso Nitro Stout                              5.0\n",
              "Emperor Wolf                                         5.0\n",
              "Empire Doppelbock                                    5.0\n",
              "Mother Pucker                                        5.0\n",
              "Kitzmann Leichtes Weissbier                          5.0\n",
              "Ohota Extra Light                                    5.0\n",
              "The Kernel/Redemption Number One Strong Dark Mild    5.0\n",
              "Legally Red                                          5.0\n",
              "Name: review_overall, dtype: float64"
            ],
            "text/html": [
              "<div>\n",
              "<style scoped>\n",
              "    .dataframe tbody tr th:only-of-type {\n",
              "        vertical-align: middle;\n",
              "    }\n",
              "\n",
              "    .dataframe tbody tr th {\n",
              "        vertical-align: top;\n",
              "    }\n",
              "\n",
              "    .dataframe thead th {\n",
              "        text-align: right;\n",
              "    }\n",
              "</style>\n",
              "<table border=\"1\" class=\"dataframe\">\n",
              "  <thead>\n",
              "    <tr style=\"text-align: right;\">\n",
              "      <th></th>\n",
              "      <th>review_overall</th>\n",
              "    </tr>\n",
              "    <tr>\n",
              "      <th>beer_name</th>\n",
              "      <th></th>\n",
              "    </tr>\n",
              "  </thead>\n",
              "  <tbody>\n",
              "    <tr>\n",
              "      <th>Trukker Ur-Pils</th>\n",
              "      <td>5.0</td>\n",
              "    </tr>\n",
              "    <tr>\n",
              "      <th>Wild Bill's Session IPA</th>\n",
              "      <td>5.0</td>\n",
              "    </tr>\n",
              "    <tr>\n",
              "      <th>Javaspresso Nitro Stout</th>\n",
              "      <td>5.0</td>\n",
              "    </tr>\n",
              "    <tr>\n",
              "      <th>Emperor Wolf</th>\n",
              "      <td>5.0</td>\n",
              "    </tr>\n",
              "    <tr>\n",
              "      <th>Empire Doppelbock</th>\n",
              "      <td>5.0</td>\n",
              "    </tr>\n",
              "    <tr>\n",
              "      <th>Mother Pucker</th>\n",
              "      <td>5.0</td>\n",
              "    </tr>\n",
              "    <tr>\n",
              "      <th>Kitzmann Leichtes Weissbier</th>\n",
              "      <td>5.0</td>\n",
              "    </tr>\n",
              "    <tr>\n",
              "      <th>Ohota Extra Light</th>\n",
              "      <td>5.0</td>\n",
              "    </tr>\n",
              "    <tr>\n",
              "      <th>The Kernel/Redemption Number One Strong Dark Mild</th>\n",
              "      <td>5.0</td>\n",
              "    </tr>\n",
              "    <tr>\n",
              "      <th>Legally Red</th>\n",
              "      <td>5.0</td>\n",
              "    </tr>\n",
              "  </tbody>\n",
              "</table>\n",
              "</div><br><label><b>dtype:</b> float64</label>"
            ]
          },
          "metadata": {},
          "execution_count": 19
        }
      ]
    },
    {
      "cell_type": "code",
      "source": [
        "#histogram for all beer\n",
        "overall_mean = df.groupby(['beer_name']).review_overall.mean().sort_values(ascending=False)\n",
        "overall_mean.hist(legend = True )\n"
      ],
      "metadata": {
        "colab": {
          "base_uri": "https://localhost:8080/",
          "height": 0
        },
        "collapsed": true,
        "id": "zuEmuq_1oa2J",
        "outputId": "65801d83-42f4-496d-89b1-8db383903705"
      },
      "execution_count": 20,
      "outputs": [
        {
          "output_type": "execute_result",
          "data": {
            "text/plain": [
              "<Axes: >"
            ]
          },
          "metadata": {},
          "execution_count": 20
        },
        {
          "output_type": "display_data",
          "data": {
            "text/plain": [
              "<Figure size 640x480 with 1 Axes>"
            ],
            "image/png": "[encoded data removed]"
          },
          "metadata": {}
        }
      ]
    },
    {
      "cell_type": "code",
      "source": [
        "#number of rating\n",
        "mean_count = df.groupby(['beer_name']).agg({'review_overall': ['mean', 'count']}).rename(columns={'mean': 'mean_review_overall', 'count': 'count_review_overall'}).sort_values(by=[('review_overall', 'mean_review_overall')],ascending=False)\n",
        "mean_count.head(15)"
      ],
      "metadata": {
        "colab": {
          "base_uri": "https://localhost:8080/",
          "height": 0
        },
        "id": "51LzheuwKPhY",
        "outputId": "02491b8d-0fe7-44fa-9235-20217a1b5710"
      },
      "execution_count": 21,
      "outputs": [
        {
          "output_type": "execute_result",
          "data": {
            "text/plain": [
              "                                                       review_overall  \\\n",
              "                                                  mean_review_overall   \n",
              "beer_name                                                               \n",
              "Trukker Ur-Pils                                                   5.0   \n",
              "Wild Bill's Session IPA                                           5.0   \n",
              "Javaspresso Nitro Stout                                           5.0   \n",
              "Emperor Wolf                                                      5.0   \n",
              "Empire Doppelbock                                                 5.0   \n",
              "Mother Pucker                                                     5.0   \n",
              "Kitzmann Leichtes Weissbier                                       5.0   \n",
              "Ohota Extra Light                                                 5.0   \n",
              "The Kernel/Redemption Number One Strong Dark Mild                 5.0   \n",
              "Legally Red                                                       5.0   \n",
              "All About Amber                                                   5.0   \n",
              "Galaxy Golden Ale                                                 5.0   \n",
              "Ossett Light Ale                                                  5.0   \n",
              "Centenial                                                         5.0   \n",
              "Leichtbier                                                        5.0   \n",
              "\n",
              "                                                                        \n",
              "                                                  count_review_overall  \n",
              "beer_name                                                               \n",
              "Trukker Ur-Pils                                                      1  \n",
              "Wild Bill's Session IPA                                              1  \n",
              "Javaspresso Nitro Stout                                              1  \n",
              "Emperor Wolf                                                         1  \n",
              "Empire Doppelbock                                                    1  \n",
              "Mother Pucker                                                        1  \n",
              "Kitzmann Leichtes Weissbier                                          1  \n",
              "Ohota Extra Light                                                    1  \n",
              "The Kernel/Redemption Number One Strong Dark Mild                    1  \n",
              "Legally Red                                                          1  \n",
              "All About Amber                                                      1  \n",
              "Galaxy Golden Ale                                                    1  \n",
              "Ossett Light Ale                                                     1  \n",
              "Centenial                                                            1  \n",
              "Leichtbier                                                           1  "
            ],
            "text/html": [
              "\n",
              "  <div id=\"df-ef1777e7-380b-46d0-a2e4-dd16f9a550e7\" class=\"colab-df-container\">\n",
              "    <div>\n",
              "<style scoped>\n",
              "    .dataframe tbody tr th:only-of-type {\n",
              "        vertical-align: middle;\n",
              "    }\n",
              "\n",
              "    .dataframe tbody tr th {\n",
              "        vertical-align: top;\n",
              "    }\n",
              "\n",
              "    .dataframe thead tr th {\n",
              "        text-align: left;\n",
              "    }\n",
              "\n",
              "    .dataframe thead tr:last-of-type th {\n",
              "        text-align: right;\n",
              "    }\n",
              "</style>\n",
              "<table border=\"1\" class=\"dataframe\">\n",
              "  <thead>\n",
              "    <tr>\n",
              "      <th></th>\n",
              "      <th colspan=\"2\" halign=\"left\">review_overall</th>\n",
              "    </tr>\n",
              "    <tr>\n",
              "      <th></th>\n",
              "      <th>mean_review_overall</th>\n",
              "      <th>count_review_overall</th>\n",
              "    </tr>\n",
              "    <tr>\n",
              "      <th>beer_name</th>\n",
              "      <th></th>\n",
              "      <th></th>\n",
              "    </tr>\n",
              "  </thead>\n",
              "  <tbody>\n",
              "    <tr>\n",
              "      <th>Trukker Ur-Pils</th>\n",
              "      <td>5.0</td>\n",
              "      <td>1</td>\n",
              "    </tr>\n",
              "    <tr>\n",
              "      <th>Wild Bill's Session IPA</th>\n",
              "      <td>5.0</td>\n",
              "      <td>1</td>\n",
              "    </tr>\n",
              "    <tr>\n",
              "      <th>Javaspresso Nitro Stout</th>\n",
              "      <td>5.0</td>\n",
              "      <td>1</td>\n",
              "    </tr>\n",
              "    <tr>\n",
              "      <th>Emperor Wolf</th>\n",
              "      <td>5.0</td>\n",
              "      <td>1</td>\n",
              "    </tr>\n",
              "    <tr>\n",
              "      <th>Empire Doppelbock</th>\n",
              "      <td>5.0</td>\n",
              "      <td>1</td>\n",
              "    </tr>\n",
              "    <tr>\n",
              "      <th>Mother Pucker</th>\n",
              "      <td>5.0</td>\n",
              "      <td>1</td>\n",
              "    </tr>\n",
              "    <tr>\n",
              "      <th>Kitzmann Leichtes Weissbier</th>\n",
              "      <td>5.0</td>\n",
              "      <td>1</td>\n",
              "    </tr>\n",
              "    <tr>\n",
              "      <th>Ohota Extra Light</th>\n",
              "      <td>5.0</td>\n",
              "      <td>1</td>\n",
              "    </tr>\n",
              "    <tr>\n",
              "      <th>The Kernel/Redemption Number One Strong Dark Mild</th>\n",
              "      <td>5.0</td>\n",
              "      <td>1</td>\n",
              "    </tr>\n",
              "    <tr>\n",
              "      <th>Legally Red</th>\n",
              "      <td>5.0</td>\n",
              "      <td>1</td>\n",
              "    </tr>\n",
              "    <tr>\n",
              "      <th>All About Amber</th>\n",
              "      <td>5.0</td>\n",
              "      <td>1</td>\n",
              "    </tr>\n",
              "    <tr>\n",
              "      <th>Galaxy Golden Ale</th>\n",
              "      <td>5.0</td>\n",
              "      <td>1</td>\n",
              "    </tr>\n",
              "    <tr>\n",
              "      <th>Ossett Light Ale</th>\n",
              "      <td>5.0</td>\n",
              "      <td>1</td>\n",
              "    </tr>\n",
              "    <tr>\n",
              "      <th>Centenial</th>\n",
              "      <td>5.0</td>\n",
              "      <td>1</td>\n",
              "    </tr>\n",
              "    <tr>\n",
              "      <th>Leichtbier</th>\n",
              "      <td>5.0</td>\n",
              "      <td>1</td>\n",
              "    </tr>\n",
              "  </tbody>\n",
              "</table>\n",
              "</div>\n",
              "    <div class=\"colab-df-buttons\">\n",
              "\n",
              "  <div class=\"colab-df-container\">\n",
              "    <button class=\"colab-df-convert\" onclick=\"convertToInteractive('df-ef1777e7-380b-46d0-a2e4-dd16f9a550e7')\"\n",
              "            title=\"Convert this dataframe to an interactive table.\"\n",
              "            style=\"display:none;\">\n",
              "\n",
              "  <svg xmlns=\"http://www.w3.org/2000/svg\" height=\"24px\" viewBox=\"0 -960 960 960\">\n",
              "    <path d=\"M120-120v-720h720v720H120Zm60-500h600v-160H180v160Zm220 220h160v-160H400v160Zm0 220h160v-160H400v160ZM180-400h160v-160H180v160Zm440 0h160v-160H620v160ZM180-180h160v-160H180v160Zm440 0h160v-160H620v160Z\"/>\n",
              "  </svg>\n",
              "    </button>\n",
              "\n",
              "  <style>\n",
              "    .colab-df-container {\n",
              "      display:flex;\n",
              "      gap: 12px;\n",
              "    }\n",
              "\n",
              "    .colab-df-convert {\n",
              "      background-color: #E8F0FE;\n",
              "      border: none;\n",
              "      border-radius: 50%;\n",
              "      cursor: pointer;\n",
              "      display: none;\n",
              "      fill: #1967D2;\n",
              "      height: 32px;\n",
              "      padding: 0 0 0 0;\n",
              "      width: 32px;\n",
              "    }\n",
              "\n",
              "    .colab-df-convert:hover {\n",
              "      background-color: #E2EBFA;\n",
              "      box-shadow: 0px 1px 2px rgba(60, 64, 67, 0.3), 0px 1px 3px 1px rgba(60, 64, 67, 0.15);\n",
              "      fill: #174EA6;\n",
              "    }\n",
              "\n",
              "    .colab-df-buttons div {\n",
              "      margin-bottom: 4px;\n",
              "    }\n",
              "\n",
              "    [theme=dark] .colab-df-convert {\n",
              "      background-color: #3B4455;\n",
              "      fill: #D2E3FC;\n",
              "    }\n",
              "\n",
              "    [theme=dark] .colab-df-convert:hover {\n",
              "      background-color: #434B5C;\n",
              "      box-shadow: 0px 1px 3px 1px rgba(0, 0, 0, 0.15);\n",
              "      filter: drop-shadow(0px 1px 2px rgba(0, 0, 0, 0.3));\n",
              "      fill: #FFFFFF;\n",
              "    }\n",
              "  </style>\n",
              "\n",
              "    <script>\n",
              "      const buttonEl =\n",
              "        document.querySelector('#df-ef1777e7-380b-46d0-a2e4-dd16f9a550e7 button.colab-df-convert');\n",
              "      buttonEl.style.display =\n",
              "        google.colab.kernel.accessAllowed ? 'block' : 'none';\n",
              "\n",
              "      async function convertToInteractive(key) {\n",
              "        const element = document.querySelector('#df-ef1777e7-380b-46d0-a2e4-dd16f9a550e7');\n",
              "        const dataTable =\n",
              "          await google.colab.kernel.invokeFunction('convertToInteractive',\n",
              "                                                    [key], {});\n",
              "        if (!dataTable) return;\n",
              "\n",
              "        const docLinkHtml = 'Like what you see? Visit the ' +\n",
              "          '<a target=\"_blank\" href=https://colab.research.google.com/notebooks/data_table.ipynb>data table notebook</a>'\n",
              "          + ' to learn more about interactive tables.';\n",
              "        element.innerHTML = '';\n",
              "        dataTable['output_type'] = 'display_data';\n",
              "        await google.colab.output.renderOutput(dataTable, element);\n",
              "        const docLink = document.createElement('div');\n",
              "        docLink.innerHTML = docLinkHtml;\n",
              "        element.appendChild(docLink);\n",
              "      }\n",
              "    </script>\n",
              "  </div>\n",
              "\n",
              "\n",
              "<div id=\"df-07df6e10-e91a-4a35-9cfd-89cade255f45\">\n",
              "  <button class=\"colab-df-quickchart\" onclick=\"quickchart('df-07df6e10-e91a-4a35-9cfd-89cade255f45')\"\n",
              "            title=\"Suggest charts\"\n",
              "            style=\"display:none;\">\n",
              "\n",
              "<svg xmlns=\"http://www.w3.org/2000/svg\" height=\"24px\"viewBox=\"0 0 24 24\"\n",
              "     width=\"24px\">\n",
              "    <g>\n",
              "        <path d=\"M19 3H5c-1.1 0-2 .9-2 2v14c0 1.1.9 2 2 2h14c1.1 0 2-.9 2-2V5c0-1.1-.9-2-2-2zM9 17H7v-7h2v7zm4 0h-2V7h2v10zm4 0h-2v-4h2v4z\"/>\n",
              "    </g>\n",
              "</svg>\n",
              "  </button>\n",
              "\n",
              "<style>\n",
              "  .colab-df-quickchart {\n",
              "      --bg-color: #E8F0FE;\n",
              "      --fill-color: #1967D2;\n",
              "      --hover-bg-color: #E2EBFA;\n",
              "      --hover-fill-color: #174EA6;\n",
              "      --disabled-fill-color: #AAA;\n",
              "      --disabled-bg-color: #DDD;\n",
              "  }\n",
              "\n",
              "  [theme=dark] .colab-df-quickchart {\n",
              "      --bg-color: #3B4455;\n",
              "      --fill-color: #D2E3FC;\n",
              "      --hover-bg-color: #434B5C;\n",
              "      --hover-fill-color: #FFFFFF;\n",
              "      --disabled-bg-color: #3B4455;\n",
              "      --disabled-fill-color: #666;\n",
              "  }\n",
              "\n",
              "  .colab-df-quickchart {\n",
              "    background-color: var(--bg-color);\n",
              "    border: none;\n",
              "    border-radius: 50%;\n",
              "    cursor: pointer;\n",
              "    display: none;\n",
              "    fill: var(--fill-color);\n",
              "    height: 32px;\n",
              "    padding: 0;\n",
              "    width: 32px;\n",
              "  }\n",
              "\n",
              "  .colab-df-quickchart:hover {\n",
              "    background-color: var(--hover-bg-color);\n",
              "    box-shadow: 0 1px 2px rgba(60, 64, 67, 0.3), 0 1px 3px 1px rgba(60, 64, 67, 0.15);\n",
              "    fill: var(--button-hover-fill-color);\n",
              "  }\n",
              "\n",
              "  .colab-df-quickchart-complete:disabled,\n",
              "  .colab-df-quickchart-complete:disabled:hover {\n",
              "    background-color: var(--disabled-bg-color);\n",
              "    fill: var(--disabled-fill-color);\n",
              "    box-shadow: none;\n",
              "  }\n",
              "\n",
              "  .colab-df-spinner {\n",
              "    border: 2px solid var(--fill-color);\n",
              "    border-color: transparent;\n",
              "    border-bottom-color: var(--fill-color);\n",
              "    animation:\n",
              "      spin 1s steps(1) infinite;\n",
              "  }\n",
              "\n",
              "  @keyframes spin {\n",
              "    0% {\n",
              "      border-color: transparent;\n",
              "      border-bottom-color: var(--fill-color);\n",
              "      border-left-color: var(--fill-color);\n",
              "    }\n",
              "    20% {\n",
              "      border-color: transparent;\n",
              "      border-left-color: var(--fill-color);\n",
              "      border-top-color: var(--fill-color);\n",
              "    }\n",
              "    30% {\n",
              "      border-color: transparent;\n",
              "      border-left-color: var(--fill-color);\n",
              "      border-top-color: var(--fill-color);\n",
              "      border-right-color: var(--fill-color);\n",
              "    }\n",
              "    40% {\n",
              "      border-color: transparent;\n",
              "      border-right-color: var(--fill-color);\n",
              "      border-top-color: var(--fill-color);\n",
              "    }\n",
              "    60% {\n",
              "      border-color: transparent;\n",
              "      border-right-color: var(--fill-color);\n",
              "    }\n",
              "    80% {\n",
              "      border-color: transparent;\n",
              "      border-right-color: var(--fill-color);\n",
              "      border-bottom-color: var(--fill-color);\n",
              "    }\n",
              "    90% {\n",
              "      border-color: transparent;\n",
              "      border-bottom-color: var(--fill-color);\n",
              "    }\n",
              "  }\n",
              "</style>\n",
              "\n",
              "  <script>\n",
              "    async function quickchart(key) {\n",
              "      const quickchartButtonEl =\n",
              "        document.querySelector('#' + key + ' button');\n",
              "      quickchartButtonEl.disabled = true;  // To prevent multiple clicks.\n",
              "      quickchartButtonEl.classList.add('colab-df-spinner');\n",
              "      try {\n",
              "        const charts = await google.colab.kernel.invokeFunction(\n",
              "            'suggestCharts', [key], {});\n",
              "      } catch (error) {\n",
              "        console.error('Error during call to suggestCharts:', error);\n",
              "      }\n",
              "      quickchartButtonEl.classList.remove('colab-df-spinner');\n",
              "      quickchartButtonEl.classList.add('colab-df-quickchart-complete');\n",
              "    }\n",
              "    (() => {\n",
              "      let quickchartButtonEl =\n",
              "        document.querySelector('#df-07df6e10-e91a-4a35-9cfd-89cade255f45 button');\n",
              "      quickchartButtonEl.style.display =\n",
              "        google.colab.kernel.accessAllowed ? 'block' : 'none';\n",
              "    })();\n",
              "  </script>\n",
              "</div>\n",
              "\n",
              "    </div>\n",
              "  </div>\n"
            ],
            "application/vnd.google.colaboratory.intrinsic+json": {
              "type": "dataframe",
              "variable_name": "mean_count",
              "summary": "{\n  \"name\": \"mean_count\",\n  \"rows\": 33125,\n  \"fields\": [\n    {\n      \"column\": [\n        \"beer_name\",\n        \"\"\n      ],\n      \"properties\": {\n        \"dtype\": \"string\",\n        \"num_unique_values\": 33125,\n        \"samples\": [\n          \"Stone House Milk Stout\",\n          \"Embers Disorder Porter\",\n          \"Come About Imperial Stout\"\n        ],\n        \"semantic_type\": \"\",\n        \"description\": \"\"\n      }\n    },\n    {\n      \"column\": [\n        \"review_overall\",\n        \"mean_review_overall\"\n      ],\n      \"properties\": {\n        \"dtype\": \"number\",\n        \"std\": 0.6136679564176963,\n        \"min\": 1.0,\n        \"max\": 5.0,\n        \"num_unique_values\": 4375,\n        \"samples\": [\n          3.6002155172413794,\n          4.178571428571429,\n          3.710280373831776\n        ],\n        \"semantic_type\": \"\",\n        \"description\": \"\"\n      }\n    },\n    {\n      \"column\": [\n        \"review_overall\",\n        \"count_review_overall\"\n      ],\n      \"properties\": {\n        \"dtype\": \"number\",\n        \"std\": 138,\n        \"min\": 1,\n        \"max\": 3290,\n        \"num_unique_values\": 840,\n        \"samples\": [\n          618,\n          1113,\n          85\n        ],\n        \"semantic_type\": \"\",\n        \"description\": \"\"\n      }\n    }\n  ]\n}"
            }
          },
          "metadata": {},
          "execution_count": 21
        }
      ]
    },
    {
      "cell_type": "code",
      "source": [
        "#check statistic for beer with mean 5\n",
        "mean5 = mean_count[mean_count[('review_overall', 'mean_review_overall')] ==5]\n",
        "mean5.describe()\n",
        "#most beers (over 75%) have only one review - that's not enough to choose them"
      ],
      "metadata": {
        "colab": {
          "base_uri": "https://localhost:8080/",
          "height": 0
        },
        "id": "NcqGVATIDPSl",
        "outputId": "6797efa9-6a62-4757-970e-f69ba299a17e"
      },
      "execution_count": 22,
      "outputs": [
        {
          "output_type": "execute_result",
          "data": {
            "text/plain": [
              "           review_overall                     \n",
              "      mean_review_overall count_review_overall\n",
              "count               339.0           339.000000\n",
              "mean                  5.0             1.076696\n",
              "std                   0.0             0.307721\n",
              "min                   5.0             1.000000\n",
              "25%                   5.0             1.000000\n",
              "50%                   5.0             1.000000\n",
              "75%                   5.0             1.000000\n",
              "max                   5.0             4.000000"
            ],
            "text/html": [
              "\n",
              "  <div id=\"df-adcd5bbb-ae7b-46cc-b06f-ff37e8f54e62\" class=\"colab-df-container\">\n",
              "    <div>\n",
              "<style scoped>\n",
              "    .dataframe tbody tr th:only-of-type {\n",
              "        vertical-align: middle;\n",
              "    }\n",
              "\n",
              "    .dataframe tbody tr th {\n",
              "        vertical-align: top;\n",
              "    }\n",
              "\n",
              "    .dataframe thead tr th {\n",
              "        text-align: left;\n",
              "    }\n",
              "</style>\n",
              "<table border=\"1\" class=\"dataframe\">\n",
              "  <thead>\n",
              "    <tr>\n",
              "      <th></th>\n",
              "      <th colspan=\"2\" halign=\"left\">review_overall</th>\n",
              "    </tr>\n",
              "    <tr>\n",
              "      <th></th>\n",
              "      <th>mean_review_overall</th>\n",
              "      <th>count_review_overall</th>\n",
              "    </tr>\n",
              "  </thead>\n",
              "  <tbody>\n",
              "    <tr>\n",
              "      <th>count</th>\n",
              "      <td>339.0</td>\n",
              "      <td>339.000000</td>\n",
              "    </tr>\n",
              "    <tr>\n",
              "      <th>mean</th>\n",
              "      <td>5.0</td>\n",
              "      <td>1.076696</td>\n",
              "    </tr>\n",
              "    <tr>\n",
              "      <th>std</th>\n",
              "      <td>0.0</td>\n",
              "      <td>0.307721</td>\n",
              "    </tr>\n",
              "    <tr>\n",
              "      <th>min</th>\n",
              "      <td>5.0</td>\n",
              "      <td>1.000000</td>\n",
              "    </tr>\n",
              "    <tr>\n",
              "      <th>25%</th>\n",
              "      <td>5.0</td>\n",
              "      <td>1.000000</td>\n",
              "    </tr>\n",
              "    <tr>\n",
              "      <th>50%</th>\n",
              "      <td>5.0</td>\n",
              "      <td>1.000000</td>\n",
              "    </tr>\n",
              "    <tr>\n",
              "      <th>75%</th>\n",
              "      <td>5.0</td>\n",
              "      <td>1.000000</td>\n",
              "    </tr>\n",
              "    <tr>\n",
              "      <th>max</th>\n",
              "      <td>5.0</td>\n",
              "      <td>4.000000</td>\n",
              "    </tr>\n",
              "  </tbody>\n",
              "</table>\n",
              "</div>\n",
              "    <div class=\"colab-df-buttons\">\n",
              "\n",
              "  <div class=\"colab-df-container\">\n",
              "    <button class=\"colab-df-convert\" onclick=\"convertToInteractive('df-adcd5bbb-ae7b-46cc-b06f-ff37e8f54e62')\"\n",
              "            title=\"Convert this dataframe to an interactive table.\"\n",
              "            style=\"display:none;\">\n",
              "\n",
              "  <svg xmlns=\"http://www.w3.org/2000/svg\" height=\"24px\" viewBox=\"0 -960 960 960\">\n",
              "    <path d=\"M120-120v-720h720v720H120Zm60-500h600v-160H180v160Zm220 220h160v-160H400v160Zm0 220h160v-160H400v160ZM180-400h160v-160H180v160Zm440 0h160v-160H620v160ZM180-180h160v-160H180v160Zm440 0h160v-160H620v160Z\"/>\n",
              "  </svg>\n",
              "    </button>\n",
              "\n",
              "  <style>\n",
              "    .colab-df-container {\n",
              "      display:flex;\n",
              "      gap: 12px;\n",
              "    }\n",
              "\n",
              "    .colab-df-convert {\n",
              "      background-color: #E8F0FE;\n",
              "      border: none;\n",
              "      border-radius: 50%;\n",
              "      cursor: pointer;\n",
              "      display: none;\n",
              "      fill: #1967D2;\n",
              "      height: 32px;\n",
              "      padding: 0 0 0 0;\n",
              "      width: 32px;\n",
              "    }\n",
              "\n",
              "    .colab-df-convert:hover {\n",
              "      background-color: #E2EBFA;\n",
              "      box-shadow: 0px 1px 2px rgba(60, 64, 67, 0.3), 0px 1px 3px 1px rgba(60, 64, 67, 0.15);\n",
              "      fill: #174EA6;\n",
              "    }\n",
              "\n",
              "    .colab-df-buttons div {\n",
              "      margin-bottom: 4px;\n",
              "    }\n",
              "\n",
              "    [theme=dark] .colab-df-convert {\n",
              "      background-color: #3B4455;\n",
              "      fill: #D2E3FC;\n",
              "    }\n",
              "\n",
              "    [theme=dark] .colab-df-convert:hover {\n",
              "      background-color: #434B5C;\n",
              "      box-shadow: 0px 1px 3px 1px rgba(0, 0, 0, 0.15);\n",
              "      filter: drop-shadow(0px 1px 2px rgba(0, 0, 0, 0.3));\n",
              "      fill: #FFFFFF;\n",
              "    }\n",
              "  </style>\n",
              "\n",
              "    <script>\n",
              "      const buttonEl =\n",
              "        document.querySelector('#df-adcd5bbb-ae7b-46cc-b06f-ff37e8f54e62 button.colab-df-convert');\n",
              "      buttonEl.style.display =\n",
              "        google.colab.kernel.accessAllowed ? 'block' : 'none';\n",
              "\n",
              "      async function convertToInteractive(key) {\n",
              "        const element = document.querySelector('#df-adcd5bbb-ae7b-46cc-b06f-ff37e8f54e62');\n",
              "        const dataTable =\n",
              "          await google.colab.kernel.invokeFunction('convertToInteractive',\n",
              "                                                    [key], {});\n",
              "        if (!dataTable) return;\n",
              "\n",
              "        const docLinkHtml = 'Like what you see? Visit the ' +\n",
              "          '<a target=\"_blank\" href=https://colab.research.google.com/notebooks/data_table.ipynb>data table notebook</a>'\n",
              "          + ' to learn more about interactive tables.';\n",
              "        element.innerHTML = '';\n",
              "        dataTable['output_type'] = 'display_data';\n",
              "        await google.colab.output.renderOutput(dataTable, element);\n",
              "        const docLink = document.createElement('div');\n",
              "        docLink.innerHTML = docLinkHtml;\n",
              "        element.appendChild(docLink);\n",
              "      }\n",
              "    </script>\n",
              "  </div>\n",
              "\n",
              "\n",
              "<div id=\"df-99b03978-63c7-4111-805f-a40bd0cb957b\">\n",
              "  <button class=\"colab-df-quickchart\" onclick=\"quickchart('df-99b03978-63c7-4111-805f-a40bd0cb957b')\"\n",
              "            title=\"Suggest charts\"\n",
              "            style=\"display:none;\">\n",
              "\n",
              "<svg xmlns=\"http://www.w3.org/2000/svg\" height=\"24px\"viewBox=\"0 0 24 24\"\n",
              "     width=\"24px\">\n",
              "    <g>\n",
              "        <path d=\"M19 3H5c-1.1 0-2 .9-2 2v14c0 1.1.9 2 2 2h14c1.1 0 2-.9 2-2V5c0-1.1-.9-2-2-2zM9 17H7v-7h2v7zm4 0h-2V7h2v10zm4 0h-2v-4h2v4z\"/>\n",
              "    </g>\n",
              "</svg>\n",
              "  </button>\n",
              "\n",
              "<style>\n",
              "  .colab-df-quickchart {\n",
              "      --bg-color: #E8F0FE;\n",
              "      --fill-color: #1967D2;\n",
              "      --hover-bg-color: #E2EBFA;\n",
              "      --hover-fill-color: #174EA6;\n",
              "      --disabled-fill-color: #AAA;\n",
              "      --disabled-bg-color: #DDD;\n",
              "  }\n",
              "\n",
              "  [theme=dark] .colab-df-quickchart {\n",
              "      --bg-color: #3B4455;\n",
              "      --fill-color: #D2E3FC;\n",
              "      --hover-bg-color: #434B5C;\n",
              "      --hover-fill-color: #FFFFFF;\n",
              "      --disabled-bg-color: #3B4455;\n",
              "      --disabled-fill-color: #666;\n",
              "  }\n",
              "\n",
              "  .colab-df-quickchart {\n",
              "    background-color: var(--bg-color);\n",
              "    border: none;\n",
              "    border-radius: 50%;\n",
              "    cursor: pointer;\n",
              "    display: none;\n",
              "    fill: var(--fill-color);\n",
              "    height: 32px;\n",
              "    padding: 0;\n",
              "    width: 32px;\n",
              "  }\n",
              "\n",
              "  .colab-df-quickchart:hover {\n",
              "    background-color: var(--hover-bg-color);\n",
              "    box-shadow: 0 1px 2px rgba(60, 64, 67, 0.3), 0 1px 3px 1px rgba(60, 64, 67, 0.15);\n",
              "    fill: var(--button-hover-fill-color);\n",
              "  }\n",
              "\n",
              "  .colab-df-quickchart-complete:disabled,\n",
              "  .colab-df-quickchart-complete:disabled:hover {\n",
              "    background-color: var(--disabled-bg-color);\n",
              "    fill: var(--disabled-fill-color);\n",
              "    box-shadow: none;\n",
              "  }\n",
              "\n",
              "  .colab-df-spinner {\n",
              "    border: 2px solid var(--fill-color);\n",
              "    border-color: transparent;\n",
              "    border-bottom-color: var(--fill-color);\n",
              "    animation:\n",
              "      spin 1s steps(1) infinite;\n",
              "  }\n",
              "\n",
              "  @keyframes spin {\n",
              "    0% {\n",
              "      border-color: transparent;\n",
              "      border-bottom-color: var(--fill-color);\n",
              "      border-left-color: var(--fill-color);\n",
              "    }\n",
              "    20% {\n",
              "      border-color: transparent;\n",
              "      border-left-color: var(--fill-color);\n",
              "      border-top-color: var(--fill-color);\n",
              "    }\n",
              "    30% {\n",
              "      border-color: transparent;\n",
              "      border-left-color: var(--fill-color);\n",
              "      border-top-color: var(--fill-color);\n",
              "      border-right-color: var(--fill-color);\n",
              "    }\n",
              "    40% {\n",
              "      border-color: transparent;\n",
              "      border-right-color: var(--fill-color);\n",
              "      border-top-color: var(--fill-color);\n",
              "    }\n",
              "    60% {\n",
              "      border-color: transparent;\n",
              "      border-right-color: var(--fill-color);\n",
              "    }\n",
              "    80% {\n",
              "      border-color: transparent;\n",
              "      border-right-color: var(--fill-color);\n",
              "      border-bottom-color: var(--fill-color);\n",
              "    }\n",
              "    90% {\n",
              "      border-color: transparent;\n",
              "      border-bottom-color: var(--fill-color);\n",
              "    }\n",
              "  }\n",
              "</style>\n",
              "\n",
              "  <script>\n",
              "    async function quickchart(key) {\n",
              "      const quickchartButtonEl =\n",
              "        document.querySelector('#' + key + ' button');\n",
              "      quickchartButtonEl.disabled = true;  // To prevent multiple clicks.\n",
              "      quickchartButtonEl.classList.add('colab-df-spinner');\n",
              "      try {\n",
              "        const charts = await google.colab.kernel.invokeFunction(\n",
              "            'suggestCharts', [key], {});\n",
              "      } catch (error) {\n",
              "        console.error('Error during call to suggestCharts:', error);\n",
              "      }\n",
              "      quickchartButtonEl.classList.remove('colab-df-spinner');\n",
              "      quickchartButtonEl.classList.add('colab-df-quickchart-complete');\n",
              "    }\n",
              "    (() => {\n",
              "      let quickchartButtonEl =\n",
              "        document.querySelector('#df-99b03978-63c7-4111-805f-a40bd0cb957b button');\n",
              "      quickchartButtonEl.style.display =\n",
              "        google.colab.kernel.accessAllowed ? 'block' : 'none';\n",
              "    })();\n",
              "  </script>\n",
              "</div>\n",
              "\n",
              "    </div>\n",
              "  </div>\n"
            ],
            "application/vnd.google.colaboratory.intrinsic+json": {
              "type": "dataframe",
              "summary": "{\n  \"name\": \"#most beers (over 75%) have only one review - that's not enough to choose them\",\n  \"rows\": 8,\n  \"fields\": [\n    {\n      \"column\": [\n        \"review_overall\",\n        \"mean_review_overall\"\n      ],\n      \"properties\": {\n        \"dtype\": \"number\",\n        \"std\": 118.35230397902212,\n        \"min\": 0.0,\n        \"max\": 339.0,\n        \"num_unique_values\": 3,\n        \"samples\": [\n          339.0,\n          5.0,\n          0.0\n        ],\n        \"semantic_type\": \"\",\n        \"description\": \"\"\n      }\n    },\n    {\n      \"column\": [\n        \"review_overall\",\n        \"count_review_overall\"\n      ],\n      \"properties\": {\n        \"dtype\": \"number\",\n        \"std\": 119.38580391194695,\n        \"min\": 0.3077206703515088,\n        \"max\": 339.0,\n        \"num_unique_values\": 5,\n        \"samples\": [\n          1.0766961651917404,\n          4.0,\n          0.3077206703515088\n        ],\n        \"semantic_type\": \"\",\n        \"description\": \"\"\n      }\n    }\n  ]\n}"
            }
          },
          "metadata": {},
          "execution_count": 22
        }
      ]
    },
    {
      "cell_type": "code",
      "source": [
        "#statistic for data with mean and count of review_overall\n",
        "mean_count.describe()\n",
        "\n",
        "#For further analysis I took data with an average review_overall greater than 4"
      ],
      "metadata": {
        "colab": {
          "base_uri": "https://localhost:8080/",
          "height": 0
        },
        "id": "hruHgtQ59oys",
        "outputId": "6936c6e5-3e73-4d6e-a335-420010d02c7a"
      },
      "execution_count": 23,
      "outputs": [
        {
          "output_type": "execute_result",
          "data": {
            "text/plain": [
              "           review_overall                     \n",
              "      mean_review_overall count_review_overall\n",
              "count        33125.000000         33125.000000\n",
              "mean             3.651665            34.790038\n",
              "std              0.613668           138.282959\n",
              "min              1.000000             1.000000\n",
              "25%              3.414286             1.000000\n",
              "50%              3.750000             3.000000\n",
              "75%              4.000000            12.000000\n",
              "max              5.000000          3290.000000"
            ],
            "text/html": [
              "\n",
              "  <div id=\"df-721f3964-f691-475c-bbbc-ce524d801d85\" class=\"colab-df-container\">\n",
              "    <div>\n",
              "<style scoped>\n",
              "    .dataframe tbody tr th:only-of-type {\n",
              "        vertical-align: middle;\n",
              "    }\n",
              "\n",
              "    .dataframe tbody tr th {\n",
              "        vertical-align: top;\n",
              "    }\n",
              "\n",
              "    .dataframe thead tr th {\n",
              "        text-align: left;\n",
              "    }\n",
              "</style>\n",
              "<table border=\"1\" class=\"dataframe\">\n",
              "  <thead>\n",
              "    <tr>\n",
              "      <th></th>\n",
              "      <th colspan=\"2\" halign=\"left\">review_overall</th>\n",
              "    </tr>\n",
              "    <tr>\n",
              "      <th></th>\n",
              "      <th>mean_review_overall</th>\n",
              "      <th>count_review_overall</th>\n",
              "    </tr>\n",
              "  </thead>\n",
              "  <tbody>\n",
              "    <tr>\n",
              "      <th>count</th>\n",
              "      <td>33125.000000</td>\n",
              "      <td>33125.000000</td>\n",
              "    </tr>\n",
              "    <tr>\n",
              "      <th>mean</th>\n",
              "      <td>3.651665</td>\n",
              "      <td>34.790038</td>\n",
              "    </tr>\n",
              "    <tr>\n",
              "      <th>std</th>\n",
              "      <td>0.613668</td>\n",
              "      <td>138.282959</td>\n",
              "    </tr>\n",
              "    <tr>\n",
              "      <th>min</th>\n",
              "      <td>1.000000</td>\n",
              "      <td>1.000000</td>\n",
              "    </tr>\n",
              "    <tr>\n",
              "      <th>25%</th>\n",
              "      <td>3.414286</td>\n",
              "      <td>1.000000</td>\n",
              "    </tr>\n",
              "    <tr>\n",
              "      <th>50%</th>\n",
              "      <td>3.750000</td>\n",
              "      <td>3.000000</td>\n",
              "    </tr>\n",
              "    <tr>\n",
              "      <th>75%</th>\n",
              "      <td>4.000000</td>\n",
              "      <td>12.000000</td>\n",
              "    </tr>\n",
              "    <tr>\n",
              "      <th>max</th>\n",
              "      <td>5.000000</td>\n",
              "      <td>3290.000000</td>\n",
              "    </tr>\n",
              "  </tbody>\n",
              "</table>\n",
              "</div>\n",
              "    <div class=\"colab-df-buttons\">\n",
              "\n",
              "  <div class=\"colab-df-container\">\n",
              "    <button class=\"colab-df-convert\" onclick=\"convertToInteractive('df-721f3964-f691-475c-bbbc-ce524d801d85')\"\n",
              "            title=\"Convert this dataframe to an interactive table.\"\n",
              "            style=\"display:none;\">\n",
              "\n",
              "  <svg xmlns=\"http://www.w3.org/2000/svg\" height=\"24px\" viewBox=\"0 -960 960 960\">\n",
              "    <path d=\"M120-120v-720h720v720H120Zm60-500h600v-160H180v160Zm220 220h160v-160H400v160Zm0 220h160v-160H400v160ZM180-400h160v-160H180v160Zm440 0h160v-160H620v160ZM180-180h160v-160H180v160Zm440 0h160v-160H620v160Z\"/>\n",
              "  </svg>\n",
              "    </button>\n",
              "\n",
              "  <style>\n",
              "    .colab-df-container {\n",
              "      display:flex;\n",
              "      gap: 12px;\n",
              "    }\n",
              "\n",
              "    .colab-df-convert {\n",
              "      background-color: #E8F0FE;\n",
              "      border: none;\n",
              "      border-radius: 50%;\n",
              "      cursor: pointer;\n",
              "      display: none;\n",
              "      fill: #1967D2;\n",
              "      height: 32px;\n",
              "      padding: 0 0 0 0;\n",
              "      width: 32px;\n",
              "    }\n",
              "\n",
              "    .colab-df-convert:hover {\n",
              "      background-color: #E2EBFA;\n",
              "      box-shadow: 0px 1px 2px rgba(60, 64, 67, 0.3), 0px 1px 3px 1px rgba(60, 64, 67, 0.15);\n",
              "      fill: #174EA6;\n",
              "    }\n",
              "\n",
              "    .colab-df-buttons div {\n",
              "      margin-bottom: 4px;\n",
              "    }\n",
              "\n",
              "    [theme=dark] .colab-df-convert {\n",
              "      background-color: #3B4455;\n",
              "      fill: #D2E3FC;\n",
              "    }\n",
              "\n",
              "    [theme=dark] .colab-df-convert:hover {\n",
              "      background-color: #434B5C;\n",
              "      box-shadow: 0px 1px 3px 1px rgba(0, 0, 0, 0.15);\n",
              "      filter: drop-shadow(0px 1px 2px rgba(0, 0, 0, 0.3));\n",
              "      fill: #FFFFFF;\n",
              "    }\n",
              "  </style>\n",
              "\n",
              "    <script>\n",
              "      const buttonEl =\n",
              "        document.querySelector('#df-721f3964-f691-475c-bbbc-ce524d801d85 button.colab-df-convert');\n",
              "      buttonEl.style.display =\n",
              "        google.colab.kernel.accessAllowed ? 'block' : 'none';\n",
              "\n",
              "      async function convertToInteractive(key) {\n",
              "        const element = document.querySelector('#df-721f3964-f691-475c-bbbc-ce524d801d85');\n",
              "        const dataTable =\n",
              "          await google.colab.kernel.invokeFunction('convertToInteractive',\n",
              "                                                    [key], {});\n",
              "        if (!dataTable) return;\n",
              "\n",
              "        const docLinkHtml = 'Like what you see? Visit the ' +\n",
              "          '<a target=\"_blank\" href=https://colab.research.google.com/notebooks/data_table.ipynb>data table notebook</a>'\n",
              "          + ' to learn more about interactive tables.';\n",
              "        element.innerHTML = '';\n",
              "        dataTable['output_type'] = 'display_data';\n",
              "        await google.colab.output.renderOutput(dataTable, element);\n",
              "        const docLink = document.createElement('div');\n",
              "        docLink.innerHTML = docLinkHtml;\n",
              "        element.appendChild(docLink);\n",
              "      }\n",
              "    </script>\n",
              "  </div>\n",
              "\n",
              "\n",
              "<div id=\"df-dcd88c27-3e38-4afc-8e2a-59b7db3577e6\">\n",
              "  <button class=\"colab-df-quickchart\" onclick=\"quickchart('df-dcd88c27-3e38-4afc-8e2a-59b7db3577e6')\"\n",
              "            title=\"Suggest charts\"\n",
              "            style=\"display:none;\">\n",
              "\n",
              "<svg xmlns=\"http://www.w3.org/2000/svg\" height=\"24px\"viewBox=\"0 0 24 24\"\n",
              "     width=\"24px\">\n",
              "    <g>\n",
              "        <path d=\"M19 3H5c-1.1 0-2 .9-2 2v14c0 1.1.9 2 2 2h14c1.1 0 2-.9 2-2V5c0-1.1-.9-2-2-2zM9 17H7v-7h2v7zm4 0h-2V7h2v10zm4 0h-2v-4h2v4z\"/>\n",
              "    </g>\n",
              "</svg>\n",
              "  </button>\n",
              "\n",
              "<style>\n",
              "  .colab-df-quickchart {\n",
              "      --bg-color: #E8F0FE;\n",
              "      --fill-color: #1967D2;\n",
              "      --hover-bg-color: #E2EBFA;\n",
              "      --hover-fill-color: #174EA6;\n",
              "      --disabled-fill-color: #AAA;\n",
              "      --disabled-bg-color: #DDD;\n",
              "  }\n",
              "\n",
              "  [theme=dark] .colab-df-quickchart {\n",
              "      --bg-color: #3B4455;\n",
              "      --fill-color: #D2E3FC;\n",
              "      --hover-bg-color: #434B5C;\n",
              "      --hover-fill-color: #FFFFFF;\n",
              "      --disabled-bg-color: #3B4455;\n",
              "      --disabled-fill-color: #666;\n",
              "  }\n",
              "\n",
              "  .colab-df-quickchart {\n",
              "    background-color: var(--bg-color);\n",
              "    border: none;\n",
              "    border-radius: 50%;\n",
              "    cursor: pointer;\n",
              "    display: none;\n",
              "    fill: var(--fill-color);\n",
              "    height: 32px;\n",
              "    padding: 0;\n",
              "    width: 32px;\n",
              "  }\n",
              "\n",
              "  .colab-df-quickchart:hover {\n",
              "    background-color: var(--hover-bg-color);\n",
              "    box-shadow: 0 1px 2px rgba(60, 64, 67, 0.3), 0 1px 3px 1px rgba(60, 64, 67, 0.15);\n",
              "    fill: var(--button-hover-fill-color);\n",
              "  }\n",
              "\n",
              "  .colab-df-quickchart-complete:disabled,\n",
              "  .colab-df-quickchart-complete:disabled:hover {\n",
              "    background-color: var(--disabled-bg-color);\n",
              "    fill: var(--disabled-fill-color);\n",
              "    box-shadow: none;\n",
              "  }\n",
              "\n",
              "  .colab-df-spinner {\n",
              "    border: 2px solid var(--fill-color);\n",
              "    border-color: transparent;\n",
              "    border-bottom-color: var(--fill-color);\n",
              "    animation:\n",
              "      spin 1s steps(1) infinite;\n",
              "  }\n",
              "\n",
              "  @keyframes spin {\n",
              "    0% {\n",
              "      border-color: transparent;\n",
              "      border-bottom-color: var(--fill-color);\n",
              "      border-left-color: var(--fill-color);\n",
              "    }\n",
              "    20% {\n",
              "      border-color: transparent;\n",
              "      border-left-color: var(--fill-color);\n",
              "      border-top-color: var(--fill-color);\n",
              "    }\n",
              "    30% {\n",
              "      border-color: transparent;\n",
              "      border-left-color: var(--fill-color);\n",
              "      border-top-color: var(--fill-color);\n",
              "      border-right-color: var(--fill-color);\n",
              "    }\n",
              "    40% {\n",
              "      border-color: transparent;\n",
              "      border-right-color: var(--fill-color);\n",
              "      border-top-color: var(--fill-color);\n",
              "    }\n",
              "    60% {\n",
              "      border-color: transparent;\n",
              "      border-right-color: var(--fill-color);\n",
              "    }\n",
              "    80% {\n",
              "      border-color: transparent;\n",
              "      border-right-color: var(--fill-color);\n",
              "      border-bottom-color: var(--fill-color);\n",
              "    }\n",
              "    90% {\n",
              "      border-color: transparent;\n",
              "      border-bottom-color: var(--fill-color);\n",
              "    }\n",
              "  }\n",
              "</style>\n",
              "\n",
              "  <script>\n",
              "    async function quickchart(key) {\n",
              "      const quickchartButtonEl =\n",
              "        document.querySelector('#' + key + ' button');\n",
              "      quickchartButtonEl.disabled = true;  // To prevent multiple clicks.\n",
              "      quickchartButtonEl.classList.add('colab-df-spinner');\n",
              "      try {\n",
              "        const charts = await google.colab.kernel.invokeFunction(\n",
              "            'suggestCharts', [key], {});\n",
              "      } catch (error) {\n",
              "        console.error('Error during call to suggestCharts:', error);\n",
              "      }\n",
              "      quickchartButtonEl.classList.remove('colab-df-spinner');\n",
              "      quickchartButtonEl.classList.add('colab-df-quickchart-complete');\n",
              "    }\n",
              "    (() => {\n",
              "      let quickchartButtonEl =\n",
              "        document.querySelector('#df-dcd88c27-3e38-4afc-8e2a-59b7db3577e6 button');\n",
              "      quickchartButtonEl.style.display =\n",
              "        google.colab.kernel.accessAllowed ? 'block' : 'none';\n",
              "    })();\n",
              "  </script>\n",
              "</div>\n",
              "\n",
              "    </div>\n",
              "  </div>\n"
            ],
            "application/vnd.google.colaboratory.intrinsic+json": {
              "type": "dataframe",
              "summary": "{\n  \"name\": \"#For further analysis I took data with an average review_overall greater than 4\",\n  \"rows\": 8,\n  \"fields\": [\n    {\n      \"column\": [\n        \"review_overall\",\n        \"mean_review_overall\"\n      ],\n      \"properties\": {\n        \"dtype\": \"number\",\n        \"std\": 11710.373800737458,\n        \"min\": 0.6136679564176963,\n        \"max\": 33125.0,\n        \"num_unique_values\": 8,\n        \"samples\": [\n          3.6516652317296,\n          3.75,\n          33125.0\n        ],\n        \"semantic_type\": \"\",\n        \"description\": \"\"\n      }\n    },\n    {\n      \"column\": [\n        \"review_overall\",\n        \"count_review_overall\"\n      ],\n      \"properties\": {\n        \"dtype\": \"number\",\n        \"std\": 11591.984862595513,\n        \"min\": 1.0,\n        \"max\": 33125.0,\n        \"num_unique_values\": 7,\n        \"samples\": [\n          33125.0,\n          34.790037735849054,\n          12.0\n        ],\n        \"semantic_type\": \"\",\n        \"description\": \"\"\n      }\n    }\n  ]\n}"
            }
          },
          "metadata": {},
          "execution_count": 23
        }
      ]
    },
    {
      "cell_type": "code",
      "source": [
        "#statistic for data with mean > 4\n",
        "mean_count_4 = mean_count[mean_count[('review_overall', 'mean_review_overall')] > 4]\n",
        "mean_count_4.describe()"
      ],
      "metadata": {
        "colab": {
          "base_uri": "https://localhost:8080/",
          "height": 0
        },
        "id": "JZqvF4R9MBO5",
        "outputId": "0d51869d-66ec-4c7f-9922-48fbf4f6a85d"
      },
      "execution_count": 24,
      "outputs": [
        {
          "output_type": "execute_result",
          "data": {
            "text/plain": [
              "           review_overall                     \n",
              "      mean_review_overall count_review_overall\n",
              "count         6946.000000          6946.000000\n",
              "mean             4.334412            57.485747\n",
              "std              0.233813           223.789018\n",
              "min              4.000575             1.000000\n",
              "25%              4.156756             2.000000\n",
              "50%              4.250000             4.000000\n",
              "75%              4.500000            14.000000\n",
              "max              5.000000          3290.000000"
            ],
            "text/html": [
              "\n",
              "  <div id=\"df-fec0f30e-e6e5-484a-a071-463cf8a51add\" class=\"colab-df-container\">\n",
              "    <div>\n",
              "<style scoped>\n",
              "    .dataframe tbody tr th:only-of-type {\n",
              "        vertical-align: middle;\n",
              "    }\n",
              "\n",
              "    .dataframe tbody tr th {\n",
              "        vertical-align: top;\n",
              "    }\n",
              "\n",
              "    .dataframe thead tr th {\n",
              "        text-align: left;\n",
              "    }\n",
              "</style>\n",
              "<table border=\"1\" class=\"dataframe\">\n",
              "  <thead>\n",
              "    <tr>\n",
              "      <th></th>\n",
              "      <th colspan=\"2\" halign=\"left\">review_overall</th>\n",
              "    </tr>\n",
              "    <tr>\n",
              "      <th></th>\n",
              "      <th>mean_review_overall</th>\n",
              "      <th>count_review_overall</th>\n",
              "    </tr>\n",
              "  </thead>\n",
              "  <tbody>\n",
              "    <tr>\n",
              "      <th>count</th>\n",
              "      <td>6946.000000</td>\n",
              "      <td>6946.000000</td>\n",
              "    </tr>\n",
              "    <tr>\n",
              "      <th>mean</th>\n",
              "      <td>4.334412</td>\n",
              "      <td>57.485747</td>\n",
              "    </tr>\n",
              "    <tr>\n",
              "      <th>std</th>\n",
              "      <td>0.233813</td>\n",
              "      <td>223.789018</td>\n",
              "    </tr>\n",
              "    <tr>\n",
              "      <th>min</th>\n",
              "      <td>4.000575</td>\n",
              "      <td>1.000000</td>\n",
              "    </tr>\n",
              "    <tr>\n",
              "      <th>25%</th>\n",
              "      <td>4.156756</td>\n",
              "      <td>2.000000</td>\n",
              "    </tr>\n",
              "    <tr>\n",
              "      <th>50%</th>\n",
              "      <td>4.250000</td>\n",
              "      <td>4.000000</td>\n",
              "    </tr>\n",
              "    <tr>\n",
              "      <th>75%</th>\n",
              "      <td>4.500000</td>\n",
              "      <td>14.000000</td>\n",
              "    </tr>\n",
              "    <tr>\n",
              "      <th>max</th>\n",
              "      <td>5.000000</td>\n",
              "      <td>3290.000000</td>\n",
              "    </tr>\n",
              "  </tbody>\n",
              "</table>\n",
              "</div>\n",
              "    <div class=\"colab-df-buttons\">\n",
              "\n",
              "  <div class=\"colab-df-container\">\n",
              "    <button class=\"colab-df-convert\" onclick=\"convertToInteractive('df-fec0f30e-e6e5-484a-a071-463cf8a51add')\"\n",
              "            title=\"Convert this dataframe to an interactive table.\"\n",
              "            style=\"display:none;\">\n",
              "\n",
              "  <svg xmlns=\"http://www.w3.org/2000/svg\" height=\"24px\" viewBox=\"0 -960 960 960\">\n",
              "    <path d=\"M120-120v-720h720v720H120Zm60-500h600v-160H180v160Zm220 220h160v-160H400v160Zm0 220h160v-160H400v160ZM180-400h160v-160H180v160Zm440 0h160v-160H620v160ZM180-180h160v-160H180v160Zm440 0h160v-160H620v160Z\"/>\n",
              "  </svg>\n",
              "    </button>\n",
              "\n",
              "  <style>\n",
              "    .colab-df-container {\n",
              "      display:flex;\n",
              "      gap: 12px;\n",
              "    }\n",
              "\n",
              "    .colab-df-convert {\n",
              "      background-color: #E8F0FE;\n",
              "      border: none;\n",
              "      border-radius: 50%;\n",
              "      cursor: pointer;\n",
              "      display: none;\n",
              "      fill: #1967D2;\n",
              "      height: 32px;\n",
              "      padding: 0 0 0 0;\n",
              "      width: 32px;\n",
              "    }\n",
              "\n",
              "    .colab-df-convert:hover {\n",
              "      background-color: #E2EBFA;\n",
              "      box-shadow: 0px 1px 2px rgba(60, 64, 67, 0.3), 0px 1px 3px 1px rgba(60, 64, 67, 0.15);\n",
              "      fill: #174EA6;\n",
              "    }\n",
              "\n",
              "    .colab-df-buttons div {\n",
              "      margin-bottom: 4px;\n",
              "    }\n",
              "\n",
              "    [theme=dark] .colab-df-convert {\n",
              "      background-color: #3B4455;\n",
              "      fill: #D2E3FC;\n",
              "    }\n",
              "\n",
              "    [theme=dark] .colab-df-convert:hover {\n",
              "      background-color: #434B5C;\n",
              "      box-shadow: 0px 1px 3px 1px rgba(0, 0, 0, 0.15);\n",
              "      filter: drop-shadow(0px 1px 2px rgba(0, 0, 0, 0.3));\n",
              "      fill: #FFFFFF;\n",
              "    }\n",
              "  </style>\n",
              "\n",
              "    <script>\n",
              "      const buttonEl =\n",
              "        document.querySelector('#df-fec0f30e-e6e5-484a-a071-463cf8a51add button.colab-df-convert');\n",
              "      buttonEl.style.display =\n",
              "        google.colab.kernel.accessAllowed ? 'block' : 'none';\n",
              "\n",
              "      async function convertToInteractive(key) {\n",
              "        const element = document.querySelector('#df-fec0f30e-e6e5-484a-a071-463cf8a51add');\n",
              "        const dataTable =\n",
              "          await google.colab.kernel.invokeFunction('convertToInteractive',\n",
              "                                                    [key], {});\n",
              "        if (!dataTable) return;\n",
              "\n",
              "        const docLinkHtml = 'Like what you see? Visit the ' +\n",
              "          '<a target=\"_blank\" href=https://colab.research.google.com/notebooks/data_table.ipynb>data table notebook</a>'\n",
              "          + ' to learn more about interactive tables.';\n",
              "        element.innerHTML = '';\n",
              "        dataTable['output_type'] = 'display_data';\n",
              "        await google.colab.output.renderOutput(dataTable, element);\n",
              "        const docLink = document.createElement('div');\n",
              "        docLink.innerHTML = docLinkHtml;\n",
              "        element.appendChild(docLink);\n",
              "      }\n",
              "    </script>\n",
              "  </div>\n",
              "\n",
              "\n",
              "<div id=\"df-501845f7-ec0c-4a31-9168-2d724dfdaaa1\">\n",
              "  <button class=\"colab-df-quickchart\" onclick=\"quickchart('df-501845f7-ec0c-4a31-9168-2d724dfdaaa1')\"\n",
              "            title=\"Suggest charts\"\n",
              "            style=\"display:none;\">\n",
              "\n",
              "<svg xmlns=\"http://www.w3.org/2000/svg\" height=\"24px\"viewBox=\"0 0 24 24\"\n",
              "     width=\"24px\">\n",
              "    <g>\n",
              "        <path d=\"M19 3H5c-1.1 0-2 .9-2 2v14c0 1.1.9 2 2 2h14c1.1 0 2-.9 2-2V5c0-1.1-.9-2-2-2zM9 17H7v-7h2v7zm4 0h-2V7h2v10zm4 0h-2v-4h2v4z\"/>\n",
              "    </g>\n",
              "</svg>\n",
              "  </button>\n",
              "\n",
              "<style>\n",
              "  .colab-df-quickchart {\n",
              "      --bg-color: #E8F0FE;\n",
              "      --fill-color: #1967D2;\n",
              "      --hover-bg-color: #E2EBFA;\n",
              "      --hover-fill-color: #174EA6;\n",
              "      --disabled-fill-color: #AAA;\n",
              "      --disabled-bg-color: #DDD;\n",
              "  }\n",
              "\n",
              "  [theme=dark] .colab-df-quickchart {\n",
              "      --bg-color: #3B4455;\n",
              "      --fill-color: #D2E3FC;\n",
              "      --hover-bg-color: #434B5C;\n",
              "      --hover-fill-color: #FFFFFF;\n",
              "      --disabled-bg-color: #3B4455;\n",
              "      --disabled-fill-color: #666;\n",
              "  }\n",
              "\n",
              "  .colab-df-quickchart {\n",
              "    background-color: var(--bg-color);\n",
              "    border: none;\n",
              "    border-radius: 50%;\n",
              "    cursor: pointer;\n",
              "    display: none;\n",
              "    fill: var(--fill-color);\n",
              "    height: 32px;\n",
              "    padding: 0;\n",
              "    width: 32px;\n",
              "  }\n",
              "\n",
              "  .colab-df-quickchart:hover {\n",
              "    background-color: var(--hover-bg-color);\n",
              "    box-shadow: 0 1px 2px rgba(60, 64, 67, 0.3), 0 1px 3px 1px rgba(60, 64, 67, 0.15);\n",
              "    fill: var(--button-hover-fill-color);\n",
              "  }\n",
              "\n",
              "  .colab-df-quickchart-complete:disabled,\n",
              "  .colab-df-quickchart-complete:disabled:hover {\n",
              "    background-color: var(--disabled-bg-color);\n",
              "    fill: var(--disabled-fill-color);\n",
              "    box-shadow: none;\n",
              "  }\n",
              "\n",
              "  .colab-df-spinner {\n",
              "    border: 2px solid var(--fill-color);\n",
              "    border-color: transparent;\n",
              "    border-bottom-color: var(--fill-color);\n",
              "    animation:\n",
              "      spin 1s steps(1) infinite;\n",
              "  }\n",
              "\n",
              "  @keyframes spin {\n",
              "    0% {\n",
              "      border-color: transparent;\n",
              "      border-bottom-color: var(--fill-color);\n",
              "      border-left-color: var(--fill-color);\n",
              "    }\n",
              "    20% {\n",
              "      border-color: transparent;\n",
              "      border-left-color: var(--fill-color);\n",
              "      border-top-color: var(--fill-color);\n",
              "    }\n",
              "    30% {\n",
              "      border-color: transparent;\n",
              "      border-left-color: var(--fill-color);\n",
              "      border-top-color: var(--fill-color);\n",
              "      border-right-color: var(--fill-color);\n",
              "    }\n",
              "    40% {\n",
              "      border-color: transparent;\n",
              "      border-right-color: var(--fill-color);\n",
              "      border-top-color: var(--fill-color);\n",
              "    }\n",
              "    60% {\n",
              "      border-color: transparent;\n",
              "      border-right-color: var(--fill-color);\n",
              "    }\n",
              "    80% {\n",
              "      border-color: transparent;\n",
              "      border-right-color: var(--fill-color);\n",
              "      border-bottom-color: var(--fill-color);\n",
              "    }\n",
              "    90% {\n",
              "      border-color: transparent;\n",
              "      border-bottom-color: var(--fill-color);\n",
              "    }\n",
              "  }\n",
              "</style>\n",
              "\n",
              "  <script>\n",
              "    async function quickchart(key) {\n",
              "      const quickchartButtonEl =\n",
              "        document.querySelector('#' + key + ' button');\n",
              "      quickchartButtonEl.disabled = true;  // To prevent multiple clicks.\n",
              "      quickchartButtonEl.classList.add('colab-df-spinner');\n",
              "      try {\n",
              "        const charts = await google.colab.kernel.invokeFunction(\n",
              "            'suggestCharts', [key], {});\n",
              "      } catch (error) {\n",
              "        console.error('Error during call to suggestCharts:', error);\n",
              "      }\n",
              "      quickchartButtonEl.classList.remove('colab-df-spinner');\n",
              "      quickchartButtonEl.classList.add('colab-df-quickchart-complete');\n",
              "    }\n",
              "    (() => {\n",
              "      let quickchartButtonEl =\n",
              "        document.querySelector('#df-501845f7-ec0c-4a31-9168-2d724dfdaaa1 button');\n",
              "      quickchartButtonEl.style.display =\n",
              "        google.colab.kernel.accessAllowed ? 'block' : 'none';\n",
              "    })();\n",
              "  </script>\n",
              "</div>\n",
              "\n",
              "    </div>\n",
              "  </div>\n"
            ],
            "application/vnd.google.colaboratory.intrinsic+json": {
              "type": "dataframe",
              "summary": "{\n  \"name\": \"mean_count_4\",\n  \"rows\": 8,\n  \"fields\": [\n    {\n      \"column\": [\n        \"review_overall\",\n        \"mean_review_overall\"\n      ],\n      \"properties\": {\n        \"dtype\": \"number\",\n        \"std\": 2454.4450788834383,\n        \"min\": 0.23381287661621591,\n        \"max\": 6946.0,\n        \"num_unique_values\": 8,\n        \"samples\": [\n          4.334411868471368,\n          4.25,\n          6946.0\n        ],\n        \"semantic_type\": \"\",\n        \"description\": \"\"\n      }\n    },\n    {\n      \"column\": [\n        \"review_overall\",\n        \"count_review_overall\"\n      ],\n      \"properties\": {\n        \"dtype\": \"number\",\n        \"std\": 2542.2912825339913,\n        \"min\": 1.0,\n        \"max\": 6946.0,\n        \"num_unique_values\": 8,\n        \"samples\": [\n          57.48574719262885,\n          4.0,\n          6946.0\n        ],\n        \"semantic_type\": \"\",\n        \"description\": \"\"\n      }\n    }\n  ]\n}"
            }
          },
          "metadata": {},
          "execution_count": 24
        }
      ]
    },
    {
      "cell_type": "code",
      "source": [
        "#check how the data changes depending on the number of reviews\n",
        "\n",
        "#check for more then 100 rewievs\n",
        "mean_count_100 = mean_count[(mean_count[('review_overall', 'mean_review_overall')] > 4) & (mean_count[('review_overall', 'count_review_overall')] > 100)].sort_values(by=[('review_overall', 'mean_review_overall')],ascending=False)\n",
        "mean_count_100.head(5)"
      ],
      "metadata": {
        "colab": {
          "base_uri": "https://localhost:8080/",
          "height": 0
        },
        "id": "lyQf4A5OHL0l",
        "outputId": "6f0c5e2e-4ca3-4583-8521-824f139ea3c8"
      },
      "execution_count": 25,
      "outputs": [
        {
          "output_type": "execute_result",
          "data": {
            "text/plain": [
              "                                             review_overall  \\\n",
              "                                        mean_review_overall   \n",
              "beer_name                                                     \n",
              "Citra DIPA                                         4.630952   \n",
              "Cantillon Blåbær Lambik                            4.628205   \n",
              "Heady Topper                                       4.625800   \n",
              "Deviation - Bottleworks 9th Anniversary            4.620536   \n",
              "Pliny The Younger                                  4.600000   \n",
              "\n",
              "                                                              \n",
              "                                        count_review_overall  \n",
              "beer_name                                                     \n",
              "Citra DIPA                                               252  \n",
              "Cantillon Blåbær Lambik                                  156  \n",
              "Heady Topper                                             469  \n",
              "Deviation - Bottleworks 9th Anniversary                  112  \n",
              "Pliny The Younger                                        610  "
            ],
            "text/html": [
              "\n",
              "  <div id=\"df-0f0d98ad-a443-4895-a24b-4c6e433e6d8c\" class=\"colab-df-container\">\n",
              "    <div>\n",
              "<style scoped>\n",
              "    .dataframe tbody tr th:only-of-type {\n",
              "        vertical-align: middle;\n",
              "    }\n",
              "\n",
              "    .dataframe tbody tr th {\n",
              "        vertical-align: top;\n",
              "    }\n",
              "\n",
              "    .dataframe thead tr th {\n",
              "        text-align: left;\n",
              "    }\n",
              "\n",
              "    .dataframe thead tr:last-of-type th {\n",
              "        text-align: right;\n",
              "    }\n",
              "</style>\n",
              "<table border=\"1\" class=\"dataframe\">\n",
              "  <thead>\n",
              "    <tr>\n",
              "      <th></th>\n",
              "      <th colspan=\"2\" halign=\"left\">review_overall</th>\n",
              "    </tr>\n",
              "    <tr>\n",
              "      <th></th>\n",
              "      <th>mean_review_overall</th>\n",
              "      <th>count_review_overall</th>\n",
              "    </tr>\n",
              "    <tr>\n",
              "      <th>beer_name</th>\n",
              "      <th></th>\n",
              "      <th></th>\n",
              "    </tr>\n",
              "  </thead>\n",
              "  <tbody>\n",
              "    <tr>\n",
              "      <th>Citra DIPA</th>\n",
              "      <td>4.630952</td>\n",
              "      <td>252</td>\n",
              "    </tr>\n",
              "    <tr>\n",
              "      <th>Cantillon Blåbær Lambik</th>\n",
              "      <td>4.628205</td>\n",
              "      <td>156</td>\n",
              "    </tr>\n",
              "    <tr>\n",
              "      <th>Heady Topper</th>\n",
              "      <td>4.625800</td>\n",
              "      <td>469</td>\n",
              "    </tr>\n",
              "    <tr>\n",
              "      <th>Deviation - Bottleworks 9th Anniversary</th>\n",
              "      <td>4.620536</td>\n",
              "      <td>112</td>\n",
              "    </tr>\n",
              "    <tr>\n",
              "      <th>Pliny The Younger</th>\n",
              "      <td>4.600000</td>\n",
              "      <td>610</td>\n",
              "    </tr>\n",
              "  </tbody>\n",
              "</table>\n",
              "</div>\n",
              "    <div class=\"colab-df-buttons\">\n",
              "\n",
              "  <div class=\"colab-df-container\">\n",
              "    <button class=\"colab-df-convert\" onclick=\"convertToInteractive('df-0f0d98ad-a443-4895-a24b-4c6e433e6d8c')\"\n",
              "            title=\"Convert this dataframe to an interactive table.\"\n",
              "            style=\"display:none;\">\n",
              "\n",
              "  <svg xmlns=\"http://www.w3.org/2000/svg\" height=\"24px\" viewBox=\"0 -960 960 960\">\n",
              "    <path d=\"M120-120v-720h720v720H120Zm60-500h600v-160H180v160Zm220 220h160v-160H400v160Zm0 220h160v-160H400v160ZM180-400h160v-160H180v160Zm440 0h160v-160H620v160ZM180-180h160v-160H180v160Zm440 0h160v-160H620v160Z\"/>\n",
              "  </svg>\n",
              "    </button>\n",
              "\n",
              "  <style>\n",
              "    .colab-df-container {\n",
              "      display:flex;\n",
              "      gap: 12px;\n",
              "    }\n",
              "\n",
              "    .colab-df-convert {\n",
              "      background-color: #E8F0FE;\n",
              "      border: none;\n",
              "      border-radius: 50%;\n",
              "      cursor: pointer;\n",
              "      display: none;\n",
              "      fill: #1967D2;\n",
              "      height: 32px;\n",
              "      padding: 0 0 0 0;\n",
              "      width: 32px;\n",
              "    }\n",
              "\n",
              "    .colab-df-convert:hover {\n",
              "      background-color: #E2EBFA;\n",
              "      box-shadow: 0px 1px 2px rgba(60, 64, 67, 0.3), 0px 1px 3px 1px rgba(60, 64, 67, 0.15);\n",
              "      fill: #174EA6;\n",
              "    }\n",
              "\n",
              "    .colab-df-buttons div {\n",
              "      margin-bottom: 4px;\n",
              "    }\n",
              "\n",
              "    [theme=dark] .colab-df-convert {\n",
              "      background-color: #3B4455;\n",
              "      fill: #D2E3FC;\n",
              "    }\n",
              "\n",
              "    [theme=dark] .colab-df-convert:hover {\n",
              "      background-color: #434B5C;\n",
              "      box-shadow: 0px 1px 3px 1px rgba(0, 0, 0, 0.15);\n",
              "      filter: drop-shadow(0px 1px 2px rgba(0, 0, 0, 0.3));\n",
              "      fill: #FFFFFF;\n",
              "    }\n",
              "  </style>\n",
              "\n",
              "    <script>\n",
              "      const buttonEl =\n",
              "        document.querySelector('#df-0f0d98ad-a443-4895-a24b-4c6e433e6d8c button.colab-df-convert');\n",
              "      buttonEl.style.display =\n",
              "        google.colab.kernel.accessAllowed ? 'block' : 'none';\n",
              "\n",
              "      async function convertToInteractive(key) {\n",
              "        const element = document.querySelector('#df-0f0d98ad-a443-4895-a24b-4c6e433e6d8c');\n",
              "        const dataTable =\n",
              "          await google.colab.kernel.invokeFunction('convertToInteractive',\n",
              "                                                    [key], {});\n",
              "        if (!dataTable) return;\n",
              "\n",
              "        const docLinkHtml = 'Like what you see? Visit the ' +\n",
              "          '<a target=\"_blank\" href=https://colab.research.google.com/notebooks/data_table.ipynb>data table notebook</a>'\n",
              "          + ' to learn more about interactive tables.';\n",
              "        element.innerHTML = '';\n",
              "        dataTable['output_type'] = 'display_data';\n",
              "        await google.colab.output.renderOutput(dataTable, element);\n",
              "        const docLink = document.createElement('div');\n",
              "        docLink.innerHTML = docLinkHtml;\n",
              "        element.appendChild(docLink);\n",
              "      }\n",
              "    </script>\n",
              "  </div>\n",
              "\n",
              "\n",
              "<div id=\"df-68f2d18c-27ca-417e-9bda-eb90b4fd484b\">\n",
              "  <button class=\"colab-df-quickchart\" onclick=\"quickchart('df-68f2d18c-27ca-417e-9bda-eb90b4fd484b')\"\n",
              "            title=\"Suggest charts\"\n",
              "            style=\"display:none;\">\n",
              "\n",
              "<svg xmlns=\"http://www.w3.org/2000/svg\" height=\"24px\"viewBox=\"0 0 24 24\"\n",
              "     width=\"24px\">\n",
              "    <g>\n",
              "        <path d=\"M19 3H5c-1.1 0-2 .9-2 2v14c0 1.1.9 2 2 2h14c1.1 0 2-.9 2-2V5c0-1.1-.9-2-2-2zM9 17H7v-7h2v7zm4 0h-2V7h2v10zm4 0h-2v-4h2v4z\"/>\n",
              "    </g>\n",
              "</svg>\n",
              "  </button>\n",
              "\n",
              "<style>\n",
              "  .colab-df-quickchart {\n",
              "      --bg-color: #E8F0FE;\n",
              "      --fill-color: #1967D2;\n",
              "      --hover-bg-color: #E2EBFA;\n",
              "      --hover-fill-color: #174EA6;\n",
              "      --disabled-fill-color: #AAA;\n",
              "      --disabled-bg-color: #DDD;\n",
              "  }\n",
              "\n",
              "  [theme=dark] .colab-df-quickchart {\n",
              "      --bg-color: #3B4455;\n",
              "      --fill-color: #D2E3FC;\n",
              "      --hover-bg-color: #434B5C;\n",
              "      --hover-fill-color: #FFFFFF;\n",
              "      --disabled-bg-color: #3B4455;\n",
              "      --disabled-fill-color: #666;\n",
              "  }\n",
              "\n",
              "  .colab-df-quickchart {\n",
              "    background-color: var(--bg-color);\n",
              "    border: none;\n",
              "    border-radius: 50%;\n",
              "    cursor: pointer;\n",
              "    display: none;\n",
              "    fill: var(--fill-color);\n",
              "    height: 32px;\n",
              "    padding: 0;\n",
              "    width: 32px;\n",
              "  }\n",
              "\n",
              "  .colab-df-quickchart:hover {\n",
              "    background-color: var(--hover-bg-color);\n",
              "    box-shadow: 0 1px 2px rgba(60, 64, 67, 0.3), 0 1px 3px 1px rgba(60, 64, 67, 0.15);\n",
              "    fill: var(--button-hover-fill-color);\n",
              "  }\n",
              "\n",
              "  .colab-df-quickchart-complete:disabled,\n",
              "  .colab-df-quickchart-complete:disabled:hover {\n",
              "    background-color: var(--disabled-bg-color);\n",
              "    fill: var(--disabled-fill-color);\n",
              "    box-shadow: none;\n",
              "  }\n",
              "\n",
              "  .colab-df-spinner {\n",
              "    border: 2px solid var(--fill-color);\n",
              "    border-color: transparent;\n",
              "    border-bottom-color: var(--fill-color);\n",
              "    animation:\n",
              "      spin 1s steps(1) infinite;\n",
              "  }\n",
              "\n",
              "  @keyframes spin {\n",
              "    0% {\n",
              "      border-color: transparent;\n",
              "      border-bottom-color: var(--fill-color);\n",
              "      border-left-color: var(--fill-color);\n",
              "    }\n",
              "    20% {\n",
              "      border-color: transparent;\n",
              "      border-left-color: var(--fill-color);\n",
              "      border-top-color: var(--fill-color);\n",
              "    }\n",
              "    30% {\n",
              "      border-color: transparent;\n",
              "      border-left-color: var(--fill-color);\n",
              "      border-top-color: var(--fill-color);\n",
              "      border-right-color: var(--fill-color);\n",
              "    }\n",
              "    40% {\n",
              "      border-color: transparent;\n",
              "      border-right-color: var(--fill-color);\n",
              "      border-top-color: var(--fill-color);\n",
              "    }\n",
              "    60% {\n",
              "      border-color: transparent;\n",
              "      border-right-color: var(--fill-color);\n",
              "    }\n",
              "    80% {\n",
              "      border-color: transparent;\n",
              "      border-right-color: var(--fill-color);\n",
              "      border-bottom-color: var(--fill-color);\n",
              "    }\n",
              "    90% {\n",
              "      border-color: transparent;\n",
              "      border-bottom-color: var(--fill-color);\n",
              "    }\n",
              "  }\n",
              "</style>\n",
              "\n",
              "  <script>\n",
              "    async function quickchart(key) {\n",
              "      const quickchartButtonEl =\n",
              "        document.querySelector('#' + key + ' button');\n",
              "      quickchartButtonEl.disabled = true;  // To prevent multiple clicks.\n",
              "      quickchartButtonEl.classList.add('colab-df-spinner');\n",
              "      try {\n",
              "        const charts = await google.colab.kernel.invokeFunction(\n",
              "            'suggestCharts', [key], {});\n",
              "      } catch (error) {\n",
              "        console.error('Error during call to suggestCharts:', error);\n",
              "      }\n",
              "      quickchartButtonEl.classList.remove('colab-df-spinner');\n",
              "      quickchartButtonEl.classList.add('colab-df-quickchart-complete');\n",
              "    }\n",
              "    (() => {\n",
              "      let quickchartButtonEl =\n",
              "        document.querySelector('#df-68f2d18c-27ca-417e-9bda-eb90b4fd484b button');\n",
              "      quickchartButtonEl.style.display =\n",
              "        google.colab.kernel.accessAllowed ? 'block' : 'none';\n",
              "    })();\n",
              "  </script>\n",
              "</div>\n",
              "\n",
              "    </div>\n",
              "  </div>\n"
            ],
            "application/vnd.google.colaboratory.intrinsic+json": {
              "type": "dataframe",
              "variable_name": "mean_count_100",
              "summary": "{\n  \"name\": \"mean_count_100\",\n  \"rows\": 642,\n  \"fields\": [\n    {\n      \"column\": [\n        \"beer_name\",\n        \"\"\n      ],\n      \"properties\": {\n        \"dtype\": \"string\",\n        \"num_unique_values\": 642,\n        \"samples\": [\n          \"Barrel Aged Yeti\",\n          \"Rosso E Marrone\",\n          \"Bell's Kalamazoo Stout\"\n        ],\n        \"semantic_type\": \"\",\n        \"description\": \"\"\n      }\n    },\n    {\n      \"column\": [\n        \"review_overall\",\n        \"mean_review_overall\"\n      ],\n      \"properties\": {\n        \"dtype\": \"number\",\n        \"std\": 0.11778069340565396,\n        \"min\": 4.000574712643679,\n        \"max\": 4.630952380952381,\n        \"num_unique_values\": 625,\n        \"samples\": [\n          4.066793893129771,\n          4.050496688741722,\n          4.166875\n        ],\n        \"semantic_type\": \"\",\n        \"description\": \"\"\n      }\n    },\n    {\n      \"column\": [\n        \"review_overall\",\n        \"count_review_overall\"\n      ],\n      \"properties\": {\n        \"dtype\": \"number\",\n        \"std\": 544,\n        \"min\": 101,\n        \"max\": 3290,\n        \"num_unique_values\": 450,\n        \"samples\": [\n          261,\n          824,\n          218\n        ],\n        \"semantic_type\": \"\",\n        \"description\": \"\"\n      }\n    }\n  ]\n}"
            }
          },
          "metadata": {},
          "execution_count": 25
        }
      ]
    },
    {
      "cell_type": "code",
      "source": [
        "#check for more then 300 rewievs\n",
        "mean_count300 =   mean_count[(mean_count[('review_overall', 'mean_review_overall')] > 4) & (mean_count[('review_overall', 'count_review_overall')] > 300)].sort_values(by=[('review_overall', 'mean_review_overall')],ascending=False)\n",
        "mean_count300.head(5)\n"
      ],
      "metadata": {
        "colab": {
          "base_uri": "https://localhost:8080/",
          "height": 0
        },
        "id": "jaQqW2tIMoFW",
        "outputId": "ba8ef96d-df61-493a-9d79-32b28974b457"
      },
      "execution_count": 26,
      "outputs": [
        {
          "output_type": "execute_result",
          "data": {
            "text/plain": [
              "                                   review_overall                     \n",
              "                              mean_review_overall count_review_overall\n",
              "beer_name                                                             \n",
              "Heady Topper                             4.625800                  469\n",
              "Pliny The Younger                        4.600000                  610\n",
              "Founders CBS Imperial Stout              4.591052                  637\n",
              "Pliny The Elder                          4.590028                 2527\n",
              "Weihenstephaner Hefeweissbier            4.515901                 1981"
            ],
            "text/html": [
              "\n",
              "  <div id=\"df-4e23f4e3-a720-418c-ac4b-bb1e596887d6\" class=\"colab-df-container\">\n",
              "    <div>\n",
              "<style scoped>\n",
              "    .dataframe tbody tr th:only-of-type {\n",
              "        vertical-align: middle;\n",
              "    }\n",
              "\n",
              "    .dataframe tbody tr th {\n",
              "        vertical-align: top;\n",
              "    }\n",
              "\n",
              "    .dataframe thead tr th {\n",
              "        text-align: left;\n",
              "    }\n",
              "\n",
              "    .dataframe thead tr:last-of-type th {\n",
              "        text-align: right;\n",
              "    }\n",
              "</style>\n",
              "<table border=\"1\" class=\"dataframe\">\n",
              "  <thead>\n",
              "    <tr>\n",
              "      <th></th>\n",
              "      <th colspan=\"2\" halign=\"left\">review_overall</th>\n",
              "    </tr>\n",
              "    <tr>\n",
              "      <th></th>\n",
              "      <th>mean_review_overall</th>\n",
              "      <th>count_review_overall</th>\n",
              "    </tr>\n",
              "    <tr>\n",
              "      <th>beer_name</th>\n",
              "      <th></th>\n",
              "      <th></th>\n",
              "    </tr>\n",
              "  </thead>\n",
              "  <tbody>\n",
              "    <tr>\n",
              "      <th>Heady Topper</th>\n",
              "      <td>4.625800</td>\n",
              "      <td>469</td>\n",
              "    </tr>\n",
              "    <tr>\n",
              "      <th>Pliny The Younger</th>\n",
              "      <td>4.600000</td>\n",
              "      <td>610</td>\n",
              "    </tr>\n",
              "    <tr>\n",
              "      <th>Founders CBS Imperial Stout</th>\n",
              "      <td>4.591052</td>\n",
              "      <td>637</td>\n",
              "    </tr>\n",
              "    <tr>\n",
              "      <th>Pliny The Elder</th>\n",
              "      <td>4.590028</td>\n",
              "      <td>2527</td>\n",
              "    </tr>\n",
              "    <tr>\n",
              "      <th>Weihenstephaner Hefeweissbier</th>\n",
              "      <td>4.515901</td>\n",
              "      <td>1981</td>\n",
              "    </tr>\n",
              "  </tbody>\n",
              "</table>\n",
              "</div>\n",
              "    <div class=\"colab-df-buttons\">\n",
              "\n",
              "  <div class=\"colab-df-container\">\n",
              "    <button class=\"colab-df-convert\" onclick=\"convertToInteractive('df-4e23f4e3-a720-418c-ac4b-bb1e596887d6')\"\n",
              "            title=\"Convert this dataframe to an interactive table.\"\n",
              "            style=\"display:none;\">\n",
              "\n",
              "  <svg xmlns=\"http://www.w3.org/2000/svg\" height=\"24px\" viewBox=\"0 -960 960 960\">\n",
              "    <path d=\"M120-120v-720h720v720H120Zm60-500h600v-160H180v160Zm220 220h160v-160H400v160Zm0 220h160v-160H400v160ZM180-400h160v-160H180v160Zm440 0h160v-160H620v160ZM180-180h160v-160H180v160Zm440 0h160v-160H620v160Z\"/>\n",
              "  </svg>\n",
              "    </button>\n",
              "\n",
              "  <style>\n",
              "    .colab-df-container {\n",
              "      display:flex;\n",
              "      gap: 12px;\n",
              "    }\n",
              "\n",
              "    .colab-df-convert {\n",
              "      background-color: #E8F0FE;\n",
              "      border: none;\n",
              "      border-radius: 50%;\n",
              "      cursor: pointer;\n",
              "      display: none;\n",
              "      fill: #1967D2;\n",
              "      height: 32px;\n",
              "      padding: 0 0 0 0;\n",
              "      width: 32px;\n",
              "    }\n",
              "\n",
              "    .colab-df-convert:hover {\n",
              "      background-color: #E2EBFA;\n",
              "      box-shadow: 0px 1px 2px rgba(60, 64, 67, 0.3), 0px 1px 3px 1px rgba(60, 64, 67, 0.15);\n",
              "      fill: #174EA6;\n",
              "    }\n",
              "\n",
              "    .colab-df-buttons div {\n",
              "      margin-bottom: 4px;\n",
              "    }\n",
              "\n",
              "    [theme=dark] .colab-df-convert {\n",
              "      background-color: #3B4455;\n",
              "      fill: #D2E3FC;\n",
              "    }\n",
              "\n",
              "    [theme=dark] .colab-df-convert:hover {\n",
              "      background-color: #434B5C;\n",
              "      box-shadow: 0px 1px 3px 1px rgba(0, 0, 0, 0.15);\n",
              "      filter: drop-shadow(0px 1px 2px rgba(0, 0, 0, 0.3));\n",
              "      fill: #FFFFFF;\n",
              "    }\n",
              "  </style>\n",
              "\n",
              "    <script>\n",
              "      const buttonEl =\n",
              "        document.querySelector('#df-4e23f4e3-a720-418c-ac4b-bb1e596887d6 button.colab-df-convert');\n",
              "      buttonEl.style.display =\n",
              "        google.colab.kernel.accessAllowed ? 'block' : 'none';\n",
              "\n",
              "      async function convertToInteractive(key) {\n",
              "        const element = document.querySelector('#df-4e23f4e3-a720-418c-ac4b-bb1e596887d6');\n",
              "        const dataTable =\n",
              "          await google.colab.kernel.invokeFunction('convertToInteractive',\n",
              "                                                    [key], {});\n",
              "        if (!dataTable) return;\n",
              "\n",
              "        const docLinkHtml = 'Like what you see? Visit the ' +\n",
              "          '<a target=\"_blank\" href=https://colab.research.google.com/notebooks/data_table.ipynb>data table notebook</a>'\n",
              "          + ' to learn more about interactive tables.';\n",
              "        element.innerHTML = '';\n",
              "        dataTable['output_type'] = 'display_data';\n",
              "        await google.colab.output.renderOutput(dataTable, element);\n",
              "        const docLink = document.createElement('div');\n",
              "        docLink.innerHTML = docLinkHtml;\n",
              "        element.appendChild(docLink);\n",
              "      }\n",
              "    </script>\n",
              "  </div>\n",
              "\n",
              "\n",
              "<div id=\"df-7a80a77c-b8cc-43dd-9f2c-3b11624a8976\">\n",
              "  <button class=\"colab-df-quickchart\" onclick=\"quickchart('df-7a80a77c-b8cc-43dd-9f2c-3b11624a8976')\"\n",
              "            title=\"Suggest charts\"\n",
              "            style=\"display:none;\">\n",
              "\n",
              "<svg xmlns=\"http://www.w3.org/2000/svg\" height=\"24px\"viewBox=\"0 0 24 24\"\n",
              "     width=\"24px\">\n",
              "    <g>\n",
              "        <path d=\"M19 3H5c-1.1 0-2 .9-2 2v14c0 1.1.9 2 2 2h14c1.1 0 2-.9 2-2V5c0-1.1-.9-2-2-2zM9 17H7v-7h2v7zm4 0h-2V7h2v10zm4 0h-2v-4h2v4z\"/>\n",
              "    </g>\n",
              "</svg>\n",
              "  </button>\n",
              "\n",
              "<style>\n",
              "  .colab-df-quickchart {\n",
              "      --bg-color: #E8F0FE;\n",
              "      --fill-color: #1967D2;\n",
              "      --hover-bg-color: #E2EBFA;\n",
              "      --hover-fill-color: #174EA6;\n",
              "      --disabled-fill-color: #AAA;\n",
              "      --disabled-bg-color: #DDD;\n",
              "  }\n",
              "\n",
              "  [theme=dark] .colab-df-quickchart {\n",
              "      --bg-color: #3B4455;\n",
              "      --fill-color: #D2E3FC;\n",
              "      --hover-bg-color: #434B5C;\n",
              "      --hover-fill-color: #FFFFFF;\n",
              "      --disabled-bg-color: #3B4455;\n",
              "      --disabled-fill-color: #666;\n",
              "  }\n",
              "\n",
              "  .colab-df-quickchart {\n",
              "    background-color: var(--bg-color);\n",
              "    border: none;\n",
              "    border-radius: 50%;\n",
              "    cursor: pointer;\n",
              "    display: none;\n",
              "    fill: var(--fill-color);\n",
              "    height: 32px;\n",
              "    padding: 0;\n",
              "    width: 32px;\n",
              "  }\n",
              "\n",
              "  .colab-df-quickchart:hover {\n",
              "    background-color: var(--hover-bg-color);\n",
              "    box-shadow: 0 1px 2px rgba(60, 64, 67, 0.3), 0 1px 3px 1px rgba(60, 64, 67, 0.15);\n",
              "    fill: var(--button-hover-fill-color);\n",
              "  }\n",
              "\n",
              "  .colab-df-quickchart-complete:disabled,\n",
              "  .colab-df-quickchart-complete:disabled:hover {\n",
              "    background-color: var(--disabled-bg-color);\n",
              "    fill: var(--disabled-fill-color);\n",
              "    box-shadow: none;\n",
              "  }\n",
              "\n",
              "  .colab-df-spinner {\n",
              "    border: 2px solid var(--fill-color);\n",
              "    border-color: transparent;\n",
              "    border-bottom-color: var(--fill-color);\n",
              "    animation:\n",
              "      spin 1s steps(1) infinite;\n",
              "  }\n",
              "\n",
              "  @keyframes spin {\n",
              "    0% {\n",
              "      border-color: transparent;\n",
              "      border-bottom-color: var(--fill-color);\n",
              "      border-left-color: var(--fill-color);\n",
              "    }\n",
              "    20% {\n",
              "      border-color: transparent;\n",
              "      border-left-color: var(--fill-color);\n",
              "      border-top-color: var(--fill-color);\n",
              "    }\n",
              "    30% {\n",
              "      border-color: transparent;\n",
              "      border-left-color: var(--fill-color);\n",
              "      border-top-color: var(--fill-color);\n",
              "      border-right-color: var(--fill-color);\n",
              "    }\n",
              "    40% {\n",
              "      border-color: transparent;\n",
              "      border-right-color: var(--fill-color);\n",
              "      border-top-color: var(--fill-color);\n",
              "    }\n",
              "    60% {\n",
              "      border-color: transparent;\n",
              "      border-right-color: var(--fill-color);\n",
              "    }\n",
              "    80% {\n",
              "      border-color: transparent;\n",
              "      border-right-color: var(--fill-color);\n",
              "      border-bottom-color: var(--fill-color);\n",
              "    }\n",
              "    90% {\n",
              "      border-color: transparent;\n",
              "      border-bottom-color: var(--fill-color);\n",
              "    }\n",
              "  }\n",
              "</style>\n",
              "\n",
              "  <script>\n",
              "    async function quickchart(key) {\n",
              "      const quickchartButtonEl =\n",
              "        document.querySelector('#' + key + ' button');\n",
              "      quickchartButtonEl.disabled = true;  // To prevent multiple clicks.\n",
              "      quickchartButtonEl.classList.add('colab-df-spinner');\n",
              "      try {\n",
              "        const charts = await google.colab.kernel.invokeFunction(\n",
              "            'suggestCharts', [key], {});\n",
              "      } catch (error) {\n",
              "        console.error('Error during call to suggestCharts:', error);\n",
              "      }\n",
              "      quickchartButtonEl.classList.remove('colab-df-spinner');\n",
              "      quickchartButtonEl.classList.add('colab-df-quickchart-complete');\n",
              "    }\n",
              "    (() => {\n",
              "      let quickchartButtonEl =\n",
              "        document.querySelector('#df-7a80a77c-b8cc-43dd-9f2c-3b11624a8976 button');\n",
              "      quickchartButtonEl.style.display =\n",
              "        google.colab.kernel.accessAllowed ? 'block' : 'none';\n",
              "    })();\n",
              "  </script>\n",
              "</div>\n",
              "\n",
              "    </div>\n",
              "  </div>\n"
            ],
            "application/vnd.google.colaboratory.intrinsic+json": {
              "type": "dataframe",
              "variable_name": "mean_count300",
              "summary": "{\n  \"name\": \"mean_count300\",\n  \"rows\": 338,\n  \"fields\": [\n    {\n      \"column\": [\n        \"beer_name\",\n        \"\"\n      ],\n      \"properties\": {\n        \"dtype\": \"string\",\n        \"num_unique_values\": 338,\n        \"samples\": [\n          \"Aphrodisiaque\",\n          \"Smuttynose Old Brown Dog Ale\",\n          \"My Antonia\"\n        ],\n        \"semantic_type\": \"\",\n        \"description\": \"\"\n      }\n    },\n    {\n      \"column\": [\n        \"review_overall\",\n        \"mean_review_overall\"\n      ],\n      \"properties\": {\n        \"dtype\": \"number\",\n        \"std\": 0.11786191691084033,\n        \"min\": 4.000574712643679,\n        \"max\": 4.6257995735607675,\n        \"num_unique_values\": 337,\n        \"samples\": [\n          4.28030303030303,\n          4.1191489361702125,\n          4.25\n        ],\n        \"semantic_type\": \"\",\n        \"description\": \"\"\n      }\n    },\n    {\n      \"column\": [\n        \"review_overall\",\n        \"count_review_overall\"\n      ],\n      \"properties\": {\n        \"dtype\": \"number\",\n        \"std\": 595,\n        \"min\": 303,\n        \"max\": 3290,\n        \"num_unique_values\": 290,\n        \"samples\": [\n          327,\n          713,\n          1069\n        ],\n        \"semantic_type\": \"\",\n        \"description\": \"\"\n      }\n    }\n  ]\n}"
            }
          },
          "metadata": {},
          "execution_count": 26
        }
      ]
    },
    {
      "cell_type": "code",
      "source": [
        "#check for more then 1000 rewievs\n",
        "mean_count1000 =   mean_count[(mean_count[('review_overall', 'mean_review_overall')] > 4) & (mean_count[('review_overall', 'count_review_overall')] > 1000)].sort_values(by=[('review_overall', 'mean_review_overall')],ascending=False)\n",
        "mean_count1000.head(5)"
      ],
      "metadata": {
        "colab": {
          "base_uri": "https://localhost:8080/",
          "height": 0
        },
        "id": "ddijLX3DIwvI",
        "outputId": "476ddd89-d4e6-468a-af11-4fdc35ad3517"
      },
      "execution_count": 27,
      "outputs": [
        {
          "output_type": "execute_result",
          "data": {
            "text/plain": [
              "                                             review_overall  \\\n",
              "                                        mean_review_overall   \n",
              "beer_name                                                     \n",
              "Pliny The Elder                                    4.590028   \n",
              "Weihenstephaner Hefeweissbier                      4.515901   \n",
              "Sculpin India Pale Ale                             4.437870   \n",
              "Supplication                                       4.431624   \n",
              "Founders KBS (Kentucky Breakfast Stout)            4.397516   \n",
              "\n",
              "                                                              \n",
              "                                        count_review_overall  \n",
              "beer_name                                                     \n",
              "Pliny The Elder                                         2527  \n",
              "Weihenstephaner Hefeweissbier                           1981  \n",
              "Sculpin India Pale Ale                                  1352  \n",
              "Supplication                                            1053  \n",
              "Founders KBS (Kentucky Breakfast Stout)                 1932  "
            ],
            "text/html": [
              "\n",
              "  <div id=\"df-ea1dafef-5792-41d0-b130-5a2ed91d62f3\" class=\"colab-df-container\">\n",
              "    <div>\n",
              "<style scoped>\n",
              "    .dataframe tbody tr th:only-of-type {\n",
              "        vertical-align: middle;\n",
              "    }\n",
              "\n",
              "    .dataframe tbody tr th {\n",
              "        vertical-align: top;\n",
              "    }\n",
              "\n",
              "    .dataframe thead tr th {\n",
              "        text-align: left;\n",
              "    }\n",
              "\n",
              "    .dataframe thead tr:last-of-type th {\n",
              "        text-align: right;\n",
              "    }\n",
              "</style>\n",
              "<table border=\"1\" class=\"dataframe\">\n",
              "  <thead>\n",
              "    <tr>\n",
              "      <th></th>\n",
              "      <th colspan=\"2\" halign=\"left\">review_overall</th>\n",
              "    </tr>\n",
              "    <tr>\n",
              "      <th></th>\n",
              "      <th>mean_review_overall</th>\n",
              "      <th>count_review_overall</th>\n",
              "    </tr>\n",
              "    <tr>\n",
              "      <th>beer_name</th>\n",
              "      <th></th>\n",
              "      <th></th>\n",
              "    </tr>\n",
              "  </thead>\n",
              "  <tbody>\n",
              "    <tr>\n",
              "      <th>Pliny The Elder</th>\n",
              "      <td>4.590028</td>\n",
              "      <td>2527</td>\n",
              "    </tr>\n",
              "    <tr>\n",
              "      <th>Weihenstephaner Hefeweissbier</th>\n",
              "      <td>4.515901</td>\n",
              "      <td>1981</td>\n",
              "    </tr>\n",
              "    <tr>\n",
              "      <th>Sculpin India Pale Ale</th>\n",
              "      <td>4.437870</td>\n",
              "      <td>1352</td>\n",
              "    </tr>\n",
              "    <tr>\n",
              "      <th>Supplication</th>\n",
              "      <td>4.431624</td>\n",
              "      <td>1053</td>\n",
              "    </tr>\n",
              "    <tr>\n",
              "      <th>Founders KBS (Kentucky Breakfast Stout)</th>\n",
              "      <td>4.397516</td>\n",
              "      <td>1932</td>\n",
              "    </tr>\n",
              "  </tbody>\n",
              "</table>\n",
              "</div>\n",
              "    <div class=\"colab-df-buttons\">\n",
              "\n",
              "  <div class=\"colab-df-container\">\n",
              "    <button class=\"colab-df-convert\" onclick=\"convertToInteractive('df-ea1dafef-5792-41d0-b130-5a2ed91d62f3')\"\n",
              "            title=\"Convert this dataframe to an interactive table.\"\n",
              "            style=\"display:none;\">\n",
              "\n",
              "  <svg xmlns=\"http://www.w3.org/2000/svg\" height=\"24px\" viewBox=\"0 -960 960 960\">\n",
              "    <path d=\"M120-120v-720h720v720H120Zm60-500h600v-160H180v160Zm220 220h160v-160H400v160Zm0 220h160v-160H400v160ZM180-400h160v-160H180v160Zm440 0h160v-160H620v160ZM180-180h160v-160H180v160Zm440 0h160v-160H620v160Z\"/>\n",
              "  </svg>\n",
              "    </button>\n",
              "\n",
              "  <style>\n",
              "    .colab-df-container {\n",
              "      display:flex;\n",
              "      gap: 12px;\n",
              "    }\n",
              "\n",
              "    .colab-df-convert {\n",
              "      background-color: #E8F0FE;\n",
              "      border: none;\n",
              "      border-radius: 50%;\n",
              "      cursor: pointer;\n",
              "      display: none;\n",
              "      fill: #1967D2;\n",
              "      height: 32px;\n",
              "      padding: 0 0 0 0;\n",
              "      width: 32px;\n",
              "    }\n",
              "\n",
              "    .colab-df-convert:hover {\n",
              "      background-color: #E2EBFA;\n",
              "      box-shadow: 0px 1px 2px rgba(60, 64, 67, 0.3), 0px 1px 3px 1px rgba(60, 64, 67, 0.15);\n",
              "      fill: #174EA6;\n",
              "    }\n",
              "\n",
              "    .colab-df-buttons div {\n",
              "      margin-bottom: 4px;\n",
              "    }\n",
              "\n",
              "    [theme=dark] .colab-df-convert {\n",
              "      background-color: #3B4455;\n",
              "      fill: #D2E3FC;\n",
              "    }\n",
              "\n",
              "    [theme=dark] .colab-df-convert:hover {\n",
              "      background-color: #434B5C;\n",
              "      box-shadow: 0px 1px 3px 1px rgba(0, 0, 0, 0.15);\n",
              "      filter: drop-shadow(0px 1px 2px rgba(0, 0, 0, 0.3));\n",
              "      fill: #FFFFFF;\n",
              "    }\n",
              "  </style>\n",
              "\n",
              "    <script>\n",
              "      const buttonEl =\n",
              "        document.querySelector('#df-ea1dafef-5792-41d0-b130-5a2ed91d62f3 button.colab-df-convert');\n",
              "      buttonEl.style.display =\n",
              "        google.colab.kernel.accessAllowed ? 'block' : 'none';\n",
              "\n",
              "      async function convertToInteractive(key) {\n",
              "        const element = document.querySelector('#df-ea1dafef-5792-41d0-b130-5a2ed91d62f3');\n",
              "        const dataTable =\n",
              "          await google.colab.kernel.invokeFunction('convertToInteractive',\n",
              "                                                    [key], {});\n",
              "        if (!dataTable) return;\n",
              "\n",
              "        const docLinkHtml = 'Like what you see? Visit the ' +\n",
              "          '<a target=\"_blank\" href=https://colab.research.google.com/notebooks/data_table.ipynb>data table notebook</a>'\n",
              "          + ' to learn more about interactive tables.';\n",
              "        element.innerHTML = '';\n",
              "        dataTable['output_type'] = 'display_data';\n",
              "        await google.colab.output.renderOutput(dataTable, element);\n",
              "        const docLink = document.createElement('div');\n",
              "        docLink.innerHTML = docLinkHtml;\n",
              "        element.appendChild(docLink);\n",
              "      }\n",
              "    </script>\n",
              "  </div>\n",
              "\n",
              "\n",
              "<div id=\"df-33778c9c-30fc-4265-abcf-d930be14673c\">\n",
              "  <button class=\"colab-df-quickchart\" onclick=\"quickchart('df-33778c9c-30fc-4265-abcf-d930be14673c')\"\n",
              "            title=\"Suggest charts\"\n",
              "            style=\"display:none;\">\n",
              "\n",
              "<svg xmlns=\"http://www.w3.org/2000/svg\" height=\"24px\"viewBox=\"0 0 24 24\"\n",
              "     width=\"24px\">\n",
              "    <g>\n",
              "        <path d=\"M19 3H5c-1.1 0-2 .9-2 2v14c0 1.1.9 2 2 2h14c1.1 0 2-.9 2-2V5c0-1.1-.9-2-2-2zM9 17H7v-7h2v7zm4 0h-2V7h2v10zm4 0h-2v-4h2v4z\"/>\n",
              "    </g>\n",
              "</svg>\n",
              "  </button>\n",
              "\n",
              "<style>\n",
              "  .colab-df-quickchart {\n",
              "      --bg-color: #E8F0FE;\n",
              "      --fill-color: #1967D2;\n",
              "      --hover-bg-color: #E2EBFA;\n",
              "      --hover-fill-color: #174EA6;\n",
              "      --disabled-fill-color: #AAA;\n",
              "      --disabled-bg-color: #DDD;\n",
              "  }\n",
              "\n",
              "  [theme=dark] .colab-df-quickchart {\n",
              "      --bg-color: #3B4455;\n",
              "      --fill-color: #D2E3FC;\n",
              "      --hover-bg-color: #434B5C;\n",
              "      --hover-fill-color: #FFFFFF;\n",
              "      --disabled-bg-color: #3B4455;\n",
              "      --disabled-fill-color: #666;\n",
              "  }\n",
              "\n",
              "  .colab-df-quickchart {\n",
              "    background-color: var(--bg-color);\n",
              "    border: none;\n",
              "    border-radius: 50%;\n",
              "    cursor: pointer;\n",
              "    display: none;\n",
              "    fill: var(--fill-color);\n",
              "    height: 32px;\n",
              "    padding: 0;\n",
              "    width: 32px;\n",
              "  }\n",
              "\n",
              "  .colab-df-quickchart:hover {\n",
              "    background-color: var(--hover-bg-color);\n",
              "    box-shadow: 0 1px 2px rgba(60, 64, 67, 0.3), 0 1px 3px 1px rgba(60, 64, 67, 0.15);\n",
              "    fill: var(--button-hover-fill-color);\n",
              "  }\n",
              "\n",
              "  .colab-df-quickchart-complete:disabled,\n",
              "  .colab-df-quickchart-complete:disabled:hover {\n",
              "    background-color: var(--disabled-bg-color);\n",
              "    fill: var(--disabled-fill-color);\n",
              "    box-shadow: none;\n",
              "  }\n",
              "\n",
              "  .colab-df-spinner {\n",
              "    border: 2px solid var(--fill-color);\n",
              "    border-color: transparent;\n",
              "    border-bottom-color: var(--fill-color);\n",
              "    animation:\n",
              "      spin 1s steps(1) infinite;\n",
              "  }\n",
              "\n",
              "  @keyframes spin {\n",
              "    0% {\n",
              "      border-color: transparent;\n",
              "      border-bottom-color: var(--fill-color);\n",
              "      border-left-color: var(--fill-color);\n",
              "    }\n",
              "    20% {\n",
              "      border-color: transparent;\n",
              "      border-left-color: var(--fill-color);\n",
              "      border-top-color: var(--fill-color);\n",
              "    }\n",
              "    30% {\n",
              "      border-color: transparent;\n",
              "      border-left-color: var(--fill-color);\n",
              "      border-top-color: var(--fill-color);\n",
              "      border-right-color: var(--fill-color);\n",
              "    }\n",
              "    40% {\n",
              "      border-color: transparent;\n",
              "      border-right-color: var(--fill-color);\n",
              "      border-top-color: var(--fill-color);\n",
              "    }\n",
              "    60% {\n",
              "      border-color: transparent;\n",
              "      border-right-color: var(--fill-color);\n",
              "    }\n",
              "    80% {\n",
              "      border-color: transparent;\n",
              "      border-right-color: var(--fill-color);\n",
              "      border-bottom-color: var(--fill-color);\n",
              "    }\n",
              "    90% {\n",
              "      border-color: transparent;\n",
              "      border-bottom-color: var(--fill-color);\n",
              "    }\n",
              "  }\n",
              "</style>\n",
              "\n",
              "  <script>\n",
              "    async function quickchart(key) {\n",
              "      const quickchartButtonEl =\n",
              "        document.querySelector('#' + key + ' button');\n",
              "      quickchartButtonEl.disabled = true;  // To prevent multiple clicks.\n",
              "      quickchartButtonEl.classList.add('colab-df-spinner');\n",
              "      try {\n",
              "        const charts = await google.colab.kernel.invokeFunction(\n",
              "            'suggestCharts', [key], {});\n",
              "      } catch (error) {\n",
              "        console.error('Error during call to suggestCharts:', error);\n",
              "      }\n",
              "      quickchartButtonEl.classList.remove('colab-df-spinner');\n",
              "      quickchartButtonEl.classList.add('colab-df-quickchart-complete');\n",
              "    }\n",
              "    (() => {\n",
              "      let quickchartButtonEl =\n",
              "        document.querySelector('#df-33778c9c-30fc-4265-abcf-d930be14673c button');\n",
              "      quickchartButtonEl.style.display =\n",
              "        google.colab.kernel.accessAllowed ? 'block' : 'none';\n",
              "    })();\n",
              "  </script>\n",
              "</div>\n",
              "\n",
              "    </div>\n",
              "  </div>\n"
            ],
            "application/vnd.google.colaboratory.intrinsic+json": {
              "type": "dataframe",
              "variable_name": "mean_count1000",
              "summary": "{\n  \"name\": \"mean_count1000\",\n  \"rows\": 95,\n  \"fields\": [\n    {\n      \"column\": [\n        \"beer_name\",\n        \"\"\n      ],\n      \"properties\": {\n        \"dtype\": \"string\",\n        \"num_unique_values\": 95,\n        \"samples\": [\n          \"Oak Aged Yeti Imperial Stout\",\n          \"Chimay Grande R\\u00e9serve (Blue)\",\n          \"Bourbon County Brand Stout\"\n        ],\n        \"semantic_type\": \"\",\n        \"description\": \"\"\n      }\n    },\n    {\n      \"column\": [\n        \"review_overall\",\n        \"mean_review_overall\"\n      ],\n      \"properties\": {\n        \"dtype\": \"number\",\n        \"std\": 0.12190990858263204,\n        \"min\": 4.002904564315353,\n        \"max\": 4.590027700831025,\n        \"num_unique_values\": 95,\n        \"samples\": [\n          4.083626141953619,\n          4.248631159780985,\n          4.082748538011696\n        ],\n        \"semantic_type\": \"\",\n        \"description\": \"\"\n      }\n    },\n    {\n      \"column\": [\n        \"review_overall\",\n        \"count_review_overall\"\n      ],\n      \"properties\": {\n        \"dtype\": \"number\",\n        \"std\": 539,\n        \"min\": 1002,\n        \"max\": 3290,\n        \"num_unique_values\": 90,\n        \"samples\": [\n          1003,\n          2009,\n          1336\n        ],\n        \"semantic_type\": \"\",\n        \"description\": \"\"\n      }\n    }\n  ]\n}"
            }
          },
          "metadata": {},
          "execution_count": 27
        }
      ]
    },
    {
      "cell_type": "code",
      "source": [
        "#Comparing these 3 results, we can see that the differences between the average overall rating are very small.\n",
        "#That's why I think the best solution will be where there are more than 1000 ratings"
      ],
      "metadata": {
        "id": "-OXaeoxRNVE_"
      },
      "execution_count": 28,
      "outputs": []
    },
    {
      "cell_type": "markdown",
      "source": [
        "## **Question 3**\n",
        "\n",
        "*What factors have the greatest impact on the quality of a beer?*\n",
        "\n",
        "---\n",
        "\n",
        "\n",
        "To answer this question, we need to consider what has the greatest impact on the overall assessment of beer – will it be the taste, appearance, or maybe the aroma of a given beer or the alcohol content? In other words, we need to check the correlation between these factors."
      ],
      "metadata": {
        "id": "kRSCJAKxPEty"
      }
    },
    {
      "cell_type": "code",
      "source": [
        "#To check correlations beetwen review_overall and taste, aroma, palate,apperance and abv I created correlation matrix\n",
        "corr_df = df[['review_appearance', 'review_palate', 'review_overall', 'review_taste', 'review_aroma','beer_abv']]\n",
        "corr_df.corr(method = 'pearson')\n",
        "_ = sns.heatmap(data=corr_df.corr(), annot=True)\n",
        "\n",
        "#Taste (0.79) and palate(0.7) has the gratest impact on the quality of a beer"
      ],
      "metadata": {
        "colab": {
          "base_uri": "https://localhost:8080/",
          "height": 0
        },
        "id": "IIhI80io-6La",
        "outputId": "41438723-f934-4e25-f36a-cf6e67075318"
      },
      "execution_count": 29,
      "outputs": [
        {
          "output_type": "display_data",
          "data": {
            "text/plain": [
              "<Figure size 640x480 with 2 Axes>"
            ],
            "image/png": "[encoded data removed]"
          },
          "metadata": {}
        }
      ]
    },
    {
      "cell_type": "markdown",
      "source": [
        "## **Question 4**\n",
        "\n",
        "*I like beer whose aroma and appearance match the style of the beer. Which beer should I buy?*\n",
        "\n",
        "---\n",
        "\n",
        "\n",
        "In this task we need to select those beer styles that are well rated overall, have a large number of ratings, and their average value for aroma and appearance ratings has the highest values."
      ],
      "metadata": {
        "id": "gVYdrMntShB0"
      }
    },
    {
      "cell_type": "code",
      "source": [
        "#Check unique beer_style\n",
        "len(df['beer_style'].unique())"
      ],
      "metadata": {
        "colab": {
          "base_uri": "https://localhost:8080/"
        },
        "id": "xBcudpp3SfdI",
        "outputId": "958cab7d-b253-4d1d-f314-d0015496e2d2"
      },
      "execution_count": 30,
      "outputs": [
        {
          "output_type": "execute_result",
          "data": {
            "text/plain": [
              "104"
            ]
          },
          "metadata": {},
          "execution_count": 30
        }
      ]
    },
    {
      "cell_type": "code",
      "source": [
        "#Number of rewiev for each beer_style\n",
        "df.groupby(['beer_style']).beer_style.count().sort_values(ascending=False)"
      ],
      "metadata": {
        "colab": {
          "base_uri": "https://localhost:8080/",
          "height": 490
        },
        "id": "TxtXRdUyiFLn",
        "outputId": "ab406038-6fef-41c5-b48c-097280e4fb26"
      },
      "execution_count": 31,
      "outputs": [
        {
          "output_type": "execute_result",
          "data": {
            "text/plain": [
              "beer_style\n",
              "American IPA                        93169\n",
              "American Double / Imperial IPA      67882\n",
              "American Double / Imperial Stout    42122\n",
              "American Pale Ale (APA)             41679\n",
              "Russian Imperial Stout              36639\n",
              "                                    ...  \n",
              "English Pale Mild Ale                 524\n",
              "Low Alcohol Beer                      487\n",
              "Roggenbier                            334\n",
              "Kvass                                 210\n",
              "Happoshu                              120\n",
              "Name: beer_style, Length: 104, dtype: int64"
            ],
            "text/html": [
              "<div>\n",
              "<style scoped>\n",
              "    .dataframe tbody tr th:only-of-type {\n",
              "        vertical-align: middle;\n",
              "    }\n",
              "\n",
              "    .dataframe tbody tr th {\n",
              "        vertical-align: top;\n",
              "    }\n",
              "\n",
              "    .dataframe thead th {\n",
              "        text-align: right;\n",
              "    }\n",
              "</style>\n",
              "<table border=\"1\" class=\"dataframe\">\n",
              "  <thead>\n",
              "    <tr style=\"text-align: right;\">\n",
              "      <th></th>\n",
              "      <th>beer_style</th>\n",
              "    </tr>\n",
              "    <tr>\n",
              "      <th>beer_style</th>\n",
              "      <th></th>\n",
              "    </tr>\n",
              "  </thead>\n",
              "  <tbody>\n",
              "    <tr>\n",
              "      <th>American IPA</th>\n",
              "      <td>93169</td>\n",
              "    </tr>\n",
              "    <tr>\n",
              "      <th>American Double / Imperial IPA</th>\n",
              "      <td>67882</td>\n",
              "    </tr>\n",
              "    <tr>\n",
              "      <th>American Double / Imperial Stout</th>\n",
              "      <td>42122</td>\n",
              "    </tr>\n",
              "    <tr>\n",
              "      <th>American Pale Ale (APA)</th>\n",
              "      <td>41679</td>\n",
              "    </tr>\n",
              "    <tr>\n",
              "      <th>Russian Imperial Stout</th>\n",
              "      <td>36639</td>\n",
              "    </tr>\n",
              "    <tr>\n",
              "      <th>...</th>\n",
              "      <td>...</td>\n",
              "    </tr>\n",
              "    <tr>\n",
              "      <th>English Pale Mild Ale</th>\n",
              "      <td>524</td>\n",
              "    </tr>\n",
              "    <tr>\n",
              "      <th>Low Alcohol Beer</th>\n",
              "      <td>487</td>\n",
              "    </tr>\n",
              "    <tr>\n",
              "      <th>Roggenbier</th>\n",
              "      <td>334</td>\n",
              "    </tr>\n",
              "    <tr>\n",
              "      <th>Kvass</th>\n",
              "      <td>210</td>\n",
              "    </tr>\n",
              "    <tr>\n",
              "      <th>Happoshu</th>\n",
              "      <td>120</td>\n",
              "    </tr>\n",
              "  </tbody>\n",
              "</table>\n",
              "<p>104 rows × 1 columns</p>\n",
              "</div><br><label><b>dtype:</b> int64</label>"
            ]
          },
          "metadata": {},
          "execution_count": 31
        }
      ]
    },
    {
      "cell_type": "code",
      "source": [
        "#Statistic for berr_style_count\n",
        "df.groupby(['beer_style']).beer_style.count().sort_values(ascending=False).describe()"
      ],
      "metadata": {
        "colab": {
          "base_uri": "https://localhost:8080/",
          "height": 335
        },
        "id": "-c8soLsxVNMV",
        "outputId": "093c79a7-80ce-46d9-b9aa-70eeff1a687f"
      },
      "execution_count": 32,
      "outputs": [
        {
          "output_type": "execute_result",
          "data": {
            "text/plain": [
              "count      104.000000\n",
              "mean     11080.961538\n",
              "std      13595.114869\n",
              "min        120.000000\n",
              "25%       3161.000000\n",
              "50%       7437.500000\n",
              "75%      13894.750000\n",
              "max      93169.000000\n",
              "Name: beer_style, dtype: float64"
            ],
            "text/html": [
              "<div>\n",
              "<style scoped>\n",
              "    .dataframe tbody tr th:only-of-type {\n",
              "        vertical-align: middle;\n",
              "    }\n",
              "\n",
              "    .dataframe tbody tr th {\n",
              "        vertical-align: top;\n",
              "    }\n",
              "\n",
              "    .dataframe thead th {\n",
              "        text-align: right;\n",
              "    }\n",
              "</style>\n",
              "<table border=\"1\" class=\"dataframe\">\n",
              "  <thead>\n",
              "    <tr style=\"text-align: right;\">\n",
              "      <th></th>\n",
              "      <th>beer_style</th>\n",
              "    </tr>\n",
              "  </thead>\n",
              "  <tbody>\n",
              "    <tr>\n",
              "      <th>count</th>\n",
              "      <td>104.000000</td>\n",
              "    </tr>\n",
              "    <tr>\n",
              "      <th>mean</th>\n",
              "      <td>11080.961538</td>\n",
              "    </tr>\n",
              "    <tr>\n",
              "      <th>std</th>\n",
              "      <td>13595.114869</td>\n",
              "    </tr>\n",
              "    <tr>\n",
              "      <th>min</th>\n",
              "      <td>120.000000</td>\n",
              "    </tr>\n",
              "    <tr>\n",
              "      <th>25%</th>\n",
              "      <td>3161.000000</td>\n",
              "    </tr>\n",
              "    <tr>\n",
              "      <th>50%</th>\n",
              "      <td>7437.500000</td>\n",
              "    </tr>\n",
              "    <tr>\n",
              "      <th>75%</th>\n",
              "      <td>13894.750000</td>\n",
              "    </tr>\n",
              "    <tr>\n",
              "      <th>max</th>\n",
              "      <td>93169.000000</td>\n",
              "    </tr>\n",
              "  </tbody>\n",
              "</table>\n",
              "</div><br><label><b>dtype:</b> float64</label>"
            ]
          },
          "metadata": {},
          "execution_count": 32
        }
      ]
    },
    {
      "cell_type": "code",
      "source": [
        "#check avg, median and count for beer_style\n",
        "beer_style = df.groupby(['beer_style']).agg({'review_overall': ['mean', 'count', 'median']}).rename(columns={'mean': 'avg', 'count': 'count', 'median': 'mediana'}).sort_values(by=[('review_overall', 'count')],ascending=False)\n",
        "beer_style.hist()\n",
        "beer_style.describe()"
      ],
      "metadata": {
        "colab": {
          "base_uri": "https://localhost:8080/",
          "height": 767
        },
        "collapsed": true,
        "id": "V0iX_dNdibCY",
        "outputId": "f0b363d8-9119-4cb5-c8f3-7b6567b30d42"
      },
      "execution_count": 33,
      "outputs": [
        {
          "output_type": "execute_result",
          "data": {
            "text/plain": [
              "      review_overall                          \n",
              "                 avg         count     mediana\n",
              "count     104.000000    104.000000  104.000000\n",
              "mean        3.740736  11080.961538    3.860577\n",
              "std         0.300321  13595.114869    0.315126\n",
              "min         2.628337    120.000000    2.500000\n",
              "25%         3.690938   3161.000000    4.000000\n",
              "50%         3.824821   7437.500000    4.000000\n",
              "75%         3.898867  13894.750000    4.000000\n",
              "max         4.126693  93169.000000    4.000000"
            ],
            "text/html": [
              "\n",
              "  <div id=\"df-21404720-9def-48a6-a051-38eba5d85c32\" class=\"colab-df-container\">\n",
              "    <div>\n",
              "<style scoped>\n",
              "    .dataframe tbody tr th:only-of-type {\n",
              "        vertical-align: middle;\n",
              "    }\n",
              "\n",
              "    .dataframe tbody tr th {\n",
              "        vertical-align: top;\n",
              "    }\n",
              "\n",
              "    .dataframe thead tr th {\n",
              "        text-align: left;\n",
              "    }\n",
              "</style>\n",
              "<table border=\"1\" class=\"dataframe\">\n",
              "  <thead>\n",
              "    <tr>\n",
              "      <th></th>\n",
              "      <th colspan=\"3\" halign=\"left\">review_overall</th>\n",
              "    </tr>\n",
              "    <tr>\n",
              "      <th></th>\n",
              "      <th>avg</th>\n",
              "      <th>count</th>\n",
              "      <th>mediana</th>\n",
              "    </tr>\n",
              "  </thead>\n",
              "  <tbody>\n",
              "    <tr>\n",
              "      <th>count</th>\n",
              "      <td>104.000000</td>\n",
              "      <td>104.000000</td>\n",
              "      <td>104.000000</td>\n",
              "    </tr>\n",
              "    <tr>\n",
              "      <th>mean</th>\n",
              "      <td>3.740736</td>\n",
              "      <td>11080.961538</td>\n",
              "      <td>3.860577</td>\n",
              "    </tr>\n",
              "    <tr>\n",
              "      <th>std</th>\n",
              "      <td>0.300321</td>\n",
              "      <td>13595.114869</td>\n",
              "      <td>0.315126</td>\n",
              "    </tr>\n",
              "    <tr>\n",
              "      <th>min</th>\n",
              "      <td>2.628337</td>\n",
              "      <td>120.000000</td>\n",
              "      <td>2.500000</td>\n",
              "    </tr>\n",
              "    <tr>\n",
              "      <th>25%</th>\n",
              "      <td>3.690938</td>\n",
              "      <td>3161.000000</td>\n",
              "      <td>4.000000</td>\n",
              "    </tr>\n",
              "    <tr>\n",
              "      <th>50%</th>\n",
              "      <td>3.824821</td>\n",
              "      <td>7437.500000</td>\n",
              "      <td>4.000000</td>\n",
              "    </tr>\n",
              "    <tr>\n",
              "      <th>75%</th>\n",
              "      <td>3.898867</td>\n",
              "      <td>13894.750000</td>\n",
              "      <td>4.000000</td>\n",
              "    </tr>\n",
              "    <tr>\n",
              "      <th>max</th>\n",
              "      <td>4.126693</td>\n",
              "      <td>93169.000000</td>\n",
              "      <td>4.000000</td>\n",
              "    </tr>\n",
              "  </tbody>\n",
              "</table>\n",
              "</div>\n",
              "    <div class=\"colab-df-buttons\">\n",
              "\n",
              "  <div class=\"colab-df-container\">\n",
              "    <button class=\"colab-df-convert\" onclick=\"convertToInteractive('df-21404720-9def-48a6-a051-38eba5d85c32')\"\n",
              "            title=\"Convert this dataframe to an interactive table.\"\n",
              "            style=\"display:none;\">\n",
              "\n",
              "  <svg xmlns=\"http://www.w3.org/2000/svg\" height=\"24px\" viewBox=\"0 -960 960 960\">\n",
              "    <path d=\"M120-120v-720h720v720H120Zm60-500h600v-160H180v160Zm220 220h160v-160H400v160Zm0 220h160v-160H400v160ZM180-400h160v-160H180v160Zm440 0h160v-160H620v160ZM180-180h160v-160H180v160Zm440 0h160v-160H620v160Z\"/>\n",
              "  </svg>\n",
              "    </button>\n",
              "\n",
              "  <style>\n",
              "    .colab-df-container {\n",
              "      display:flex;\n",
              "      gap: 12px;\n",
              "    }\n",
              "\n",
              "    .colab-df-convert {\n",
              "      background-color: #E8F0FE;\n",
              "      border: none;\n",
              "      border-radius: 50%;\n",
              "      cursor: pointer;\n",
              "      display: none;\n",
              "      fill: #1967D2;\n",
              "      height: 32px;\n",
              "      padding: 0 0 0 0;\n",
              "      width: 32px;\n",
              "    }\n",
              "\n",
              "    .colab-df-convert:hover {\n",
              "      background-color: #E2EBFA;\n",
              "      box-shadow: 0px 1px 2px rgba(60, 64, 67, 0.3), 0px 1px 3px 1px rgba(60, 64, 67, 0.15);\n",
              "      fill: #174EA6;\n",
              "    }\n",
              "\n",
              "    .colab-df-buttons div {\n",
              "      margin-bottom: 4px;\n",
              "    }\n",
              "\n",
              "    [theme=dark] .colab-df-convert {\n",
              "      background-color: #3B4455;\n",
              "      fill: #D2E3FC;\n",
              "    }\n",
              "\n",
              "    [theme=dark] .colab-df-convert:hover {\n",
              "      background-color: #434B5C;\n",
              "      box-shadow: 0px 1px 3px 1px rgba(0, 0, 0, 0.15);\n",
              "      filter: drop-shadow(0px 1px 2px rgba(0, 0, 0, 0.3));\n",
              "      fill: #FFFFFF;\n",
              "    }\n",
              "  </style>\n",
              "\n",
              "    <script>\n",
              "      const buttonEl =\n",
              "        document.querySelector('#df-21404720-9def-48a6-a051-38eba5d85c32 button.colab-df-convert');\n",
              "      buttonEl.style.display =\n",
              "        google.colab.kernel.accessAllowed ? 'block' : 'none';\n",
              "\n",
              "      async function convertToInteractive(key) {\n",
              "        const element = document.querySelector('#df-21404720-9def-48a6-a051-38eba5d85c32');\n",
              "        const dataTable =\n",
              "          await google.colab.kernel.invokeFunction('convertToInteractive',\n",
              "                                                    [key], {});\n",
              "        if (!dataTable) return;\n",
              "\n",
              "        const docLinkHtml = 'Like what you see? Visit the ' +\n",
              "          '<a target=\"_blank\" href=https://colab.research.google.com/notebooks/data_table.ipynb>data table notebook</a>'\n",
              "          + ' to learn more about interactive tables.';\n",
              "        element.innerHTML = '';\n",
              "        dataTable['output_type'] = 'display_data';\n",
              "        await google.colab.output.renderOutput(dataTable, element);\n",
              "        const docLink = document.createElement('div');\n",
              "        docLink.innerHTML = docLinkHtml;\n",
              "        element.appendChild(docLink);\n",
              "      }\n",
              "    </script>\n",
              "  </div>\n",
              "\n",
              "\n",
              "<div id=\"df-2b2601c2-455a-436b-a25f-3a53b4c80c25\">\n",
              "  <button class=\"colab-df-quickchart\" onclick=\"quickchart('df-2b2601c2-455a-436b-a25f-3a53b4c80c25')\"\n",
              "            title=\"Suggest charts\"\n",
              "            style=\"display:none;\">\n",
              "\n",
              "<svg xmlns=\"http://www.w3.org/2000/svg\" height=\"24px\"viewBox=\"0 0 24 24\"\n",
              "     width=\"24px\">\n",
              "    <g>\n",
              "        <path d=\"M19 3H5c-1.1 0-2 .9-2 2v14c0 1.1.9 2 2 2h14c1.1 0 2-.9 2-2V5c0-1.1-.9-2-2-2zM9 17H7v-7h2v7zm4 0h-2V7h2v10zm4 0h-2v-4h2v4z\"/>\n",
              "    </g>\n",
              "</svg>\n",
              "  </button>\n",
              "\n",
              "<style>\n",
              "  .colab-df-quickchart {\n",
              "      --bg-color: #E8F0FE;\n",
              "      --fill-color: #1967D2;\n",
              "      --hover-bg-color: #E2EBFA;\n",
              "      --hover-fill-color: #174EA6;\n",
              "      --disabled-fill-color: #AAA;\n",
              "      --disabled-bg-color: #DDD;\n",
              "  }\n",
              "\n",
              "  [theme=dark] .colab-df-quickchart {\n",
              "      --bg-color: #3B4455;\n",
              "      --fill-color: #D2E3FC;\n",
              "      --hover-bg-color: #434B5C;\n",
              "      --hover-fill-color: #FFFFFF;\n",
              "      --disabled-bg-color: #3B4455;\n",
              "      --disabled-fill-color: #666;\n",
              "  }\n",
              "\n",
              "  .colab-df-quickchart {\n",
              "    background-color: var(--bg-color);\n",
              "    border: none;\n",
              "    border-radius: 50%;\n",
              "    cursor: pointer;\n",
              "    display: none;\n",
              "    fill: var(--fill-color);\n",
              "    height: 32px;\n",
              "    padding: 0;\n",
              "    width: 32px;\n",
              "  }\n",
              "\n",
              "  .colab-df-quickchart:hover {\n",
              "    background-color: var(--hover-bg-color);\n",
              "    box-shadow: 0 1px 2px rgba(60, 64, 67, 0.3), 0 1px 3px 1px rgba(60, 64, 67, 0.15);\n",
              "    fill: var(--button-hover-fill-color);\n",
              "  }\n",
              "\n",
              "  .colab-df-quickchart-complete:disabled,\n",
              "  .colab-df-quickchart-complete:disabled:hover {\n",
              "    background-color: var(--disabled-bg-color);\n",
              "    fill: var(--disabled-fill-color);\n",
              "    box-shadow: none;\n",
              "  }\n",
              "\n",
              "  .colab-df-spinner {\n",
              "    border: 2px solid var(--fill-color);\n",
              "    border-color: transparent;\n",
              "    border-bottom-color: var(--fill-color);\n",
              "    animation:\n",
              "      spin 1s steps(1) infinite;\n",
              "  }\n",
              "\n",
              "  @keyframes spin {\n",
              "    0% {\n",
              "      border-color: transparent;\n",
              "      border-bottom-color: var(--fill-color);\n",
              "      border-left-color: var(--fill-color);\n",
              "    }\n",
              "    20% {\n",
              "      border-color: transparent;\n",
              "      border-left-color: var(--fill-color);\n",
              "      border-top-color: var(--fill-color);\n",
              "    }\n",
              "    30% {\n",
              "      border-color: transparent;\n",
              "      border-left-color: var(--fill-color);\n",
              "      border-top-color: var(--fill-color);\n",
              "      border-right-color: var(--fill-color);\n",
              "    }\n",
              "    40% {\n",
              "      border-color: transparent;\n",
              "      border-right-color: var(--fill-color);\n",
              "      border-top-color: var(--fill-color);\n",
              "    }\n",
              "    60% {\n",
              "      border-color: transparent;\n",
              "      border-right-color: var(--fill-color);\n",
              "    }\n",
              "    80% {\n",
              "      border-color: transparent;\n",
              "      border-right-color: var(--fill-color);\n",
              "      border-bottom-color: var(--fill-color);\n",
              "    }\n",
              "    90% {\n",
              "      border-color: transparent;\n",
              "      border-bottom-color: var(--fill-color);\n",
              "    }\n",
              "  }\n",
              "</style>\n",
              "\n",
              "  <script>\n",
              "    async function quickchart(key) {\n",
              "      const quickchartButtonEl =\n",
              "        document.querySelector('#' + key + ' button');\n",
              "      quickchartButtonEl.disabled = true;  // To prevent multiple clicks.\n",
              "      quickchartButtonEl.classList.add('colab-df-spinner');\n",
              "      try {\n",
              "        const charts = await google.colab.kernel.invokeFunction(\n",
              "            'suggestCharts', [key], {});\n",
              "      } catch (error) {\n",
              "        console.error('Error during call to suggestCharts:', error);\n",
              "      }\n",
              "      quickchartButtonEl.classList.remove('colab-df-spinner');\n",
              "      quickchartButtonEl.classList.add('colab-df-quickchart-complete');\n",
              "    }\n",
              "    (() => {\n",
              "      let quickchartButtonEl =\n",
              "        document.querySelector('#df-2b2601c2-455a-436b-a25f-3a53b4c80c25 button');\n",
              "      quickchartButtonEl.style.display =\n",
              "        google.colab.kernel.accessAllowed ? 'block' : 'none';\n",
              "    })();\n",
              "  </script>\n",
              "</div>\n",
              "\n",
              "    </div>\n",
              "  </div>\n"
            ],
            "application/vnd.google.colaboratory.intrinsic+json": {
              "type": "dataframe",
              "summary": "{\n  \"name\": \"beer_style\",\n  \"rows\": 8,\n  \"fields\": [\n    {\n      \"column\": [\n        \"review_overall\",\n        \"avg\"\n      ],\n      \"properties\": {\n        \"dtype\": \"number\",\n        \"std\": 35.66977806942364,\n        \"min\": 0.3003209217620277,\n        \"max\": 104.0,\n        \"num_unique_values\": 8,\n        \"samples\": [\n          3.740736338609305,\n          3.824821203103238,\n          104.0\n        ],\n        \"semantic_type\": \"\",\n        \"description\": \"\"\n      }\n    },\n    {\n      \"column\": [\n        \"review_overall\",\n        \"count\"\n      ],\n      \"properties\": {\n        \"dtype\": \"number\",\n        \"std\": 30951.512598384783,\n        \"min\": 104.0,\n        \"max\": 93169.0,\n        \"num_unique_values\": 8,\n        \"samples\": [\n          11080.961538461539,\n          7437.5,\n          104.0\n        ],\n        \"semantic_type\": \"\",\n        \"description\": \"\"\n      }\n    },\n    {\n      \"column\": [\n        \"review_overall\",\n        \"mediana\"\n      ],\n      \"properties\": {\n        \"dtype\": \"number\",\n        \"std\": 35.64790444384777,\n        \"min\": 0.3151261942416668,\n        \"max\": 104.0,\n        \"num_unique_values\": 5,\n        \"samples\": [\n          3.860576923076923,\n          4.0,\n          0.3151261942416668\n        ],\n        \"semantic_type\": \"\",\n        \"description\": \"\"\n      }\n    }\n  ]\n}"
            }
          },
          "metadata": {},
          "execution_count": 33
        },
        {
          "output_type": "display_data",
          "data": {
            "text/plain": [
              "<Figure size 640x480 with 4 Axes>"
            ],
            "image/png": "[encoded data removed]"
          },
          "metadata": {}
        }
      ]
    },
    {
      "cell_type": "code",
      "source": [
        "#To further analyzys I took data with review_overall avg more then 4.0 and number od review more then 1000\n",
        "beer_style_all = df.groupby(['beer_style']).agg(\n",
        "    {'review_overall': ['count', 'mean'],\n",
        "     'review_aroma':['mean'],\n",
        "     'review_appearance': ['mean']}\n",
        "    ).rename(columns={'mean': 'avg'}).sort_values(\n",
        "        by=[('review_overall', 'avg')],ascending=False)\n",
        "\n",
        "\n",
        "beer_style_top = beer_style_all[(beer_style_all[('review_overall', 'count')]>1000) & (beer_style_all[('review_overall', 'avg')]>4)]  # 8 beer_sytyle\n",
        "beer_style_top"
      ],
      "metadata": {
        "colab": {
          "base_uri": "https://localhost:8080/",
          "height": 363
        },
        "id": "aFK7mtuXovIm",
        "outputId": "22fb3c54-acbc-479e-e2c2-1960e77c5899"
      },
      "execution_count": 34,
      "outputs": [
        {
          "output_type": "execute_result",
          "data": {
            "text/plain": [
              "                                 review_overall           review_aroma  \\\n",
              "                                          count       avg          avg   \n",
              "beer_style                                                               \n",
              "Gueuze                                     4503  4.126693     4.151566   \n",
              "American Wild Ale                         15225  4.120657     4.151232   \n",
              "Weizenbock                                 7358  4.034928     4.058440   \n",
              "American Double / Imperial Stout          42122  4.031053     4.179716   \n",
              "Rye Beer                                   8262  4.029412     3.969862   \n",
              "Flanders Red Ale                           6074  4.002223     4.056141   \n",
              "Russian Imperial Stout                    36639  4.001392     4.062693   \n",
              "American Double / Imperial IPA            67882  4.001112     4.110685   \n",
              "\n",
              "                                 review_appearance  \n",
              "                                               avg  \n",
              "beer_style                                          \n",
              "Gueuze                                    4.051632  \n",
              "American Wild Ale                         4.021544  \n",
              "Weizenbock                                4.030307  \n",
              "American Double / Imperial Stout          4.177841  \n",
              "Rye Beer                                  4.070806  \n",
              "Flanders Red Ale                          4.016793  \n",
              "Russian Imperial Stout                    4.190589  \n",
              "American Double / Imperial IPA            4.089619  "
            ],
            "text/html": [
              "\n",
              "  <div id=\"df-a7aaeb57-2f07-4dc1-9af4-d282e9d4a9ef\" class=\"colab-df-container\">\n",
              "    <div>\n",
              "<style scoped>\n",
              "    .dataframe tbody tr th:only-of-type {\n",
              "        vertical-align: middle;\n",
              "    }\n",
              "\n",
              "    .dataframe tbody tr th {\n",
              "        vertical-align: top;\n",
              "    }\n",
              "\n",
              "    .dataframe thead tr th {\n",
              "        text-align: left;\n",
              "    }\n",
              "\n",
              "    .dataframe thead tr:last-of-type th {\n",
              "        text-align: right;\n",
              "    }\n",
              "</style>\n",
              "<table border=\"1\" class=\"dataframe\">\n",
              "  <thead>\n",
              "    <tr>\n",
              "      <th></th>\n",
              "      <th colspan=\"2\" halign=\"left\">review_overall</th>\n",
              "      <th>review_aroma</th>\n",
              "      <th>review_appearance</th>\n",
              "    </tr>\n",
              "    <tr>\n",
              "      <th></th>\n",
              "      <th>count</th>\n",
              "      <th>avg</th>\n",
              "      <th>avg</th>\n",
              "      <th>avg</th>\n",
              "    </tr>\n",
              "    <tr>\n",
              "      <th>beer_style</th>\n",
              "      <th></th>\n",
              "      <th></th>\n",
              "      <th></th>\n",
              "      <th></th>\n",
              "    </tr>\n",
              "  </thead>\n",
              "  <tbody>\n",
              "    <tr>\n",
              "      <th>Gueuze</th>\n",
              "      <td>4503</td>\n",
              "      <td>4.126693</td>\n",
              "      <td>4.151566</td>\n",
              "      <td>4.051632</td>\n",
              "    </tr>\n",
              "    <tr>\n",
              "      <th>American Wild Ale</th>\n",
              "      <td>15225</td>\n",
              "      <td>4.120657</td>\n",
              "      <td>4.151232</td>\n",
              "      <td>4.021544</td>\n",
              "    </tr>\n",
              "    <tr>\n",
              "      <th>Weizenbock</th>\n",
              "      <td>7358</td>\n",
              "      <td>4.034928</td>\n",
              "      <td>4.058440</td>\n",
              "      <td>4.030307</td>\n",
              "    </tr>\n",
              "    <tr>\n",
              "      <th>American Double / Imperial Stout</th>\n",
              "      <td>42122</td>\n",
              "      <td>4.031053</td>\n",
              "      <td>4.179716</td>\n",
              "      <td>4.177841</td>\n",
              "    </tr>\n",
              "    <tr>\n",
              "      <th>Rye Beer</th>\n",
              "      <td>8262</td>\n",
              "      <td>4.029412</td>\n",
              "      <td>3.969862</td>\n",
              "      <td>4.070806</td>\n",
              "    </tr>\n",
              "    <tr>\n",
              "      <th>Flanders Red Ale</th>\n",
              "      <td>6074</td>\n",
              "      <td>4.002223</td>\n",
              "      <td>4.056141</td>\n",
              "      <td>4.016793</td>\n",
              "    </tr>\n",
              "    <tr>\n",
              "      <th>Russian Imperial Stout</th>\n",
              "      <td>36639</td>\n",
              "      <td>4.001392</td>\n",
              "      <td>4.062693</td>\n",
              "      <td>4.190589</td>\n",
              "    </tr>\n",
              "    <tr>\n",
              "      <th>American Double / Imperial IPA</th>\n",
              "      <td>67882</td>\n",
              "      <td>4.001112</td>\n",
              "      <td>4.110685</td>\n",
              "      <td>4.089619</td>\n",
              "    </tr>\n",
              "  </tbody>\n",
              "</table>\n",
              "</div>\n",
              "    <div class=\"colab-df-buttons\">\n",
              "\n",
              "  <div class=\"colab-df-container\">\n",
              "    <button class=\"colab-df-convert\" onclick=\"convertToInteractive('df-a7aaeb57-2f07-4dc1-9af4-d282e9d4a9ef')\"\n",
              "            title=\"Convert this dataframe to an interactive table.\"\n",
              "            style=\"display:none;\">\n",
              "\n",
              "  <svg xmlns=\"http://www.w3.org/2000/svg\" height=\"24px\" viewBox=\"0 -960 960 960\">\n",
              "    <path d=\"M120-120v-720h720v720H120Zm60-500h600v-160H180v160Zm220 220h160v-160H400v160Zm0 220h160v-160H400v160ZM180-400h160v-160H180v160Zm440 0h160v-160H620v160ZM180-180h160v-160H180v160Zm440 0h160v-160H620v160Z\"/>\n",
              "  </svg>\n",
              "    </button>\n",
              "\n",
              "  <style>\n",
              "    .colab-df-container {\n",
              "      display:flex;\n",
              "      gap: 12px;\n",
              "    }\n",
              "\n",
              "    .colab-df-convert {\n",
              "      background-color: #E8F0FE;\n",
              "      border: none;\n",
              "      border-radius: 50%;\n",
              "      cursor: pointer;\n",
              "      display: none;\n",
              "      fill: #1967D2;\n",
              "      height: 32px;\n",
              "      padding: 0 0 0 0;\n",
              "      width: 32px;\n",
              "    }\n",
              "\n",
              "    .colab-df-convert:hover {\n",
              "      background-color: #E2EBFA;\n",
              "      box-shadow: 0px 1px 2px rgba(60, 64, 67, 0.3), 0px 1px 3px 1px rgba(60, 64, 67, 0.15);\n",
              "      fill: #174EA6;\n",
              "    }\n",
              "\n",
              "    .colab-df-buttons div {\n",
              "      margin-bottom: 4px;\n",
              "    }\n",
              "\n",
              "    [theme=dark] .colab-df-convert {\n",
              "      background-color: #3B4455;\n",
              "      fill: #D2E3FC;\n",
              "    }\n",
              "\n",
              "    [theme=dark] .colab-df-convert:hover {\n",
              "      background-color: #434B5C;\n",
              "      box-shadow: 0px 1px 3px 1px rgba(0, 0, 0, 0.15);\n",
              "      filter: drop-shadow(0px 1px 2px rgba(0, 0, 0, 0.3));\n",
              "      fill: #FFFFFF;\n",
              "    }\n",
              "  </style>\n",
              "\n",
              "    <script>\n",
              "      const buttonEl =\n",
              "        document.querySelector('#df-a7aaeb57-2f07-4dc1-9af4-d282e9d4a9ef button.colab-df-convert');\n",
              "      buttonEl.style.display =\n",
              "        google.colab.kernel.accessAllowed ? 'block' : 'none';\n",
              "\n",
              "      async function convertToInteractive(key) {\n",
              "        const element = document.querySelector('#df-a7aaeb57-2f07-4dc1-9af4-d282e9d4a9ef');\n",
              "        const dataTable =\n",
              "          await google.colab.kernel.invokeFunction('convertToInteractive',\n",
              "                                                    [key], {});\n",
              "        if (!dataTable) return;\n",
              "\n",
              "        const docLinkHtml = 'Like what you see? Visit the ' +\n",
              "          '<a target=\"_blank\" href=https://colab.research.google.com/notebooks/data_table.ipynb>data table notebook</a>'\n",
              "          + ' to learn more about interactive tables.';\n",
              "        element.innerHTML = '';\n",
              "        dataTable['output_type'] = 'display_data';\n",
              "        await google.colab.output.renderOutput(dataTable, element);\n",
              "        const docLink = document.createElement('div');\n",
              "        docLink.innerHTML = docLinkHtml;\n",
              "        element.appendChild(docLink);\n",
              "      }\n",
              "    </script>\n",
              "  </div>\n",
              "\n",
              "\n",
              "<div id=\"df-6e5e7dea-8934-4457-8f15-9525ac7bfc0b\">\n",
              "  <button class=\"colab-df-quickchart\" onclick=\"quickchart('df-6e5e7dea-8934-4457-8f15-9525ac7bfc0b')\"\n",
              "            title=\"Suggest charts\"\n",
              "            style=\"display:none;\">\n",
              "\n",
              "<svg xmlns=\"http://www.w3.org/2000/svg\" height=\"24px\"viewBox=\"0 0 24 24\"\n",
              "     width=\"24px\">\n",
              "    <g>\n",
              "        <path d=\"M19 3H5c-1.1 0-2 .9-2 2v14c0 1.1.9 2 2 2h14c1.1 0 2-.9 2-2V5c0-1.1-.9-2-2-2zM9 17H7v-7h2v7zm4 0h-2V7h2v10zm4 0h-2v-4h2v4z\"/>\n",
              "    </g>\n",
              "</svg>\n",
              "  </button>\n",
              "\n",
              "<style>\n",
              "  .colab-df-quickchart {\n",
              "      --bg-color: #E8F0FE;\n",
              "      --fill-color: #1967D2;\n",
              "      --hover-bg-color: #E2EBFA;\n",
              "      --hover-fill-color: #174EA6;\n",
              "      --disabled-fill-color: #AAA;\n",
              "      --disabled-bg-color: #DDD;\n",
              "  }\n",
              "\n",
              "  [theme=dark] .colab-df-quickchart {\n",
              "      --bg-color: #3B4455;\n",
              "      --fill-color: #D2E3FC;\n",
              "      --hover-bg-color: #434B5C;\n",
              "      --hover-fill-color: #FFFFFF;\n",
              "      --disabled-bg-color: #3B4455;\n",
              "      --disabled-fill-color: #666;\n",
              "  }\n",
              "\n",
              "  .colab-df-quickchart {\n",
              "    background-color: var(--bg-color);\n",
              "    border: none;\n",
              "    border-radius: 50%;\n",
              "    cursor: pointer;\n",
              "    display: none;\n",
              "    fill: var(--fill-color);\n",
              "    height: 32px;\n",
              "    padding: 0;\n",
              "    width: 32px;\n",
              "  }\n",
              "\n",
              "  .colab-df-quickchart:hover {\n",
              "    background-color: var(--hover-bg-color);\n",
              "    box-shadow: 0 1px 2px rgba(60, 64, 67, 0.3), 0 1px 3px 1px rgba(60, 64, 67, 0.15);\n",
              "    fill: var(--button-hover-fill-color);\n",
              "  }\n",
              "\n",
              "  .colab-df-quickchart-complete:disabled,\n",
              "  .colab-df-quickchart-complete:disabled:hover {\n",
              "    background-color: var(--disabled-bg-color);\n",
              "    fill: var(--disabled-fill-color);\n",
              "    box-shadow: none;\n",
              "  }\n",
              "\n",
              "  .colab-df-spinner {\n",
              "    border: 2px solid var(--fill-color);\n",
              "    border-color: transparent;\n",
              "    border-bottom-color: var(--fill-color);\n",
              "    animation:\n",
              "      spin 1s steps(1) infinite;\n",
              "  }\n",
              "\n",
              "  @keyframes spin {\n",
              "    0% {\n",
              "      border-color: transparent;\n",
              "      border-bottom-color: var(--fill-color);\n",
              "      border-left-color: var(--fill-color);\n",
              "    }\n",
              "    20% {\n",
              "      border-color: transparent;\n",
              "      border-left-color: var(--fill-color);\n",
              "      border-top-color: var(--fill-color);\n",
              "    }\n",
              "    30% {\n",
              "      border-color: transparent;\n",
              "      border-left-color: var(--fill-color);\n",
              "      border-top-color: var(--fill-color);\n",
              "      border-right-color: var(--fill-color);\n",
              "    }\n",
              "    40% {\n",
              "      border-color: transparent;\n",
              "      border-right-color: var(--fill-color);\n",
              "      border-top-color: var(--fill-color);\n",
              "    }\n",
              "    60% {\n",
              "      border-color: transparent;\n",
              "      border-right-color: var(--fill-color);\n",
              "    }\n",
              "    80% {\n",
              "      border-color: transparent;\n",
              "      border-right-color: var(--fill-color);\n",
              "      border-bottom-color: var(--fill-color);\n",
              "    }\n",
              "    90% {\n",
              "      border-color: transparent;\n",
              "      border-bottom-color: var(--fill-color);\n",
              "    }\n",
              "  }\n",
              "</style>\n",
              "\n",
              "  <script>\n",
              "    async function quickchart(key) {\n",
              "      const quickchartButtonEl =\n",
              "        document.querySelector('#' + key + ' button');\n",
              "      quickchartButtonEl.disabled = true;  // To prevent multiple clicks.\n",
              "      quickchartButtonEl.classList.add('colab-df-spinner');\n",
              "      try {\n",
              "        const charts = await google.colab.kernel.invokeFunction(\n",
              "            'suggestCharts', [key], {});\n",
              "      } catch (error) {\n",
              "        console.error('Error during call to suggestCharts:', error);\n",
              "      }\n",
              "      quickchartButtonEl.classList.remove('colab-df-spinner');\n",
              "      quickchartButtonEl.classList.add('colab-df-quickchart-complete');\n",
              "    }\n",
              "    (() => {\n",
              "      let quickchartButtonEl =\n",
              "        document.querySelector('#df-6e5e7dea-8934-4457-8f15-9525ac7bfc0b button');\n",
              "      quickchartButtonEl.style.display =\n",
              "        google.colab.kernel.accessAllowed ? 'block' : 'none';\n",
              "    })();\n",
              "  </script>\n",
              "</div>\n",
              "\n",
              "  <div id=\"id_6896b359-8edb-4453-9b02-f568d2e07bdf\">\n",
              "    <style>\n",
              "      .colab-df-generate {\n",
              "        background-color: #E8F0FE;\n",
              "        border: none;\n",
              "        border-radius: 50%;\n",
              "        cursor: pointer;\n",
              "        display: none;\n",
              "        fill: #1967D2;\n",
              "        height: 32px;\n",
              "        padding: 0 0 0 0;\n",
              "        width: 32px;\n",
              "      }\n",
              "\n",
              "      .colab-df-generate:hover {\n",
              "        background-color: #E2EBFA;\n",
              "        box-shadow: 0px 1px 2px rgba(60, 64, 67, 0.3), 0px 1px 3px 1px rgba(60, 64, 67, 0.15);\n",
              "        fill: #174EA6;\n",
              "      }\n",
              "\n",
              "      [theme=dark] .colab-df-generate {\n",
              "        background-color: #3B4455;\n",
              "        fill: #D2E3FC;\n",
              "      }\n",
              "\n",
              "      [theme=dark] .colab-df-generate:hover {\n",
              "        background-color: #434B5C;\n",
              "        box-shadow: 0px 1px 3px 1px rgba(0, 0, 0, 0.15);\n",
              "        filter: drop-shadow(0px 1px 2px rgba(0, 0, 0, 0.3));\n",
              "        fill: #FFFFFF;\n",
              "      }\n",
              "    </style>\n",
              "    <button class=\"colab-df-generate\" onclick=\"generateWithVariable('beer_style_top')\"\n",
              "            title=\"Generate code using this dataframe.\"\n",
              "            style=\"display:none;\">\n",
              "\n",
              "  <svg xmlns=\"http://www.w3.org/2000/svg\" height=\"24px\"viewBox=\"0 0 24 24\"\n",
              "       width=\"24px\">\n",
              "    <path d=\"M7,19H8.4L18.45,9,17,7.55,7,17.6ZM5,21V16.75L18.45,3.32a2,2,0,0,1,2.83,0l1.4,1.43a1.91,1.91,0,0,1,.58,1.4,1.91,1.91,0,0,1-.58,1.4L9.25,21ZM18.45,9,17,7.55Zm-12,3A5.31,5.31,0,0,0,4.9,8.1,5.31,5.31,0,0,0,1,6.5,5.31,5.31,0,0,0,4.9,4.9,5.31,5.31,0,0,0,6.5,1,5.31,5.31,0,0,0,8.1,4.9,5.31,5.31,0,0,0,12,6.5,5.46,5.46,0,0,0,6.5,12Z\"/>\n",
              "  </svg>\n",
              "    </button>\n",
              "    <script>\n",
              "      (() => {\n",
              "      const buttonEl =\n",
              "        document.querySelector('#id_6896b359-8edb-4453-9b02-f568d2e07bdf button.colab-df-generate');\n",
              "      buttonEl.style.display =\n",
              "        google.colab.kernel.accessAllowed ? 'block' : 'none';\n",
              "\n",
              "      buttonEl.onclick = () => {\n",
              "        google.colab.notebook.generateWithVariable('beer_style_top');\n",
              "      }\n",
              "      })();\n",
              "    </script>\n",
              "  </div>\n",
              "\n",
              "    </div>\n",
              "  </div>\n"
            ],
            "application/vnd.google.colaboratory.intrinsic+json": {
              "type": "dataframe",
              "variable_name": "beer_style_top",
              "summary": "{\n  \"name\": \"beer_style_top\",\n  \"rows\": 8,\n  \"fields\": [\n    {\n      \"column\": [\n        \"beer_style\",\n        \"\"\n      ],\n      \"properties\": {\n        \"dtype\": \"string\",\n        \"num_unique_values\": 8,\n        \"samples\": [\n          \"American Wild Ale\",\n          \"Flanders Red Ale\",\n          \"Gueuze\"\n        ],\n        \"semantic_type\": \"\",\n        \"description\": \"\"\n      }\n    },\n    {\n      \"column\": [\n        \"review_overall\",\n        \"count\"\n      ],\n      \"properties\": {\n        \"dtype\": \"number\",\n        \"std\": 23037,\n        \"min\": 4503,\n        \"max\": 67882,\n        \"num_unique_values\": 8,\n        \"samples\": [\n          15225,\n          6074,\n          4503\n        ],\n        \"semantic_type\": \"\",\n        \"description\": \"\"\n      }\n    },\n    {\n      \"column\": [\n        \"review_overall\",\n        \"avg\"\n      ],\n      \"properties\": {\n        \"dtype\": \"number\",\n        \"std\": 0.05151254543889213,\n        \"min\": 4.001112224153679,\n        \"max\": 4.126693315567399,\n        \"num_unique_values\": 8,\n        \"samples\": [\n          4.120656814449918,\n          4.002222588080342,\n          4.126693315567399\n        ],\n        \"semantic_type\": \"\",\n        \"description\": \"\"\n      }\n    },\n    {\n      \"column\": [\n        \"review_aroma\",\n        \"avg\"\n      ],\n      \"properties\": {\n        \"dtype\": \"number\",\n        \"std\": 0.06895762418967587,\n        \"min\": 3.969862018881627,\n        \"max\": 4.179716062865011,\n        \"num_unique_values\": 8,\n        \"samples\": [\n          4.151231527093596,\n          4.056140928547909,\n          4.151565622918055\n        ],\n        \"semantic_type\": \"\",\n        \"description\": \"\"\n      }\n    },\n    {\n      \"column\": [\n        \"review_appearance\",\n        \"avg\"\n      ],\n      \"properties\": {\n        \"dtype\": \"number\",\n        \"std\": 0.06830163789221712,\n        \"min\": 4.016792887718143,\n        \"max\": 4.190589262807391,\n        \"num_unique_values\": 8,\n        \"samples\": [\n          4.021543513957307,\n          4.016792887718143,\n          4.051632245169887\n        ],\n        \"semantic_type\": \"\",\n        \"description\": \"\"\n      }\n    }\n  ]\n}"
            }
          },
          "metadata": {},
          "execution_count": 34
        }
      ]
    },
    {
      "cell_type": "code",
      "source": [
        "#looking for beer_style which have avg aroma and apperance more then 4.0\n",
        "beer_style_top=beer_style_top[\n",
        "    (beer_style_top[('review_aroma', 'avg')]>4) &\n",
        "    (beer_style_top[('review_appearance', 'avg')]>4)\n",
        "    ]\n",
        "beer_style_top"
      ],
      "metadata": {
        "colab": {
          "base_uri": "https://localhost:8080/",
          "height": 332
        },
        "id": "wPlwiv_jsP7p",
        "outputId": "a23fefed-4d3f-4103-8fac-3f148ad03059"
      },
      "execution_count": 35,
      "outputs": [
        {
          "output_type": "execute_result",
          "data": {
            "text/plain": [
              "                                 review_overall           review_aroma  \\\n",
              "                                          count       avg          avg   \n",
              "beer_style                                                               \n",
              "Gueuze                                     4503  4.126693     4.151566   \n",
              "American Wild Ale                         15225  4.120657     4.151232   \n",
              "Weizenbock                                 7358  4.034928     4.058440   \n",
              "American Double / Imperial Stout          42122  4.031053     4.179716   \n",
              "Flanders Red Ale                           6074  4.002223     4.056141   \n",
              "Russian Imperial Stout                    36639  4.001392     4.062693   \n",
              "American Double / Imperial IPA            67882  4.001112     4.110685   \n",
              "\n",
              "                                 review_appearance  \n",
              "                                               avg  \n",
              "beer_style                                          \n",
              "Gueuze                                    4.051632  \n",
              "American Wild Ale                         4.021544  \n",
              "Weizenbock                                4.030307  \n",
              "American Double / Imperial Stout          4.177841  \n",
              "Flanders Red Ale                          4.016793  \n",
              "Russian Imperial Stout                    4.190589  \n",
              "American Double / Imperial IPA            4.089619  "
            ],
            "text/html": [
              "\n",
              "  <div id=\"df-d36247ce-9fcc-4e37-8bd2-126c22df74d1\" class=\"colab-df-container\">\n",
              "    <div>\n",
              "<style scoped>\n",
              "    .dataframe tbody tr th:only-of-type {\n",
              "        vertical-align: middle;\n",
              "    }\n",
              "\n",
              "    .dataframe tbody tr th {\n",
              "        vertical-align: top;\n",
              "    }\n",
              "\n",
              "    .dataframe thead tr th {\n",
              "        text-align: left;\n",
              "    }\n",
              "\n",
              "    .dataframe thead tr:last-of-type th {\n",
              "        text-align: right;\n",
              "    }\n",
              "</style>\n",
              "<table border=\"1\" class=\"dataframe\">\n",
              "  <thead>\n",
              "    <tr>\n",
              "      <th></th>\n",
              "      <th colspan=\"2\" halign=\"left\">review_overall</th>\n",
              "      <th>review_aroma</th>\n",
              "      <th>review_appearance</th>\n",
              "    </tr>\n",
              "    <tr>\n",
              "      <th></th>\n",
              "      <th>count</th>\n",
              "      <th>avg</th>\n",
              "      <th>avg</th>\n",
              "      <th>avg</th>\n",
              "    </tr>\n",
              "    <tr>\n",
              "      <th>beer_style</th>\n",
              "      <th></th>\n",
              "      <th></th>\n",
              "      <th></th>\n",
              "      <th></th>\n",
              "    </tr>\n",
              "  </thead>\n",
              "  <tbody>\n",
              "    <tr>\n",
              "      <th>Gueuze</th>\n",
              "      <td>4503</td>\n",
              "      <td>4.126693</td>\n",
              "      <td>4.151566</td>\n",
              "      <td>4.051632</td>\n",
              "    </tr>\n",
              "    <tr>\n",
              "      <th>American Wild Ale</th>\n",
              "      <td>15225</td>\n",
              "      <td>4.120657</td>\n",
              "      <td>4.151232</td>\n",
              "      <td>4.021544</td>\n",
              "    </tr>\n",
              "    <tr>\n",
              "      <th>Weizenbock</th>\n",
              "      <td>7358</td>\n",
              "      <td>4.034928</td>\n",
              "      <td>4.058440</td>\n",
              "      <td>4.030307</td>\n",
              "    </tr>\n",
              "    <tr>\n",
              "      <th>American Double / Imperial Stout</th>\n",
              "      <td>42122</td>\n",
              "      <td>4.031053</td>\n",
              "      <td>4.179716</td>\n",
              "      <td>4.177841</td>\n",
              "    </tr>\n",
              "    <tr>\n",
              "      <th>Flanders Red Ale</th>\n",
              "      <td>6074</td>\n",
              "      <td>4.002223</td>\n",
              "      <td>4.056141</td>\n",
              "      <td>4.016793</td>\n",
              "    </tr>\n",
              "    <tr>\n",
              "      <th>Russian Imperial Stout</th>\n",
              "      <td>36639</td>\n",
              "      <td>4.001392</td>\n",
              "      <td>4.062693</td>\n",
              "      <td>4.190589</td>\n",
              "    </tr>\n",
              "    <tr>\n",
              "      <th>American Double / Imperial IPA</th>\n",
              "      <td>67882</td>\n",
              "      <td>4.001112</td>\n",
              "      <td>4.110685</td>\n",
              "      <td>4.089619</td>\n",
              "    </tr>\n",
              "  </tbody>\n",
              "</table>\n",
              "</div>\n",
              "    <div class=\"colab-df-buttons\">\n",
              "\n",
              "  <div class=\"colab-df-container\">\n",
              "    <button class=\"colab-df-convert\" onclick=\"convertToInteractive('df-d36247ce-9fcc-4e37-8bd2-126c22df74d1')\"\n",
              "            title=\"Convert this dataframe to an interactive table.\"\n",
              "            style=\"display:none;\">\n",
              "\n",
              "  <svg xmlns=\"http://www.w3.org/2000/svg\" height=\"24px\" viewBox=\"0 -960 960 960\">\n",
              "    <path d=\"M120-120v-720h720v720H120Zm60-500h600v-160H180v160Zm220 220h160v-160H400v160Zm0 220h160v-160H400v160ZM180-400h160v-160H180v160Zm440 0h160v-160H620v160ZM180-180h160v-160H180v160Zm440 0h160v-160H620v160Z\"/>\n",
              "  </svg>\n",
              "    </button>\n",
              "\n",
              "  <style>\n",
              "    .colab-df-container {\n",
              "      display:flex;\n",
              "      gap: 12px;\n",
              "    }\n",
              "\n",
              "    .colab-df-convert {\n",
              "      background-color: #E8F0FE;\n",
              "      border: none;\n",
              "      border-radius: 50%;\n",
              "      cursor: pointer;\n",
              "      display: none;\n",
              "      fill: #1967D2;\n",
              "      height: 32px;\n",
              "      padding: 0 0 0 0;\n",
              "      width: 32px;\n",
              "    }\n",
              "\n",
              "    .colab-df-convert:hover {\n",
              "      background-color: #E2EBFA;\n",
              "      box-shadow: 0px 1px 2px rgba(60, 64, 67, 0.3), 0px 1px 3px 1px rgba(60, 64, 67, 0.15);\n",
              "      fill: #174EA6;\n",
              "    }\n",
              "\n",
              "    .colab-df-buttons div {\n",
              "      margin-bottom: 4px;\n",
              "    }\n",
              "\n",
              "    [theme=dark] .colab-df-convert {\n",
              "      background-color: #3B4455;\n",
              "      fill: #D2E3FC;\n",
              "    }\n",
              "\n",
              "    [theme=dark] .colab-df-convert:hover {\n",
              "      background-color: #434B5C;\n",
              "      box-shadow: 0px 1px 3px 1px rgba(0, 0, 0, 0.15);\n",
              "      filter: drop-shadow(0px 1px 2px rgba(0, 0, 0, 0.3));\n",
              "      fill: #FFFFFF;\n",
              "    }\n",
              "  </style>\n",
              "\n",
              "    <script>\n",
              "      const buttonEl =\n",
              "        document.querySelector('#df-d36247ce-9fcc-4e37-8bd2-126c22df74d1 button.colab-df-convert');\n",
              "      buttonEl.style.display =\n",
              "        google.colab.kernel.accessAllowed ? 'block' : 'none';\n",
              "\n",
              "      async function convertToInteractive(key) {\n",
              "        const element = document.querySelector('#df-d36247ce-9fcc-4e37-8bd2-126c22df74d1');\n",
              "        const dataTable =\n",
              "          await google.colab.kernel.invokeFunction('convertToInteractive',\n",
              "                                                    [key], {});\n",
              "        if (!dataTable) return;\n",
              "\n",
              "        const docLinkHtml = 'Like what you see? Visit the ' +\n",
              "          '<a target=\"_blank\" href=https://colab.research.google.com/notebooks/data_table.ipynb>data table notebook</a>'\n",
              "          + ' to learn more about interactive tables.';\n",
              "        element.innerHTML = '';\n",
              "        dataTable['output_type'] = 'display_data';\n",
              "        await google.colab.output.renderOutput(dataTable, element);\n",
              "        const docLink = document.createElement('div');\n",
              "        docLink.innerHTML = docLinkHtml;\n",
              "        element.appendChild(docLink);\n",
              "      }\n",
              "    </script>\n",
              "  </div>\n",
              "\n",
              "\n",
              "<div id=\"df-8608ce16-d852-4bec-8838-bb105840ace3\">\n",
              "  <button class=\"colab-df-quickchart\" onclick=\"quickchart('df-8608ce16-d852-4bec-8838-bb105840ace3')\"\n",
              "            title=\"Suggest charts\"\n",
              "            style=\"display:none;\">\n",
              "\n",
              "<svg xmlns=\"http://www.w3.org/2000/svg\" height=\"24px\"viewBox=\"0 0 24 24\"\n",
              "     width=\"24px\">\n",
              "    <g>\n",
              "        <path d=\"M19 3H5c-1.1 0-2 .9-2 2v14c0 1.1.9 2 2 2h14c1.1 0 2-.9 2-2V5c0-1.1-.9-2-2-2zM9 17H7v-7h2v7zm4 0h-2V7h2v10zm4 0h-2v-4h2v4z\"/>\n",
              "    </g>\n",
              "</svg>\n",
              "  </button>\n",
              "\n",
              "<style>\n",
              "  .colab-df-quickchart {\n",
              "      --bg-color: #E8F0FE;\n",
              "      --fill-color: #1967D2;\n",
              "      --hover-bg-color: #E2EBFA;\n",
              "      --hover-fill-color: #174EA6;\n",
              "      --disabled-fill-color: #AAA;\n",
              "      --disabled-bg-color: #DDD;\n",
              "  }\n",
              "\n",
              "  [theme=dark] .colab-df-quickchart {\n",
              "      --bg-color: #3B4455;\n",
              "      --fill-color: #D2E3FC;\n",
              "      --hover-bg-color: #434B5C;\n",
              "      --hover-fill-color: #FFFFFF;\n",
              "      --disabled-bg-color: #3B4455;\n",
              "      --disabled-fill-color: #666;\n",
              "  }\n",
              "\n",
              "  .colab-df-quickchart {\n",
              "    background-color: var(--bg-color);\n",
              "    border: none;\n",
              "    border-radius: 50%;\n",
              "    cursor: pointer;\n",
              "    display: none;\n",
              "    fill: var(--fill-color);\n",
              "    height: 32px;\n",
              "    padding: 0;\n",
              "    width: 32px;\n",
              "  }\n",
              "\n",
              "  .colab-df-quickchart:hover {\n",
              "    background-color: var(--hover-bg-color);\n",
              "    box-shadow: 0 1px 2px rgba(60, 64, 67, 0.3), 0 1px 3px 1px rgba(60, 64, 67, 0.15);\n",
              "    fill: var(--button-hover-fill-color);\n",
              "  }\n",
              "\n",
              "  .colab-df-quickchart-complete:disabled,\n",
              "  .colab-df-quickchart-complete:disabled:hover {\n",
              "    background-color: var(--disabled-bg-color);\n",
              "    fill: var(--disabled-fill-color);\n",
              "    box-shadow: none;\n",
              "  }\n",
              "\n",
              "  .colab-df-spinner {\n",
              "    border: 2px solid var(--fill-color);\n",
              "    border-color: transparent;\n",
              "    border-bottom-color: var(--fill-color);\n",
              "    animation:\n",
              "      spin 1s steps(1) infinite;\n",
              "  }\n",
              "\n",
              "  @keyframes spin {\n",
              "    0% {\n",
              "      border-color: transparent;\n",
              "      border-bottom-color: var(--fill-color);\n",
              "      border-left-color: var(--fill-color);\n",
              "    }\n",
              "    20% {\n",
              "      border-color: transparent;\n",
              "      border-left-color: var(--fill-color);\n",
              "      border-top-color: var(--fill-color);\n",
              "    }\n",
              "    30% {\n",
              "      border-color: transparent;\n",
              "      border-left-color: var(--fill-color);\n",
              "      border-top-color: var(--fill-color);\n",
              "      border-right-color: var(--fill-color);\n",
              "    }\n",
              "    40% {\n",
              "      border-color: transparent;\n",
              "      border-right-color: var(--fill-color);\n",
              "      border-top-color: var(--fill-color);\n",
              "    }\n",
              "    60% {\n",
              "      border-color: transparent;\n",
              "      border-right-color: var(--fill-color);\n",
              "    }\n",
              "    80% {\n",
              "      border-color: transparent;\n",
              "      border-right-color: var(--fill-color);\n",
              "      border-bottom-color: var(--fill-color);\n",
              "    }\n",
              "    90% {\n",
              "      border-color: transparent;\n",
              "      border-bottom-color: var(--fill-color);\n",
              "    }\n",
              "  }\n",
              "</style>\n",
              "\n",
              "  <script>\n",
              "    async function quickchart(key) {\n",
              "      const quickchartButtonEl =\n",
              "        document.querySelector('#' + key + ' button');\n",
              "      quickchartButtonEl.disabled = true;  // To prevent multiple clicks.\n",
              "      quickchartButtonEl.classList.add('colab-df-spinner');\n",
              "      try {\n",
              "        const charts = await google.colab.kernel.invokeFunction(\n",
              "            'suggestCharts', [key], {});\n",
              "      } catch (error) {\n",
              "        console.error('Error during call to suggestCharts:', error);\n",
              "      }\n",
              "      quickchartButtonEl.classList.remove('colab-df-spinner');\n",
              "      quickchartButtonEl.classList.add('colab-df-quickchart-complete');\n",
              "    }\n",
              "    (() => {\n",
              "      let quickchartButtonEl =\n",
              "        document.querySelector('#df-8608ce16-d852-4bec-8838-bb105840ace3 button');\n",
              "      quickchartButtonEl.style.display =\n",
              "        google.colab.kernel.accessAllowed ? 'block' : 'none';\n",
              "    })();\n",
              "  </script>\n",
              "</div>\n",
              "\n",
              "  <div id=\"id_f7338419-af50-4170-bbc5-4c47baecd64f\">\n",
              "    <style>\n",
              "      .colab-df-generate {\n",
              "        background-color: #E8F0FE;\n",
              "        border: none;\n",
              "        border-radius: 50%;\n",
              "        cursor: pointer;\n",
              "        display: none;\n",
              "        fill: #1967D2;\n",
              "        height: 32px;\n",
              "        padding: 0 0 0 0;\n",
              "        width: 32px;\n",
              "      }\n",
              "\n",
              "      .colab-df-generate:hover {\n",
              "        background-color: #E2EBFA;\n",
              "        box-shadow: 0px 1px 2px rgba(60, 64, 67, 0.3), 0px 1px 3px 1px rgba(60, 64, 67, 0.15);\n",
              "        fill: #174EA6;\n",
              "      }\n",
              "\n",
              "      [theme=dark] .colab-df-generate {\n",
              "        background-color: #3B4455;\n",
              "        fill: #D2E3FC;\n",
              "      }\n",
              "\n",
              "      [theme=dark] .colab-df-generate:hover {\n",
              "        background-color: #434B5C;\n",
              "        box-shadow: 0px 1px 3px 1px rgba(0, 0, 0, 0.15);\n",
              "        filter: drop-shadow(0px 1px 2px rgba(0, 0, 0, 0.3));\n",
              "        fill: #FFFFFF;\n",
              "      }\n",
              "    </style>\n",
              "    <button class=\"colab-df-generate\" onclick=\"generateWithVariable('beer_style_top')\"\n",
              "            title=\"Generate code using this dataframe.\"\n",
              "            style=\"display:none;\">\n",
              "\n",
              "  <svg xmlns=\"http://www.w3.org/2000/svg\" height=\"24px\"viewBox=\"0 0 24 24\"\n",
              "       width=\"24px\">\n",
              "    <path d=\"M7,19H8.4L18.45,9,17,7.55,7,17.6ZM5,21V16.75L18.45,3.32a2,2,0,0,1,2.83,0l1.4,1.43a1.91,1.91,0,0,1,.58,1.4,1.91,1.91,0,0,1-.58,1.4L9.25,21ZM18.45,9,17,7.55Zm-12,3A5.31,5.31,0,0,0,4.9,8.1,5.31,5.31,0,0,0,1,6.5,5.31,5.31,0,0,0,4.9,4.9,5.31,5.31,0,0,0,6.5,1,5.31,5.31,0,0,0,8.1,4.9,5.31,5.31,0,0,0,12,6.5,5.46,5.46,0,0,0,6.5,12Z\"/>\n",
              "  </svg>\n",
              "    </button>\n",
              "    <script>\n",
              "      (() => {\n",
              "      const buttonEl =\n",
              "        document.querySelector('#id_f7338419-af50-4170-bbc5-4c47baecd64f button.colab-df-generate');\n",
              "      buttonEl.style.display =\n",
              "        google.colab.kernel.accessAllowed ? 'block' : 'none';\n",
              "\n",
              "      buttonEl.onclick = () => {\n",
              "        google.colab.notebook.generateWithVariable('beer_style_top');\n",
              "      }\n",
              "      })();\n",
              "    </script>\n",
              "  </div>\n",
              "\n",
              "    </div>\n",
              "  </div>\n"
            ],
            "application/vnd.google.colaboratory.intrinsic+json": {
              "type": "dataframe",
              "variable_name": "beer_style_top",
              "summary": "{\n  \"name\": \"beer_style_top\",\n  \"rows\": 7,\n  \"fields\": [\n    {\n      \"column\": [\n        \"beer_style\",\n        \"\"\n      ],\n      \"properties\": {\n        \"dtype\": \"string\",\n        \"num_unique_values\": 7,\n        \"samples\": [\n          \"Gueuze\",\n          \"American Wild Ale\",\n          \"Russian Imperial Stout\"\n        ],\n        \"semantic_type\": \"\",\n        \"description\": \"\"\n      }\n    },\n    {\n      \"column\": [\n        \"review_overall\",\n        \"count\"\n      ],\n      \"properties\": {\n        \"dtype\": \"number\",\n        \"std\": 23976,\n        \"min\": 4503,\n        \"max\": 67882,\n        \"num_unique_values\": 7,\n        \"samples\": [\n          4503,\n          15225,\n          36639\n        ],\n        \"semantic_type\": \"\",\n        \"description\": \"\"\n      }\n    },\n    {\n      \"column\": [\n        \"review_overall\",\n        \"avg\"\n      ],\n      \"properties\": {\n        \"dtype\": \"number\",\n        \"std\": 0.05530234340407685,\n        \"min\": 4.001112224153679,\n        \"max\": 4.126693315567399,\n        \"num_unique_values\": 7,\n        \"samples\": [\n          4.126693315567399,\n          4.120656814449918,\n          4.001391959387538\n        ],\n        \"semantic_type\": \"\",\n        \"description\": \"\"\n      }\n    },\n    {\n      \"column\": [\n        \"review_aroma\",\n        \"avg\"\n      ],\n      \"properties\": {\n        \"dtype\": \"number\",\n        \"std\": 0.05177794876677742,\n        \"min\": 4.056140928547909,\n        \"max\": 4.179716062865011,\n        \"num_unique_values\": 7,\n        \"samples\": [\n          4.151565622918055,\n          4.151231527093596,\n          4.062692759081853\n        ],\n        \"semantic_type\": \"\",\n        \"description\": \"\"\n      }\n    },\n    {\n      \"column\": [\n        \"review_appearance\",\n        \"avg\"\n      ],\n      \"properties\": {\n        \"dtype\": \"number\",\n        \"std\": 0.07363617786045264,\n        \"min\": 4.016792887718143,\n        \"max\": 4.190589262807391,\n        \"num_unique_values\": 7,\n        \"samples\": [\n          4.051632245169887,\n          4.021543513957307,\n          4.190589262807391\n        ],\n        \"semantic_type\": \"\",\n        \"description\": \"\"\n      }\n    }\n  ]\n}"
            }
          },
          "metadata": {},
          "execution_count": 35
        }
      ]
    },
    {
      "cell_type": "code",
      "source": [
        "#add new column with sum avg aroma and apperance\n",
        "\n",
        "def sum_aroma_appearance(row):\n",
        "    return row[('review_aroma', 'avg')] + row[('review_appearance', 'avg')]\n",
        "\n",
        "beer_style_top['sum_aroma_appearance'] = beer_style_top.apply(sum_aroma_appearance, axis=1)\n",
        "beer_style_top=beer_style_top.sort_values(by=['sum_aroma_appearance'],ascending=False)\n",
        "beer_style_top.head(20)\n"
      ],
      "metadata": {
        "colab": {
          "base_uri": "https://localhost:8080/",
          "height": 456
        },
        "id": "BD1UxOCVqP8P",
        "outputId": "a338d612-5c70-4eb4-be31-294cfd84e424"
      },
      "execution_count": 36,
      "outputs": [
        {
          "output_type": "stream",
          "name": "stderr",
          "text": [
            "<ipython-input-36-aad15d37a1b9>:6: SettingWithCopyWarning: \n",
            "A value is trying to be set on a copy of a slice from a DataFrame.\n",
            "Try using .loc[row_indexer,col_indexer] = value instead\n",
            "\n",
            "See the caveats in the documentation: https://pandas.pydata.org/pandas-docs/stable/user_guide/indexing.html#returning-a-view-versus-a-copy\n",
            "  beer_style_top['sum_aroma_appearance'] = beer_style_top.apply(sum_aroma_appearance, axis=1)\n"
          ]
        },
        {
          "output_type": "execute_result",
          "data": {
            "text/plain": [
              "                                 review_overall           review_aroma  \\\n",
              "                                          count       avg          avg   \n",
              "beer_style                                                               \n",
              "American Double / Imperial Stout          42122  4.031053     4.179716   \n",
              "Russian Imperial Stout                    36639  4.001392     4.062693   \n",
              "Gueuze                                     4503  4.126693     4.151566   \n",
              "American Double / Imperial IPA            67882  4.001112     4.110685   \n",
              "American Wild Ale                         15225  4.120657     4.151232   \n",
              "Weizenbock                                 7358  4.034928     4.058440   \n",
              "Flanders Red Ale                           6074  4.002223     4.056141   \n",
              "\n",
              "                                 review_appearance sum_aroma_appearance  \n",
              "                                               avg                       \n",
              "beer_style                                                               \n",
              "American Double / Imperial Stout          4.177841             8.357557  \n",
              "Russian Imperial Stout                    4.190589             8.253282  \n",
              "Gueuze                                    4.051632             8.203198  \n",
              "American Double / Imperial IPA            4.089619             8.200303  \n",
              "American Wild Ale                         4.021544             8.172775  \n",
              "Weizenbock                                4.030307             8.088747  \n",
              "Flanders Red Ale                          4.016793             8.072934  "
            ],
            "text/html": [
              "\n",
              "  <div id=\"df-39636c82-ea04-4f7f-9530-299b6def0d08\" class=\"colab-df-container\">\n",
              "    <div>\n",
              "<style scoped>\n",
              "    .dataframe tbody tr th:only-of-type {\n",
              "        vertical-align: middle;\n",
              "    }\n",
              "\n",
              "    .dataframe tbody tr th {\n",
              "        vertical-align: top;\n",
              "    }\n",
              "\n",
              "    .dataframe thead tr th {\n",
              "        text-align: left;\n",
              "    }\n",
              "\n",
              "    .dataframe thead tr:last-of-type th {\n",
              "        text-align: right;\n",
              "    }\n",
              "</style>\n",
              "<table border=\"1\" class=\"dataframe\">\n",
              "  <thead>\n",
              "    <tr>\n",
              "      <th></th>\n",
              "      <th colspan=\"2\" halign=\"left\">review_overall</th>\n",
              "      <th>review_aroma</th>\n",
              "      <th>review_appearance</th>\n",
              "      <th>sum_aroma_appearance</th>\n",
              "    </tr>\n",
              "    <tr>\n",
              "      <th></th>\n",
              "      <th>count</th>\n",
              "      <th>avg</th>\n",
              "      <th>avg</th>\n",
              "      <th>avg</th>\n",
              "      <th></th>\n",
              "    </tr>\n",
              "    <tr>\n",
              "      <th>beer_style</th>\n",
              "      <th></th>\n",
              "      <th></th>\n",
              "      <th></th>\n",
              "      <th></th>\n",
              "      <th></th>\n",
              "    </tr>\n",
              "  </thead>\n",
              "  <tbody>\n",
              "    <tr>\n",
              "      <th>American Double / Imperial Stout</th>\n",
              "      <td>42122</td>\n",
              "      <td>4.031053</td>\n",
              "      <td>4.179716</td>\n",
              "      <td>4.177841</td>\n",
              "      <td>8.357557</td>\n",
              "    </tr>\n",
              "    <tr>\n",
              "      <th>Russian Imperial Stout</th>\n",
              "      <td>36639</td>\n",
              "      <td>4.001392</td>\n",
              "      <td>4.062693</td>\n",
              "      <td>4.190589</td>\n",
              "      <td>8.253282</td>\n",
              "    </tr>\n",
              "    <tr>\n",
              "      <th>Gueuze</th>\n",
              "      <td>4503</td>\n",
              "      <td>4.126693</td>\n",
              "      <td>4.151566</td>\n",
              "      <td>4.051632</td>\n",
              "      <td>8.203198</td>\n",
              "    </tr>\n",
              "    <tr>\n",
              "      <th>American Double / Imperial IPA</th>\n",
              "      <td>67882</td>\n",
              "      <td>4.001112</td>\n",
              "      <td>4.110685</td>\n",
              "      <td>4.089619</td>\n",
              "      <td>8.200303</td>\n",
              "    </tr>\n",
              "    <tr>\n",
              "      <th>American Wild Ale</th>\n",
              "      <td>15225</td>\n",
              "      <td>4.120657</td>\n",
              "      <td>4.151232</td>\n",
              "      <td>4.021544</td>\n",
              "      <td>8.172775</td>\n",
              "    </tr>\n",
              "    <tr>\n",
              "      <th>Weizenbock</th>\n",
              "      <td>7358</td>\n",
              "      <td>4.034928</td>\n",
              "      <td>4.058440</td>\n",
              "      <td>4.030307</td>\n",
              "      <td>8.088747</td>\n",
              "    </tr>\n",
              "    <tr>\n",
              "      <th>Flanders Red Ale</th>\n",
              "      <td>6074</td>\n",
              "      <td>4.002223</td>\n",
              "      <td>4.056141</td>\n",
              "      <td>4.016793</td>\n",
              "      <td>8.072934</td>\n",
              "    </tr>\n",
              "  </tbody>\n",
              "</table>\n",
              "</div>\n",
              "    <div class=\"colab-df-buttons\">\n",
              "\n",
              "  <div class=\"colab-df-container\">\n",
              "    <button class=\"colab-df-convert\" onclick=\"convertToInteractive('df-39636c82-ea04-4f7f-9530-299b6def0d08')\"\n",
              "            title=\"Convert this dataframe to an interactive table.\"\n",
              "            style=\"display:none;\">\n",
              "\n",
              "  <svg xmlns=\"http://www.w3.org/2000/svg\" height=\"24px\" viewBox=\"0 -960 960 960\">\n",
              "    <path d=\"M120-120v-720h720v720H120Zm60-500h600v-160H180v160Zm220 220h160v-160H400v160Zm0 220h160v-160H400v160ZM180-400h160v-160H180v160Zm440 0h160v-160H620v160ZM180-180h160v-160H180v160Zm440 0h160v-160H620v160Z\"/>\n",
              "  </svg>\n",
              "    </button>\n",
              "\n",
              "  <style>\n",
              "    .colab-df-container {\n",
              "      display:flex;\n",
              "      gap: 12px;\n",
              "    }\n",
              "\n",
              "    .colab-df-convert {\n",
              "      background-color: #E8F0FE;\n",
              "      border: none;\n",
              "      border-radius: 50%;\n",
              "      cursor: pointer;\n",
              "      display: none;\n",
              "      fill: #1967D2;\n",
              "      height: 32px;\n",
              "      padding: 0 0 0 0;\n",
              "      width: 32px;\n",
              "    }\n",
              "\n",
              "    .colab-df-convert:hover {\n",
              "      background-color: #E2EBFA;\n",
              "      box-shadow: 0px 1px 2px rgba(60, 64, 67, 0.3), 0px 1px 3px 1px rgba(60, 64, 67, 0.15);\n",
              "      fill: #174EA6;\n",
              "    }\n",
              "\n",
              "    .colab-df-buttons div {\n",
              "      margin-bottom: 4px;\n",
              "    }\n",
              "\n",
              "    [theme=dark] .colab-df-convert {\n",
              "      background-color: #3B4455;\n",
              "      fill: #D2E3FC;\n",
              "    }\n",
              "\n",
              "    [theme=dark] .colab-df-convert:hover {\n",
              "      background-color: #434B5C;\n",
              "      box-shadow: 0px 1px 3px 1px rgba(0, 0, 0, 0.15);\n",
              "      filter: drop-shadow(0px 1px 2px rgba(0, 0, 0, 0.3));\n",
              "      fill: #FFFFFF;\n",
              "    }\n",
              "  </style>\n",
              "\n",
              "    <script>\n",
              "      const buttonEl =\n",
              "        document.querySelector('#df-39636c82-ea04-4f7f-9530-299b6def0d08 button.colab-df-convert');\n",
              "      buttonEl.style.display =\n",
              "        google.colab.kernel.accessAllowed ? 'block' : 'none';\n",
              "\n",
              "      async function convertToInteractive(key) {\n",
              "        const element = document.querySelector('#df-39636c82-ea04-4f7f-9530-299b6def0d08');\n",
              "        const dataTable =\n",
              "          await google.colab.kernel.invokeFunction('convertToInteractive',\n",
              "                                                    [key], {});\n",
              "        if (!dataTable) return;\n",
              "\n",
              "        const docLinkHtml = 'Like what you see? Visit the ' +\n",
              "          '<a target=\"_blank\" href=https://colab.research.google.com/notebooks/data_table.ipynb>data table notebook</a>'\n",
              "          + ' to learn more about interactive tables.';\n",
              "        element.innerHTML = '';\n",
              "        dataTable['output_type'] = 'display_data';\n",
              "        await google.colab.output.renderOutput(dataTable, element);\n",
              "        const docLink = document.createElement('div');\n",
              "        docLink.innerHTML = docLinkHtml;\n",
              "        element.appendChild(docLink);\n",
              "      }\n",
              "    </script>\n",
              "  </div>\n",
              "\n",
              "\n",
              "<div id=\"df-5b580069-898a-4e8a-aa87-0b3ebacb3e42\">\n",
              "  <button class=\"colab-df-quickchart\" onclick=\"quickchart('df-5b580069-898a-4e8a-aa87-0b3ebacb3e42')\"\n",
              "            title=\"Suggest charts\"\n",
              "            style=\"display:none;\">\n",
              "\n",
              "<svg xmlns=\"http://www.w3.org/2000/svg\" height=\"24px\"viewBox=\"0 0 24 24\"\n",
              "     width=\"24px\">\n",
              "    <g>\n",
              "        <path d=\"M19 3H5c-1.1 0-2 .9-2 2v14c0 1.1.9 2 2 2h14c1.1 0 2-.9 2-2V5c0-1.1-.9-2-2-2zM9 17H7v-7h2v7zm4 0h-2V7h2v10zm4 0h-2v-4h2v4z\"/>\n",
              "    </g>\n",
              "</svg>\n",
              "  </button>\n",
              "\n",
              "<style>\n",
              "  .colab-df-quickchart {\n",
              "      --bg-color: #E8F0FE;\n",
              "      --fill-color: #1967D2;\n",
              "      --hover-bg-color: #E2EBFA;\n",
              "      --hover-fill-color: #174EA6;\n",
              "      --disabled-fill-color: #AAA;\n",
              "      --disabled-bg-color: #DDD;\n",
              "  }\n",
              "\n",
              "  [theme=dark] .colab-df-quickchart {\n",
              "      --bg-color: #3B4455;\n",
              "      --fill-color: #D2E3FC;\n",
              "      --hover-bg-color: #434B5C;\n",
              "      --hover-fill-color: #FFFFFF;\n",
              "      --disabled-bg-color: #3B4455;\n",
              "      --disabled-fill-color: #666;\n",
              "  }\n",
              "\n",
              "  .colab-df-quickchart {\n",
              "    background-color: var(--bg-color);\n",
              "    border: none;\n",
              "    border-radius: 50%;\n",
              "    cursor: pointer;\n",
              "    display: none;\n",
              "    fill: var(--fill-color);\n",
              "    height: 32px;\n",
              "    padding: 0;\n",
              "    width: 32px;\n",
              "  }\n",
              "\n",
              "  .colab-df-quickchart:hover {\n",
              "    background-color: var(--hover-bg-color);\n",
              "    box-shadow: 0 1px 2px rgba(60, 64, 67, 0.3), 0 1px 3px 1px rgba(60, 64, 67, 0.15);\n",
              "    fill: var(--button-hover-fill-color);\n",
              "  }\n",
              "\n",
              "  .colab-df-quickchart-complete:disabled,\n",
              "  .colab-df-quickchart-complete:disabled:hover {\n",
              "    background-color: var(--disabled-bg-color);\n",
              "    fill: var(--disabled-fill-color);\n",
              "    box-shadow: none;\n",
              "  }\n",
              "\n",
              "  .colab-df-spinner {\n",
              "    border: 2px solid var(--fill-color);\n",
              "    border-color: transparent;\n",
              "    border-bottom-color: var(--fill-color);\n",
              "    animation:\n",
              "      spin 1s steps(1) infinite;\n",
              "  }\n",
              "\n",
              "  @keyframes spin {\n",
              "    0% {\n",
              "      border-color: transparent;\n",
              "      border-bottom-color: var(--fill-color);\n",
              "      border-left-color: var(--fill-color);\n",
              "    }\n",
              "    20% {\n",
              "      border-color: transparent;\n",
              "      border-left-color: var(--fill-color);\n",
              "      border-top-color: var(--fill-color);\n",
              "    }\n",
              "    30% {\n",
              "      border-color: transparent;\n",
              "      border-left-color: var(--fill-color);\n",
              "      border-top-color: var(--fill-color);\n",
              "      border-right-color: var(--fill-color);\n",
              "    }\n",
              "    40% {\n",
              "      border-color: transparent;\n",
              "      border-right-color: var(--fill-color);\n",
              "      border-top-color: var(--fill-color);\n",
              "    }\n",
              "    60% {\n",
              "      border-color: transparent;\n",
              "      border-right-color: var(--fill-color);\n",
              "    }\n",
              "    80% {\n",
              "      border-color: transparent;\n",
              "      border-right-color: var(--fill-color);\n",
              "      border-bottom-color: var(--fill-color);\n",
              "    }\n",
              "    90% {\n",
              "      border-color: transparent;\n",
              "      border-bottom-color: var(--fill-color);\n",
              "    }\n",
              "  }\n",
              "</style>\n",
              "\n",
              "  <script>\n",
              "    async function quickchart(key) {\n",
              "      const quickchartButtonEl =\n",
              "        document.querySelector('#' + key + ' button');\n",
              "      quickchartButtonEl.disabled = true;  // To prevent multiple clicks.\n",
              "      quickchartButtonEl.classList.add('colab-df-spinner');\n",
              "      try {\n",
              "        const charts = await google.colab.kernel.invokeFunction(\n",
              "            'suggestCharts', [key], {});\n",
              "      } catch (error) {\n",
              "        console.error('Error during call to suggestCharts:', error);\n",
              "      }\n",
              "      quickchartButtonEl.classList.remove('colab-df-spinner');\n",
              "      quickchartButtonEl.classList.add('colab-df-quickchart-complete');\n",
              "    }\n",
              "    (() => {\n",
              "      let quickchartButtonEl =\n",
              "        document.querySelector('#df-5b580069-898a-4e8a-aa87-0b3ebacb3e42 button');\n",
              "      quickchartButtonEl.style.display =\n",
              "        google.colab.kernel.accessAllowed ? 'block' : 'none';\n",
              "    })();\n",
              "  </script>\n",
              "</div>\n",
              "\n",
              "    </div>\n",
              "  </div>\n"
            ],
            "application/vnd.google.colaboratory.intrinsic+json": {
              "type": "dataframe",
              "variable_name": "beer_style_top",
              "summary": "{\n  \"name\": \"beer_style_top\",\n  \"rows\": 7,\n  \"fields\": [\n    {\n      \"column\": [\n        \"beer_style\",\n        \"\"\n      ],\n      \"properties\": {\n        \"dtype\": \"string\",\n        \"num_unique_values\": 7,\n        \"samples\": [\n          \"American Double / Imperial Stout\",\n          \"Russian Imperial Stout\",\n          \"Weizenbock\"\n        ],\n        \"semantic_type\": \"\",\n        \"description\": \"\"\n      }\n    },\n    {\n      \"column\": [\n        \"review_overall\",\n        \"count\"\n      ],\n      \"properties\": {\n        \"dtype\": \"number\",\n        \"std\": 23976,\n        \"min\": 4503,\n        \"max\": 67882,\n        \"num_unique_values\": 7,\n        \"samples\": [\n          42122,\n          36639,\n          7358\n        ],\n        \"semantic_type\": \"\",\n        \"description\": \"\"\n      }\n    },\n    {\n      \"column\": [\n        \"review_overall\",\n        \"avg\"\n      ],\n      \"properties\": {\n        \"dtype\": \"number\",\n        \"std\": 0.05530234340407685,\n        \"min\": 4.001112224153679,\n        \"max\": 4.126693315567399,\n        \"num_unique_values\": 7,\n        \"samples\": [\n          4.031052656569014,\n          4.001391959387538,\n          4.034927969556945\n        ],\n        \"semantic_type\": \"\",\n        \"description\": \"\"\n      }\n    },\n    {\n      \"column\": [\n        \"review_aroma\",\n        \"avg\"\n      ],\n      \"properties\": {\n        \"dtype\": \"number\",\n        \"std\": 0.05177794876677741,\n        \"min\": 4.056140928547909,\n        \"max\": 4.179716062865011,\n        \"num_unique_values\": 7,\n        \"samples\": [\n          4.179716062865011,\n          4.062692759081853,\n          4.058439793422125\n        ],\n        \"semantic_type\": \"\",\n        \"description\": \"\"\n      }\n    },\n    {\n      \"column\": [\n        \"review_appearance\",\n        \"avg\"\n      ],\n      \"properties\": {\n        \"dtype\": \"number\",\n        \"std\": 0.07363617786045264,\n        \"min\": 4.016792887718143,\n        \"max\": 4.190589262807391,\n        \"num_unique_values\": 7,\n        \"samples\": [\n          4.177840558378045,\n          4.190589262807391,\n          4.030307148681707\n        ],\n        \"semantic_type\": \"\",\n        \"description\": \"\"\n      }\n    },\n    {\n      \"column\": [\n        \"sum_aroma_appearance\",\n        \"\"\n      ],\n      \"properties\": {\n        \"dtype\": \"number\",\n        \"std\": 0.09709366985040904,\n        \"min\": 8.072933816266051,\n        \"max\": 8.357556621243056,\n        \"num_unique_values\": 7,\n        \"samples\": [\n          8.357556621243056,\n          8.253282021889245,\n          8.088746942103832\n        ],\n        \"semantic_type\": \"\",\n        \"description\": \"\"\n      }\n    }\n  ]\n}"
            }
          },
          "metadata": {},
          "execution_count": 36
        }
      ]
    },
    {
      "cell_type": "code",
      "source": [
        "#maximum sum of avg review_appearance and review_aroma has beer_stye American Double / Imperial Stout\n",
        "beer_style_top[beer_style_top['sum_aroma_appearance']==beer_style_top['sum_aroma_appearance'].max()]"
      ],
      "metadata": {
        "colab": {
          "base_uri": "https://localhost:8080/",
          "height": 143
        },
        "id": "wx5tRKGND56-",
        "outputId": "9f8b775c-4037-4179-8e01-307bc55a55db"
      },
      "execution_count": 37,
      "outputs": [
        {
          "output_type": "execute_result",
          "data": {
            "text/plain": [
              "                                 review_overall           review_aroma  \\\n",
              "                                          count       avg          avg   \n",
              "beer_style                                                               \n",
              "American Double / Imperial Stout          42122  4.031053     4.179716   \n",
              "\n",
              "                                 review_appearance sum_aroma_appearance  \n",
              "                                               avg                       \n",
              "beer_style                                                               \n",
              "American Double / Imperial Stout          4.177841             8.357557  "
            ],
            "text/html": [
              "\n",
              "  <div id=\"df-8c4d6468-3c70-4b28-a76a-869fd74ec074\" class=\"colab-df-container\">\n",
              "    <div>\n",
              "<style scoped>\n",
              "    .dataframe tbody tr th:only-of-type {\n",
              "        vertical-align: middle;\n",
              "    }\n",
              "\n",
              "    .dataframe tbody tr th {\n",
              "        vertical-align: top;\n",
              "    }\n",
              "\n",
              "    .dataframe thead tr th {\n",
              "        text-align: left;\n",
              "    }\n",
              "\n",
              "    .dataframe thead tr:last-of-type th {\n",
              "        text-align: right;\n",
              "    }\n",
              "</style>\n",
              "<table border=\"1\" class=\"dataframe\">\n",
              "  <thead>\n",
              "    <tr>\n",
              "      <th></th>\n",
              "      <th colspan=\"2\" halign=\"left\">review_overall</th>\n",
              "      <th>review_aroma</th>\n",
              "      <th>review_appearance</th>\n",
              "      <th>sum_aroma_appearance</th>\n",
              "    </tr>\n",
              "    <tr>\n",
              "      <th></th>\n",
              "      <th>count</th>\n",
              "      <th>avg</th>\n",
              "      <th>avg</th>\n",
              "      <th>avg</th>\n",
              "      <th></th>\n",
              "    </tr>\n",
              "    <tr>\n",
              "      <th>beer_style</th>\n",
              "      <th></th>\n",
              "      <th></th>\n",
              "      <th></th>\n",
              "      <th></th>\n",
              "      <th></th>\n",
              "    </tr>\n",
              "  </thead>\n",
              "  <tbody>\n",
              "    <tr>\n",
              "      <th>American Double / Imperial Stout</th>\n",
              "      <td>42122</td>\n",
              "      <td>4.031053</td>\n",
              "      <td>4.179716</td>\n",
              "      <td>4.177841</td>\n",
              "      <td>8.357557</td>\n",
              "    </tr>\n",
              "  </tbody>\n",
              "</table>\n",
              "</div>\n",
              "    <div class=\"colab-df-buttons\">\n",
              "\n",
              "  <div class=\"colab-df-container\">\n",
              "    <button class=\"colab-df-convert\" onclick=\"convertToInteractive('df-8c4d6468-3c70-4b28-a76a-869fd74ec074')\"\n",
              "            title=\"Convert this dataframe to an interactive table.\"\n",
              "            style=\"display:none;\">\n",
              "\n",
              "  <svg xmlns=\"http://www.w3.org/2000/svg\" height=\"24px\" viewBox=\"0 -960 960 960\">\n",
              "    <path d=\"M120-120v-720h720v720H120Zm60-500h600v-160H180v160Zm220 220h160v-160H400v160Zm0 220h160v-160H400v160ZM180-400h160v-160H180v160Zm440 0h160v-160H620v160ZM180-180h160v-160H180v160Zm440 0h160v-160H620v160Z\"/>\n",
              "  </svg>\n",
              "    </button>\n",
              "\n",
              "  <style>\n",
              "    .colab-df-container {\n",
              "      display:flex;\n",
              "      gap: 12px;\n",
              "    }\n",
              "\n",
              "    .colab-df-convert {\n",
              "      background-color: #E8F0FE;\n",
              "      border: none;\n",
              "      border-radius: 50%;\n",
              "      cursor: pointer;\n",
              "      display: none;\n",
              "      fill: #1967D2;\n",
              "      height: 32px;\n",
              "      padding: 0 0 0 0;\n",
              "      width: 32px;\n",
              "    }\n",
              "\n",
              "    .colab-df-convert:hover {\n",
              "      background-color: #E2EBFA;\n",
              "      box-shadow: 0px 1px 2px rgba(60, 64, 67, 0.3), 0px 1px 3px 1px rgba(60, 64, 67, 0.15);\n",
              "      fill: #174EA6;\n",
              "    }\n",
              "\n",
              "    .colab-df-buttons div {\n",
              "      margin-bottom: 4px;\n",
              "    }\n",
              "\n",
              "    [theme=dark] .colab-df-convert {\n",
              "      background-color: #3B4455;\n",
              "      fill: #D2E3FC;\n",
              "    }\n",
              "\n",
              "    [theme=dark] .colab-df-convert:hover {\n",
              "      background-color: #434B5C;\n",
              "      box-shadow: 0px 1px 3px 1px rgba(0, 0, 0, 0.15);\n",
              "      filter: drop-shadow(0px 1px 2px rgba(0, 0, 0, 0.3));\n",
              "      fill: #FFFFFF;\n",
              "    }\n",
              "  </style>\n",
              "\n",
              "    <script>\n",
              "      const buttonEl =\n",
              "        document.querySelector('#df-8c4d6468-3c70-4b28-a76a-869fd74ec074 button.colab-df-convert');\n",
              "      buttonEl.style.display =\n",
              "        google.colab.kernel.accessAllowed ? 'block' : 'none';\n",
              "\n",
              "      async function convertToInteractive(key) {\n",
              "        const element = document.querySelector('#df-8c4d6468-3c70-4b28-a76a-869fd74ec074');\n",
              "        const dataTable =\n",
              "          await google.colab.kernel.invokeFunction('convertToInteractive',\n",
              "                                                    [key], {});\n",
              "        if (!dataTable) return;\n",
              "\n",
              "        const docLinkHtml = 'Like what you see? Visit the ' +\n",
              "          '<a target=\"_blank\" href=https://colab.research.google.com/notebooks/data_table.ipynb>data table notebook</a>'\n",
              "          + ' to learn more about interactive tables.';\n",
              "        element.innerHTML = '';\n",
              "        dataTable['output_type'] = 'display_data';\n",
              "        await google.colab.output.renderOutput(dataTable, element);\n",
              "        const docLink = document.createElement('div');\n",
              "        docLink.innerHTML = docLinkHtml;\n",
              "        element.appendChild(docLink);\n",
              "      }\n",
              "    </script>\n",
              "  </div>\n",
              "\n",
              "\n",
              "    </div>\n",
              "  </div>\n"
            ],
            "application/vnd.google.colaboratory.intrinsic+json": {
              "type": "dataframe",
              "summary": "{\n  \"name\": \"beer_style_top[beer_style_top['sum_aroma_appearance']==beer_style_top['sum_aroma_appearance']\",\n  \"rows\": 1,\n  \"fields\": [\n    {\n      \"column\": [\n        \"beer_style\",\n        \"\"\n      ],\n      \"properties\": {\n        \"dtype\": \"string\",\n        \"num_unique_values\": 1,\n        \"samples\": [\n          \"American Double / Imperial Stout\"\n        ],\n        \"semantic_type\": \"\",\n        \"description\": \"\"\n      }\n    },\n    {\n      \"column\": [\n        \"review_overall\",\n        \"count\"\n      ],\n      \"properties\": {\n        \"dtype\": \"number\",\n        \"std\": null,\n        \"min\": 42122,\n        \"max\": 42122,\n        \"num_unique_values\": 1,\n        \"samples\": [\n          42122\n        ],\n        \"semantic_type\": \"\",\n        \"description\": \"\"\n      }\n    },\n    {\n      \"column\": [\n        \"review_overall\",\n        \"avg\"\n      ],\n      \"properties\": {\n        \"dtype\": \"number\",\n        \"std\": null,\n        \"min\": 4.031052656569014,\n        \"max\": 4.031052656569014,\n        \"num_unique_values\": 1,\n        \"samples\": [\n          4.031052656569014\n        ],\n        \"semantic_type\": \"\",\n        \"description\": \"\"\n      }\n    },\n    {\n      \"column\": [\n        \"review_aroma\",\n        \"avg\"\n      ],\n      \"properties\": {\n        \"dtype\": \"number\",\n        \"std\": null,\n        \"min\": 4.179716062865011,\n        \"max\": 4.179716062865011,\n        \"num_unique_values\": 1,\n        \"samples\": [\n          4.179716062865011\n        ],\n        \"semantic_type\": \"\",\n        \"description\": \"\"\n      }\n    },\n    {\n      \"column\": [\n        \"review_appearance\",\n        \"avg\"\n      ],\n      \"properties\": {\n        \"dtype\": \"number\",\n        \"std\": null,\n        \"min\": 4.177840558378045,\n        \"max\": 4.177840558378045,\n        \"num_unique_values\": 1,\n        \"samples\": [\n          4.177840558378045\n        ],\n        \"semantic_type\": \"\",\n        \"description\": \"\"\n      }\n    },\n    {\n      \"column\": [\n        \"sum_aroma_appearance\",\n        \"\"\n      ],\n      \"properties\": {\n        \"dtype\": \"number\",\n        \"std\": null,\n        \"min\": 8.357556621243056,\n        \"max\": 8.357556621243056,\n        \"num_unique_values\": 1,\n        \"samples\": [\n          8.357556621243056\n        ],\n        \"semantic_type\": \"\",\n        \"description\": \"\"\n      }\n    }\n  ]\n}"
            }
          },
          "metadata": {},
          "execution_count": 37
        }
      ]
    },
    {
      "cell_type": "code",
      "source": [
        "#to finally analysys we take one beer from this style with the best review_overall\n",
        "best_beer = df[df['beer_style']=='American Double / Imperial Stout']\n",
        "best_beer = best_beer.groupby(['beer_name']).agg({'review_overall': ['mean', 'count']}).rename(columns={'mean': 'avg', 'count': 'count'}).sort_values(by=[('review_overall', 'avg')],ascending=False)\n",
        "best_beer.head()"
      ],
      "metadata": {
        "colab": {
          "base_uri": "https://localhost:8080/",
          "height": 269
        },
        "id": "q7aMs3CLFcum",
        "outputId": "6ffd4a3f-012e-45da-9651-def92be3b64f"
      },
      "execution_count": 39,
      "outputs": [
        {
          "output_type": "execute_result",
          "data": {
            "text/plain": [
              "                                   review_overall      \n",
              "                                              avg count\n",
              "beer_name                                              \n",
              "Coffee Stout                                  5.0     3\n",
              "Penguin XX Imperial Stout                     5.0     1\n",
              "McGuire's Raspberry Imperial Stout            5.0     1\n",
              "Coffee Czar                                   5.0     1\n",
              "Beerbon Imperial Stout 2002                   5.0     1"
            ],
            "text/html": [
              "\n",
              "  <div id=\"df-f4b61a66-a0a4-41b2-9e55-d6a913cf3dab\" class=\"colab-df-container\">\n",
              "    <div>\n",
              "<style scoped>\n",
              "    .dataframe tbody tr th:only-of-type {\n",
              "        vertical-align: middle;\n",
              "    }\n",
              "\n",
              "    .dataframe tbody tr th {\n",
              "        vertical-align: top;\n",
              "    }\n",
              "\n",
              "    .dataframe thead tr th {\n",
              "        text-align: left;\n",
              "    }\n",
              "\n",
              "    .dataframe thead tr:last-of-type th {\n",
              "        text-align: right;\n",
              "    }\n",
              "</style>\n",
              "<table border=\"1\" class=\"dataframe\">\n",
              "  <thead>\n",
              "    <tr>\n",
              "      <th></th>\n",
              "      <th colspan=\"2\" halign=\"left\">review_overall</th>\n",
              "    </tr>\n",
              "    <tr>\n",
              "      <th></th>\n",
              "      <th>avg</th>\n",
              "      <th>count</th>\n",
              "    </tr>\n",
              "    <tr>\n",
              "      <th>beer_name</th>\n",
              "      <th></th>\n",
              "      <th></th>\n",
              "    </tr>\n",
              "  </thead>\n",
              "  <tbody>\n",
              "    <tr>\n",
              "      <th>Coffee Stout</th>\n",
              "      <td>5.0</td>\n",
              "      <td>3</td>\n",
              "    </tr>\n",
              "    <tr>\n",
              "      <th>Penguin XX Imperial Stout</th>\n",
              "      <td>5.0</td>\n",
              "      <td>1</td>\n",
              "    </tr>\n",
              "    <tr>\n",
              "      <th>McGuire's Raspberry Imperial Stout</th>\n",
              "      <td>5.0</td>\n",
              "      <td>1</td>\n",
              "    </tr>\n",
              "    <tr>\n",
              "      <th>Coffee Czar</th>\n",
              "      <td>5.0</td>\n",
              "      <td>1</td>\n",
              "    </tr>\n",
              "    <tr>\n",
              "      <th>Beerbon Imperial Stout 2002</th>\n",
              "      <td>5.0</td>\n",
              "      <td>1</td>\n",
              "    </tr>\n",
              "  </tbody>\n",
              "</table>\n",
              "</div>\n",
              "    <div class=\"colab-df-buttons\">\n",
              "\n",
              "  <div class=\"colab-df-container\">\n",
              "    <button class=\"colab-df-convert\" onclick=\"convertToInteractive('df-f4b61a66-a0a4-41b2-9e55-d6a913cf3dab')\"\n",
              "            title=\"Convert this dataframe to an interactive table.\"\n",
              "            style=\"display:none;\">\n",
              "\n",
              "  <svg xmlns=\"http://www.w3.org/2000/svg\" height=\"24px\" viewBox=\"0 -960 960 960\">\n",
              "    <path d=\"M120-120v-720h720v720H120Zm60-500h600v-160H180v160Zm220 220h160v-160H400v160Zm0 220h160v-160H400v160ZM180-400h160v-160H180v160Zm440 0h160v-160H620v160ZM180-180h160v-160H180v160Zm440 0h160v-160H620v160Z\"/>\n",
              "  </svg>\n",
              "    </button>\n",
              "\n",
              "  <style>\n",
              "    .colab-df-container {\n",
              "      display:flex;\n",
              "      gap: 12px;\n",
              "    }\n",
              "\n",
              "    .colab-df-convert {\n",
              "      background-color: #E8F0FE;\n",
              "      border: none;\n",
              "      border-radius: 50%;\n",
              "      cursor: pointer;\n",
              "      display: none;\n",
              "      fill: #1967D2;\n",
              "      height: 32px;\n",
              "      padding: 0 0 0 0;\n",
              "      width: 32px;\n",
              "    }\n",
              "\n",
              "    .colab-df-convert:hover {\n",
              "      background-color: #E2EBFA;\n",
              "      box-shadow: 0px 1px 2px rgba(60, 64, 67, 0.3), 0px 1px 3px 1px rgba(60, 64, 67, 0.15);\n",
              "      fill: #174EA6;\n",
              "    }\n",
              "\n",
              "    .colab-df-buttons div {\n",
              "      margin-bottom: 4px;\n",
              "    }\n",
              "\n",
              "    [theme=dark] .colab-df-convert {\n",
              "      background-color: #3B4455;\n",
              "      fill: #D2E3FC;\n",
              "    }\n",
              "\n",
              "    [theme=dark] .colab-df-convert:hover {\n",
              "      background-color: #434B5C;\n",
              "      box-shadow: 0px 1px 3px 1px rgba(0, 0, 0, 0.15);\n",
              "      filter: drop-shadow(0px 1px 2px rgba(0, 0, 0, 0.3));\n",
              "      fill: #FFFFFF;\n",
              "    }\n",
              "  </style>\n",
              "\n",
              "    <script>\n",
              "      const buttonEl =\n",
              "        document.querySelector('#df-f4b61a66-a0a4-41b2-9e55-d6a913cf3dab button.colab-df-convert');\n",
              "      buttonEl.style.display =\n",
              "        google.colab.kernel.accessAllowed ? 'block' : 'none';\n",
              "\n",
              "      async function convertToInteractive(key) {\n",
              "        const element = document.querySelector('#df-f4b61a66-a0a4-41b2-9e55-d6a913cf3dab');\n",
              "        const dataTable =\n",
              "          await google.colab.kernel.invokeFunction('convertToInteractive',\n",
              "                                                    [key], {});\n",
              "        if (!dataTable) return;\n",
              "\n",
              "        const docLinkHtml = 'Like what you see? Visit the ' +\n",
              "          '<a target=\"_blank\" href=https://colab.research.google.com/notebooks/data_table.ipynb>data table notebook</a>'\n",
              "          + ' to learn more about interactive tables.';\n",
              "        element.innerHTML = '';\n",
              "        dataTable['output_type'] = 'display_data';\n",
              "        await google.colab.output.renderOutput(dataTable, element);\n",
              "        const docLink = document.createElement('div');\n",
              "        docLink.innerHTML = docLinkHtml;\n",
              "        element.appendChild(docLink);\n",
              "      }\n",
              "    </script>\n",
              "  </div>\n",
              "\n",
              "\n",
              "<div id=\"df-3c81090d-082e-497f-af20-221802fa5a08\">\n",
              "  <button class=\"colab-df-quickchart\" onclick=\"quickchart('df-3c81090d-082e-497f-af20-221802fa5a08')\"\n",
              "            title=\"Suggest charts\"\n",
              "            style=\"display:none;\">\n",
              "\n",
              "<svg xmlns=\"http://www.w3.org/2000/svg\" height=\"24px\"viewBox=\"0 0 24 24\"\n",
              "     width=\"24px\">\n",
              "    <g>\n",
              "        <path d=\"M19 3H5c-1.1 0-2 .9-2 2v14c0 1.1.9 2 2 2h14c1.1 0 2-.9 2-2V5c0-1.1-.9-2-2-2zM9 17H7v-7h2v7zm4 0h-2V7h2v10zm4 0h-2v-4h2v4z\"/>\n",
              "    </g>\n",
              "</svg>\n",
              "  </button>\n",
              "\n",
              "<style>\n",
              "  .colab-df-quickchart {\n",
              "      --bg-color: #E8F0FE;\n",
              "      --fill-color: #1967D2;\n",
              "      --hover-bg-color: #E2EBFA;\n",
              "      --hover-fill-color: #174EA6;\n",
              "      --disabled-fill-color: #AAA;\n",
              "      --disabled-bg-color: #DDD;\n",
              "  }\n",
              "\n",
              "  [theme=dark] .colab-df-quickchart {\n",
              "      --bg-color: #3B4455;\n",
              "      --fill-color: #D2E3FC;\n",
              "      --hover-bg-color: #434B5C;\n",
              "      --hover-fill-color: #FFFFFF;\n",
              "      --disabled-bg-color: #3B4455;\n",
              "      --disabled-fill-color: #666;\n",
              "  }\n",
              "\n",
              "  .colab-df-quickchart {\n",
              "    background-color: var(--bg-color);\n",
              "    border: none;\n",
              "    border-radius: 50%;\n",
              "    cursor: pointer;\n",
              "    display: none;\n",
              "    fill: var(--fill-color);\n",
              "    height: 32px;\n",
              "    padding: 0;\n",
              "    width: 32px;\n",
              "  }\n",
              "\n",
              "  .colab-df-quickchart:hover {\n",
              "    background-color: var(--hover-bg-color);\n",
              "    box-shadow: 0 1px 2px rgba(60, 64, 67, 0.3), 0 1px 3px 1px rgba(60, 64, 67, 0.15);\n",
              "    fill: var(--button-hover-fill-color);\n",
              "  }\n",
              "\n",
              "  .colab-df-quickchart-complete:disabled,\n",
              "  .colab-df-quickchart-complete:disabled:hover {\n",
              "    background-color: var(--disabled-bg-color);\n",
              "    fill: var(--disabled-fill-color);\n",
              "    box-shadow: none;\n",
              "  }\n",
              "\n",
              "  .colab-df-spinner {\n",
              "    border: 2px solid var(--fill-color);\n",
              "    border-color: transparent;\n",
              "    border-bottom-color: var(--fill-color);\n",
              "    animation:\n",
              "      spin 1s steps(1) infinite;\n",
              "  }\n",
              "\n",
              "  @keyframes spin {\n",
              "    0% {\n",
              "      border-color: transparent;\n",
              "      border-bottom-color: var(--fill-color);\n",
              "      border-left-color: var(--fill-color);\n",
              "    }\n",
              "    20% {\n",
              "      border-color: transparent;\n",
              "      border-left-color: var(--fill-color);\n",
              "      border-top-color: var(--fill-color);\n",
              "    }\n",
              "    30% {\n",
              "      border-color: transparent;\n",
              "      border-left-color: var(--fill-color);\n",
              "      border-top-color: var(--fill-color);\n",
              "      border-right-color: var(--fill-color);\n",
              "    }\n",
              "    40% {\n",
              "      border-color: transparent;\n",
              "      border-right-color: var(--fill-color);\n",
              "      border-top-color: var(--fill-color);\n",
              "    }\n",
              "    60% {\n",
              "      border-color: transparent;\n",
              "      border-right-color: var(--fill-color);\n",
              "    }\n",
              "    80% {\n",
              "      border-color: transparent;\n",
              "      border-right-color: var(--fill-color);\n",
              "      border-bottom-color: var(--fill-color);\n",
              "    }\n",
              "    90% {\n",
              "      border-color: transparent;\n",
              "      border-bottom-color: var(--fill-color);\n",
              "    }\n",
              "  }\n",
              "</style>\n",
              "\n",
              "  <script>\n",
              "    async function quickchart(key) {\n",
              "      const quickchartButtonEl =\n",
              "        document.querySelector('#' + key + ' button');\n",
              "      quickchartButtonEl.disabled = true;  // To prevent multiple clicks.\n",
              "      quickchartButtonEl.classList.add('colab-df-spinner');\n",
              "      try {\n",
              "        const charts = await google.colab.kernel.invokeFunction(\n",
              "            'suggestCharts', [key], {});\n",
              "      } catch (error) {\n",
              "        console.error('Error during call to suggestCharts:', error);\n",
              "      }\n",
              "      quickchartButtonEl.classList.remove('colab-df-spinner');\n",
              "      quickchartButtonEl.classList.add('colab-df-quickchart-complete');\n",
              "    }\n",
              "    (() => {\n",
              "      let quickchartButtonEl =\n",
              "        document.querySelector('#df-3c81090d-082e-497f-af20-221802fa5a08 button');\n",
              "      quickchartButtonEl.style.display =\n",
              "        google.colab.kernel.accessAllowed ? 'block' : 'none';\n",
              "    })();\n",
              "  </script>\n",
              "</div>\n",
              "\n",
              "    </div>\n",
              "  </div>\n"
            ],
            "application/vnd.google.colaboratory.intrinsic+json": {
              "type": "dataframe",
              "variable_name": "best_beer",
              "summary": "{\n  \"name\": \"best_beer\",\n  \"rows\": 592,\n  \"fields\": [\n    {\n      \"column\": [\n        \"beer_name\",\n        \"\"\n      ],\n      \"properties\": {\n        \"dtype\": \"string\",\n        \"num_unique_values\": 592,\n        \"samples\": [\n          \"Karma Na' Tazzulella 'e Caf\\u00e8\",\n          \"Zeppelin - Framboise\",\n          \"Serpent's Stout - Port Barrel Aged\"\n        ],\n        \"semantic_type\": \"\",\n        \"description\": \"\"\n      }\n    },\n    {\n      \"column\": [\n        \"review_overall\",\n        \"avg\"\n      ],\n      \"properties\": {\n        \"dtype\": \"number\",\n        \"std\": 0.46792278927408776,\n        \"min\": 2.0,\n        \"max\": 5.0,\n        \"num_unique_values\": 246,\n        \"samples\": [\n          4.3478260869565215,\n          4.666666666666667,\n          3.7364864864864864\n        ],\n        \"semantic_type\": \"\",\n        \"description\": \"\"\n      }\n    },\n    {\n      \"column\": [\n        \"review_overall\",\n        \"count\"\n      ],\n      \"properties\": {\n        \"dtype\": \"number\",\n        \"std\": 226,\n        \"min\": 1,\n        \"max\": 2502,\n        \"num_unique_values\": 133,\n        \"samples\": [\n          20,\n          611,\n          456\n        ],\n        \"semantic_type\": \"\",\n        \"description\": \"\"\n      }\n    }\n  ]\n}"
            }
          },
          "metadata": {},
          "execution_count": 39
        }
      ]
    },
    {
      "cell_type": "code",
      "source": [
        "#and count more then 100\n",
        "best_beer_rev = best_beer[best_beer[('review_overall', 'count')]>100].head(10)\n",
        "print(\"Beer by max_count:\")\n",
        "print(best_beer_rev.sort_values(by=[('review_overall', 'count')],ascending=False))\n",
        "print(\"\")\n",
        "print(\"Top3 Beer by max review_overall mean:\")\n",
        "print(best_beer_rev.sort_values(by=[('review_overall', 'avg')],ascending=False).head(3))\n"
      ],
      "metadata": {
        "colab": {
          "base_uri": "https://localhost:8080/"
        },
        "id": "XUbmK_SOGs0b",
        "outputId": "4c815eec-0f73-499c-d5d3-1cf9456b9344"
      },
      "execution_count": 43,
      "outputs": [
        {
          "output_type": "stream",
          "name": "stdout",
          "text": [
            "Beer by max_count:\n",
            "                                        review_overall      \n",
            "                                                   avg count\n",
            "beer_name                                                   \n",
            "Founders Breakfast Stout                      4.354516  2502\n",
            "Founders KBS (Kentucky Breakfast Stout)       4.397516  1932\n",
            "Founders CBS Imperial Stout                   4.591052   637\n",
            "Bourbon County Brand Coffee Stout             4.317982   456\n",
            "Hunahpu's Imperial Stout                      4.365967   429\n",
            "Rare Bourbon County Stout                     4.544177   249\n",
            "AleSmith Speedway Stout - Barrel Aged         4.354460   213\n",
            "Silva Stout                                   4.399371   159\n",
            "Bell's Black Note Stout                       4.380769   130\n",
            "The Event Horizon                             4.328829   111\n",
            "\n",
            "Top3 Beer by max review_overall mean:\n",
            "                            review_overall      \n",
            "                                       avg count\n",
            "beer_name                                       \n",
            "Founders CBS Imperial Stout       4.591052   637\n",
            "Rare Bourbon County Stout         4.544177   249\n",
            "Silva Stout                       4.399371   159\n"
          ]
        }
      ]
    },
    {
      "cell_type": "code",
      "source": [
        "#top3 of beer\n",
        "top3_beer = best_beer_rev.sort_values(by=[('review_overall', 'avg')],ascending=False).head(3)\n",
        "top3_beer_name = top3_beer.index.tolist()\n",
        "top3_beer_name\n",
        "\n",
        "#the best top3 beers are 'Founders CBS Imperial Stout', 'Rare Bourbon County Stout' and 'The Abyss"
      ],
      "metadata": {
        "colab": {
          "base_uri": "https://localhost:8080/"
        },
        "id": "nHn1jiU7J630",
        "outputId": "794ae0e3-acf2-4ed0-937a-7b424537d93e"
      },
      "execution_count": 52,
      "outputs": [
        {
          "output_type": "execute_result",
          "data": {
            "text/plain": [
              "['Founders CBS Imperial Stout', 'Rare Bourbon County Stout', 'The Abyss']"
            ]
          },
          "metadata": {},
          "execution_count": 52
        }
      ]
    }
  ],
  "metadata": {
    "ExecuteTimeLog": [
      {
        "duration": 2741,
        "start_time": "2021-10-21T01:08:49.480Z"
      },
      {
        "duration": 52,
        "start_time": "2021-10-21T01:08:53.315Z"
      },
      {
        "duration": 49,
        "start_time": "2021-10-21T01:08:57.432Z"
      },
      {
        "duration": 70,
        "start_time": "2021-10-21T01:09:07.706Z"
      },
      {
        "duration": 697,
        "start_time": "2022-09-01T06:31:55.971Z"
      },
      {
        "duration": 580,
        "start_time": "2022-09-01T13:24:40.424Z"
      },
      {
        "duration": 15,
        "start_time": "2022-09-01T13:35:00.161Z"
      },
      {
        "duration": 68,
        "start_time": "2022-09-01T13:40:25.766Z"
      },
      {
        "duration": 12,
        "start_time": "2022-09-01T13:40:44.138Z"
      },
      {
        "duration": 58,
        "start_time": "2022-09-01T13:45:53.791Z"
      },
      {
        "duration": 29,
        "start_time": "2022-09-01T13:46:12.355Z"
      },
      {
        "duration": 69,
        "start_time": "2022-09-01T13:53:14.398Z"
      },
      {
        "duration": 74,
        "start_time": "2022-09-01T13:53:20.763Z"
      },
      {
        "duration": 13,
        "start_time": "2022-09-01T13:53:26.940Z"
      },
      {
        "duration": 9,
        "start_time": "2022-09-01T13:53:32.109Z"
      },
      {
        "duration": 28,
        "start_time": "2022-09-01T13:53:37.336Z"
      },
      {
        "duration": 9,
        "start_time": "2022-09-01T13:54:05.205Z"
      },
      {
        "duration": 9,
        "start_time": "2022-09-01T14:00:34.160Z"
      },
      {
        "duration": 26,
        "start_time": "2022-09-01T14:02:53.927Z"
      },
      {
        "duration": 17,
        "start_time": "2022-09-01T14:03:47.085Z"
      },
      {
        "duration": 19,
        "start_time": "2022-09-01T14:04:49.219Z"
      },
      {
        "duration": 25,
        "start_time": "2022-09-01T14:04:56.648Z"
      },
      {
        "duration": 20,
        "start_time": "2022-09-01T15:17:25.294Z"
      },
      {
        "duration": 20,
        "start_time": "2022-09-01T15:19:33.783Z"
      },
      {
        "duration": 7,
        "start_time": "2022-09-01T15:19:57.312Z"
      },
      {
        "duration": 4,
        "start_time": "2022-09-01T15:20:17.354Z"
      },
      {
        "duration": 231,
        "start_time": "2022-09-01T15:20:30.634Z"
      },
      {
        "duration": 8,
        "start_time": "2022-09-01T15:20:42.433Z"
      },
      {
        "duration": 77,
        "start_time": "2022-09-01T15:20:52.017Z"
      },
      {
        "duration": 904,
        "start_time": "2022-09-01T15:21:43.148Z"
      },
      {
        "duration": 15,
        "start_time": "2022-09-01T15:22:16.653Z"
      },
      {
        "duration": 3,
        "start_time": "2022-09-01T15:23:17.137Z"
      },
      {
        "duration": 26,
        "start_time": "2022-09-01T15:23:30.537Z"
      },
      {
        "duration": 60,
        "start_time": "2022-09-01T15:27:54.301Z"
      },
      {
        "duration": 21,
        "start_time": "2022-09-01T15:28:13.497Z"
      },
      {
        "duration": 5,
        "start_time": "2022-09-01T15:32:07.012Z"
      },
      {
        "duration": 4,
        "start_time": "2022-09-01T15:33:16.650Z"
      },
      {
        "duration": 13,
        "start_time": "2022-09-01T15:33:25.391Z"
      },
      {
        "duration": 6,
        "start_time": "2022-09-01T15:33:39.020Z"
      },
      {
        "duration": 20,
        "start_time": "2022-09-01T15:33:58.052Z"
      },
      {
        "duration": 12,
        "start_time": "2022-09-01T15:34:35.271Z"
      },
      {
        "duration": 12,
        "start_time": "2022-09-01T15:36:38.244Z"
      },
      {
        "duration": 18,
        "start_time": "2022-09-01T15:36:54.863Z"
      },
      {
        "duration": 11,
        "start_time": "2022-09-01T15:37:06.742Z"
      },
      {
        "duration": 19,
        "start_time": "2022-09-01T15:38:38.594Z"
      },
      {
        "duration": 15,
        "start_time": "2022-09-01T15:38:52.529Z"
      },
      {
        "duration": 13,
        "start_time": "2022-09-01T15:41:21.278Z"
      },
      {
        "duration": 11,
        "start_time": "2022-09-01T15:42:06.544Z"
      },
      {
        "duration": 19,
        "start_time": "2022-09-01T15:42:44.567Z"
      },
      {
        "duration": 11,
        "start_time": "2022-09-01T15:42:51.798Z"
      },
      {
        "duration": 21,
        "start_time": "2022-09-01T15:44:00.690Z"
      },
      {
        "duration": 20,
        "start_time": "2022-09-01T15:44:33.969Z"
      },
      {
        "duration": 67,
        "start_time": "2022-09-01T15:48:49.073Z"
      },
      {
        "duration": 6,
        "start_time": "2022-09-01T15:49:05.598Z"
      },
      {
        "duration": 18,
        "start_time": "2022-09-01T15:50:55.999Z"
      },
      {
        "duration": 5,
        "start_time": "2022-09-01T15:53:07.990Z"
      },
      {
        "duration": 5,
        "start_time": "2022-09-01T15:53:30.909Z"
      },
      {
        "duration": 19,
        "start_time": "2022-09-01T15:54:36.970Z"
      },
      {
        "duration": 52,
        "start_time": "2022-09-01T15:55:38.804Z"
      },
      {
        "duration": 43,
        "start_time": "2022-09-01T15:55:52.975Z"
      },
      {
        "duration": 5,
        "start_time": "2022-09-01T15:56:02.572Z"
      },
      {
        "duration": 4,
        "start_time": "2022-09-01T15:56:07.466Z"
      },
      {
        "duration": 1574,
        "start_time": "2022-09-01T15:57:17.804Z"
      },
      {
        "duration": 7,
        "start_time": "2022-09-01T15:57:35.339Z"
      },
      {
        "duration": 6,
        "start_time": "2022-09-01T15:58:11.744Z"
      },
      {
        "duration": 7,
        "start_time": "2022-09-01T15:58:24.665Z"
      },
      {
        "duration": 60,
        "start_time": "2022-09-01T16:04:35.908Z"
      },
      {
        "duration": 0,
        "start_time": "2022-09-01T16:05:34.116Z"
      },
      {
        "duration": 23,
        "start_time": "2022-09-01T16:05:44.467Z"
      },
      {
        "duration": 23,
        "start_time": "2022-09-01T16:05:57.668Z"
      },
      {
        "duration": 6,
        "start_time": "2022-09-01T16:06:27.178Z"
      },
      {
        "duration": 489,
        "start_time": "2022-09-01T16:07:17.775Z"
      },
      {
        "duration": 6,
        "start_time": "2022-09-01T16:07:27.395Z"
      },
      {
        "duration": 23,
        "start_time": "2022-09-01T16:07:33.669Z"
      },
      {
        "duration": 24,
        "start_time": "2022-09-01T16:14:54.978Z"
      },
      {
        "duration": 6,
        "start_time": "2022-09-01T16:15:07.392Z"
      },
      {
        "duration": 6,
        "start_time": "2022-09-01T16:15:52.653Z"
      },
      {
        "duration": 6,
        "start_time": "2022-09-01T16:16:02.021Z"
      },
      {
        "duration": 5,
        "start_time": "2022-09-01T16:16:14.686Z"
      },
      {
        "duration": 7,
        "start_time": "2022-09-01T16:16:20.689Z"
      },
      {
        "duration": 6,
        "start_time": "2022-09-01T16:16:29.541Z"
      },
      {
        "duration": 450,
        "start_time": "2022-09-01T16:16:57.320Z"
      },
      {
        "duration": 441,
        "start_time": "2022-09-01T16:17:05.527Z"
      },
      {
        "duration": 5,
        "start_time": "2022-09-01T16:17:22.583Z"
      },
      {
        "duration": 4,
        "start_time": "2022-09-01T16:17:43.778Z"
      },
      {
        "duration": 5,
        "start_time": "2022-09-01T16:17:50.907Z"
      },
      {
        "duration": 5,
        "start_time": "2022-09-01T16:31:22.519Z"
      },
      {
        "duration": 24,
        "start_time": "2022-09-01T16:31:28.084Z"
      },
      {
        "duration": 8,
        "start_time": "2022-09-01T16:32:04.969Z"
      },
      {
        "duration": 8,
        "start_time": "2022-09-01T16:32:10.358Z"
      },
      {
        "duration": 4,
        "start_time": "2022-09-01T16:32:14.197Z"
      },
      {
        "duration": 4,
        "start_time": "2022-09-01T16:34:37.870Z"
      },
      {
        "duration": 5,
        "start_time": "2022-09-01T16:34:59.324Z"
      },
      {
        "duration": 5,
        "start_time": "2022-09-01T16:35:10.098Z"
      },
      {
        "duration": 6,
        "start_time": "2022-09-01T16:36:18.894Z"
      },
      {
        "duration": 6,
        "start_time": "2022-09-01T16:36:22.542Z"
      },
      {
        "duration": 4,
        "start_time": "2022-09-01T16:37:15.461Z"
      },
      {
        "duration": 5,
        "start_time": "2022-09-01T16:37:22.303Z"
      },
      {
        "duration": 6,
        "start_time": "2022-09-01T16:39:00.149Z"
      },
      {
        "duration": 670,
        "start_time": "2022-09-02T16:52:39.066Z"
      },
      {
        "duration": 6,
        "start_time": "2022-09-02T16:52:39.739Z"
      },
      {
        "duration": 14,
        "start_time": "2022-09-02T16:52:39.747Z"
      },
      {
        "duration": 26,
        "start_time": "2022-09-02T16:52:39.763Z"
      },
      {
        "duration": 23,
        "start_time": "2022-09-02T16:52:39.792Z"
      },
      {
        "duration": 7,
        "start_time": "2022-09-02T16:52:39.817Z"
      },
      {
        "duration": 7,
        "start_time": "2022-09-02T16:52:39.826Z"
      },
      {
        "duration": 8,
        "start_time": "2022-09-02T16:52:42.781Z"
      },
      {
        "duration": 7,
        "start_time": "2022-09-02T16:52:54.485Z"
      },
      {
        "duration": 10,
        "start_time": "2022-09-02T16:55:26.089Z"
      },
      {
        "duration": 12,
        "start_time": "2022-09-02T17:01:21.502Z"
      },
      {
        "duration": 9,
        "start_time": "2022-09-02T17:02:12.709Z"
      },
      {
        "duration": 9,
        "start_time": "2022-09-02T17:02:17.273Z"
      },
      {
        "duration": 7,
        "start_time": "2022-09-02T17:02:59.056Z"
      },
      {
        "duration": 8,
        "start_time": "2022-09-02T17:03:13.269Z"
      },
      {
        "duration": 64,
        "start_time": "2022-09-02T17:03:28.514Z"
      },
      {
        "duration": 10,
        "start_time": "2022-09-02T17:04:07.498Z"
      },
      {
        "duration": 8,
        "start_time": "2022-09-02T17:04:15.789Z"
      },
      {
        "duration": 9,
        "start_time": "2022-09-02T17:04:22.789Z"
      },
      {
        "duration": 9,
        "start_time": "2022-09-02T17:04:28.486Z"
      },
      {
        "duration": 13,
        "start_time": "2022-09-02T17:05:46.205Z"
      },
      {
        "duration": 9,
        "start_time": "2022-09-02T17:06:53.589Z"
      },
      {
        "duration": 9,
        "start_time": "2022-09-02T17:06:58.357Z"
      },
      {
        "duration": 6,
        "start_time": "2022-09-02T17:08:22.908Z"
      },
      {
        "duration": 4,
        "start_time": "2022-09-02T17:55:56.934Z"
      },
      {
        "duration": 5,
        "start_time": "2022-09-02T17:56:01.827Z"
      },
      {
        "duration": 9,
        "start_time": "2022-09-02T17:56:08.402Z"
      },
      {
        "duration": 10,
        "start_time": "2022-09-02T17:56:25.837Z"
      },
      {
        "duration": 4,
        "start_time": "2022-09-02T17:56:42.399Z"
      },
      {
        "duration": 71,
        "start_time": "2022-09-02T17:58:52.768Z"
      },
      {
        "duration": 4,
        "start_time": "2022-09-02T17:59:02.017Z"
      },
      {
        "duration": 3,
        "start_time": "2022-09-02T17:59:19.673Z"
      },
      {
        "duration": 5,
        "start_time": "2022-09-02T17:59:32.904Z"
      },
      {
        "duration": 14,
        "start_time": "2022-09-02T18:04:59.109Z"
      },
      {
        "duration": 5,
        "start_time": "2022-09-02T18:05:11.731Z"
      },
      {
        "duration": 5,
        "start_time": "2022-09-02T18:05:45.872Z"
      },
      {
        "duration": 5,
        "start_time": "2022-09-02T18:06:19.263Z"
      },
      {
        "duration": 5,
        "start_time": "2022-09-02T18:06:41.896Z"
      },
      {
        "duration": 8,
        "start_time": "2022-09-02T18:06:52.941Z"
      },
      {
        "duration": 3,
        "start_time": "2022-09-02T18:06:58.247Z"
      },
      {
        "duration": 3,
        "start_time": "2022-09-02T18:07:01.869Z"
      },
      {
        "duration": 5,
        "start_time": "2022-09-02T18:07:06.711Z"
      },
      {
        "duration": 674,
        "start_time": "2022-09-03T04:52:58.214Z"
      },
      {
        "duration": 4,
        "start_time": "2022-09-03T04:52:58.891Z"
      },
      {
        "duration": 16,
        "start_time": "2022-09-03T04:52:58.896Z"
      },
      {
        "duration": 20,
        "start_time": "2022-09-03T04:52:58.914Z"
      },
      {
        "duration": 21,
        "start_time": "2022-09-03T04:52:58.935Z"
      },
      {
        "duration": 38,
        "start_time": "2022-09-03T04:52:58.958Z"
      },
      {
        "duration": 7,
        "start_time": "2022-09-03T04:52:58.998Z"
      },
      {
        "duration": 13,
        "start_time": "2022-09-03T04:52:59.007Z"
      },
      {
        "duration": 9,
        "start_time": "2022-09-03T04:52:59.022Z"
      },
      {
        "duration": 15,
        "start_time": "2022-09-03T04:52:59.033Z"
      },
      {
        "duration": 1081,
        "start_time": "2022-09-03T04:55:08.616Z"
      },
      {
        "duration": 3035,
        "start_time": "2022-09-03T04:56:12.193Z"
      },
      {
        "duration": 2803,
        "start_time": "2022-09-03T04:58:03.293Z"
      },
      {
        "duration": 1227,
        "start_time": "2022-09-03T04:59:21.472Z"
      },
      {
        "duration": 825,
        "start_time": "2022-09-03T05:05:36.767Z"
      },
      {
        "duration": 25,
        "start_time": "2022-09-03T05:06:17.859Z"
      },
      {
        "duration": 1081,
        "start_time": "2022-09-03T05:06:28.439Z"
      },
      {
        "duration": 54,
        "start_time": "2022-09-03T15:08:10.525Z"
      },
      {
        "duration": 1426,
        "start_time": "2022-09-03T15:08:22.724Z"
      },
      {
        "duration": 3,
        "start_time": "2022-09-03T15:08:24.152Z"
      },
      {
        "duration": 14,
        "start_time": "2022-09-03T15:08:24.157Z"
      },
      {
        "duration": 16,
        "start_time": "2022-09-03T15:08:24.172Z"
      },
      {
        "duration": 34,
        "start_time": "2022-09-03T15:08:24.190Z"
      },
      {
        "duration": 6,
        "start_time": "2022-09-03T15:08:24.225Z"
      },
      {
        "duration": 5,
        "start_time": "2022-09-03T15:08:24.232Z"
      },
      {
        "duration": 13,
        "start_time": "2022-09-03T15:08:24.238Z"
      },
      {
        "duration": 8,
        "start_time": "2022-09-03T15:08:24.252Z"
      },
      {
        "duration": 12,
        "start_time": "2022-09-03T15:08:24.261Z"
      },
      {
        "duration": 2774,
        "start_time": "2022-09-03T15:08:24.275Z"
      },
      {
        "duration": 893,
        "start_time": "2022-09-03T15:08:27.050Z"
      },
      {
        "duration": 5,
        "start_time": "2022-09-03T15:08:27.945Z"
      },
      {
        "duration": 15,
        "start_time": "2022-09-03T15:08:27.952Z"
      },
      {
        "duration": 3,
        "start_time": "2022-09-03T15:08:27.968Z"
      },
      {
        "duration": 4,
        "start_time": "2022-09-03T15:08:27.973Z"
      },
      {
        "duration": 32,
        "start_time": "2022-09-03T15:08:31.294Z"
      },
      {
        "duration": 24,
        "start_time": "2022-09-03T15:08:37.692Z"
      },
      {
        "duration": 9,
        "start_time": "2022-09-03T15:08:55.053Z"
      },
      {
        "duration": 186,
        "start_time": "2022-09-03T15:09:08.553Z"
      },
      {
        "duration": 76,
        "start_time": "2022-09-03T15:10:16.060Z"
      },
      {
        "duration": 11,
        "start_time": "2022-09-03T15:10:25.883Z"
      },
      {
        "duration": 82,
        "start_time": "2022-09-03T15:11:19.991Z"
      },
      {
        "duration": 1471,
        "start_time": "2022-09-04T10:30:33.216Z"
      },
      {
        "duration": 3,
        "start_time": "2022-09-04T10:30:34.689Z"
      },
      {
        "duration": 16,
        "start_time": "2022-09-04T10:30:34.693Z"
      },
      {
        "duration": 15,
        "start_time": "2022-09-04T10:30:34.711Z"
      },
      {
        "duration": 19,
        "start_time": "2022-09-04T10:30:34.728Z"
      },
      {
        "duration": 20,
        "start_time": "2022-09-04T10:30:34.748Z"
      },
      {
        "duration": 4,
        "start_time": "2022-09-04T10:30:34.770Z"
      },
      {
        "duration": 11,
        "start_time": "2022-09-04T10:30:34.776Z"
      },
      {
        "duration": 8,
        "start_time": "2022-09-04T10:30:34.788Z"
      },
      {
        "duration": 16,
        "start_time": "2022-09-04T10:30:34.797Z"
      },
      {
        "duration": 2567,
        "start_time": "2022-09-04T10:30:34.814Z"
      },
      {
        "duration": 910,
        "start_time": "2022-09-04T10:30:37.383Z"
      },
      {
        "duration": 5,
        "start_time": "2022-09-04T10:30:38.294Z"
      },
      {
        "duration": 14,
        "start_time": "2022-09-04T10:30:38.301Z"
      },
      {
        "duration": 5,
        "start_time": "2022-09-04T10:30:38.316Z"
      },
      {
        "duration": 3,
        "start_time": "2022-09-04T10:31:54.134Z"
      },
      {
        "duration": 20,
        "start_time": "2022-09-04T10:32:03.993Z"
      },
      {
        "duration": 6,
        "start_time": "2022-09-04T10:32:16.469Z"
      },
      {
        "duration": 10,
        "start_time": "2022-09-04T10:32:23.667Z"
      },
      {
        "duration": 7,
        "start_time": "2022-09-04T10:33:15.602Z"
      },
      {
        "duration": 7,
        "start_time": "2022-09-04T10:34:13.089Z"
      },
      {
        "duration": 96,
        "start_time": "2022-09-04T10:35:32.465Z"
      },
      {
        "duration": 2157,
        "start_time": "2022-09-04T10:35:48.728Z"
      },
      {
        "duration": 1384,
        "start_time": "2022-09-04T10:35:55.272Z"
      },
      {
        "duration": 19,
        "start_time": "2022-09-04T10:36:13.669Z"
      },
      {
        "duration": 8,
        "start_time": "2022-09-04T10:36:19.566Z"
      },
      {
        "duration": 19,
        "start_time": "2022-09-04T10:37:15.864Z"
      },
      {
        "duration": 18,
        "start_time": "2022-09-04T10:37:27.881Z"
      },
      {
        "duration": 6,
        "start_time": "2022-09-04T10:38:01.883Z"
      },
      {
        "duration": 9,
        "start_time": "2022-09-04T10:38:30.614Z"
      },
      {
        "duration": 7,
        "start_time": "2022-09-04T10:38:43.615Z"
      },
      {
        "duration": 7,
        "start_time": "2022-09-04T10:38:53.915Z"
      },
      {
        "duration": 8,
        "start_time": "2022-09-04T10:39:02.377Z"
      },
      {
        "duration": 17,
        "start_time": "2022-09-04T10:39:48.065Z"
      },
      {
        "duration": 8,
        "start_time": "2022-09-04T10:40:03.323Z"
      },
      {
        "duration": 8,
        "start_time": "2022-09-04T10:40:14.426Z"
      },
      {
        "duration": 17,
        "start_time": "2022-09-04T10:40:20.014Z"
      },
      {
        "duration": 9,
        "start_time": "2022-09-04T10:40:32.470Z"
      },
      {
        "duration": 17,
        "start_time": "2022-09-04T10:40:44.060Z"
      },
      {
        "duration": 16,
        "start_time": "2022-09-04T10:40:58.924Z"
      },
      {
        "duration": 12,
        "start_time": "2022-09-04T10:41:08.057Z"
      },
      {
        "duration": 15,
        "start_time": "2022-09-04T10:41:19.933Z"
      },
      {
        "duration": 12,
        "start_time": "2022-09-04T10:47:15.126Z"
      },
      {
        "duration": 11,
        "start_time": "2022-09-04T10:47:23.472Z"
      },
      {
        "duration": 14,
        "start_time": "2022-09-04T10:47:54.709Z"
      },
      {
        "duration": 12,
        "start_time": "2022-09-04T10:48:08.479Z"
      },
      {
        "duration": 4,
        "start_time": "2022-09-04T10:48:19.866Z"
      },
      {
        "duration": 5,
        "start_time": "2022-09-04T10:48:35.584Z"
      },
      {
        "duration": 6,
        "start_time": "2022-09-04T10:48:42.070Z"
      },
      {
        "duration": 10,
        "start_time": "2022-09-04T10:48:44.819Z"
      },
      {
        "duration": 5,
        "start_time": "2022-09-04T10:48:49.130Z"
      },
      {
        "duration": 6,
        "start_time": "2022-09-04T10:48:53.318Z"
      },
      {
        "duration": 7,
        "start_time": "2022-09-04T10:48:57.023Z"
      },
      {
        "duration": 9,
        "start_time": "2022-09-04T10:49:02.066Z"
      },
      {
        "duration": 7,
        "start_time": "2022-09-04T10:49:14.069Z"
      },
      {
        "duration": 12,
        "start_time": "2022-09-04T10:50:03.618Z"
      },
      {
        "duration": 12,
        "start_time": "2022-09-04T10:50:14.277Z"
      },
      {
        "duration": 7,
        "start_time": "2022-09-04T10:50:24.315Z"
      },
      {
        "duration": 83,
        "start_time": "2022-09-04T10:50:47.222Z"
      },
      {
        "duration": 5,
        "start_time": "2022-09-04T10:50:52.875Z"
      },
      {
        "duration": 5,
        "start_time": "2022-09-04T10:51:00.830Z"
      },
      {
        "duration": 4,
        "start_time": "2022-09-04T10:51:07.727Z"
      },
      {
        "duration": 6,
        "start_time": "2022-09-04T10:51:13.370Z"
      },
      {
        "duration": 7,
        "start_time": "2022-09-04T10:51:49.106Z"
      },
      {
        "duration": 7,
        "start_time": "2022-09-04T10:52:23.921Z"
      },
      {
        "duration": 5,
        "start_time": "2022-09-04T10:52:36.223Z"
      },
      {
        "duration": 6,
        "start_time": "2022-09-04T10:52:43.876Z"
      },
      {
        "duration": 8,
        "start_time": "2022-09-04T10:53:16.514Z"
      },
      {
        "duration": 2,
        "start_time": "2022-09-04T10:54:04.018Z"
      },
      {
        "duration": 12,
        "start_time": "2022-09-04T10:54:13.123Z"
      },
      {
        "duration": 11,
        "start_time": "2022-09-04T10:54:26.425Z"
      },
      {
        "duration": 13,
        "start_time": "2022-09-04T10:55:03.661Z"
      },
      {
        "duration": 11,
        "start_time": "2022-09-04T10:55:11.487Z"
      },
      {
        "duration": 16,
        "start_time": "2022-09-04T10:55:19.521Z"
      },
      {
        "duration": 23,
        "start_time": "2022-09-04T10:55:30.725Z"
      },
      {
        "duration": 6,
        "start_time": "2022-09-04T10:55:38.718Z"
      },
      {
        "duration": 6,
        "start_time": "2022-09-04T10:58:51.925Z"
      },
      {
        "duration": 7,
        "start_time": "2022-09-04T10:59:05.473Z"
      },
      {
        "duration": 7,
        "start_time": "2022-09-04T10:59:17.431Z"
      },
      {
        "duration": 8,
        "start_time": "2022-09-04T10:59:22.880Z"
      },
      {
        "duration": 7,
        "start_time": "2022-09-04T10:59:47.323Z"
      },
      {
        "duration": 7,
        "start_time": "2022-09-04T11:00:06.066Z"
      },
      {
        "duration": 8,
        "start_time": "2022-09-04T11:00:23.322Z"
      },
      {
        "duration": 8,
        "start_time": "2022-09-04T11:00:32.167Z"
      },
      {
        "duration": 8,
        "start_time": "2022-09-04T11:04:22.314Z"
      },
      {
        "duration": 12,
        "start_time": "2022-09-04T11:05:18.983Z"
      },
      {
        "duration": 5,
        "start_time": "2022-09-04T11:05:29.085Z"
      },
      {
        "duration": 6,
        "start_time": "2022-09-04T11:05:48.314Z"
      },
      {
        "duration": 5,
        "start_time": "2022-09-04T11:05:49.867Z"
      },
      {
        "duration": 5,
        "start_time": "2022-09-04T11:06:27.262Z"
      },
      {
        "duration": 6,
        "start_time": "2022-09-04T11:06:30.977Z"
      },
      {
        "duration": 6,
        "start_time": "2022-09-04T11:06:35.424Z"
      },
      {
        "duration": 4,
        "start_time": "2022-09-04T11:06:36.888Z"
      },
      {
        "duration": 81,
        "start_time": "2022-09-04T11:08:08.138Z"
      },
      {
        "duration": 75,
        "start_time": "2022-09-04T11:08:28.563Z"
      },
      {
        "duration": 4,
        "start_time": "2022-09-04T11:09:26.762Z"
      },
      {
        "duration": 6,
        "start_time": "2022-09-04T11:09:32.280Z"
      },
      {
        "duration": 5,
        "start_time": "2022-09-04T11:09:35.585Z"
      },
      {
        "duration": 5,
        "start_time": "2022-09-04T11:09:39.182Z"
      },
      {
        "duration": 6,
        "start_time": "2022-09-04T11:10:19.829Z"
      },
      {
        "duration": 6,
        "start_time": "2022-09-04T11:10:23.182Z"
      },
      {
        "duration": 37,
        "start_time": "2022-09-04T11:10:47.233Z"
      },
      {
        "duration": 9,
        "start_time": "2022-09-04T11:12:09.110Z"
      },
      {
        "duration": 72,
        "start_time": "2022-09-04T11:13:35.769Z"
      },
      {
        "duration": 110,
        "start_time": "2022-09-04T11:13:55.039Z"
      },
      {
        "duration": 9,
        "start_time": "2022-09-04T11:14:43.265Z"
      },
      {
        "duration": 102,
        "start_time": "2022-09-04T11:14:46.387Z"
      },
      {
        "duration": 10,
        "start_time": "2022-09-04T11:14:51.489Z"
      },
      {
        "duration": 1271,
        "start_time": "2022-09-04T11:15:22.660Z"
      },
      {
        "duration": 5,
        "start_time": "2022-09-04T11:15:35.180Z"
      },
      {
        "duration": 7,
        "start_time": "2022-09-04T11:15:44.243Z"
      },
      {
        "duration": 5,
        "start_time": "2022-09-04T11:15:46.176Z"
      },
      {
        "duration": 115,
        "start_time": "2022-09-04T11:19:02.090Z"
      },
      {
        "duration": 5,
        "start_time": "2022-09-04T11:21:18.060Z"
      },
      {
        "duration": 138,
        "start_time": "2022-09-04T12:27:43.227Z"
      },
      {
        "duration": 20,
        "start_time": "2022-09-04T12:27:43.372Z"
      },
      {
        "duration": 31,
        "start_time": "2022-09-04T12:27:43.394Z"
      },
      {
        "duration": 52,
        "start_time": "2022-09-04T12:27:43.428Z"
      },
      {
        "duration": 38,
        "start_time": "2022-09-04T12:27:43.495Z"
      },
      {
        "duration": 9,
        "start_time": "2022-09-04T12:27:43.536Z"
      },
      {
        "duration": 27,
        "start_time": "2022-09-04T12:27:43.547Z"
      },
      {
        "duration": 42,
        "start_time": "2022-09-04T12:27:43.577Z"
      },
      {
        "duration": 21,
        "start_time": "2022-09-04T12:27:43.622Z"
      },
      {
        "duration": 19,
        "start_time": "2022-09-04T12:27:43.650Z"
      },
      {
        "duration": 3375,
        "start_time": "2022-09-04T12:27:43.671Z"
      },
      {
        "duration": 1055,
        "start_time": "2022-09-04T12:27:47.048Z"
      },
      {
        "duration": 6,
        "start_time": "2022-09-04T12:27:48.104Z"
      },
      {
        "duration": 18,
        "start_time": "2022-09-04T12:27:48.111Z"
      },
      {
        "duration": 5,
        "start_time": "2022-09-04T12:27:48.131Z"
      },
      {
        "duration": 36,
        "start_time": "2022-09-04T12:27:48.138Z"
      },
      {
        "duration": 180,
        "start_time": "2022-09-04T12:27:48.177Z"
      },
      {
        "duration": 18,
        "start_time": "2022-09-04T12:27:48.368Z"
      },
      {
        "duration": 12,
        "start_time": "2022-09-04T12:27:48.389Z"
      },
      {
        "duration": 6,
        "start_time": "2022-09-04T12:28:34.321Z"
      },
      {
        "duration": 5,
        "start_time": "2022-09-04T12:32:20.514Z"
      },
      {
        "duration": 10,
        "start_time": "2022-09-04T12:32:26.839Z"
      },
      {
        "duration": 20,
        "start_time": "2022-09-04T12:37:42.627Z"
      },
      {
        "duration": 7,
        "start_time": "2022-09-04T12:38:01.523Z"
      },
      {
        "duration": 8,
        "start_time": "2022-09-04T12:38:09.295Z"
      },
      {
        "duration": 27,
        "start_time": "2022-09-04T12:38:46.786Z"
      },
      {
        "duration": 80,
        "start_time": "2022-09-04T12:58:41.897Z"
      },
      {
        "duration": 6,
        "start_time": "2022-09-04T12:58:41.987Z"
      },
      {
        "duration": 17,
        "start_time": "2022-09-04T12:58:41.995Z"
      },
      {
        "duration": 19,
        "start_time": "2022-09-04T12:58:42.015Z"
      },
      {
        "duration": 35,
        "start_time": "2022-09-04T12:58:42.036Z"
      },
      {
        "duration": 11,
        "start_time": "2022-09-04T12:58:42.074Z"
      },
      {
        "duration": 11,
        "start_time": "2022-09-04T12:58:42.088Z"
      },
      {
        "duration": 14,
        "start_time": "2022-09-04T12:58:42.101Z"
      },
      {
        "duration": 12,
        "start_time": "2022-09-04T12:58:42.117Z"
      },
      {
        "duration": 40,
        "start_time": "2022-09-04T12:58:42.131Z"
      },
      {
        "duration": 2875,
        "start_time": "2022-09-04T12:58:42.173Z"
      },
      {
        "duration": 1023,
        "start_time": "2022-09-04T12:58:45.050Z"
      },
      {
        "duration": 8,
        "start_time": "2022-09-04T12:58:46.076Z"
      },
      {
        "duration": 20,
        "start_time": "2022-09-04T12:58:46.087Z"
      },
      {
        "duration": 5,
        "start_time": "2022-09-04T12:58:46.108Z"
      },
      {
        "duration": 7,
        "start_time": "2022-09-04T12:58:46.115Z"
      },
      {
        "duration": 136,
        "start_time": "2022-09-04T12:58:46.124Z"
      },
      {
        "duration": 12,
        "start_time": "2022-09-04T12:58:46.267Z"
      },
      {
        "duration": 10,
        "start_time": "2022-09-04T12:58:46.282Z"
      },
      {
        "duration": 7,
        "start_time": "2022-09-04T12:58:46.293Z"
      },
      {
        "duration": 11,
        "start_time": "2022-09-04T12:58:51.856Z"
      },
      {
        "duration": 34,
        "start_time": "2022-09-04T13:07:41.672Z"
      },
      {
        "duration": 4,
        "start_time": "2022-09-04T13:08:45.259Z"
      },
      {
        "duration": 11,
        "start_time": "2022-09-04T13:08:53.605Z"
      },
      {
        "duration": 11,
        "start_time": "2022-09-04T13:09:15.255Z"
      },
      {
        "duration": 21,
        "start_time": "2022-09-04T13:09:21.009Z"
      },
      {
        "duration": 8,
        "start_time": "2022-09-04T13:11:01.939Z"
      },
      {
        "duration": 6,
        "start_time": "2022-09-04T13:13:30.256Z"
      },
      {
        "duration": 83,
        "start_time": "2022-09-04T13:13:38.350Z"
      },
      {
        "duration": 110,
        "start_time": "2022-09-04T13:13:47.349Z"
      },
      {
        "duration": 70,
        "start_time": "2022-09-04T13:15:06.926Z"
      },
      {
        "duration": 5,
        "start_time": "2022-09-04T13:15:18.907Z"
      },
      {
        "duration": 6,
        "start_time": "2022-09-04T13:15:25.461Z"
      },
      {
        "duration": 6,
        "start_time": "2022-09-04T13:16:52.831Z"
      },
      {
        "duration": 6,
        "start_time": "2022-09-04T13:17:23.548Z"
      },
      {
        "duration": 4,
        "start_time": "2022-09-04T13:17:38.799Z"
      },
      {
        "duration": 6,
        "start_time": "2022-09-04T13:17:41.216Z"
      },
      {
        "duration": 5,
        "start_time": "2022-09-04T13:18:06.249Z"
      },
      {
        "duration": 16,
        "start_time": "2022-09-04T13:20:15.883Z"
      },
      {
        "duration": 12,
        "start_time": "2022-09-04T13:21:12.912Z"
      },
      {
        "duration": 10,
        "start_time": "2022-09-04T13:21:28.646Z"
      },
      {
        "duration": 4,
        "start_time": "2022-09-04T13:21:30.194Z"
      },
      {
        "duration": 5,
        "start_time": "2022-09-04T13:22:42.953Z"
      },
      {
        "duration": 11,
        "start_time": "2022-09-04T13:22:45.180Z"
      },
      {
        "duration": 5,
        "start_time": "2022-09-04T13:23:12.341Z"
      },
      {
        "duration": 5,
        "start_time": "2022-09-04T13:23:17.250Z"
      },
      {
        "duration": 4,
        "start_time": "2022-09-04T13:23:25.331Z"
      },
      {
        "duration": 14,
        "start_time": "2022-09-04T13:23:56.563Z"
      },
      {
        "duration": 12,
        "start_time": "2022-09-04T13:23:58.902Z"
      },
      {
        "duration": 9,
        "start_time": "2022-09-04T13:24:33.594Z"
      },
      {
        "duration": 90,
        "start_time": "2022-09-04T13:26:08.722Z"
      },
      {
        "duration": 6,
        "start_time": "2022-09-04T13:26:08.814Z"
      },
      {
        "duration": 19,
        "start_time": "2022-09-04T13:26:08.822Z"
      },
      {
        "duration": 19,
        "start_time": "2022-09-04T13:26:08.842Z"
      },
      {
        "duration": 32,
        "start_time": "2022-09-04T13:26:08.863Z"
      },
      {
        "duration": 18,
        "start_time": "2022-09-04T13:26:08.897Z"
      },
      {
        "duration": 9,
        "start_time": "2022-09-04T13:26:08.917Z"
      },
      {
        "duration": 14,
        "start_time": "2022-09-04T13:26:08.928Z"
      },
      {
        "duration": 35,
        "start_time": "2022-09-04T13:26:08.968Z"
      },
      {
        "duration": 13,
        "start_time": "2022-09-04T13:26:09.006Z"
      },
      {
        "duration": 3130,
        "start_time": "2022-09-04T13:26:09.021Z"
      },
      {
        "duration": 1069,
        "start_time": "2022-09-04T13:26:12.152Z"
      },
      {
        "duration": 5,
        "start_time": "2022-09-04T13:26:13.223Z"
      },
      {
        "duration": 15,
        "start_time": "2022-09-04T13:26:13.230Z"
      },
      {
        "duration": 27,
        "start_time": "2022-09-04T13:26:13.247Z"
      },
      {
        "duration": 29,
        "start_time": "2022-09-04T13:26:13.276Z"
      },
      {
        "duration": 124,
        "start_time": "2022-09-04T13:26:13.306Z"
      },
      {
        "duration": 8,
        "start_time": "2022-09-04T13:26:13.432Z"
      },
      {
        "duration": 6,
        "start_time": "2022-09-04T13:26:13.442Z"
      },
      {
        "duration": 8,
        "start_time": "2022-09-04T13:26:13.449Z"
      },
      {
        "duration": 26,
        "start_time": "2022-09-04T13:26:13.470Z"
      },
      {
        "duration": 22,
        "start_time": "2022-09-04T13:26:13.504Z"
      },
      {
        "duration": 5,
        "start_time": "2022-09-04T13:26:13.528Z"
      },
      {
        "duration": 16,
        "start_time": "2022-09-04T13:26:13.534Z"
      },
      {
        "duration": 10,
        "start_time": "2022-09-04T13:26:13.552Z"
      },
      {
        "duration": 11,
        "start_time": "2022-09-04T13:26:39.992Z"
      },
      {
        "duration": 107,
        "start_time": "2022-09-04T13:27:38.821Z"
      },
      {
        "duration": 10,
        "start_time": "2022-09-04T13:27:49.193Z"
      },
      {
        "duration": 6,
        "start_time": "2022-09-04T13:28:25.224Z"
      },
      {
        "duration": 7,
        "start_time": "2022-09-04T13:28:27.867Z"
      },
      {
        "duration": 9,
        "start_time": "2022-09-04T14:35:44.288Z"
      },
      {
        "duration": 19,
        "start_time": "2022-09-04T14:39:54.405Z"
      },
      {
        "duration": 3,
        "start_time": "2022-09-04T14:40:50.249Z"
      },
      {
        "duration": 3,
        "start_time": "2022-09-04T14:46:18.250Z"
      },
      {
        "duration": 6,
        "start_time": "2022-09-04T14:46:20.387Z"
      },
      {
        "duration": 6,
        "start_time": "2022-09-04T14:46:30.316Z"
      },
      {
        "duration": 5,
        "start_time": "2022-09-04T14:47:31.406Z"
      },
      {
        "duration": 87,
        "start_time": "2022-09-04T14:49:40.804Z"
      },
      {
        "duration": 6,
        "start_time": "2022-09-04T14:50:22.450Z"
      },
      {
        "duration": 8,
        "start_time": "2022-09-04T14:50:40.215Z"
      },
      {
        "duration": 11,
        "start_time": "2022-09-04T14:50:45.197Z"
      },
      {
        "duration": 5,
        "start_time": "2022-09-04T14:51:53.245Z"
      },
      {
        "duration": 9,
        "start_time": "2022-09-04T14:52:02.300Z"
      },
      {
        "duration": 6,
        "start_time": "2022-09-04T14:52:08.330Z"
      },
      {
        "duration": 6,
        "start_time": "2022-09-04T14:52:15.396Z"
      },
      {
        "duration": 5,
        "start_time": "2022-09-04T14:52:34.397Z"
      },
      {
        "duration": 3,
        "start_time": "2022-09-04T14:54:01.692Z"
      },
      {
        "duration": 2,
        "start_time": "2022-09-04T14:54:03.249Z"
      },
      {
        "duration": 19,
        "start_time": "2022-09-04T14:54:46.232Z"
      },
      {
        "duration": 21,
        "start_time": "2022-09-04T14:55:39.196Z"
      },
      {
        "duration": 17,
        "start_time": "2022-09-04T14:55:48.707Z"
      },
      {
        "duration": 20,
        "start_time": "2022-09-04T14:55:56.130Z"
      },
      {
        "duration": 87,
        "start_time": "2022-09-04T14:56:35.009Z"
      },
      {
        "duration": 4,
        "start_time": "2022-09-04T14:56:39.448Z"
      },
      {
        "duration": 16,
        "start_time": "2022-09-04T14:56:41.791Z"
      },
      {
        "duration": 15,
        "start_time": "2022-09-04T14:56:46.526Z"
      },
      {
        "duration": 21,
        "start_time": "2022-09-04T14:56:49.297Z"
      },
      {
        "duration": 13,
        "start_time": "2022-09-04T14:56:54.264Z"
      },
      {
        "duration": 5,
        "start_time": "2022-09-04T14:57:00.260Z"
      },
      {
        "duration": 10,
        "start_time": "2022-09-04T14:57:03.201Z"
      },
      {
        "duration": 12,
        "start_time": "2022-09-04T14:57:10.550Z"
      },
      {
        "duration": 11,
        "start_time": "2022-09-04T14:57:17.893Z"
      },
      {
        "duration": 2723,
        "start_time": "2022-09-04T14:57:27.269Z"
      },
      {
        "duration": 1055,
        "start_time": "2022-09-04T14:57:46.656Z"
      },
      {
        "duration": 5,
        "start_time": "2022-09-04T14:57:52.214Z"
      },
      {
        "duration": 18,
        "start_time": "2022-09-04T14:57:56.062Z"
      },
      {
        "duration": 6,
        "start_time": "2022-09-04T14:57:59.030Z"
      },
      {
        "duration": 4,
        "start_time": "2022-09-04T14:58:01.309Z"
      },
      {
        "duration": 96,
        "start_time": "2022-09-04T14:58:03.629Z"
      },
      {
        "duration": 12,
        "start_time": "2022-09-04T14:58:09.461Z"
      },
      {
        "duration": 8,
        "start_time": "2022-09-04T14:58:14.487Z"
      },
      {
        "duration": 7,
        "start_time": "2022-09-04T14:58:16.986Z"
      },
      {
        "duration": 16,
        "start_time": "2022-09-04T14:58:22.262Z"
      },
      {
        "duration": 9,
        "start_time": "2022-09-04T14:58:26.983Z"
      },
      {
        "duration": 3,
        "start_time": "2022-09-04T14:58:37.906Z"
      },
      {
        "duration": 5,
        "start_time": "2022-09-04T14:58:39.993Z"
      },
      {
        "duration": 5,
        "start_time": "2022-09-04T14:58:42.892Z"
      },
      {
        "duration": 10,
        "start_time": "2022-09-04T14:58:44.992Z"
      },
      {
        "duration": 5,
        "start_time": "2022-09-04T14:58:47.697Z"
      },
      {
        "duration": 5,
        "start_time": "2022-09-04T14:58:49.310Z"
      },
      {
        "duration": 9,
        "start_time": "2022-09-04T14:58:51.789Z"
      },
      {
        "duration": 7,
        "start_time": "2022-09-04T14:58:55.300Z"
      },
      {
        "duration": 4,
        "start_time": "2022-09-04T14:58:57.447Z"
      },
      {
        "duration": 5,
        "start_time": "2022-09-04T14:59:08.846Z"
      },
      {
        "duration": 5,
        "start_time": "2022-09-04T14:59:13.651Z"
      },
      {
        "duration": 19,
        "start_time": "2022-09-04T14:59:16.235Z"
      },
      {
        "duration": 16,
        "start_time": "2022-09-04T14:59:20.217Z"
      },
      {
        "duration": 18,
        "start_time": "2022-09-04T14:59:22.725Z"
      },
      {
        "duration": 12,
        "start_time": "2022-09-04T14:59:31.796Z"
      },
      {
        "duration": 20,
        "start_time": "2022-09-04T14:59:38.038Z"
      },
      {
        "duration": 136,
        "start_time": "2022-09-04T15:01:21.581Z"
      },
      {
        "duration": 91,
        "start_time": "2022-09-04T15:04:34.657Z"
      },
      {
        "duration": 70,
        "start_time": "2022-09-04T15:04:43.401Z"
      },
      {
        "duration": 5,
        "start_time": "2022-09-04T15:04:46.695Z"
      },
      {
        "duration": 16,
        "start_time": "2022-09-04T15:04:49.063Z"
      },
      {
        "duration": 13,
        "start_time": "2022-09-04T15:04:52.190Z"
      },
      {
        "duration": 20,
        "start_time": "2022-09-04T15:08:22.198Z"
      },
      {
        "duration": 7,
        "start_time": "2022-09-04T15:08:25.134Z"
      },
      {
        "duration": 5,
        "start_time": "2022-09-04T15:08:28.814Z"
      },
      {
        "duration": 10,
        "start_time": "2022-09-04T15:08:32.832Z"
      },
      {
        "duration": 11,
        "start_time": "2022-09-04T15:08:37.849Z"
      },
      {
        "duration": 84,
        "start_time": "2022-09-04T15:09:01.448Z"
      },
      {
        "duration": 4,
        "start_time": "2022-09-04T15:09:01.534Z"
      },
      {
        "duration": 39,
        "start_time": "2022-09-04T15:09:01.540Z"
      },
      {
        "duration": 33,
        "start_time": "2022-09-04T15:09:01.581Z"
      },
      {
        "duration": 20,
        "start_time": "2022-09-04T15:09:01.616Z"
      },
      {
        "duration": 6,
        "start_time": "2022-09-04T15:09:01.637Z"
      },
      {
        "duration": 38,
        "start_time": "2022-09-04T15:09:01.645Z"
      },
      {
        "duration": 21,
        "start_time": "2022-09-04T15:09:01.685Z"
      },
      {
        "duration": 12,
        "start_time": "2022-09-04T15:09:01.708Z"
      },
      {
        "duration": 22,
        "start_time": "2022-09-04T15:09:01.722Z"
      },
      {
        "duration": 2613,
        "start_time": "2022-09-04T15:09:01.747Z"
      },
      {
        "duration": 923,
        "start_time": "2022-09-04T15:09:04.361Z"
      },
      {
        "duration": 5,
        "start_time": "2022-09-04T15:09:05.286Z"
      },
      {
        "duration": 21,
        "start_time": "2022-09-04T15:09:05.293Z"
      },
      {
        "duration": 4,
        "start_time": "2022-09-04T15:09:05.316Z"
      },
      {
        "duration": 12,
        "start_time": "2022-09-04T15:09:05.321Z"
      },
      {
        "duration": 106,
        "start_time": "2022-09-04T15:09:05.335Z"
      },
      {
        "duration": 8,
        "start_time": "2022-09-04T15:09:05.442Z"
      },
      {
        "duration": 24,
        "start_time": "2022-09-04T15:09:05.451Z"
      },
      {
        "duration": 13,
        "start_time": "2022-09-04T15:09:05.477Z"
      },
      {
        "duration": 21,
        "start_time": "2022-09-04T15:09:05.492Z"
      },
      {
        "duration": 9,
        "start_time": "2022-09-04T15:09:05.515Z"
      },
      {
        "duration": 11,
        "start_time": "2022-09-04T15:09:05.525Z"
      },
      {
        "duration": 157,
        "start_time": "2022-09-04T15:09:05.538Z"
      },
      {
        "duration": 6,
        "start_time": "2022-09-04T15:09:05.698Z"
      },
      {
        "duration": 22,
        "start_time": "2022-09-04T15:09:05.706Z"
      },
      {
        "duration": 17,
        "start_time": "2022-09-04T15:09:05.730Z"
      },
      {
        "duration": 11,
        "start_time": "2022-09-04T15:09:05.749Z"
      },
      {
        "duration": 6,
        "start_time": "2022-09-04T15:09:05.761Z"
      },
      {
        "duration": 26,
        "start_time": "2022-09-04T15:09:05.768Z"
      },
      {
        "duration": 13,
        "start_time": "2022-09-04T15:09:05.795Z"
      },
      {
        "duration": 11,
        "start_time": "2022-09-04T15:09:05.810Z"
      },
      {
        "duration": 17,
        "start_time": "2022-09-04T15:09:05.822Z"
      },
      {
        "duration": 13,
        "start_time": "2022-09-04T15:09:05.840Z"
      },
      {
        "duration": 40,
        "start_time": "2022-09-04T15:09:05.854Z"
      },
      {
        "duration": 13,
        "start_time": "2022-09-04T15:09:05.895Z"
      },
      {
        "duration": 19,
        "start_time": "2022-09-04T15:09:05.909Z"
      },
      {
        "duration": 11,
        "start_time": "2022-09-04T15:09:05.930Z"
      },
      {
        "duration": 34,
        "start_time": "2022-09-04T15:09:05.943Z"
      },
      {
        "duration": 17,
        "start_time": "2022-09-04T15:09:05.979Z"
      },
      {
        "duration": 18,
        "start_time": "2022-09-04T15:09:05.998Z"
      },
      {
        "duration": 24,
        "start_time": "2022-09-04T15:09:06.018Z"
      },
      {
        "duration": 7,
        "start_time": "2022-09-04T15:09:06.043Z"
      },
      {
        "duration": 27,
        "start_time": "2022-09-04T15:09:06.052Z"
      },
      {
        "duration": 21,
        "start_time": "2022-09-04T15:09:06.081Z"
      },
      {
        "duration": 8,
        "start_time": "2022-09-04T15:09:06.104Z"
      },
      {
        "duration": 20,
        "start_time": "2022-09-04T15:09:06.114Z"
      },
      {
        "duration": 13,
        "start_time": "2022-09-04T15:09:06.136Z"
      },
      {
        "duration": 10,
        "start_time": "2022-09-04T15:09:06.151Z"
      },
      {
        "duration": 18,
        "start_time": "2022-09-04T15:09:06.162Z"
      },
      {
        "duration": 16,
        "start_time": "2022-09-04T15:09:06.181Z"
      },
      {
        "duration": 11,
        "start_time": "2022-09-04T15:09:06.199Z"
      },
      {
        "duration": 14,
        "start_time": "2022-09-04T15:09:06.212Z"
      },
      {
        "duration": 13,
        "start_time": "2022-09-04T15:09:06.228Z"
      },
      {
        "duration": 11,
        "start_time": "2022-09-04T15:09:06.243Z"
      },
      {
        "duration": 12,
        "start_time": "2022-09-04T15:09:06.255Z"
      },
      {
        "duration": 7,
        "start_time": "2022-09-04T15:09:06.280Z"
      },
      {
        "duration": 8,
        "start_time": "2022-09-04T15:09:06.288Z"
      },
      {
        "duration": 7,
        "start_time": "2022-09-04T15:09:06.298Z"
      },
      {
        "duration": 5,
        "start_time": "2022-09-04T15:09:06.307Z"
      },
      {
        "duration": 4,
        "start_time": "2022-09-04T15:09:06.314Z"
      },
      {
        "duration": 5,
        "start_time": "2022-09-04T15:09:06.320Z"
      },
      {
        "duration": 6,
        "start_time": "2022-09-04T15:09:06.327Z"
      },
      {
        "duration": 6,
        "start_time": "2022-09-04T15:09:06.335Z"
      },
      {
        "duration": 5,
        "start_time": "2022-09-04T15:09:06.343Z"
      },
      {
        "duration": 6,
        "start_time": "2022-09-04T15:09:06.350Z"
      },
      {
        "duration": 5,
        "start_time": "2022-09-04T15:09:06.361Z"
      },
      {
        "duration": 19,
        "start_time": "2022-09-04T15:09:06.368Z"
      },
      {
        "duration": 5,
        "start_time": "2022-09-04T15:09:06.390Z"
      },
      {
        "duration": 6,
        "start_time": "2022-09-04T15:09:06.396Z"
      },
      {
        "duration": 4,
        "start_time": "2022-09-04T15:09:06.403Z"
      },
      {
        "duration": 5,
        "start_time": "2022-09-04T15:09:06.409Z"
      },
      {
        "duration": 5,
        "start_time": "2022-09-04T15:09:06.415Z"
      },
      {
        "duration": 13,
        "start_time": "2022-09-04T15:09:06.422Z"
      },
      {
        "duration": 5,
        "start_time": "2022-09-04T15:09:06.437Z"
      },
      {
        "duration": 8,
        "start_time": "2022-09-04T15:09:06.444Z"
      },
      {
        "duration": 10,
        "start_time": "2022-09-04T15:09:06.454Z"
      },
      {
        "duration": 157,
        "start_time": "2022-09-04T15:12:58.343Z"
      },
      {
        "duration": 70,
        "start_time": "2022-09-04T15:13:11.692Z"
      },
      {
        "duration": 4,
        "start_time": "2022-09-04T15:13:20.183Z"
      },
      {
        "duration": 11,
        "start_time": "2022-09-04T15:13:22.792Z"
      },
      {
        "duration": 15,
        "start_time": "2022-09-04T15:13:25.895Z"
      },
      {
        "duration": 19,
        "start_time": "2022-09-04T15:13:28.328Z"
      },
      {
        "duration": 7,
        "start_time": "2022-09-04T15:13:31.449Z"
      },
      {
        "duration": 15,
        "start_time": "2022-09-04T15:13:36.763Z"
      },
      {
        "duration": 10,
        "start_time": "2022-09-04T15:13:38.610Z"
      },
      {
        "duration": 9,
        "start_time": "2022-09-04T15:13:43.936Z"
      },
      {
        "duration": 10,
        "start_time": "2022-09-04T15:13:47.614Z"
      },
      {
        "duration": 2946,
        "start_time": "2022-09-04T15:13:52.329Z"
      },
      {
        "duration": 936,
        "start_time": "2022-09-04T15:14:25.551Z"
      },
      {
        "duration": 5,
        "start_time": "2022-09-04T15:14:31.882Z"
      },
      {
        "duration": 19,
        "start_time": "2022-09-04T15:14:34.266Z"
      },
      {
        "duration": 7,
        "start_time": "2022-09-04T15:14:36.549Z"
      },
      {
        "duration": 4,
        "start_time": "2022-09-04T15:14:48.062Z"
      },
      {
        "duration": 92,
        "start_time": "2022-09-04T15:14:56.293Z"
      },
      {
        "duration": 8,
        "start_time": "2022-09-04T15:15:00.125Z"
      },
      {
        "duration": 6,
        "start_time": "2022-09-04T15:15:05.153Z"
      },
      {
        "duration": 5,
        "start_time": "2022-09-04T15:15:25.542Z"
      },
      {
        "duration": 107,
        "start_time": "2022-09-04T15:15:28.598Z"
      },
      {
        "duration": 173,
        "start_time": "2022-09-04T15:18:05.943Z"
      },
      {
        "duration": 160,
        "start_time": "2022-09-04T15:18:16.144Z"
      },
      {
        "duration": 145,
        "start_time": "2022-09-04T15:20:07.136Z"
      },
      {
        "duration": 8,
        "start_time": "2022-09-04T15:20:18.733Z"
      },
      {
        "duration": 4,
        "start_time": "2022-09-04T15:20:22.645Z"
      },
      {
        "duration": 17,
        "start_time": "2022-09-04T15:20:37.217Z"
      },
      {
        "duration": 474,
        "start_time": "2022-09-04T15:22:04.190Z"
      },
      {
        "duration": 3,
        "start_time": "2022-09-04T15:25:17.090Z"
      },
      {
        "duration": 7,
        "start_time": "2022-09-04T15:25:27.481Z"
      },
      {
        "duration": 17,
        "start_time": "2022-09-04T15:25:34.243Z"
      },
      {
        "duration": 21,
        "start_time": "2022-09-04T15:25:46.018Z"
      },
      {
        "duration": 18,
        "start_time": "2022-09-04T15:26:41.242Z"
      },
      {
        "duration": 7,
        "start_time": "2022-09-04T15:26:45.170Z"
      },
      {
        "duration": 5,
        "start_time": "2022-09-04T15:27:00.836Z"
      },
      {
        "duration": 12,
        "start_time": "2022-09-04T15:27:18.549Z"
      },
      {
        "duration": 21,
        "start_time": "2022-09-04T15:28:07.220Z"
      },
      {
        "duration": 12,
        "start_time": "2022-09-04T15:29:22.299Z"
      },
      {
        "duration": 110,
        "start_time": "2022-09-04T15:29:36.887Z"
      },
      {
        "duration": 71,
        "start_time": "2022-09-04T15:29:44.794Z"
      },
      {
        "duration": 102,
        "start_time": "2022-09-04T15:29:48.001Z"
      },
      {
        "duration": 11,
        "start_time": "2022-09-04T15:30:07.927Z"
      },
      {
        "duration": 420,
        "start_time": "2022-09-04T15:31:23.944Z"
      },
      {
        "duration": 511,
        "start_time": "2022-09-04T15:32:15.603Z"
      },
      {
        "duration": 504,
        "start_time": "2022-09-04T15:32:45.924Z"
      },
      {
        "duration": 11,
        "start_time": "2022-09-04T15:34:34.797Z"
      },
      {
        "duration": 20,
        "start_time": "2022-09-04T15:36:15.941Z"
      },
      {
        "duration": 6,
        "start_time": "2022-09-04T15:36:31.093Z"
      },
      {
        "duration": 11,
        "start_time": "2022-09-04T15:37:15.521Z"
      },
      {
        "duration": 5,
        "start_time": "2022-09-04T15:38:07.424Z"
      },
      {
        "duration": 5,
        "start_time": "2022-09-04T15:38:31.893Z"
      },
      {
        "duration": 5,
        "start_time": "2022-09-04T15:38:39.993Z"
      },
      {
        "duration": 7,
        "start_time": "2022-09-04T15:38:45.062Z"
      },
      {
        "duration": 1063,
        "start_time": "2022-09-04T15:40:35.935Z"
      },
      {
        "duration": 4,
        "start_time": "2022-09-04T15:43:14.125Z"
      },
      {
        "duration": 7,
        "start_time": "2022-09-04T15:43:15.699Z"
      },
      {
        "duration": 5,
        "start_time": "2022-09-04T15:43:18.925Z"
      },
      {
        "duration": 9,
        "start_time": "2022-09-04T15:43:21.423Z"
      },
      {
        "duration": 6,
        "start_time": "2022-09-04T15:43:23.685Z"
      },
      {
        "duration": 5,
        "start_time": "2022-09-04T15:43:25.881Z"
      },
      {
        "duration": 5,
        "start_time": "2022-09-04T15:43:27.955Z"
      },
      {
        "duration": 7,
        "start_time": "2022-09-04T15:43:31.481Z"
      },
      {
        "duration": 4,
        "start_time": "2022-09-04T15:43:34.091Z"
      },
      {
        "duration": 5,
        "start_time": "2022-09-04T15:43:35.746Z"
      },
      {
        "duration": 4,
        "start_time": "2022-09-04T15:43:37.884Z"
      },
      {
        "duration": 16,
        "start_time": "2022-09-04T15:43:40.982Z"
      },
      {
        "duration": 27,
        "start_time": "2022-09-04T15:43:45.066Z"
      },
      {
        "duration": 19,
        "start_time": "2022-09-04T15:43:46.890Z"
      },
      {
        "duration": 27,
        "start_time": "2022-09-04T15:43:52.660Z"
      },
      {
        "duration": 6,
        "start_time": "2022-09-04T15:47:12.020Z"
      },
      {
        "duration": 5,
        "start_time": "2022-09-04T15:47:30.222Z"
      },
      {
        "duration": 5,
        "start_time": "2022-09-04T15:47:38.562Z"
      },
      {
        "duration": 13,
        "start_time": "2022-09-04T15:48:21.185Z"
      },
      {
        "duration": 155,
        "start_time": "2022-09-04T15:53:21.029Z"
      },
      {
        "duration": 153,
        "start_time": "2022-09-04T15:53:40.186Z"
      },
      {
        "duration": 14,
        "start_time": "2022-09-04T16:05:56.813Z"
      },
      {
        "duration": 4,
        "start_time": "2022-09-04T18:08:52.735Z"
      },
      {
        "duration": 6,
        "start_time": "2022-09-04T18:08:55.182Z"
      },
      {
        "duration": 12,
        "start_time": "2022-09-04T18:09:07.763Z"
      },
      {
        "duration": 9,
        "start_time": "2022-09-04T18:09:13.739Z"
      },
      {
        "duration": 7,
        "start_time": "2022-09-04T18:09:42.297Z"
      },
      {
        "duration": 15,
        "start_time": "2022-09-04T18:09:59.769Z"
      },
      {
        "duration": 91,
        "start_time": "2022-09-04T18:10:10.505Z"
      },
      {
        "duration": 9,
        "start_time": "2022-09-04T18:10:14.662Z"
      },
      {
        "duration": 73,
        "start_time": "2022-09-04T18:15:42.582Z"
      },
      {
        "duration": 5,
        "start_time": "2022-09-04T18:15:50.181Z"
      },
      {
        "duration": 4,
        "start_time": "2022-09-04T18:16:39.203Z"
      },
      {
        "duration": 3,
        "start_time": "2022-09-04T18:16:50.530Z"
      },
      {
        "duration": 4,
        "start_time": "2022-09-04T18:17:25.640Z"
      },
      {
        "duration": 7,
        "start_time": "2022-09-04T18:17:32.464Z"
      },
      {
        "duration": 4,
        "start_time": "2022-09-04T18:17:38.229Z"
      },
      {
        "duration": 4,
        "start_time": "2022-09-04T18:18:11.789Z"
      },
      {
        "duration": 8,
        "start_time": "2022-09-04T18:18:16.567Z"
      },
      {
        "duration": 4,
        "start_time": "2022-09-04T18:18:21.333Z"
      },
      {
        "duration": 5,
        "start_time": "2022-09-04T18:18:39.564Z"
      },
      {
        "duration": 4,
        "start_time": "2022-09-04T18:18:58.524Z"
      },
      {
        "duration": 4,
        "start_time": "2022-09-04T18:19:08.981Z"
      },
      {
        "duration": 4,
        "start_time": "2022-09-04T18:19:31.878Z"
      },
      {
        "duration": 4,
        "start_time": "2022-09-04T18:19:44.122Z"
      },
      {
        "duration": 4,
        "start_time": "2022-09-04T18:19:45.480Z"
      },
      {
        "duration": 4,
        "start_time": "2022-09-04T18:20:51.206Z"
      },
      {
        "duration": 5,
        "start_time": "2022-09-04T18:20:58.378Z"
      },
      {
        "duration": 8,
        "start_time": "2022-09-04T18:21:42.097Z"
      },
      {
        "duration": 11,
        "start_time": "2022-09-04T18:21:47.892Z"
      },
      {
        "duration": 8,
        "start_time": "2022-09-04T18:23:27.216Z"
      },
      {
        "duration": 7,
        "start_time": "2022-09-04T18:23:42.616Z"
      },
      {
        "duration": 4,
        "start_time": "2022-09-04T18:24:00.293Z"
      },
      {
        "duration": 3,
        "start_time": "2022-09-04T18:24:02.574Z"
      },
      {
        "duration": 7,
        "start_time": "2022-09-04T18:24:04.401Z"
      },
      {
        "duration": 7,
        "start_time": "2022-09-04T18:24:06.378Z"
      },
      {
        "duration": 5,
        "start_time": "2022-09-04T18:26:20.181Z"
      },
      {
        "duration": 4,
        "start_time": "2022-09-04T18:26:26.542Z"
      },
      {
        "duration": 5,
        "start_time": "2022-09-04T18:26:30.433Z"
      },
      {
        "duration": 3,
        "start_time": "2022-09-04T18:26:39.820Z"
      },
      {
        "duration": 5,
        "start_time": "2022-09-04T18:26:43.115Z"
      },
      {
        "duration": 8,
        "start_time": "2022-09-04T18:27:32.623Z"
      },
      {
        "duration": 10,
        "start_time": "2022-09-04T18:27:45.286Z"
      },
      {
        "duration": 14,
        "start_time": "2022-09-04T18:37:10.517Z"
      },
      {
        "duration": 13,
        "start_time": "2022-09-04T18:37:22.401Z"
      },
      {
        "duration": 5,
        "start_time": "2022-09-04T18:37:41.498Z"
      },
      {
        "duration": 5,
        "start_time": "2022-09-04T18:37:53.606Z"
      },
      {
        "duration": 62,
        "start_time": "2022-09-04T18:38:12.595Z"
      },
      {
        "duration": 3,
        "start_time": "2022-09-04T18:38:12.659Z"
      },
      {
        "duration": 17,
        "start_time": "2022-09-04T18:38:12.664Z"
      },
      {
        "duration": 17,
        "start_time": "2022-09-04T18:38:12.683Z"
      },
      {
        "duration": 19,
        "start_time": "2022-09-04T18:38:12.702Z"
      },
      {
        "duration": 6,
        "start_time": "2022-09-04T18:38:12.722Z"
      },
      {
        "duration": 5,
        "start_time": "2022-09-04T18:38:12.730Z"
      },
      {
        "duration": 47,
        "start_time": "2022-09-04T18:38:12.736Z"
      },
      {
        "duration": 14,
        "start_time": "2022-09-04T18:38:12.785Z"
      },
      {
        "duration": 10,
        "start_time": "2022-09-04T18:38:12.800Z"
      },
      {
        "duration": 2830,
        "start_time": "2022-09-04T18:38:12.811Z"
      },
      {
        "duration": 912,
        "start_time": "2022-09-04T18:38:15.643Z"
      },
      {
        "duration": 5,
        "start_time": "2022-09-04T18:38:16.558Z"
      },
      {
        "duration": 120,
        "start_time": "2022-09-04T18:38:16.569Z"
      },
      {
        "duration": 31,
        "start_time": "2022-09-04T18:38:16.690Z"
      },
      {
        "duration": 9,
        "start_time": "2022-09-04T18:38:16.723Z"
      },
      {
        "duration": 121,
        "start_time": "2022-09-04T18:38:16.733Z"
      },
      {
        "duration": 21,
        "start_time": "2022-09-04T18:38:16.856Z"
      },
      {
        "duration": 17,
        "start_time": "2022-09-04T18:38:16.880Z"
      },
      {
        "duration": 8,
        "start_time": "2022-09-04T18:38:16.899Z"
      },
      {
        "duration": 138,
        "start_time": "2022-09-04T18:38:16.909Z"
      },
      {
        "duration": 7,
        "start_time": "2022-09-04T18:38:17.049Z"
      },
      {
        "duration": 20,
        "start_time": "2022-09-04T18:38:17.058Z"
      },
      {
        "duration": 23,
        "start_time": "2022-09-04T18:38:17.080Z"
      },
      {
        "duration": 4,
        "start_time": "2022-09-04T18:38:17.104Z"
      },
      {
        "duration": 522,
        "start_time": "2022-09-04T18:38:17.109Z"
      },
      {
        "duration": 0,
        "start_time": "2022-09-04T18:38:17.635Z"
      },
      {
        "duration": 0,
        "start_time": "2022-09-04T18:38:17.636Z"
      },
      {
        "duration": 0,
        "start_time": "2022-09-04T18:38:17.638Z"
      },
      {
        "duration": 0,
        "start_time": "2022-09-04T18:38:17.639Z"
      },
      {
        "duration": 1,
        "start_time": "2022-09-04T18:38:17.640Z"
      },
      {
        "duration": 0,
        "start_time": "2022-09-04T18:38:17.642Z"
      },
      {
        "duration": 0,
        "start_time": "2022-09-04T18:38:17.643Z"
      },
      {
        "duration": 0,
        "start_time": "2022-09-04T18:38:17.645Z"
      },
      {
        "duration": 0,
        "start_time": "2022-09-04T18:38:17.646Z"
      },
      {
        "duration": 0,
        "start_time": "2022-09-04T18:38:17.647Z"
      },
      {
        "duration": 0,
        "start_time": "2022-09-04T18:38:17.649Z"
      },
      {
        "duration": 0,
        "start_time": "2022-09-04T18:38:17.650Z"
      },
      {
        "duration": 0,
        "start_time": "2022-09-04T18:38:17.652Z"
      },
      {
        "duration": 0,
        "start_time": "2022-09-04T18:38:17.653Z"
      },
      {
        "duration": 0,
        "start_time": "2022-09-04T18:38:17.654Z"
      },
      {
        "duration": 0,
        "start_time": "2022-09-04T18:38:17.655Z"
      },
      {
        "duration": 0,
        "start_time": "2022-09-04T18:38:17.657Z"
      },
      {
        "duration": 0,
        "start_time": "2022-09-04T18:38:17.659Z"
      },
      {
        "duration": 0,
        "start_time": "2022-09-04T18:38:17.660Z"
      },
      {
        "duration": 0,
        "start_time": "2022-09-04T18:38:17.661Z"
      },
      {
        "duration": 0,
        "start_time": "2022-09-04T18:38:17.663Z"
      },
      {
        "duration": 0,
        "start_time": "2022-09-04T18:38:17.664Z"
      },
      {
        "duration": 0,
        "start_time": "2022-09-04T18:38:17.666Z"
      },
      {
        "duration": 0,
        "start_time": "2022-09-04T18:38:17.669Z"
      },
      {
        "duration": 1,
        "start_time": "2022-09-04T18:38:17.669Z"
      },
      {
        "duration": 0,
        "start_time": "2022-09-04T18:38:17.670Z"
      },
      {
        "duration": 0,
        "start_time": "2022-09-04T18:38:17.671Z"
      },
      {
        "duration": 0,
        "start_time": "2022-09-04T18:38:17.671Z"
      },
      {
        "duration": 0,
        "start_time": "2022-09-04T18:38:17.672Z"
      },
      {
        "duration": 1,
        "start_time": "2022-09-04T18:38:17.672Z"
      },
      {
        "duration": 0,
        "start_time": "2022-09-04T18:38:17.674Z"
      },
      {
        "duration": 0,
        "start_time": "2022-09-04T18:38:17.676Z"
      },
      {
        "duration": 0,
        "start_time": "2022-09-04T18:38:17.684Z"
      },
      {
        "duration": 0,
        "start_time": "2022-09-04T18:38:17.685Z"
      },
      {
        "duration": 0,
        "start_time": "2022-09-04T18:38:17.686Z"
      },
      {
        "duration": 0,
        "start_time": "2022-09-04T18:38:17.687Z"
      },
      {
        "duration": 0,
        "start_time": "2022-09-04T18:38:17.688Z"
      },
      {
        "duration": 0,
        "start_time": "2022-09-04T18:38:17.689Z"
      },
      {
        "duration": 0,
        "start_time": "2022-09-04T18:38:17.690Z"
      },
      {
        "duration": 0,
        "start_time": "2022-09-04T18:38:17.691Z"
      },
      {
        "duration": 0,
        "start_time": "2022-09-04T18:38:17.692Z"
      },
      {
        "duration": 0,
        "start_time": "2022-09-04T18:38:17.693Z"
      },
      {
        "duration": 0,
        "start_time": "2022-09-04T18:38:17.694Z"
      },
      {
        "duration": 0,
        "start_time": "2022-09-04T18:38:17.695Z"
      },
      {
        "duration": 0,
        "start_time": "2022-09-04T18:38:17.696Z"
      },
      {
        "duration": 0,
        "start_time": "2022-09-04T18:38:17.697Z"
      },
      {
        "duration": 0,
        "start_time": "2022-09-04T18:38:17.698Z"
      },
      {
        "duration": 0,
        "start_time": "2022-09-04T18:38:17.699Z"
      },
      {
        "duration": 0,
        "start_time": "2022-09-04T18:38:17.700Z"
      },
      {
        "duration": 0,
        "start_time": "2022-09-04T18:38:17.701Z"
      },
      {
        "duration": 0,
        "start_time": "2022-09-04T18:38:17.702Z"
      },
      {
        "duration": 0,
        "start_time": "2022-09-04T18:38:17.703Z"
      },
      {
        "duration": 0,
        "start_time": "2022-09-04T18:38:17.704Z"
      },
      {
        "duration": 0,
        "start_time": "2022-09-04T18:38:17.705Z"
      },
      {
        "duration": 0,
        "start_time": "2022-09-04T18:38:17.706Z"
      },
      {
        "duration": 0,
        "start_time": "2022-09-04T18:38:17.707Z"
      },
      {
        "duration": 11,
        "start_time": "2022-09-04T18:39:16.817Z"
      },
      {
        "duration": 69,
        "start_time": "2022-09-04T18:39:26.880Z"
      },
      {
        "duration": 4,
        "start_time": "2022-09-04T18:39:26.951Z"
      },
      {
        "duration": 23,
        "start_time": "2022-09-04T18:39:26.957Z"
      },
      {
        "duration": 13,
        "start_time": "2022-09-04T18:39:26.982Z"
      },
      {
        "duration": 19,
        "start_time": "2022-09-04T18:39:26.998Z"
      },
      {
        "duration": 6,
        "start_time": "2022-09-04T18:39:27.019Z"
      },
      {
        "duration": 11,
        "start_time": "2022-09-04T18:39:27.027Z"
      },
      {
        "duration": 32,
        "start_time": "2022-09-04T18:39:27.039Z"
      },
      {
        "duration": 9,
        "start_time": "2022-09-04T18:39:27.079Z"
      },
      {
        "duration": 11,
        "start_time": "2022-09-04T18:39:27.090Z"
      },
      {
        "duration": 2699,
        "start_time": "2022-09-04T18:39:27.103Z"
      },
      {
        "duration": 956,
        "start_time": "2022-09-04T18:39:29.804Z"
      },
      {
        "duration": 15,
        "start_time": "2022-09-04T18:39:30.761Z"
      },
      {
        "duration": 27,
        "start_time": "2022-09-04T18:39:30.779Z"
      },
      {
        "duration": 8,
        "start_time": "2022-09-04T18:39:30.808Z"
      },
      {
        "duration": 10,
        "start_time": "2022-09-04T18:39:30.818Z"
      },
      {
        "duration": 95,
        "start_time": "2022-09-04T18:39:30.830Z"
      },
      {
        "duration": 9,
        "start_time": "2022-09-04T18:39:30.927Z"
      },
      {
        "duration": 10,
        "start_time": "2022-09-04T18:39:30.938Z"
      },
      {
        "duration": 19,
        "start_time": "2022-09-04T18:39:30.950Z"
      },
      {
        "duration": 118,
        "start_time": "2022-09-04T18:39:30.970Z"
      },
      {
        "duration": 8,
        "start_time": "2022-09-04T18:39:31.089Z"
      },
      {
        "duration": 16,
        "start_time": "2022-09-04T18:39:31.098Z"
      },
      {
        "duration": 20,
        "start_time": "2022-09-04T18:39:31.116Z"
      },
      {
        "duration": 4,
        "start_time": "2022-09-04T18:39:31.138Z"
      },
      {
        "duration": 476,
        "start_time": "2022-09-04T18:39:31.143Z"
      },
      {
        "duration": 0,
        "start_time": "2022-09-04T18:39:31.621Z"
      },
      {
        "duration": 0,
        "start_time": "2022-09-04T18:39:31.622Z"
      },
      {
        "duration": 0,
        "start_time": "2022-09-04T18:39:31.623Z"
      },
      {
        "duration": 0,
        "start_time": "2022-09-04T18:39:31.624Z"
      },
      {
        "duration": 0,
        "start_time": "2022-09-04T18:39:31.625Z"
      },
      {
        "duration": 0,
        "start_time": "2022-09-04T18:39:31.626Z"
      },
      {
        "duration": 0,
        "start_time": "2022-09-04T18:39:31.627Z"
      },
      {
        "duration": 0,
        "start_time": "2022-09-04T18:39:31.627Z"
      },
      {
        "duration": 0,
        "start_time": "2022-09-04T18:39:31.628Z"
      },
      {
        "duration": 0,
        "start_time": "2022-09-04T18:39:31.629Z"
      },
      {
        "duration": 0,
        "start_time": "2022-09-04T18:39:31.630Z"
      },
      {
        "duration": 0,
        "start_time": "2022-09-04T18:39:31.630Z"
      },
      {
        "duration": 0,
        "start_time": "2022-09-04T18:39:31.631Z"
      },
      {
        "duration": 0,
        "start_time": "2022-09-04T18:39:31.632Z"
      },
      {
        "duration": 0,
        "start_time": "2022-09-04T18:39:31.633Z"
      },
      {
        "duration": 0,
        "start_time": "2022-09-04T18:39:31.634Z"
      },
      {
        "duration": 0,
        "start_time": "2022-09-04T18:39:31.635Z"
      },
      {
        "duration": 0,
        "start_time": "2022-09-04T18:39:31.636Z"
      },
      {
        "duration": 0,
        "start_time": "2022-09-04T18:39:31.637Z"
      },
      {
        "duration": 0,
        "start_time": "2022-09-04T18:39:31.638Z"
      },
      {
        "duration": 0,
        "start_time": "2022-09-04T18:39:31.639Z"
      },
      {
        "duration": 0,
        "start_time": "2022-09-04T18:39:31.640Z"
      },
      {
        "duration": 0,
        "start_time": "2022-09-04T18:39:31.641Z"
      },
      {
        "duration": 0,
        "start_time": "2022-09-04T18:39:31.642Z"
      },
      {
        "duration": 0,
        "start_time": "2022-09-04T18:39:31.643Z"
      },
      {
        "duration": 0,
        "start_time": "2022-09-04T18:39:31.644Z"
      },
      {
        "duration": 0,
        "start_time": "2022-09-04T18:39:31.645Z"
      },
      {
        "duration": 0,
        "start_time": "2022-09-04T18:39:31.646Z"
      },
      {
        "duration": 0,
        "start_time": "2022-09-04T18:39:31.647Z"
      },
      {
        "duration": 0,
        "start_time": "2022-09-04T18:39:31.649Z"
      },
      {
        "duration": 0,
        "start_time": "2022-09-04T18:39:31.649Z"
      },
      {
        "duration": 0,
        "start_time": "2022-09-04T18:39:31.651Z"
      },
      {
        "duration": 0,
        "start_time": "2022-09-04T18:39:31.651Z"
      },
      {
        "duration": 0,
        "start_time": "2022-09-04T18:39:31.653Z"
      },
      {
        "duration": 0,
        "start_time": "2022-09-04T18:39:31.657Z"
      },
      {
        "duration": 0,
        "start_time": "2022-09-04T18:39:31.657Z"
      },
      {
        "duration": 0,
        "start_time": "2022-09-04T18:39:31.658Z"
      },
      {
        "duration": 0,
        "start_time": "2022-09-04T18:39:31.659Z"
      },
      {
        "duration": 0,
        "start_time": "2022-09-04T18:39:31.660Z"
      },
      {
        "duration": 0,
        "start_time": "2022-09-04T18:39:31.661Z"
      },
      {
        "duration": 0,
        "start_time": "2022-09-04T18:39:31.662Z"
      },
      {
        "duration": 0,
        "start_time": "2022-09-04T18:39:31.676Z"
      },
      {
        "duration": 0,
        "start_time": "2022-09-04T18:39:31.677Z"
      },
      {
        "duration": 0,
        "start_time": "2022-09-04T18:39:31.677Z"
      },
      {
        "duration": 0,
        "start_time": "2022-09-04T18:39:31.681Z"
      },
      {
        "duration": 0,
        "start_time": "2022-09-04T18:39:31.682Z"
      },
      {
        "duration": 0,
        "start_time": "2022-09-04T18:39:31.683Z"
      },
      {
        "duration": 0,
        "start_time": "2022-09-04T18:39:31.684Z"
      },
      {
        "duration": 0,
        "start_time": "2022-09-04T18:39:31.685Z"
      },
      {
        "duration": 0,
        "start_time": "2022-09-04T18:39:31.687Z"
      },
      {
        "duration": 0,
        "start_time": "2022-09-04T18:39:31.687Z"
      },
      {
        "duration": 0,
        "start_time": "2022-09-04T18:39:31.688Z"
      },
      {
        "duration": 0,
        "start_time": "2022-09-04T18:39:31.690Z"
      },
      {
        "duration": 0,
        "start_time": "2022-09-04T18:39:31.691Z"
      },
      {
        "duration": 0,
        "start_time": "2022-09-04T18:39:31.692Z"
      },
      {
        "duration": 0,
        "start_time": "2022-09-04T18:39:31.693Z"
      },
      {
        "duration": 10,
        "start_time": "2022-09-04T18:40:08.101Z"
      },
      {
        "duration": 9,
        "start_time": "2022-09-04T18:44:36.182Z"
      },
      {
        "duration": 8,
        "start_time": "2022-09-04T18:44:48.005Z"
      },
      {
        "duration": 9,
        "start_time": "2022-09-04T18:46:44.402Z"
      },
      {
        "duration": 8,
        "start_time": "2022-09-04T18:47:04.289Z"
      },
      {
        "duration": 27,
        "start_time": "2022-09-04T18:51:06.698Z"
      },
      {
        "duration": 7,
        "start_time": "2022-09-04T18:52:57.382Z"
      },
      {
        "duration": 7,
        "start_time": "2022-09-04T18:54:06.928Z"
      },
      {
        "duration": 6,
        "start_time": "2022-09-04T18:57:03.428Z"
      },
      {
        "duration": 7,
        "start_time": "2022-09-04T18:57:55.628Z"
      },
      {
        "duration": 10,
        "start_time": "2022-09-04T18:58:09.238Z"
      },
      {
        "duration": 14,
        "start_time": "2022-09-04T18:58:34.759Z"
      },
      {
        "duration": 12,
        "start_time": "2022-09-04T18:58:58.423Z"
      },
      {
        "duration": 66,
        "start_time": "2022-09-04T19:00:34.388Z"
      },
      {
        "duration": 4,
        "start_time": "2022-09-04T19:00:34.456Z"
      },
      {
        "duration": 22,
        "start_time": "2022-09-04T19:00:34.462Z"
      },
      {
        "duration": 15,
        "start_time": "2022-09-04T19:00:34.486Z"
      },
      {
        "duration": 19,
        "start_time": "2022-09-04T19:00:34.503Z"
      },
      {
        "duration": 8,
        "start_time": "2022-09-04T19:00:34.525Z"
      },
      {
        "duration": 33,
        "start_time": "2022-09-04T19:00:34.535Z"
      },
      {
        "duration": 11,
        "start_time": "2022-09-04T19:00:34.570Z"
      },
      {
        "duration": 11,
        "start_time": "2022-09-04T19:00:34.583Z"
      },
      {
        "duration": 12,
        "start_time": "2022-09-04T19:00:34.597Z"
      },
      {
        "duration": 2787,
        "start_time": "2022-09-04T19:00:34.611Z"
      },
      {
        "duration": 1023,
        "start_time": "2022-09-04T19:00:37.400Z"
      },
      {
        "duration": 5,
        "start_time": "2022-09-04T19:00:38.425Z"
      },
      {
        "duration": 31,
        "start_time": "2022-09-04T19:00:38.431Z"
      },
      {
        "duration": 5,
        "start_time": "2022-09-04T19:00:38.467Z"
      },
      {
        "duration": 6,
        "start_time": "2022-09-04T19:00:38.474Z"
      },
      {
        "duration": 106,
        "start_time": "2022-09-04T19:00:38.482Z"
      },
      {
        "duration": 8,
        "start_time": "2022-09-04T19:00:38.589Z"
      },
      {
        "duration": 5,
        "start_time": "2022-09-04T19:00:38.599Z"
      },
      {
        "duration": 5,
        "start_time": "2022-09-04T19:00:38.605Z"
      },
      {
        "duration": 243,
        "start_time": "2022-09-04T19:00:38.612Z"
      },
      {
        "duration": 16,
        "start_time": "2022-09-04T19:00:38.857Z"
      },
      {
        "duration": 3,
        "start_time": "2022-09-04T19:00:38.875Z"
      },
      {
        "duration": 20,
        "start_time": "2022-09-04T19:00:38.881Z"
      },
      {
        "duration": 4,
        "start_time": "2022-09-04T19:00:38.903Z"
      },
      {
        "duration": 450,
        "start_time": "2022-09-04T19:00:38.908Z"
      },
      {
        "duration": 0,
        "start_time": "2022-09-04T19:00:39.360Z"
      },
      {
        "duration": 0,
        "start_time": "2022-09-04T19:00:39.361Z"
      },
      {
        "duration": 0,
        "start_time": "2022-09-04T19:00:39.363Z"
      },
      {
        "duration": 0,
        "start_time": "2022-09-04T19:00:39.363Z"
      },
      {
        "duration": 0,
        "start_time": "2022-09-04T19:00:39.364Z"
      },
      {
        "duration": 0,
        "start_time": "2022-09-04T19:00:39.366Z"
      },
      {
        "duration": 0,
        "start_time": "2022-09-04T19:00:39.367Z"
      },
      {
        "duration": 0,
        "start_time": "2022-09-04T19:00:39.368Z"
      },
      {
        "duration": 0,
        "start_time": "2022-09-04T19:00:39.369Z"
      },
      {
        "duration": 0,
        "start_time": "2022-09-04T19:00:39.369Z"
      },
      {
        "duration": 0,
        "start_time": "2022-09-04T19:00:39.370Z"
      },
      {
        "duration": 0,
        "start_time": "2022-09-04T19:00:39.371Z"
      },
      {
        "duration": 0,
        "start_time": "2022-09-04T19:00:39.372Z"
      },
      {
        "duration": 0,
        "start_time": "2022-09-04T19:00:39.373Z"
      },
      {
        "duration": 0,
        "start_time": "2022-09-04T19:00:39.374Z"
      },
      {
        "duration": 0,
        "start_time": "2022-09-04T19:00:39.375Z"
      },
      {
        "duration": 0,
        "start_time": "2022-09-04T19:00:39.376Z"
      },
      {
        "duration": 0,
        "start_time": "2022-09-04T19:00:39.377Z"
      },
      {
        "duration": 0,
        "start_time": "2022-09-04T19:00:39.378Z"
      },
      {
        "duration": 0,
        "start_time": "2022-09-04T19:00:39.378Z"
      },
      {
        "duration": 0,
        "start_time": "2022-09-04T19:00:39.380Z"
      },
      {
        "duration": 0,
        "start_time": "2022-09-04T19:00:39.381Z"
      },
      {
        "duration": 0,
        "start_time": "2022-09-04T19:00:39.382Z"
      },
      {
        "duration": 0,
        "start_time": "2022-09-04T19:00:39.383Z"
      },
      {
        "duration": 0,
        "start_time": "2022-09-04T19:00:39.383Z"
      },
      {
        "duration": 0,
        "start_time": "2022-09-04T19:00:39.384Z"
      },
      {
        "duration": 0,
        "start_time": "2022-09-04T19:00:39.385Z"
      },
      {
        "duration": 0,
        "start_time": "2022-09-04T19:00:39.385Z"
      },
      {
        "duration": 0,
        "start_time": "2022-09-04T19:00:39.386Z"
      },
      {
        "duration": 0,
        "start_time": "2022-09-04T19:00:39.387Z"
      },
      {
        "duration": 0,
        "start_time": "2022-09-04T19:00:39.388Z"
      },
      {
        "duration": 0,
        "start_time": "2022-09-04T19:00:39.389Z"
      },
      {
        "duration": 0,
        "start_time": "2022-09-04T19:00:39.390Z"
      },
      {
        "duration": 0,
        "start_time": "2022-09-04T19:00:39.392Z"
      },
      {
        "duration": 0,
        "start_time": "2022-09-04T19:00:39.393Z"
      },
      {
        "duration": 0,
        "start_time": "2022-09-04T19:00:39.394Z"
      },
      {
        "duration": 0,
        "start_time": "2022-09-04T19:00:39.395Z"
      },
      {
        "duration": 0,
        "start_time": "2022-09-04T19:00:39.395Z"
      },
      {
        "duration": 0,
        "start_time": "2022-09-04T19:00:39.397Z"
      },
      {
        "duration": 0,
        "start_time": "2022-09-04T19:00:39.397Z"
      },
      {
        "duration": 0,
        "start_time": "2022-09-04T19:00:39.399Z"
      },
      {
        "duration": 0,
        "start_time": "2022-09-04T19:00:39.399Z"
      },
      {
        "duration": 0,
        "start_time": "2022-09-04T19:00:39.400Z"
      },
      {
        "duration": 0,
        "start_time": "2022-09-04T19:00:39.402Z"
      },
      {
        "duration": 0,
        "start_time": "2022-09-04T19:00:39.403Z"
      },
      {
        "duration": 0,
        "start_time": "2022-09-04T19:00:39.404Z"
      },
      {
        "duration": 0,
        "start_time": "2022-09-04T19:00:39.405Z"
      },
      {
        "duration": 0,
        "start_time": "2022-09-04T19:00:39.406Z"
      },
      {
        "duration": 0,
        "start_time": "2022-09-04T19:00:39.467Z"
      },
      {
        "duration": 0,
        "start_time": "2022-09-04T19:00:39.469Z"
      },
      {
        "duration": 0,
        "start_time": "2022-09-04T19:00:39.470Z"
      },
      {
        "duration": 0,
        "start_time": "2022-09-04T19:00:39.471Z"
      },
      {
        "duration": 0,
        "start_time": "2022-09-04T19:00:39.472Z"
      },
      {
        "duration": 0,
        "start_time": "2022-09-04T19:00:39.473Z"
      },
      {
        "duration": 0,
        "start_time": "2022-09-04T19:00:39.474Z"
      },
      {
        "duration": 0,
        "start_time": "2022-09-04T19:00:39.475Z"
      },
      {
        "duration": 15,
        "start_time": "2022-09-04T19:01:16.415Z"
      },
      {
        "duration": 5,
        "start_time": "2022-09-04T19:01:16.432Z"
      },
      {
        "duration": 12,
        "start_time": "2022-09-04T19:01:16.438Z"
      },
      {
        "duration": 7,
        "start_time": "2022-09-04T19:01:16.451Z"
      },
      {
        "duration": 10,
        "start_time": "2022-09-04T19:01:16.461Z"
      },
      {
        "duration": 36,
        "start_time": "2022-09-04T19:01:16.473Z"
      },
      {
        "duration": 14,
        "start_time": "2022-09-04T19:01:16.512Z"
      },
      {
        "duration": 8,
        "start_time": "2022-09-04T19:01:16.529Z"
      },
      {
        "duration": 12,
        "start_time": "2022-09-04T19:01:16.539Z"
      },
      {
        "duration": 29,
        "start_time": "2022-09-04T19:01:16.553Z"
      },
      {
        "duration": 11,
        "start_time": "2022-09-04T19:01:16.585Z"
      },
      {
        "duration": 9,
        "start_time": "2022-09-04T19:01:16.597Z"
      },
      {
        "duration": 7,
        "start_time": "2022-09-04T19:01:16.608Z"
      },
      {
        "duration": 5,
        "start_time": "2022-09-04T19:01:16.617Z"
      },
      {
        "duration": 5,
        "start_time": "2022-09-04T19:01:16.625Z"
      },
      {
        "duration": 58,
        "start_time": "2022-09-04T19:01:16.632Z"
      },
      {
        "duration": 27,
        "start_time": "2022-09-04T19:01:16.692Z"
      },
      {
        "duration": 17,
        "start_time": "2022-09-04T19:01:16.722Z"
      },
      {
        "duration": 38,
        "start_time": "2022-09-04T19:01:16.741Z"
      },
      {
        "duration": 63,
        "start_time": "2022-09-04T19:01:16.782Z"
      },
      {
        "duration": 20,
        "start_time": "2022-09-04T19:01:16.848Z"
      },
      {
        "duration": 21,
        "start_time": "2022-09-04T19:01:16.871Z"
      },
      {
        "duration": 8,
        "start_time": "2022-09-04T19:01:16.895Z"
      },
      {
        "duration": 18,
        "start_time": "2022-09-04T19:01:16.905Z"
      },
      {
        "duration": 11,
        "start_time": "2022-09-04T19:01:16.925Z"
      },
      {
        "duration": 19,
        "start_time": "2022-09-04T19:01:16.938Z"
      },
      {
        "duration": 4,
        "start_time": "2022-09-04T19:01:16.968Z"
      },
      {
        "duration": 5,
        "start_time": "2022-09-04T19:01:16.974Z"
      },
      {
        "duration": 3,
        "start_time": "2022-09-04T19:01:16.984Z"
      },
      {
        "duration": 5,
        "start_time": "2022-09-04T19:01:16.988Z"
      },
      {
        "duration": 5,
        "start_time": "2022-09-04T19:01:16.995Z"
      },
      {
        "duration": 5,
        "start_time": "2022-09-04T19:01:17.001Z"
      },
      {
        "duration": 5,
        "start_time": "2022-09-04T19:01:17.008Z"
      },
      {
        "duration": 4,
        "start_time": "2022-09-04T19:01:17.015Z"
      },
      {
        "duration": 5,
        "start_time": "2022-09-04T19:01:17.021Z"
      },
      {
        "duration": 5,
        "start_time": "2022-09-04T19:01:17.028Z"
      },
      {
        "duration": 34,
        "start_time": "2022-09-04T19:01:17.034Z"
      },
      {
        "duration": 9,
        "start_time": "2022-09-04T19:01:17.070Z"
      },
      {
        "duration": 10,
        "start_time": "2022-09-04T19:01:17.080Z"
      },
      {
        "duration": 7,
        "start_time": "2022-09-04T19:01:17.092Z"
      },
      {
        "duration": 4,
        "start_time": "2022-09-04T19:01:17.101Z"
      },
      {
        "duration": 4,
        "start_time": "2022-09-04T19:01:17.107Z"
      },
      {
        "duration": 6,
        "start_time": "2022-09-04T19:01:17.113Z"
      },
      {
        "duration": 6,
        "start_time": "2022-09-04T19:01:17.120Z"
      },
      {
        "duration": 5,
        "start_time": "2022-09-04T19:01:17.128Z"
      },
      {
        "duration": 6,
        "start_time": "2022-09-04T19:01:17.135Z"
      },
      {
        "duration": 24,
        "start_time": "2022-09-04T19:01:17.143Z"
      },
      {
        "duration": 3,
        "start_time": "2022-09-04T19:01:17.169Z"
      },
      {
        "duration": 5,
        "start_time": "2022-09-04T19:01:17.174Z"
      },
      {
        "duration": 7,
        "start_time": "2022-09-04T19:01:17.180Z"
      },
      {
        "duration": 5,
        "start_time": "2022-09-04T19:01:17.188Z"
      },
      {
        "duration": 7,
        "start_time": "2022-09-04T19:01:17.195Z"
      },
      {
        "duration": 5,
        "start_time": "2022-09-04T19:01:17.203Z"
      },
      {
        "duration": 6,
        "start_time": "2022-09-04T19:01:17.209Z"
      },
      {
        "duration": 9,
        "start_time": "2022-09-04T19:01:17.217Z"
      },
      {
        "duration": 4,
        "start_time": "2022-09-04T19:01:17.228Z"
      },
      {
        "duration": 3,
        "start_time": "2022-09-04T19:03:48.416Z"
      },
      {
        "duration": 3,
        "start_time": "2022-09-04T19:03:54.499Z"
      },
      {
        "duration": 17,
        "start_time": "2022-09-04T19:03:54.505Z"
      },
      {
        "duration": 6,
        "start_time": "2022-09-04T19:03:54.524Z"
      },
      {
        "duration": 10,
        "start_time": "2022-09-04T19:03:54.532Z"
      },
      {
        "duration": 5,
        "start_time": "2022-09-04T19:03:54.544Z"
      },
      {
        "duration": 14,
        "start_time": "2022-09-04T19:03:54.551Z"
      },
      {
        "duration": 21,
        "start_time": "2022-09-04T19:03:54.569Z"
      },
      {
        "duration": 9,
        "start_time": "2022-09-04T19:03:54.591Z"
      },
      {
        "duration": 4,
        "start_time": "2022-09-04T19:03:54.603Z"
      },
      {
        "duration": 9,
        "start_time": "2022-09-04T19:03:54.609Z"
      },
      {
        "duration": 10,
        "start_time": "2022-09-04T19:03:54.621Z"
      },
      {
        "duration": 7,
        "start_time": "2022-09-04T19:03:54.633Z"
      },
      {
        "duration": 7,
        "start_time": "2022-09-04T19:03:54.642Z"
      },
      {
        "duration": 7,
        "start_time": "2022-09-04T19:03:54.651Z"
      },
      {
        "duration": 12,
        "start_time": "2022-09-04T19:03:54.659Z"
      },
      {
        "duration": 7,
        "start_time": "2022-09-04T19:03:54.685Z"
      },
      {
        "duration": 32,
        "start_time": "2022-09-04T19:03:54.694Z"
      },
      {
        "duration": 20,
        "start_time": "2022-09-04T19:03:54.728Z"
      },
      {
        "duration": 35,
        "start_time": "2022-09-04T19:03:54.750Z"
      },
      {
        "duration": 31,
        "start_time": "2022-09-04T19:03:54.786Z"
      },
      {
        "duration": 11,
        "start_time": "2022-09-04T19:03:54.818Z"
      },
      {
        "duration": 19,
        "start_time": "2022-09-04T19:03:54.830Z"
      },
      {
        "duration": 5,
        "start_time": "2022-09-04T19:03:54.868Z"
      },
      {
        "duration": 18,
        "start_time": "2022-09-04T19:03:54.877Z"
      },
      {
        "duration": 11,
        "start_time": "2022-09-04T19:03:54.897Z"
      },
      {
        "duration": 11,
        "start_time": "2022-09-04T19:03:54.910Z"
      },
      {
        "duration": 17,
        "start_time": "2022-09-04T19:03:54.923Z"
      },
      {
        "duration": 3,
        "start_time": "2022-09-04T19:03:54.942Z"
      },
      {
        "duration": 20,
        "start_time": "2022-09-04T19:03:54.947Z"
      },
      {
        "duration": 20,
        "start_time": "2022-09-04T19:03:54.969Z"
      },
      {
        "duration": 5,
        "start_time": "2022-09-04T19:03:54.991Z"
      },
      {
        "duration": 5,
        "start_time": "2022-09-04T19:03:54.998Z"
      },
      {
        "duration": 5,
        "start_time": "2022-09-04T19:03:55.005Z"
      },
      {
        "duration": 6,
        "start_time": "2022-09-04T19:03:55.011Z"
      },
      {
        "duration": 5,
        "start_time": "2022-09-04T19:03:55.019Z"
      },
      {
        "duration": 9,
        "start_time": "2022-09-04T19:03:55.025Z"
      },
      {
        "duration": 5,
        "start_time": "2022-09-04T19:03:55.036Z"
      },
      {
        "duration": 6,
        "start_time": "2022-09-04T19:03:55.043Z"
      },
      {
        "duration": 6,
        "start_time": "2022-09-04T19:03:55.050Z"
      },
      {
        "duration": 7,
        "start_time": "2022-09-04T19:03:55.058Z"
      },
      {
        "duration": 23,
        "start_time": "2022-09-04T19:03:55.067Z"
      },
      {
        "duration": 5,
        "start_time": "2022-09-04T19:03:55.092Z"
      },
      {
        "duration": 4,
        "start_time": "2022-09-04T19:03:55.099Z"
      },
      {
        "duration": 6,
        "start_time": "2022-09-04T19:03:55.104Z"
      },
      {
        "duration": 5,
        "start_time": "2022-09-04T19:03:55.111Z"
      },
      {
        "duration": 5,
        "start_time": "2022-09-04T19:03:55.117Z"
      },
      {
        "duration": 7,
        "start_time": "2022-09-04T19:03:55.124Z"
      },
      {
        "duration": 4,
        "start_time": "2022-09-04T19:03:55.133Z"
      },
      {
        "duration": 6,
        "start_time": "2022-09-04T19:03:55.139Z"
      },
      {
        "duration": 9,
        "start_time": "2022-09-04T19:03:55.146Z"
      },
      {
        "duration": 5,
        "start_time": "2022-09-04T19:03:55.157Z"
      },
      {
        "duration": 19,
        "start_time": "2022-09-04T19:03:55.164Z"
      },
      {
        "duration": 4,
        "start_time": "2022-09-04T19:03:55.185Z"
      },
      {
        "duration": 5,
        "start_time": "2022-09-04T19:03:55.191Z"
      },
      {
        "duration": 4,
        "start_time": "2022-09-04T19:03:55.198Z"
      },
      {
        "duration": 5,
        "start_time": "2022-09-04T19:03:55.204Z"
      },
      {
        "duration": 4,
        "start_time": "2022-09-04T19:03:55.211Z"
      },
      {
        "duration": 25,
        "start_time": "2022-09-04T19:06:09.674Z"
      },
      {
        "duration": 35,
        "start_time": "2022-09-04T19:07:15.001Z"
      },
      {
        "duration": 7,
        "start_time": "2022-09-04T19:08:21.508Z"
      },
      {
        "duration": 20,
        "start_time": "2022-09-04T19:08:25.475Z"
      },
      {
        "duration": 31,
        "start_time": "2022-09-04T19:08:32.012Z"
      },
      {
        "duration": 4,
        "start_time": "2022-09-04T19:08:58.782Z"
      },
      {
        "duration": 6,
        "start_time": "2022-09-04T19:09:04.990Z"
      },
      {
        "duration": 14,
        "start_time": "2022-09-04T19:11:07.185Z"
      },
      {
        "duration": 27,
        "start_time": "2022-09-04T19:11:14.010Z"
      },
      {
        "duration": 4,
        "start_time": "2022-09-04T19:16:46.144Z"
      },
      {
        "duration": 7,
        "start_time": "2022-09-04T19:16:51.489Z"
      },
      {
        "duration": 1391,
        "start_time": "2022-09-04T19:16:55.767Z"
      },
      {
        "duration": 4,
        "start_time": "2022-09-04T19:17:04.825Z"
      },
      {
        "duration": 4,
        "start_time": "2022-09-04T19:17:10.638Z"
      },
      {
        "duration": 10,
        "start_time": "2022-09-04T19:17:25.409Z"
      },
      {
        "duration": 18,
        "start_time": "2022-09-04T19:18:29.189Z"
      },
      {
        "duration": 5,
        "start_time": "2022-09-04T19:20:16.989Z"
      },
      {
        "duration": 4,
        "start_time": "2022-09-04T19:20:29.525Z"
      },
      {
        "duration": 5,
        "start_time": "2022-09-04T19:21:12.481Z"
      },
      {
        "duration": 5,
        "start_time": "2022-09-04T19:21:14.717Z"
      },
      {
        "duration": 4,
        "start_time": "2022-09-04T19:21:21.537Z"
      },
      {
        "duration": 9,
        "start_time": "2022-09-04T19:21:23.780Z"
      },
      {
        "duration": 14,
        "start_time": "2022-09-04T19:24:29.319Z"
      },
      {
        "duration": 13,
        "start_time": "2022-09-04T19:24:38.923Z"
      },
      {
        "duration": 26,
        "start_time": "2022-09-04T19:24:47.784Z"
      },
      {
        "duration": 6,
        "start_time": "2022-09-04T19:24:56.504Z"
      },
      {
        "duration": 16,
        "start_time": "2022-09-04T19:24:58.533Z"
      },
      {
        "duration": 23,
        "start_time": "2022-09-04T19:25:06.346Z"
      },
      {
        "duration": 15,
        "start_time": "2022-09-04T19:25:08.725Z"
      },
      {
        "duration": 9,
        "start_time": "2022-09-04T19:28:43.591Z"
      },
      {
        "duration": 1475,
        "start_time": "2022-09-05T05:07:32.357Z"
      },
      {
        "duration": 4,
        "start_time": "2022-09-05T05:09:01.365Z"
      },
      {
        "duration": 13,
        "start_time": "2022-09-05T05:09:04.395Z"
      },
      {
        "duration": 23,
        "start_time": "2022-09-05T05:09:07.386Z"
      },
      {
        "duration": 20,
        "start_time": "2022-09-05T05:09:20.582Z"
      },
      {
        "duration": 9,
        "start_time": "2022-09-05T05:09:28.514Z"
      },
      {
        "duration": 14,
        "start_time": "2022-09-05T05:10:26.379Z"
      },
      {
        "duration": 11,
        "start_time": "2022-09-05T05:10:29.631Z"
      },
      {
        "duration": 12,
        "start_time": "2022-09-05T05:28:42.591Z"
      },
      {
        "duration": 12,
        "start_time": "2022-09-05T05:28:47.572Z"
      },
      {
        "duration": 13,
        "start_time": "2022-09-05T05:28:50.999Z"
      },
      {
        "duration": 2783,
        "start_time": "2022-09-05T05:28:56.934Z"
      },
      {
        "duration": 1019,
        "start_time": "2022-09-05T05:29:02.802Z"
      },
      {
        "duration": 6,
        "start_time": "2022-09-05T05:29:09.166Z"
      },
      {
        "duration": 17,
        "start_time": "2022-09-05T05:29:11.256Z"
      },
      {
        "duration": 6,
        "start_time": "2022-09-05T05:29:14.435Z"
      },
      {
        "duration": 5,
        "start_time": "2022-09-05T05:29:16.644Z"
      },
      {
        "duration": 98,
        "start_time": "2022-09-05T05:29:25.241Z"
      },
      {
        "duration": 10,
        "start_time": "2022-09-05T05:29:39.962Z"
      },
      {
        "duration": 6,
        "start_time": "2022-09-05T05:29:42.748Z"
      },
      {
        "duration": 5,
        "start_time": "2022-09-05T05:29:46.681Z"
      },
      {
        "duration": 115,
        "start_time": "2022-09-05T05:29:54.983Z"
      },
      {
        "duration": 9,
        "start_time": "2022-09-05T05:30:03.021Z"
      },
      {
        "duration": 5,
        "start_time": "2022-09-05T05:30:05.874Z"
      },
      {
        "duration": 20,
        "start_time": "2022-09-05T05:30:08.363Z"
      },
      {
        "duration": 16,
        "start_time": "2022-09-05T05:31:23.212Z"
      },
      {
        "duration": 5,
        "start_time": "2022-09-05T05:31:42.034Z"
      },
      {
        "duration": 9,
        "start_time": "2022-09-05T05:31:44.761Z"
      },
      {
        "duration": 6,
        "start_time": "2022-09-05T05:31:47.762Z"
      },
      {
        "duration": 5,
        "start_time": "2022-09-05T05:31:50.395Z"
      },
      {
        "duration": 7,
        "start_time": "2022-09-05T05:31:52.989Z"
      },
      {
        "duration": 7,
        "start_time": "2022-09-05T05:31:56.027Z"
      },
      {
        "duration": 3,
        "start_time": "2022-09-05T05:32:01.356Z"
      },
      {
        "duration": 3,
        "start_time": "2022-09-05T05:32:02.827Z"
      },
      {
        "duration": 10,
        "start_time": "2022-09-05T05:32:04.627Z"
      },
      {
        "duration": 5,
        "start_time": "2022-09-05T05:32:07.397Z"
      },
      {
        "duration": 7,
        "start_time": "2022-09-05T05:32:09.397Z"
      },
      {
        "duration": 6,
        "start_time": "2022-09-05T05:32:11.569Z"
      },
      {
        "duration": 3,
        "start_time": "2022-09-05T05:32:14.882Z"
      },
      {
        "duration": 3,
        "start_time": "2022-09-05T05:32:16.433Z"
      },
      {
        "duration": 17,
        "start_time": "2022-09-05T05:32:18.727Z"
      },
      {
        "duration": 18,
        "start_time": "2022-09-05T05:32:22.594Z"
      },
      {
        "duration": 24,
        "start_time": "2022-09-05T05:32:24.756Z"
      },
      {
        "duration": 20,
        "start_time": "2022-09-05T05:32:26.956Z"
      },
      {
        "duration": 10,
        "start_time": "2022-09-05T05:32:33.954Z"
      },
      {
        "duration": 6,
        "start_time": "2022-09-05T05:32:39.616Z"
      },
      {
        "duration": 4,
        "start_time": "2022-09-05T05:32:41.927Z"
      },
      {
        "duration": 4,
        "start_time": "2022-09-05T05:32:44.770Z"
      },
      {
        "duration": 11,
        "start_time": "2022-09-05T05:32:47.032Z"
      },
      {
        "duration": 5,
        "start_time": "2022-09-05T05:32:56.962Z"
      },
      {
        "duration": 4,
        "start_time": "2022-09-05T05:33:00.656Z"
      },
      {
        "duration": 8,
        "start_time": "2022-09-05T05:33:02.991Z"
      },
      {
        "duration": 7,
        "start_time": "2022-09-05T05:39:02.272Z"
      },
      {
        "duration": 12,
        "start_time": "2022-09-05T05:39:05.579Z"
      },
      {
        "duration": 11,
        "start_time": "2022-09-05T05:39:12.859Z"
      },
      {
        "duration": 25,
        "start_time": "2022-09-05T05:39:16.122Z"
      },
      {
        "duration": 5,
        "start_time": "2022-09-05T05:39:20.630Z"
      },
      {
        "duration": 6,
        "start_time": "2022-09-05T05:39:23.045Z"
      },
      {
        "duration": 3,
        "start_time": "2022-09-05T05:39:48.036Z"
      },
      {
        "duration": 12,
        "start_time": "2022-09-05T05:39:51.876Z"
      },
      {
        "duration": 121,
        "start_time": "2022-09-05T05:40:02.802Z"
      },
      {
        "duration": 16,
        "start_time": "2022-09-05T05:40:13.644Z"
      },
      {
        "duration": 1479,
        "start_time": "2022-09-06T13:05:45.033Z"
      },
      {
        "duration": 3,
        "start_time": "2022-09-06T13:05:51.839Z"
      },
      {
        "duration": 11,
        "start_time": "2022-09-06T13:05:54.244Z"
      },
      {
        "duration": 19,
        "start_time": "2022-09-06T13:05:57.395Z"
      },
      {
        "duration": 21,
        "start_time": "2022-09-06T13:05:59.993Z"
      },
      {
        "duration": 8,
        "start_time": "2022-09-06T13:06:03.224Z"
      },
      {
        "duration": 11,
        "start_time": "2022-09-06T13:06:06.515Z"
      },
      {
        "duration": 11,
        "start_time": "2022-09-06T13:06:10.816Z"
      },
      {
        "duration": 12,
        "start_time": "2022-09-06T13:06:25.673Z"
      },
      {
        "duration": 2875,
        "start_time": "2022-09-06T13:06:34.745Z"
      },
      {
        "duration": 915,
        "start_time": "2022-09-06T13:06:42.594Z"
      },
      {
        "duration": 5,
        "start_time": "2022-09-06T13:06:57.113Z"
      },
      {
        "duration": 16,
        "start_time": "2022-09-06T13:06:59.114Z"
      },
      {
        "duration": 6,
        "start_time": "2022-09-06T13:07:04.553Z"
      },
      {
        "duration": 6,
        "start_time": "2022-09-06T13:07:07.187Z"
      },
      {
        "duration": 95,
        "start_time": "2022-09-06T13:07:10.135Z"
      },
      {
        "duration": 8,
        "start_time": "2022-09-06T13:07:13.451Z"
      },
      {
        "duration": 5,
        "start_time": "2022-09-06T13:07:16.191Z"
      },
      {
        "duration": 5,
        "start_time": "2022-09-06T13:07:43.084Z"
      },
      {
        "duration": 112,
        "start_time": "2022-09-06T13:07:44.911Z"
      },
      {
        "duration": 8,
        "start_time": "2022-09-06T13:08:06.394Z"
      },
      {
        "duration": 3,
        "start_time": "2022-09-06T13:08:08.865Z"
      },
      {
        "duration": 17,
        "start_time": "2022-09-06T13:08:11.049Z"
      },
      {
        "duration": 13,
        "start_time": "2022-09-06T13:08:13.611Z"
      },
      {
        "duration": 5,
        "start_time": "2022-09-06T13:08:17.145Z"
      },
      {
        "duration": 9,
        "start_time": "2022-09-06T13:08:19.425Z"
      },
      {
        "duration": 6,
        "start_time": "2022-09-06T13:08:22.109Z"
      },
      {
        "duration": 5,
        "start_time": "2022-09-06T13:08:23.653Z"
      },
      {
        "duration": 7,
        "start_time": "2022-09-06T13:08:25.963Z"
      },
      {
        "duration": 5,
        "start_time": "2022-09-06T13:08:28.635Z"
      },
      {
        "duration": 2,
        "start_time": "2022-09-06T13:08:31.063Z"
      },
      {
        "duration": 2,
        "start_time": "2022-09-06T13:08:32.259Z"
      },
      {
        "duration": 6,
        "start_time": "2022-09-06T13:08:34.346Z"
      },
      {
        "duration": 5,
        "start_time": "2022-09-06T13:08:36.648Z"
      },
      {
        "duration": 5,
        "start_time": "2022-09-06T13:08:39.448Z"
      },
      {
        "duration": 5,
        "start_time": "2022-09-06T13:08:41.794Z"
      },
      {
        "duration": 2,
        "start_time": "2022-09-06T13:08:43.729Z"
      },
      {
        "duration": 2,
        "start_time": "2022-09-06T13:08:45.351Z"
      },
      {
        "duration": 15,
        "start_time": "2022-09-06T13:08:49.554Z"
      },
      {
        "duration": 15,
        "start_time": "2022-09-06T13:08:51.659Z"
      },
      {
        "duration": 16,
        "start_time": "2022-09-06T13:08:53.534Z"
      },
      {
        "duration": 20,
        "start_time": "2022-09-06T13:08:56.393Z"
      },
      {
        "duration": 10,
        "start_time": "2022-09-06T13:09:00.093Z"
      },
      {
        "duration": 7,
        "start_time": "2022-09-06T13:09:06.715Z"
      },
      {
        "duration": 4,
        "start_time": "2022-09-06T13:09:10.996Z"
      },
      {
        "duration": 4,
        "start_time": "2022-09-06T13:09:13.611Z"
      },
      {
        "duration": 9,
        "start_time": "2022-09-06T13:09:15.447Z"
      },
      {
        "duration": 7,
        "start_time": "2022-09-06T13:09:17.047Z"
      },
      {
        "duration": 11,
        "start_time": "2022-09-06T13:09:20.016Z"
      },
      {
        "duration": 8,
        "start_time": "2022-09-06T13:09:24.009Z"
      },
      {
        "duration": 19,
        "start_time": "2022-09-06T13:09:26.527Z"
      },
      {
        "duration": 4,
        "start_time": "2022-09-06T13:09:29.255Z"
      },
      {
        "duration": 5,
        "start_time": "2022-09-06T13:09:32.292Z"
      },
      {
        "duration": 4,
        "start_time": "2022-09-06T13:09:34.811Z"
      },
      {
        "duration": 11,
        "start_time": "2022-09-06T13:09:37.890Z"
      },
      {
        "duration": 13,
        "start_time": "2022-09-06T13:09:44.523Z"
      },
      {
        "duration": 5,
        "start_time": "2022-09-06T13:33:35.042Z"
      },
      {
        "duration": 103,
        "start_time": "2022-09-06T13:38:20.621Z"
      },
      {
        "duration": 21,
        "start_time": "2022-09-06T13:38:25.712Z"
      },
      {
        "duration": 4,
        "start_time": "2022-09-06T13:42:22.483Z"
      },
      {
        "duration": 4,
        "start_time": "2022-09-06T13:42:28.782Z"
      },
      {
        "duration": 4,
        "start_time": "2022-09-06T13:43:08.854Z"
      },
      {
        "duration": 63,
        "start_time": "2022-09-06T13:43:15.715Z"
      },
      {
        "duration": 133,
        "start_time": "2022-09-06T13:43:23.242Z"
      },
      {
        "duration": 6,
        "start_time": "2022-09-06T13:52:01.721Z"
      },
      {
        "duration": 4,
        "start_time": "2022-09-06T14:00:06.483Z"
      },
      {
        "duration": 18,
        "start_time": "2022-09-06T14:05:21.329Z"
      },
      {
        "duration": 6,
        "start_time": "2022-09-06T14:13:58.832Z"
      },
      {
        "duration": 1661,
        "start_time": "2022-09-06T14:15:17.174Z"
      },
      {
        "duration": 11,
        "start_time": "2022-09-06T14:30:21.811Z"
      },
      {
        "duration": 10,
        "start_time": "2022-09-06T14:30:31.071Z"
      },
      {
        "duration": 16,
        "start_time": "2022-09-06T14:30:50.307Z"
      },
      {
        "duration": 13,
        "start_time": "2022-09-06T14:31:03.421Z"
      },
      {
        "duration": 9,
        "start_time": "2022-09-06T14:31:19.211Z"
      },
      {
        "duration": 10,
        "start_time": "2022-09-06T14:32:14.651Z"
      },
      {
        "duration": 11,
        "start_time": "2022-09-06T14:32:43.006Z"
      },
      {
        "duration": 117,
        "start_time": "2022-09-07T05:50:35.280Z"
      },
      {
        "duration": 121,
        "start_time": "2022-09-07T05:50:43.022Z"
      },
      {
        "duration": 608,
        "start_time": "2022-09-07T05:50:50.332Z"
      },
      {
        "duration": 4,
        "start_time": "2022-09-07T05:51:44.209Z"
      },
      {
        "duration": 14,
        "start_time": "2022-09-07T05:51:46.791Z"
      },
      {
        "duration": 14,
        "start_time": "2022-09-07T05:51:50.846Z"
      },
      {
        "duration": 21,
        "start_time": "2022-09-07T05:53:37.706Z"
      },
      {
        "duration": 23,
        "start_time": "2022-09-07T05:55:12.545Z"
      },
      {
        "duration": 5,
        "start_time": "2022-09-07T05:57:24.399Z"
      },
      {
        "duration": 23,
        "start_time": "2022-09-07T05:57:57.914Z"
      },
      {
        "duration": 11,
        "start_time": "2022-09-07T06:04:07.400Z"
      },
      {
        "duration": 5,
        "start_time": "2022-09-07T06:11:16.251Z"
      },
      {
        "duration": 51,
        "start_time": "2022-09-07T06:11:42.969Z"
      },
      {
        "duration": 45,
        "start_time": "2022-09-07T06:12:01.056Z"
      },
      {
        "duration": 6,
        "start_time": "2022-09-07T06:12:07.097Z"
      },
      {
        "duration": 10,
        "start_time": "2022-09-07T06:12:22.727Z"
      },
      {
        "duration": 14,
        "start_time": "2022-09-07T06:12:43.818Z"
      },
      {
        "duration": 17,
        "start_time": "2022-09-07T06:13:20.751Z"
      },
      {
        "duration": 15,
        "start_time": "2022-09-07T06:13:25.389Z"
      },
      {
        "duration": 66,
        "start_time": "2022-09-07T06:14:16.744Z"
      },
      {
        "duration": 8,
        "start_time": "2022-09-07T06:14:32.855Z"
      },
      {
        "duration": 7,
        "start_time": "2022-09-07T06:14:45.229Z"
      },
      {
        "duration": 9,
        "start_time": "2022-09-07T06:14:55.744Z"
      },
      {
        "duration": 10,
        "start_time": "2022-09-07T06:15:15.116Z"
      },
      {
        "duration": 6,
        "start_time": "2022-09-07T06:15:19.755Z"
      },
      {
        "duration": 1675,
        "start_time": "2022-09-07T06:15:59.192Z"
      },
      {
        "duration": 6,
        "start_time": "2022-09-07T06:16:12.400Z"
      },
      {
        "duration": 7,
        "start_time": "2022-09-07T06:16:24.090Z"
      },
      {
        "duration": 7,
        "start_time": "2022-09-07T06:16:34.000Z"
      },
      {
        "duration": 659,
        "start_time": "2022-09-07T11:00:06.967Z"
      },
      {
        "duration": 4,
        "start_time": "2022-09-07T11:00:14.991Z"
      },
      {
        "duration": 13,
        "start_time": "2022-09-07T11:00:17.294Z"
      },
      {
        "duration": 22,
        "start_time": "2022-09-07T11:00:21.396Z"
      },
      {
        "duration": 38,
        "start_time": "2022-09-07T11:00:24.996Z"
      },
      {
        "duration": 24,
        "start_time": "2022-09-07T11:00:31.801Z"
      },
      {
        "duration": 16,
        "start_time": "2022-09-07T11:00:43.152Z"
      },
      {
        "duration": 7,
        "start_time": "2022-09-07T11:00:47.098Z"
      },
      {
        "duration": 12,
        "start_time": "2022-09-07T11:03:33.961Z"
      },
      {
        "duration": 498,
        "start_time": "2022-09-07T11:10:21.194Z"
      },
      {
        "duration": 92,
        "start_time": "2022-09-07T11:10:46.025Z"
      },
      {
        "duration": 558,
        "start_time": "2022-09-07T11:11:17.334Z"
      },
      {
        "duration": 2768,
        "start_time": "2022-09-07T11:11:24.250Z"
      },
      {
        "duration": 5,
        "start_time": "2022-09-07T11:12:24.025Z"
      },
      {
        "duration": 8,
        "start_time": "2022-09-07T11:12:30.507Z"
      },
      {
        "duration": 96,
        "start_time": "2022-09-07T11:13:03.295Z"
      },
      {
        "duration": 324,
        "start_time": "2022-09-07T11:13:09.200Z"
      },
      {
        "duration": 5,
        "start_time": "2022-09-07T11:13:24.357Z"
      },
      {
        "duration": 7,
        "start_time": "2022-09-07T11:14:58.867Z"
      },
      {
        "duration": 50,
        "start_time": "2022-09-07T11:16:09.753Z"
      },
      {
        "duration": 19,
        "start_time": "2022-09-07T11:16:46.808Z"
      },
      {
        "duration": 15,
        "start_time": "2022-09-07T11:17:02.844Z"
      },
      {
        "duration": 12,
        "start_time": "2022-09-07T11:17:38.763Z"
      },
      {
        "duration": 10,
        "start_time": "2022-09-07T11:18:07.034Z"
      },
      {
        "duration": 2839,
        "start_time": "2022-09-07T11:19:49.358Z"
      },
      {
        "duration": 5,
        "start_time": "2022-09-07T11:24:56.891Z"
      },
      {
        "duration": 12,
        "start_time": "2022-09-07T11:25:13.891Z"
      },
      {
        "duration": 10,
        "start_time": "2022-09-07T11:25:38.243Z"
      },
      {
        "duration": 38,
        "start_time": "2022-09-07T11:26:04.494Z"
      },
      {
        "duration": 11,
        "start_time": "2022-09-07T11:26:28.046Z"
      },
      {
        "duration": 13,
        "start_time": "2022-09-07T11:26:33.560Z"
      },
      {
        "duration": 5,
        "start_time": "2022-09-07T11:26:40.634Z"
      },
      {
        "duration": 10,
        "start_time": "2022-09-07T11:26:52.734Z"
      },
      {
        "duration": 10,
        "start_time": "2022-09-07T11:26:55.302Z"
      },
      {
        "duration": 11,
        "start_time": "2022-09-07T11:27:04.906Z"
      },
      {
        "duration": 1627,
        "start_time": "2022-09-08T12:28:31.349Z"
      },
      {
        "duration": 3,
        "start_time": "2022-09-08T12:28:37.613Z"
      },
      {
        "duration": 14,
        "start_time": "2022-09-08T12:28:40.213Z"
      },
      {
        "duration": 17,
        "start_time": "2022-09-08T12:28:43.558Z"
      },
      {
        "duration": 20,
        "start_time": "2022-09-08T12:28:47.623Z"
      },
      {
        "duration": 21,
        "start_time": "2022-09-08T12:28:52.803Z"
      },
      {
        "duration": 13,
        "start_time": "2022-09-08T12:28:58.409Z"
      },
      {
        "duration": 7,
        "start_time": "2022-09-08T12:29:00.936Z"
      },
      {
        "duration": 10,
        "start_time": "2022-09-08T12:29:06.612Z"
      },
      {
        "duration": 5,
        "start_time": "2022-09-08T12:29:14.774Z"
      },
      {
        "duration": 12,
        "start_time": "2022-09-08T12:29:18.300Z"
      },
      {
        "duration": 3104,
        "start_time": "2022-09-08T12:29:21.818Z"
      },
      {
        "duration": 6,
        "start_time": "2022-09-08T12:29:26.320Z"
      },
      {
        "duration": 9,
        "start_time": "2022-09-08T12:29:30.605Z"
      },
      {
        "duration": 6,
        "start_time": "2022-09-08T12:29:33.205Z"
      },
      {
        "duration": 6,
        "start_time": "2022-09-08T12:29:37.791Z"
      },
      {
        "duration": 121,
        "start_time": "2022-09-08T13:25:53.308Z"
      },
      {
        "duration": 11,
        "start_time": "2022-09-08T13:26:15.356Z"
      },
      {
        "duration": 4,
        "start_time": "2022-09-08T13:26:49.191Z"
      },
      {
        "duration": 10,
        "start_time": "2022-09-08T13:26:56.318Z"
      },
      {
        "duration": 10,
        "start_time": "2022-09-08T13:27:04.488Z"
      },
      {
        "duration": 30,
        "start_time": "2022-09-08T13:27:12.555Z"
      },
      {
        "duration": 8,
        "start_time": "2022-09-08T13:27:20.657Z"
      },
      {
        "duration": 9,
        "start_time": "2022-09-08T13:28:00.662Z"
      },
      {
        "duration": 8,
        "start_time": "2022-09-08T13:28:07.764Z"
      },
      {
        "duration": 9,
        "start_time": "2022-09-08T13:28:12.585Z"
      },
      {
        "duration": 9,
        "start_time": "2022-09-08T13:28:30.989Z"
      },
      {
        "duration": 10,
        "start_time": "2022-09-08T13:28:39.379Z"
      },
      {
        "duration": 7,
        "start_time": "2022-09-08T13:29:12.493Z"
      },
      {
        "duration": 6,
        "start_time": "2022-09-08T13:29:19.982Z"
      },
      {
        "duration": 6,
        "start_time": "2022-09-08T13:29:28.997Z"
      },
      {
        "duration": 112,
        "start_time": "2022-09-08T13:30:30.282Z"
      },
      {
        "duration": 100,
        "start_time": "2022-09-08T13:31:13.494Z"
      },
      {
        "duration": 9,
        "start_time": "2022-09-08T13:33:24.793Z"
      },
      {
        "duration": 5,
        "start_time": "2022-09-08T13:35:59.610Z"
      },
      {
        "duration": 9,
        "start_time": "2022-09-08T13:37:43.996Z"
      },
      {
        "duration": 5,
        "start_time": "2022-09-08T13:37:56.431Z"
      },
      {
        "duration": 4,
        "start_time": "2022-09-08T13:38:27.902Z"
      },
      {
        "duration": 5,
        "start_time": "2022-09-08T13:38:40.332Z"
      },
      {
        "duration": 4,
        "start_time": "2022-09-08T13:38:51.555Z"
      },
      {
        "duration": 4,
        "start_time": "2022-09-08T13:38:56.619Z"
      },
      {
        "duration": 5,
        "start_time": "2022-09-08T13:39:07.480Z"
      },
      {
        "duration": 5,
        "start_time": "2022-09-08T13:40:29.651Z"
      },
      {
        "duration": 25,
        "start_time": "2022-09-08T13:40:36.509Z"
      },
      {
        "duration": 5,
        "start_time": "2022-09-08T13:42:39.315Z"
      },
      {
        "duration": 4,
        "start_time": "2022-09-08T13:43:55.257Z"
      },
      {
        "duration": 8,
        "start_time": "2022-09-08T13:44:05.048Z"
      },
      {
        "duration": 88,
        "start_time": "2022-09-08T13:45:43.842Z"
      },
      {
        "duration": 20,
        "start_time": "2022-09-08T13:46:21.212Z"
      },
      {
        "duration": 12,
        "start_time": "2022-09-08T13:46:53.536Z"
      },
      {
        "duration": 8,
        "start_time": "2022-09-08T13:47:40.034Z"
      },
      {
        "duration": 114,
        "start_time": "2022-09-08T13:48:55.689Z"
      },
      {
        "duration": 102,
        "start_time": "2022-09-08T13:49:14.323Z"
      },
      {
        "duration": 7,
        "start_time": "2022-09-08T13:49:32.146Z"
      },
      {
        "duration": 8,
        "start_time": "2022-09-08T13:49:39.282Z"
      },
      {
        "duration": 103,
        "start_time": "2022-09-08T13:50:12.621Z"
      },
      {
        "duration": 7,
        "start_time": "2022-09-08T13:50:30.643Z"
      },
      {
        "duration": 7,
        "start_time": "2022-09-08T13:51:07.262Z"
      },
      {
        "duration": 111,
        "start_time": "2022-09-08T13:51:20.762Z"
      },
      {
        "duration": 9,
        "start_time": "2022-09-08T13:51:29.886Z"
      },
      {
        "duration": 9,
        "start_time": "2022-09-08T13:55:42.088Z"
      },
      {
        "duration": 17,
        "start_time": "2022-09-08T13:55:47.536Z"
      },
      {
        "duration": 33,
        "start_time": "2022-09-08T13:56:08.343Z"
      },
      {
        "duration": 14,
        "start_time": "2022-09-08T13:58:11.478Z"
      },
      {
        "duration": 4,
        "start_time": "2022-09-08T13:59:09.252Z"
      },
      {
        "duration": 5,
        "start_time": "2022-09-08T13:59:15.501Z"
      },
      {
        "duration": 6,
        "start_time": "2022-09-08T13:59:28.711Z"
      },
      {
        "duration": 7,
        "start_time": "2022-09-08T14:03:53.621Z"
      },
      {
        "duration": 80,
        "start_time": "2022-09-08T15:53:57.996Z"
      },
      {
        "duration": 5,
        "start_time": "2022-09-08T15:54:02.695Z"
      },
      {
        "duration": 16,
        "start_time": "2022-09-08T15:54:05.190Z"
      },
      {
        "duration": 16,
        "start_time": "2022-09-08T15:54:08.230Z"
      },
      {
        "duration": 22,
        "start_time": "2022-09-08T15:54:11.462Z"
      },
      {
        "duration": 26,
        "start_time": "2022-09-08T15:54:19.413Z"
      },
      {
        "duration": 12,
        "start_time": "2022-09-08T15:54:24.987Z"
      },
      {
        "duration": 6,
        "start_time": "2022-09-08T15:54:27.551Z"
      },
      {
        "duration": 11,
        "start_time": "2022-09-08T15:54:31.714Z"
      },
      {
        "duration": 7,
        "start_time": "2022-09-08T15:54:52.251Z"
      },
      {
        "duration": 15,
        "start_time": "2022-09-08T15:55:01.690Z"
      },
      {
        "duration": 6,
        "start_time": "2022-09-08T15:55:06.737Z"
      },
      {
        "duration": 5,
        "start_time": "2022-09-08T15:55:24.260Z"
      },
      {
        "duration": 6,
        "start_time": "2022-09-08T15:55:34.378Z"
      },
      {
        "duration": 6,
        "start_time": "2022-09-08T15:55:51.264Z"
      },
      {
        "duration": 15,
        "start_time": "2022-09-08T15:56:15.129Z"
      },
      {
        "duration": 3301,
        "start_time": "2022-09-08T15:56:18.781Z"
      },
      {
        "duration": 7,
        "start_time": "2022-09-08T15:56:33.708Z"
      },
      {
        "duration": 8,
        "start_time": "2022-09-08T15:56:36.573Z"
      },
      {
        "duration": 6,
        "start_time": "2022-09-08T15:56:39.483Z"
      },
      {
        "duration": 5,
        "start_time": "2022-09-08T15:56:42.547Z"
      },
      {
        "duration": 6,
        "start_time": "2022-09-08T15:56:47.435Z"
      },
      {
        "duration": 114,
        "start_time": "2022-09-08T15:56:52.749Z"
      },
      {
        "duration": 9,
        "start_time": "2022-09-08T15:56:56.503Z"
      },
      {
        "duration": 5,
        "start_time": "2022-09-08T15:56:59.831Z"
      },
      {
        "duration": 4,
        "start_time": "2022-09-08T15:57:03.627Z"
      },
      {
        "duration": 5,
        "start_time": "2022-09-08T15:57:05.817Z"
      },
      {
        "duration": 7,
        "start_time": "2022-09-08T15:57:10.199Z"
      },
      {
        "duration": 121,
        "start_time": "2022-09-08T15:57:17.940Z"
      },
      {
        "duration": 10,
        "start_time": "2022-09-08T15:57:23.192Z"
      },
      {
        "duration": 4,
        "start_time": "2022-09-08T15:59:15.294Z"
      },
      {
        "duration": 5,
        "start_time": "2022-09-08T15:59:19.748Z"
      },
      {
        "duration": 6,
        "start_time": "2022-09-08T15:59:22.827Z"
      },
      {
        "duration": 5,
        "start_time": "2022-09-08T16:00:22.985Z"
      },
      {
        "duration": 20,
        "start_time": "2022-09-08T16:00:28.013Z"
      },
      {
        "duration": 19,
        "start_time": "2022-09-08T16:01:12.237Z"
      },
      {
        "duration": 7,
        "start_time": "2022-09-08T16:02:25.839Z"
      },
      {
        "duration": 10,
        "start_time": "2022-09-08T16:02:50.335Z"
      },
      {
        "duration": 5,
        "start_time": "2022-09-08T16:02:57.165Z"
      },
      {
        "duration": 8,
        "start_time": "2022-09-08T16:04:27.034Z"
      },
      {
        "duration": 12,
        "start_time": "2022-09-08T16:04:32.194Z"
      },
      {
        "duration": 7,
        "start_time": "2022-09-08T16:04:49.977Z"
      },
      {
        "duration": 5,
        "start_time": "2022-09-08T16:05:23.529Z"
      },
      {
        "duration": 9,
        "start_time": "2022-09-08T16:05:56.368Z"
      },
      {
        "duration": 5,
        "start_time": "2022-09-08T16:05:58.664Z"
      },
      {
        "duration": 11,
        "start_time": "2022-09-08T16:06:07.650Z"
      },
      {
        "duration": 7,
        "start_time": "2022-09-08T16:06:09.556Z"
      },
      {
        "duration": 17,
        "start_time": "2022-09-08T16:06:24.800Z"
      },
      {
        "duration": 10,
        "start_time": "2022-09-08T16:06:35.019Z"
      },
      {
        "duration": 18,
        "start_time": "2022-09-08T16:06:39.395Z"
      },
      {
        "duration": 16,
        "start_time": "2022-09-08T16:06:44.844Z"
      },
      {
        "duration": 18,
        "start_time": "2022-09-08T16:07:01.190Z"
      },
      {
        "duration": 17,
        "start_time": "2022-09-08T16:07:03.165Z"
      },
      {
        "duration": 7,
        "start_time": "2022-09-08T16:07:13.015Z"
      },
      {
        "duration": 7,
        "start_time": "2022-09-08T16:07:35.943Z"
      },
      {
        "duration": 21,
        "start_time": "2022-09-08T16:07:47.734Z"
      },
      {
        "duration": 17,
        "start_time": "2022-09-08T16:07:52.019Z"
      },
      {
        "duration": 11,
        "start_time": "2022-09-08T16:07:55.505Z"
      },
      {
        "duration": 132,
        "start_time": "2022-09-08T16:08:22.962Z"
      },
      {
        "duration": 5,
        "start_time": "2022-09-08T16:09:21.702Z"
      },
      {
        "duration": 6,
        "start_time": "2022-09-08T16:11:50.245Z"
      },
      {
        "duration": 10,
        "start_time": "2022-09-08T16:12:05.187Z"
      },
      {
        "duration": 5,
        "start_time": "2022-09-08T16:12:44.278Z"
      },
      {
        "duration": 6,
        "start_time": "2022-09-08T16:12:46.515Z"
      },
      {
        "duration": 5,
        "start_time": "2022-09-08T16:13:01.124Z"
      },
      {
        "duration": 8,
        "start_time": "2022-09-08T16:13:14.229Z"
      },
      {
        "duration": 6,
        "start_time": "2022-09-08T16:14:18.719Z"
      },
      {
        "duration": 7,
        "start_time": "2022-09-08T16:14:23.610Z"
      },
      {
        "duration": 5,
        "start_time": "2022-09-08T16:14:50.060Z"
      },
      {
        "duration": 6,
        "start_time": "2022-09-08T16:14:59.310Z"
      },
      {
        "duration": 18,
        "start_time": "2022-09-08T16:16:19.977Z"
      },
      {
        "duration": 12,
        "start_time": "2022-09-08T16:17:05.442Z"
      },
      {
        "duration": 5,
        "start_time": "2022-09-08T16:17:07.120Z"
      },
      {
        "duration": 394,
        "start_time": "2022-09-08T16:17:17.260Z"
      },
      {
        "duration": 5,
        "start_time": "2022-09-08T16:17:27.849Z"
      },
      {
        "duration": 6,
        "start_time": "2022-09-08T16:20:33.382Z"
      },
      {
        "duration": 3,
        "start_time": "2022-09-08T16:20:56.925Z"
      },
      {
        "duration": 5,
        "start_time": "2022-09-08T16:21:02.867Z"
      },
      {
        "duration": 11,
        "start_time": "2022-09-08T16:21:10.971Z"
      },
      {
        "duration": 6,
        "start_time": "2022-09-08T16:21:34.851Z"
      },
      {
        "duration": 5,
        "start_time": "2022-09-08T16:21:57.332Z"
      },
      {
        "duration": 7,
        "start_time": "2022-09-08T16:21:59.606Z"
      },
      {
        "duration": 14,
        "start_time": "2022-09-08T16:22:59.607Z"
      },
      {
        "duration": 12,
        "start_time": "2022-09-08T16:24:13.297Z"
      },
      {
        "duration": 12,
        "start_time": "2022-09-08T16:24:17.648Z"
      },
      {
        "duration": 12,
        "start_time": "2022-09-08T16:24:22.938Z"
      },
      {
        "duration": 7,
        "start_time": "2022-09-08T16:24:26.892Z"
      },
      {
        "duration": 6,
        "start_time": "2022-09-08T16:25:19.741Z"
      },
      {
        "duration": 5,
        "start_time": "2022-09-08T16:25:28.541Z"
      },
      {
        "duration": 7,
        "start_time": "2022-09-08T16:25:30.696Z"
      },
      {
        "duration": 4,
        "start_time": "2022-09-08T16:25:43.974Z"
      },
      {
        "duration": 2,
        "start_time": "2022-09-08T16:25:48.647Z"
      },
      {
        "duration": 5,
        "start_time": "2022-09-08T16:25:52.476Z"
      },
      {
        "duration": 17,
        "start_time": "2022-09-08T16:25:56.774Z"
      },
      {
        "duration": 358,
        "start_time": "2022-09-08T16:51:15.303Z"
      },
      {
        "duration": 468,
        "start_time": "2022-09-08T16:52:17.202Z"
      },
      {
        "duration": 1103,
        "start_time": "2022-09-08T16:52:21.684Z"
      },
      {
        "duration": 502,
        "start_time": "2022-09-08T16:53:14.393Z"
      },
      {
        "duration": 81,
        "start_time": "2022-09-08T16:53:26.594Z"
      },
      {
        "duration": 4,
        "start_time": "2022-09-08T16:53:31.243Z"
      },
      {
        "duration": 14,
        "start_time": "2022-09-08T16:53:33.991Z"
      },
      {
        "duration": 15,
        "start_time": "2022-09-08T16:53:36.542Z"
      },
      {
        "duration": 32,
        "start_time": "2022-09-08T16:53:39.121Z"
      },
      {
        "duration": 21,
        "start_time": "2022-09-08T16:53:42.342Z"
      },
      {
        "duration": 12,
        "start_time": "2022-09-08T16:53:51.588Z"
      },
      {
        "duration": 7,
        "start_time": "2022-09-08T16:53:54.310Z"
      },
      {
        "duration": 11,
        "start_time": "2022-09-08T16:53:57.711Z"
      },
      {
        "duration": 8,
        "start_time": "2022-09-08T16:54:02.949Z"
      },
      {
        "duration": 14,
        "start_time": "2022-09-08T16:54:05.495Z"
      },
      {
        "duration": 2936,
        "start_time": "2022-09-08T16:54:09.082Z"
      },
      {
        "duration": 5,
        "start_time": "2022-09-08T16:54:15.790Z"
      },
      {
        "duration": 9,
        "start_time": "2022-09-08T16:54:18.507Z"
      },
      {
        "duration": 6,
        "start_time": "2022-09-08T16:54:20.188Z"
      },
      {
        "duration": 5,
        "start_time": "2022-09-08T16:54:26.690Z"
      },
      {
        "duration": 15,
        "start_time": "2022-09-08T16:54:29.331Z"
      },
      {
        "duration": 6,
        "start_time": "2022-09-08T16:54:31.463Z"
      },
      {
        "duration": 5,
        "start_time": "2022-09-08T16:54:34.048Z"
      },
      {
        "duration": 7,
        "start_time": "2022-09-08T16:54:38.092Z"
      },
      {
        "duration": 97,
        "start_time": "2022-09-08T16:54:40.685Z"
      },
      {
        "duration": 9,
        "start_time": "2022-09-08T16:54:43.620Z"
      },
      {
        "duration": 7,
        "start_time": "2022-09-08T16:54:56.804Z"
      },
      {
        "duration": 5,
        "start_time": "2022-09-08T16:54:59.869Z"
      },
      {
        "duration": 5,
        "start_time": "2022-09-08T16:55:05.811Z"
      },
      {
        "duration": 5,
        "start_time": "2022-09-08T16:56:08.325Z"
      },
      {
        "duration": 182,
        "start_time": "2022-09-08T16:56:10.672Z"
      },
      {
        "duration": 8,
        "start_time": "2022-09-08T16:56:14.615Z"
      },
      {
        "duration": 3,
        "start_time": "2022-09-08T16:56:18.040Z"
      },
      {
        "duration": 4,
        "start_time": "2022-09-08T16:56:20.590Z"
      },
      {
        "duration": 20,
        "start_time": "2022-09-08T16:56:36.740Z"
      },
      {
        "duration": 14,
        "start_time": "2022-09-08T16:56:40.873Z"
      },
      {
        "duration": 349,
        "start_time": "2022-09-08T16:56:49.366Z"
      },
      {
        "duration": 347,
        "start_time": "2022-09-08T16:56:54.686Z"
      },
      {
        "duration": 9,
        "start_time": "2022-09-08T16:57:31.450Z"
      },
      {
        "duration": 12,
        "start_time": "2022-09-08T16:57:57.508Z"
      },
      {
        "duration": 10,
        "start_time": "2022-09-08T16:58:00.185Z"
      },
      {
        "duration": 383,
        "start_time": "2022-09-08T16:58:06.751Z"
      },
      {
        "duration": 440,
        "start_time": "2022-09-08T16:58:16.326Z"
      },
      {
        "duration": 16,
        "start_time": "2022-09-08T16:58:26.518Z"
      },
      {
        "duration": 318,
        "start_time": "2022-09-08T16:58:26.839Z"
      },
      {
        "duration": 377,
        "start_time": "2022-09-08T16:58:30.956Z"
      },
      {
        "duration": 12,
        "start_time": "2022-09-08T16:59:11.067Z"
      },
      {
        "duration": 340,
        "start_time": "2022-09-08T16:59:14.384Z"
      },
      {
        "duration": 13,
        "start_time": "2022-09-08T17:00:19.369Z"
      },
      {
        "duration": 14,
        "start_time": "2022-09-08T17:00:40.332Z"
      },
      {
        "duration": 490,
        "start_time": "2022-09-08T17:00:43.813Z"
      },
      {
        "duration": 11,
        "start_time": "2022-09-08T17:01:49.768Z"
      },
      {
        "duration": 14,
        "start_time": "2022-09-08T17:02:15.349Z"
      },
      {
        "duration": 361,
        "start_time": "2022-09-08T17:02:17.585Z"
      },
      {
        "duration": 14,
        "start_time": "2022-09-08T17:05:48.427Z"
      },
      {
        "duration": 10,
        "start_time": "2022-09-08T17:08:18.575Z"
      },
      {
        "duration": 10,
        "start_time": "2022-09-08T17:08:44.464Z"
      },
      {
        "duration": 6,
        "start_time": "2022-09-08T17:08:53.659Z"
      },
      {
        "duration": 331,
        "start_time": "2022-09-08T17:08:56.379Z"
      },
      {
        "duration": 81,
        "start_time": "2022-09-08T17:09:02.436Z"
      },
      {
        "duration": 76,
        "start_time": "2022-09-08T17:09:09.388Z"
      },
      {
        "duration": 4,
        "start_time": "2022-09-08T17:09:14.417Z"
      },
      {
        "duration": 12,
        "start_time": "2022-09-08T17:09:16.661Z"
      },
      {
        "duration": 15,
        "start_time": "2022-09-08T17:09:21.177Z"
      },
      {
        "duration": 22,
        "start_time": "2022-09-08T17:09:23.348Z"
      },
      {
        "duration": 22,
        "start_time": "2022-09-08T17:09:27.869Z"
      },
      {
        "duration": 13,
        "start_time": "2022-09-08T17:09:39.948Z"
      },
      {
        "duration": 8,
        "start_time": "2022-09-08T17:09:42.606Z"
      },
      {
        "duration": 10,
        "start_time": "2022-09-08T17:09:55.646Z"
      },
      {
        "duration": 6,
        "start_time": "2022-09-08T17:10:00.043Z"
      },
      {
        "duration": 13,
        "start_time": "2022-09-08T17:10:02.652Z"
      },
      {
        "duration": 3109,
        "start_time": "2022-09-08T17:10:05.947Z"
      },
      {
        "duration": 6,
        "start_time": "2022-09-08T17:10:14.132Z"
      },
      {
        "duration": 8,
        "start_time": "2022-09-08T17:10:17.285Z"
      },
      {
        "duration": 6,
        "start_time": "2022-09-08T17:10:19.292Z"
      },
      {
        "duration": 4,
        "start_time": "2022-09-08T17:10:22.278Z"
      },
      {
        "duration": 7,
        "start_time": "2022-09-08T17:10:25.528Z"
      },
      {
        "duration": 104,
        "start_time": "2022-09-08T17:10:27.693Z"
      },
      {
        "duration": 8,
        "start_time": "2022-09-08T17:10:31.129Z"
      },
      {
        "duration": 6,
        "start_time": "2022-09-08T17:10:54.392Z"
      },
      {
        "duration": 13,
        "start_time": "2022-09-08T17:11:37.809Z"
      },
      {
        "duration": 7,
        "start_time": "2022-09-08T17:11:48.558Z"
      },
      {
        "duration": 3,
        "start_time": "2022-09-08T17:12:13.682Z"
      },
      {
        "duration": 4,
        "start_time": "2022-09-08T17:12:16.063Z"
      },
      {
        "duration": 6,
        "start_time": "2022-09-08T17:12:36.277Z"
      },
      {
        "duration": 104,
        "start_time": "2022-09-08T17:12:38.676Z"
      },
      {
        "duration": 8,
        "start_time": "2022-09-08T17:12:42.786Z"
      },
      {
        "duration": 4,
        "start_time": "2022-09-08T17:12:48.100Z"
      },
      {
        "duration": 23,
        "start_time": "2022-09-08T17:13:09.536Z"
      },
      {
        "duration": 5,
        "start_time": "2022-09-08T17:14:15.105Z"
      },
      {
        "duration": 4,
        "start_time": "2022-09-08T17:14:47.563Z"
      },
      {
        "duration": 18,
        "start_time": "2022-09-08T17:14:51.294Z"
      },
      {
        "duration": 76,
        "start_time": "2022-09-08T17:15:22.190Z"
      },
      {
        "duration": 4,
        "start_time": "2022-09-08T17:15:25.986Z"
      },
      {
        "duration": 12,
        "start_time": "2022-09-08T17:15:28.302Z"
      },
      {
        "duration": 18,
        "start_time": "2022-09-08T17:15:31.443Z"
      },
      {
        "duration": 22,
        "start_time": "2022-09-08T17:15:35.799Z"
      },
      {
        "duration": 28,
        "start_time": "2022-09-08T17:15:42.049Z"
      },
      {
        "duration": 12,
        "start_time": "2022-09-08T17:15:46.257Z"
      },
      {
        "duration": 7,
        "start_time": "2022-09-08T17:15:48.666Z"
      },
      {
        "duration": 11,
        "start_time": "2022-09-08T17:15:51.607Z"
      },
      {
        "duration": 7,
        "start_time": "2022-09-08T17:15:58.889Z"
      },
      {
        "duration": 21,
        "start_time": "2022-09-08T17:16:01.345Z"
      },
      {
        "duration": 3032,
        "start_time": "2022-09-08T17:16:03.577Z"
      },
      {
        "duration": 5,
        "start_time": "2022-09-08T17:16:07.256Z"
      },
      {
        "duration": 9,
        "start_time": "2022-09-08T17:16:12.072Z"
      },
      {
        "duration": 6,
        "start_time": "2022-09-08T17:16:14.619Z"
      },
      {
        "duration": 5,
        "start_time": "2022-09-08T17:16:17.344Z"
      },
      {
        "duration": 6,
        "start_time": "2022-09-08T17:16:20.561Z"
      },
      {
        "duration": 95,
        "start_time": "2022-09-08T17:16:23.060Z"
      },
      {
        "duration": 9,
        "start_time": "2022-09-08T17:16:26.026Z"
      },
      {
        "duration": 9,
        "start_time": "2022-09-08T17:16:30.588Z"
      },
      {
        "duration": 4,
        "start_time": "2022-09-08T17:16:32.722Z"
      },
      {
        "duration": 5,
        "start_time": "2022-09-08T17:16:34.660Z"
      },
      {
        "duration": 5,
        "start_time": "2022-09-08T17:16:37.516Z"
      },
      {
        "duration": 114,
        "start_time": "2022-09-08T17:16:40.700Z"
      },
      {
        "duration": 8,
        "start_time": "2022-09-08T17:16:43.540Z"
      },
      {
        "duration": 4,
        "start_time": "2022-09-08T17:16:48.366Z"
      },
      {
        "duration": 5,
        "start_time": "2022-09-08T17:16:57.047Z"
      },
      {
        "duration": 18,
        "start_time": "2022-09-08T17:17:00.312Z"
      },
      {
        "duration": 6,
        "start_time": "2022-09-08T17:17:16.572Z"
      },
      {
        "duration": 4,
        "start_time": "2022-09-08T17:17:27.770Z"
      },
      {
        "duration": 5,
        "start_time": "2022-09-08T17:17:34.982Z"
      },
      {
        "duration": 76,
        "start_time": "2022-09-08T17:17:40.683Z"
      },
      {
        "duration": 4,
        "start_time": "2022-09-08T17:17:43.870Z"
      },
      {
        "duration": 18,
        "start_time": "2022-09-08T17:17:45.948Z"
      },
      {
        "duration": 16,
        "start_time": "2022-09-08T17:17:48.163Z"
      },
      {
        "duration": 20,
        "start_time": "2022-09-08T17:17:50.262Z"
      },
      {
        "duration": 22,
        "start_time": "2022-09-08T17:17:53.047Z"
      },
      {
        "duration": 13,
        "start_time": "2022-09-08T17:17:59.061Z"
      },
      {
        "duration": 7,
        "start_time": "2022-09-08T17:18:01.757Z"
      },
      {
        "duration": 11,
        "start_time": "2022-09-08T17:18:05.153Z"
      },
      {
        "duration": 6,
        "start_time": "2022-09-08T17:18:09.030Z"
      },
      {
        "duration": 16,
        "start_time": "2022-09-08T17:18:11.585Z"
      },
      {
        "duration": 2923,
        "start_time": "2022-09-08T17:18:14.156Z"
      },
      {
        "duration": 6,
        "start_time": "2022-09-08T17:18:25.057Z"
      },
      {
        "duration": 9,
        "start_time": "2022-09-08T17:18:29.170Z"
      },
      {
        "duration": 6,
        "start_time": "2022-09-08T17:18:30.864Z"
      },
      {
        "duration": 4,
        "start_time": "2022-09-08T17:18:33.780Z"
      },
      {
        "duration": 6,
        "start_time": "2022-09-08T17:18:36.819Z"
      },
      {
        "duration": 92,
        "start_time": "2022-09-08T17:18:39.560Z"
      },
      {
        "duration": 9,
        "start_time": "2022-09-08T17:18:42.505Z"
      },
      {
        "duration": 7,
        "start_time": "2022-09-08T17:18:45.492Z"
      },
      {
        "duration": 4,
        "start_time": "2022-09-08T17:18:47.471Z"
      },
      {
        "duration": 5,
        "start_time": "2022-09-08T17:18:49.542Z"
      },
      {
        "duration": 7,
        "start_time": "2022-09-08T17:18:52.900Z"
      },
      {
        "duration": 111,
        "start_time": "2022-09-08T17:18:55.964Z"
      },
      {
        "duration": 7,
        "start_time": "2022-09-08T17:19:00.560Z"
      },
      {
        "duration": 5,
        "start_time": "2022-09-08T17:19:06.865Z"
      },
      {
        "duration": 4,
        "start_time": "2022-09-08T17:19:10.143Z"
      },
      {
        "duration": 5,
        "start_time": "2022-09-08T17:19:13.207Z"
      },
      {
        "duration": 77,
        "start_time": "2022-09-08T17:19:50.644Z"
      },
      {
        "duration": 3,
        "start_time": "2022-09-08T17:19:56.781Z"
      },
      {
        "duration": 13,
        "start_time": "2022-09-08T17:19:58.744Z"
      },
      {
        "duration": 18,
        "start_time": "2022-09-08T17:20:01.756Z"
      },
      {
        "duration": 21,
        "start_time": "2022-09-08T17:20:04.365Z"
      },
      {
        "duration": 27,
        "start_time": "2022-09-08T17:20:06.864Z"
      },
      {
        "duration": 12,
        "start_time": "2022-09-08T17:20:10.723Z"
      },
      {
        "duration": 7,
        "start_time": "2022-09-08T17:20:13.471Z"
      },
      {
        "duration": 11,
        "start_time": "2022-09-08T17:20:17.004Z"
      },
      {
        "duration": 11,
        "start_time": "2022-09-08T17:20:20.745Z"
      },
      {
        "duration": 14,
        "start_time": "2022-09-08T17:20:23.506Z"
      },
      {
        "duration": 2875,
        "start_time": "2022-09-08T17:20:26.273Z"
      },
      {
        "duration": 5,
        "start_time": "2022-09-08T17:20:34.572Z"
      },
      {
        "duration": 8,
        "start_time": "2022-09-08T17:20:38.058Z"
      },
      {
        "duration": 7,
        "start_time": "2022-09-08T17:20:40.913Z"
      },
      {
        "duration": 5,
        "start_time": "2022-09-08T17:20:44.424Z"
      },
      {
        "duration": 6,
        "start_time": "2022-09-08T17:20:49.382Z"
      },
      {
        "duration": 118,
        "start_time": "2022-09-08T17:20:51.817Z"
      },
      {
        "duration": 8,
        "start_time": "2022-09-08T17:20:55.536Z"
      },
      {
        "duration": 8,
        "start_time": "2022-09-08T17:20:58.754Z"
      },
      {
        "duration": 3,
        "start_time": "2022-09-08T17:21:00.832Z"
      },
      {
        "duration": 5,
        "start_time": "2022-09-08T17:21:03.925Z"
      },
      {
        "duration": 7,
        "start_time": "2022-09-08T17:21:06.197Z"
      },
      {
        "duration": 116,
        "start_time": "2022-09-08T17:21:08.563Z"
      },
      {
        "duration": 7,
        "start_time": "2022-09-08T17:21:15.574Z"
      },
      {
        "duration": 4,
        "start_time": "2022-09-08T17:21:19.835Z"
      },
      {
        "duration": 5,
        "start_time": "2022-09-08T17:21:25.874Z"
      },
      {
        "duration": 89,
        "start_time": "2022-09-08T17:22:23.929Z"
      },
      {
        "duration": 4,
        "start_time": "2022-09-08T17:22:30.229Z"
      },
      {
        "duration": 6,
        "start_time": "2022-09-08T17:22:33.890Z"
      },
      {
        "duration": 18,
        "start_time": "2022-09-08T17:22:46.507Z"
      },
      {
        "duration": 4,
        "start_time": "2022-09-08T17:24:09.836Z"
      },
      {
        "duration": 24,
        "start_time": "2022-09-08T17:24:11.844Z"
      },
      {
        "duration": 3,
        "start_time": "2022-09-08T17:24:17.021Z"
      },
      {
        "duration": 20,
        "start_time": "2022-09-08T17:24:19.852Z"
      },
      {
        "duration": 4,
        "start_time": "2022-09-08T17:24:25.805Z"
      },
      {
        "duration": 19,
        "start_time": "2022-09-08T17:24:27.762Z"
      },
      {
        "duration": 6,
        "start_time": "2022-09-08T17:24:38.880Z"
      },
      {
        "duration": 6,
        "start_time": "2022-09-08T17:24:53.430Z"
      },
      {
        "duration": 17,
        "start_time": "2022-09-08T17:25:00.741Z"
      },
      {
        "duration": 6,
        "start_time": "2022-09-08T17:25:07.721Z"
      },
      {
        "duration": 113,
        "start_time": "2022-09-08T17:25:12.572Z"
      },
      {
        "duration": 7,
        "start_time": "2022-09-08T17:26:12.014Z"
      },
      {
        "duration": 9,
        "start_time": "2022-09-08T17:26:15.702Z"
      },
      {
        "duration": 7,
        "start_time": "2022-09-08T17:27:04.913Z"
      },
      {
        "duration": 5,
        "start_time": "2022-09-08T17:27:09.873Z"
      },
      {
        "duration": 5,
        "start_time": "2022-09-08T17:27:34.762Z"
      },
      {
        "duration": 2,
        "start_time": "2022-09-08T17:27:37.709Z"
      },
      {
        "duration": 5,
        "start_time": "2022-09-08T17:27:40.245Z"
      },
      {
        "duration": 6,
        "start_time": "2022-09-08T17:27:43.145Z"
      },
      {
        "duration": 6,
        "start_time": "2022-09-08T17:27:45.602Z"
      },
      {
        "duration": 4,
        "start_time": "2022-09-08T17:27:48.743Z"
      },
      {
        "duration": 5,
        "start_time": "2022-09-08T17:27:50.714Z"
      },
      {
        "duration": 5,
        "start_time": "2022-09-08T17:27:59.504Z"
      },
      {
        "duration": 3,
        "start_time": "2022-09-08T17:28:02.889Z"
      },
      {
        "duration": 6,
        "start_time": "2022-09-08T17:28:08.610Z"
      },
      {
        "duration": 17,
        "start_time": "2022-09-08T17:28:13.599Z"
      },
      {
        "duration": 20,
        "start_time": "2022-09-08T17:28:30.039Z"
      },
      {
        "duration": 23,
        "start_time": "2022-09-08T17:28:31.896Z"
      },
      {
        "duration": 22,
        "start_time": "2022-09-08T17:28:34.246Z"
      },
      {
        "duration": 6,
        "start_time": "2022-09-08T17:29:14.408Z"
      },
      {
        "duration": 10,
        "start_time": "2022-09-08T17:30:14.393Z"
      },
      {
        "duration": 4,
        "start_time": "2022-09-08T17:30:25.030Z"
      },
      {
        "duration": 15,
        "start_time": "2022-09-08T17:30:30.328Z"
      },
      {
        "duration": 4,
        "start_time": "2022-09-08T17:32:46.207Z"
      },
      {
        "duration": 4,
        "start_time": "2022-09-08T17:32:53.390Z"
      },
      {
        "duration": 6,
        "start_time": "2022-09-08T17:39:16.652Z"
      },
      {
        "duration": 4,
        "start_time": "2022-09-08T17:40:00.937Z"
      },
      {
        "duration": 19,
        "start_time": "2022-09-08T17:40:29.860Z"
      },
      {
        "duration": 8,
        "start_time": "2022-09-08T17:42:21.642Z"
      },
      {
        "duration": 10,
        "start_time": "2022-09-08T17:46:07.845Z"
      },
      {
        "duration": 23,
        "start_time": "2022-09-08T17:47:42.336Z"
      },
      {
        "duration": 12,
        "start_time": "2022-09-08T17:48:02.652Z"
      },
      {
        "duration": 26,
        "start_time": "2022-09-08T17:48:25.511Z"
      },
      {
        "duration": 26,
        "start_time": "2022-09-08T17:49:05.193Z"
      },
      {
        "duration": 25,
        "start_time": "2022-09-08T17:49:10.970Z"
      },
      {
        "duration": 8,
        "start_time": "2022-09-08T17:49:21.321Z"
      },
      {
        "duration": 23,
        "start_time": "2022-09-08T17:49:32.816Z"
      },
      {
        "duration": 23,
        "start_time": "2022-09-08T17:50:26.906Z"
      },
      {
        "duration": 5,
        "start_time": "2022-09-08T17:51:14.811Z"
      },
      {
        "duration": 6,
        "start_time": "2022-09-08T17:51:25.191Z"
      },
      {
        "duration": 34,
        "start_time": "2022-09-08T17:51:45.472Z"
      },
      {
        "duration": 23,
        "start_time": "2022-09-08T17:54:17.349Z"
      },
      {
        "duration": 24,
        "start_time": "2022-09-08T17:54:33.212Z"
      },
      {
        "duration": 25,
        "start_time": "2022-09-08T17:54:58.866Z"
      },
      {
        "duration": 5,
        "start_time": "2022-09-08T17:55:01.736Z"
      },
      {
        "duration": 6,
        "start_time": "2022-09-08T17:55:04.266Z"
      },
      {
        "duration": 5,
        "start_time": "2022-09-08T17:55:14.229Z"
      },
      {
        "duration": 5,
        "start_time": "2022-09-08T17:55:21.003Z"
      },
      {
        "duration": 6,
        "start_time": "2022-09-08T17:55:30.372Z"
      },
      {
        "duration": 5,
        "start_time": "2022-09-08T17:55:32.203Z"
      },
      {
        "duration": 6,
        "start_time": "2022-09-08T17:57:46.685Z"
      },
      {
        "duration": 11,
        "start_time": "2022-09-08T17:58:30.940Z"
      },
      {
        "duration": 20,
        "start_time": "2022-09-08T17:58:45.257Z"
      },
      {
        "duration": 5,
        "start_time": "2022-09-08T17:59:12.298Z"
      },
      {
        "duration": 3,
        "start_time": "2022-09-08T18:03:40.148Z"
      },
      {
        "duration": 8,
        "start_time": "2022-09-08T18:07:25.924Z"
      },
      {
        "duration": 3,
        "start_time": "2022-09-08T18:09:56.392Z"
      },
      {
        "duration": 8,
        "start_time": "2022-09-08T18:10:32.529Z"
      },
      {
        "duration": 6,
        "start_time": "2022-09-08T18:11:32.757Z"
      },
      {
        "duration": 4,
        "start_time": "2022-09-08T18:11:38.969Z"
      },
      {
        "duration": 5,
        "start_time": "2022-09-08T18:12:38.001Z"
      },
      {
        "duration": 5,
        "start_time": "2022-09-08T18:12:44.608Z"
      },
      {
        "duration": 75,
        "start_time": "2022-09-08T18:13:52.440Z"
      },
      {
        "duration": 5,
        "start_time": "2022-09-08T18:15:15.742Z"
      },
      {
        "duration": 9,
        "start_time": "2022-09-08T18:15:52.156Z"
      },
      {
        "duration": 5,
        "start_time": "2022-09-08T18:16:10.160Z"
      },
      {
        "duration": 4,
        "start_time": "2022-09-08T18:16:39.842Z"
      },
      {
        "duration": 3,
        "start_time": "2022-09-08T18:17:03.116Z"
      },
      {
        "duration": 5,
        "start_time": "2022-09-08T18:17:06.589Z"
      },
      {
        "duration": 4,
        "start_time": "2022-09-08T18:17:15.978Z"
      },
      {
        "duration": 3,
        "start_time": "2022-09-08T18:18:04.979Z"
      },
      {
        "duration": 952,
        "start_time": "2022-09-08T18:18:13.891Z"
      },
      {
        "duration": 6,
        "start_time": "2022-09-08T18:19:57.426Z"
      },
      {
        "duration": 4,
        "start_time": "2022-09-08T18:20:08.219Z"
      },
      {
        "duration": 13,
        "start_time": "2022-09-08T18:21:26.958Z"
      },
      {
        "duration": 25,
        "start_time": "2022-09-08T18:21:43.962Z"
      },
      {
        "duration": 6,
        "start_time": "2022-09-08T18:23:35.052Z"
      },
      {
        "duration": 5,
        "start_time": "2022-09-08T18:23:37.353Z"
      },
      {
        "duration": 5,
        "start_time": "2022-09-08T18:23:41.078Z"
      },
      {
        "duration": 3,
        "start_time": "2022-09-08T18:24:35.320Z"
      },
      {
        "duration": 5,
        "start_time": "2022-09-08T18:24:36.870Z"
      },
      {
        "duration": 5,
        "start_time": "2022-09-08T18:24:38.820Z"
      },
      {
        "duration": 3,
        "start_time": "2022-09-08T18:24:59.931Z"
      },
      {
        "duration": 3,
        "start_time": "2022-09-08T18:25:06.249Z"
      },
      {
        "duration": 4,
        "start_time": "2022-09-08T18:29:09.003Z"
      },
      {
        "duration": 11,
        "start_time": "2022-09-08T18:30:52.014Z"
      },
      {
        "duration": 3,
        "start_time": "2022-09-08T18:31:59.370Z"
      },
      {
        "duration": 15,
        "start_time": "2022-09-08T18:32:04.292Z"
      },
      {
        "duration": 14,
        "start_time": "2022-09-08T18:33:39.438Z"
      },
      {
        "duration": 13,
        "start_time": "2022-09-08T18:38:46.409Z"
      },
      {
        "duration": 96,
        "start_time": "2022-09-08T18:41:38.722Z"
      },
      {
        "duration": 79,
        "start_time": "2022-09-08T18:42:00.105Z"
      },
      {
        "duration": 3,
        "start_time": "2022-09-08T18:42:04.513Z"
      },
      {
        "duration": 10,
        "start_time": "2022-09-08T18:42:29.243Z"
      },
      {
        "duration": 8,
        "start_time": "2022-09-08T18:42:36.233Z"
      },
      {
        "duration": 3,
        "start_time": "2022-09-08T18:43:07.195Z"
      },
      {
        "duration": 9,
        "start_time": "2022-09-08T18:43:09.094Z"
      },
      {
        "duration": 9,
        "start_time": "2022-09-08T18:43:20.400Z"
      },
      {
        "duration": 5,
        "start_time": "2022-09-08T18:43:43.517Z"
      },
      {
        "duration": 5,
        "start_time": "2022-09-08T18:47:56.618Z"
      },
      {
        "duration": 15,
        "start_time": "2022-09-08T18:48:26.401Z"
      },
      {
        "duration": 11,
        "start_time": "2022-09-08T18:49:02.388Z"
      },
      {
        "duration": 3,
        "start_time": "2022-09-08T18:49:07.820Z"
      },
      {
        "duration": 6,
        "start_time": "2022-09-08T18:49:09.721Z"
      },
      {
        "duration": 6,
        "start_time": "2022-09-08T18:49:11.736Z"
      },
      {
        "duration": 6,
        "start_time": "2022-09-08T18:49:13.847Z"
      },
      {
        "duration": 5,
        "start_time": "2022-09-08T18:49:16.239Z"
      },
      {
        "duration": 4,
        "start_time": "2022-09-08T18:49:23.784Z"
      },
      {
        "duration": 10,
        "start_time": "2022-09-08T18:50:08.257Z"
      },
      {
        "duration": 4,
        "start_time": "2022-09-08T18:50:11.137Z"
      },
      {
        "duration": 5,
        "start_time": "2022-09-08T18:50:12.659Z"
      },
      {
        "duration": 136,
        "start_time": "2022-09-08T18:50:42.851Z"
      },
      {
        "duration": 5,
        "start_time": "2022-09-08T18:51:37.340Z"
      },
      {
        "duration": 5,
        "start_time": "2022-09-08T18:51:53.017Z"
      },
      {
        "duration": 4,
        "start_time": "2022-09-08T18:52:55.096Z"
      },
      {
        "duration": 16,
        "start_time": "2022-09-08T18:53:08.140Z"
      }
    ],
    "kernelspec": {
      "display_name": "Python 3 (ipykernel)",
      "language": "python",
      "name": "python3"
    },
    "language_info": {
      "codemirror_mode": {
        "name": "ipython",
        "version": 3
      },
      "file_extension": ".py",
      "mimetype": "text/x-python",
      "name": "python",
      "nbconvert_exporter": "python",
      "pygments_lexer": "ipython3",
      "version": "3.8.8"
    },
    "toc": {
      "base_numbering": 1,
      "nav_menu": {},
      "number_sections": true,
      "sideBar": true,
      "skip_h1_title": true,
      "title_cell": "Table of Contents",
      "title_sidebar": "Contents",
      "toc_cell": false,
      "toc_position": {},
      "toc_section_display": true,
      "toc_window_display": false
    },
    "colab": {
      "provenance": [],
      "collapsed_sections": [
        "wglqpYSmZRk5",
        "I5PoLlUn7k-I",
        "kRSCJAKxPEty"
      ]
    }
  },
  "nbformat": 4,
  "nbformat_minor": 0
}